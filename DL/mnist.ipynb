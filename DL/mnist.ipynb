{
 "cells": [
  {
   "cell_type": "code",
   "execution_count": 1,
   "id": "641bbd13-55aa-4309-8973-46b9b64b246a",
   "metadata": {},
   "outputs": [],
   "source": [
    "import torch\n",
    "import torch.nn as nn\n",
    "import torch.nn.functional as F\n",
    "import torch.optim as optim\n",
    "from mnist import MNIST\n",
    "from matplotlib import pyplot\n",
    "from sklearn.metrics import precision_recall_fscore_support\n",
    "import numpy as np\n",
    "from torch.utils.data import Dataset, TensorDataset, DataLoader"
   ]
  },
  {
   "cell_type": "code",
   "execution_count": 2,
   "id": "ac28e834-8eac-44d1-ac83-6a1ca4cc9567",
   "metadata": {},
   "outputs": [],
   "source": [
    "import matplotlib.pyplot as plt"
   ]
  },
  {
   "cell_type": "code",
   "execution_count": 3,
   "id": "bc895b64-2c92-46ac-ab16-a55de917931b",
   "metadata": {},
   "outputs": [],
   "source": [
    "import torchvision.datasets as datasets"
   ]
  },
  {
   "cell_type": "code",
   "execution_count": 128,
   "id": "56677ccd-f26f-48e9-b225-bc8b95210949",
   "metadata": {},
   "outputs": [],
   "source": [
    "from sklearn.metrics import auc"
   ]
  },
  {
   "cell_type": "code",
   "execution_count": 4,
   "id": "6f8238c4-f3d0-4175-bdde-deb67fd7f3f4",
   "metadata": {},
   "outputs": [],
   "source": [
    "mnist_trainset = datasets.MNIST(root='./data', train=True, download=True, transform=None)"
   ]
  },
  {
   "cell_type": "code",
   "execution_count": 5,
   "id": "b61c83b6-384e-420e-a01e-4787956cf7fb",
   "metadata": {},
   "outputs": [],
   "source": [
    "mnist_testset = datasets.MNIST(root='./data', train=False, download=True, transform=None)"
   ]
  },
  {
   "cell_type": "code",
   "execution_count": 6,
   "id": "4efb9c0a-20bb-40a7-8e01-33f250008a4f",
   "metadata": {},
   "outputs": [],
   "source": [
    "# !pip install python-mnist"
   ]
  },
  {
   "cell_type": "code",
   "execution_count": 7,
   "id": "14d19e21-2382-400c-9362-96984d966be0",
   "metadata": {},
   "outputs": [
    {
     "data": {
      "text/plain": [
       "60000"
      ]
     },
     "execution_count": 7,
     "metadata": {},
     "output_type": "execute_result"
    }
   ],
   "source": [
    "len(mnist_trainset)"
   ]
  },
  {
   "cell_type": "code",
   "execution_count": 8,
   "id": "a46fec6d-bb75-429c-8893-c54116d9140c",
   "metadata": {},
   "outputs": [
    {
     "data": {
      "text/plain": [
       "10000"
      ]
     },
     "execution_count": 8,
     "metadata": {},
     "output_type": "execute_result"
    }
   ],
   "source": [
    "len(mnist_testset)"
   ]
  },
  {
   "cell_type": "code",
   "execution_count": 9,
   "id": "e26acd0a-4aa8-44a2-a407-ea7451c9efb4",
   "metadata": {},
   "outputs": [
    {
     "data": {
      "text/plain": [
       "(60000, 60000)"
      ]
     },
     "execution_count": 9,
     "metadata": {},
     "output_type": "execute_result"
    }
   ],
   "source": [
    "len(mnist_trainset.data), len(mnist_trainset.targets)"
   ]
  },
  {
   "cell_type": "code",
   "execution_count": 10,
   "id": "93333ba3-42d8-4169-a95b-a158f5a850e6",
   "metadata": {},
   "outputs": [
    {
     "name": "stdout",
     "output_type": "stream",
     "text": [
      "Train: X=torch.Size([60000, 28, 28]), y=torch.Size([60000])\n",
      "Test: X=torch.Size([10000, 28, 28]), y=torch.Size([10000])\n"
     ]
    },
    {
     "data": {
      "image/png": "[encoded data removed]",
      "text/plain": [
       "<Figure size 640x480 with 9 Axes>"
      ]
     },
     "metadata": {},
     "output_type": "display_data"
    }
   ],
   "source": [
    "(trainX, trainy) = mnist_trainset.data, mnist_trainset.targets\n",
    "\n",
    "(testX, testy) = mnist_testset.data, mnist_testset.targets\n",
    "\n",
    "print('Train: X=%s, y=%s' % (trainX.shape, trainy.shape))\n",
    "print('Test: X=%s, y=%s' % (testX.shape, testy.shape))\n",
    "\n",
    "# plot first few images\n",
    "for i in range(9):\n",
    "\t# define subplot\n",
    "\tpyplot.subplot(330 + 1 + i)\n",
    "\t# plot raw pixel data\n",
    "\tpyplot.imshow(trainX[i], cmap=pyplot.get_cmap('gray'))\n",
    "\n",
    "# show the figure\n",
    "pyplot.show()"
   ]
  },
  {
   "cell_type": "code",
   "execution_count": 11,
   "id": "68e99ca0-93d4-41c6-8dc4-cface75cd6b5",
   "metadata": {},
   "outputs": [
    {
     "name": "stdout",
     "output_type": "stream",
     "text": [
      "Label 0 - train: 0.0987 - test: 0.0980\n",
      "Label 1 - train: 0.1124 - test: 0.1135\n",
      "Label 2 - train: 0.0993 - test: 0.1032\n",
      "Label 3 - train: 0.1022 - test: 0.1010\n",
      "Label 4 - train: 0.0974 - test: 0.0982\n",
      "Label 5 - train: 0.0903 - test: 0.0892\n",
      "Label 6 - train: 0.0986 - test: 0.0958\n",
      "Label 7 - train: 0.1044 - test: 0.1028\n",
      "Label 8 - train: 0.0975 - test: 0.0974\n",
      "Label 9 - train: 0.0992 - test: 0.1009\n"
     ]
    }
   ],
   "source": [
    "for i in range(10):\n",
    "  count_train = np.where(trainy == i)[0]\n",
    "  count_test = np.where(testy == i)[0]\n",
    "\n",
    "  print(\"Label %d - train: %.4f - test: %.4f\" %(i, count_train.shape[0] / float(trainy.shape[0]), count_test.shape[0] / float(testy.shape[0]) ))"
   ]
  },
  {
   "cell_type": "code",
   "execution_count": 12,
   "id": "10375145-fe06-4ee2-a9bd-5cd5c799c4f2",
   "metadata": {},
   "outputs": [
    {
     "data": {
      "text/plain": [
       "(torch.Size([60000, 28, 28]), torch.Size([60000]))"
      ]
     },
     "execution_count": 12,
     "metadata": {},
     "output_type": "execute_result"
    }
   ],
   "source": [
    "# prepare data for training\n",
    "trainX.shape, trainy.shape"
   ]
  },
  {
   "cell_type": "code",
   "execution_count": 13,
   "id": "f6f39bbb-2b7a-4f5c-b91d-654283aa3a6d",
   "metadata": {},
   "outputs": [
    {
     "data": {
      "text/plain": [
       "torch.Size([60000, 28, 28])"
      ]
     },
     "execution_count": 13,
     "metadata": {},
     "output_type": "execute_result"
    }
   ],
   "source": [
    "trainX.shape"
   ]
  },
  {
   "cell_type": "code",
   "execution_count": 14,
   "id": "cde79230-5bdc-4d42-854a-c90eb1fc4e79",
   "metadata": {},
   "outputs": [
    {
     "data": {
      "text/plain": [
       "tensor(33.3184)"
      ]
     },
     "execution_count": 14,
     "metadata": {},
     "output_type": "execute_result"
    }
   ],
   "source": [
    "torch.mean(trainX.to(torch.float))"
   ]
  },
  {
   "cell_type": "code",
   "execution_count": 15,
   "id": "8d0944a0-c801-4407-a0b6-effc48accb98",
   "metadata": {},
   "outputs": [
    {
     "data": {
      "text/plain": [
       "tensor(78.5675)"
      ]
     },
     "execution_count": 15,
     "metadata": {},
     "output_type": "execute_result"
    }
   ],
   "source": [
    "torch.std(trainX.to(torch.float))"
   ]
  },
  {
   "cell_type": "code",
   "execution_count": 16,
   "id": "88b050b3-558c-4e44-b8aa-469f184f865f",
   "metadata": {},
   "outputs": [],
   "source": [
    "train_x_norm = (trainX - torch.mean(trainX.to(torch.float))) / torch.std(trainX.to(torch.float))"
   ]
  },
  {
   "cell_type": "code",
   "execution_count": 17,
   "id": "f7ab6e7b-18ce-408b-95a8-17cf8521fcfb",
   "metadata": {},
   "outputs": [
    {
     "data": {
      "text/plain": [
       "tensor([5, 0, 4,  ..., 5, 6, 8])"
      ]
     },
     "execution_count": 17,
     "metadata": {},
     "output_type": "execute_result"
    }
   ],
   "source": [
    "trainy"
   ]
  },
  {
   "cell_type": "code",
   "execution_count": 18,
   "id": "4c2f0581-17cd-43fd-bb39-db5041508218",
   "metadata": {},
   "outputs": [],
   "source": [
    "train_ds = TensorDataset(train_x_norm, trainy)\n",
    "torch.manual_seed(1234)\n",
    "batch_size = 100\n",
    "train_dl = DataLoader(train_ds, batch_size, shuffle=True)"
   ]
  },
  {
   "cell_type": "code",
   "execution_count": 19,
   "id": "9239ac3a-55ed-4bed-af6d-32d1da7e161a",
   "metadata": {},
   "outputs": [],
   "source": [
    "class DNN(nn.Module):\n",
    "  def __init__(self, input_size, hidden_size, num_classes):\n",
    "    super(DNN, self).__init__()\n",
    "    self.fc1 = nn.Linear(input_size, hidden_size)\n",
    "    self.fc2 = nn.Linear(hidden_size, num_classes)\n",
    "\n",
    "  def forward(self, x):\n",
    "    x = self.fc1(x)\n",
    "    x = nn.Sigmoid()(x)\n",
    "    x = self.fc2(x)\n",
    "    # x = nn.Softmax(dim=1)(x)\n",
    "    return x"
   ]
  },
  {
   "cell_type": "code",
   "execution_count": 20,
   "id": "ed323ebf-ae72-42da-9bdc-58a21e899387",
   "metadata": {},
   "outputs": [],
   "source": [
    "input_size = 28*28\n",
    "hidden_size = 100\n",
    "num_classes = 10\n",
    "learning_rate = 0.001\n",
    "num_epochs = 20\n",
    "\n",
    "model = DNN(input_size, hidden_size, num_classes)\n",
    "optimizer = optim.Adam(model.parameters(), lr=learning_rate)\n",
    "loss_fn = nn.CrossEntropyLoss()\n"
   ]
  },
  {
   "cell_type": "code",
   "execution_count": 21,
   "id": "90b69016-a27b-487a-9850-855cfed16fe1",
   "metadata": {},
   "outputs": [],
   "source": [
    "loss_hist = [0] * num_epochs\n",
    "accuracy_hist = [0] * num_epochs"
   ]
  },
  {
   "cell_type": "code",
   "execution_count": 22,
   "id": "aee13dd0-bf4f-4053-a70f-d0c9b9b7510d",
   "metadata": {},
   "outputs": [
    {
     "name": "stdout",
     "output_type": "stream",
     "text": [
      "1\n",
      "2\n",
      "3\n",
      "4\n",
      "5\n",
      "6\n",
      "7\n",
      "8\n",
      "9\n",
      "10\n",
      "11\n",
      "12\n",
      "13\n",
      "14\n",
      "15\n",
      "16\n",
      "17\n",
      "18\n",
      "19\n",
      "20\n"
     ]
    }
   ],
   "source": [
    "i = 1\n",
    "for epoch in range(num_epochs):\n",
    "    print(i)\n",
    "    for x_batch, y_batch in train_dl.dataset:\n",
    "        pred = model(torch.flatten(x_batch))\n",
    "        loss = loss_fn(pred, y_batch)\n",
    "        loss.backward()\n",
    "        optimizer.step()\n",
    "        optimizer.zero_grad()\n",
    "        loss_hist[epoch] += loss.item()*y_batch.item()\n",
    "        is_correct = (torch.argmax(pred) == y_batch).float()\n",
    "        accuracy_hist[epoch] += is_correct.sum()\n",
    "    accuracy_hist[epoch] /= len(train_dl.dataset)\n",
    "    loss_hist[epoch] /= len(train_dl.dataset)\n",
    "    i += 1"
   ]
  },
  {
   "cell_type": "code",
   "execution_count": 23,
   "id": "a234b94c-cb1f-404a-a03e-ee35452000a2",
   "metadata": {},
   "outputs": [
    {
     "data": {
      "text/plain": [
       "[<matplotlib.lines.Line2D at 0x17f570fd0>]"
      ]
     },
     "execution_count": 23,
     "metadata": {},
     "output_type": "execute_result"
    },
    {
     "data": {
      "image/png": "[encoded data removed]",
      "text/plain": [
       "<Figure size 640x480 with 1 Axes>"
      ]
     },
     "metadata": {},
     "output_type": "display_data"
    }
   ],
   "source": [
    "plt.plot(loss_hist)"
   ]
  },
  {
   "cell_type": "code",
   "execution_count": 24,
   "id": "a4f98e24-dc7a-4bbb-b357-080ad83508d7",
   "metadata": {},
   "outputs": [
    {
     "data": {
      "text/plain": [
       "[<matplotlib.lines.Line2D at 0x17f3bffd0>]"
      ]
     },
     "execution_count": 24,
     "metadata": {},
     "output_type": "execute_result"
    },
    {
     "data": {
      "image/png": "[encoded data removed]",
      "text/plain": [
       "<Figure size 640x480 with 1 Axes>"
      ]
     },
     "metadata": {},
     "output_type": "display_data"
    }
   ],
   "source": [
    "plt.plot(accuracy_hist)"
   ]
  },
  {
   "cell_type": "code",
   "execution_count": 60,
   "id": "dd7458bc-cc35-443a-9b9d-c87981418bbe",
   "metadata": {},
   "outputs": [
    {
     "data": {
      "text/plain": [
       "0.9814500212669373"
      ]
     },
     "execution_count": 60,
     "metadata": {},
     "output_type": "execute_result"
    }
   ],
   "source": [
    "accuracy_hist[-1].item()"
   ]
  },
  {
   "cell_type": "code",
   "execution_count": 62,
   "id": "3a982bfc-b57e-4a87-af1c-8c2585d7c840",
   "metadata": {},
   "outputs": [],
   "source": [
    "#Report:\n",
    "#precision\n",
    "#recall\n",
    "#ROC curve\n",
    "#confusion matrix"
   ]
  },
  {
   "cell_type": "code",
   "execution_count": 66,
   "id": "103cb976-0c30-4d03-8660-a1a373be210a",
   "metadata": {},
   "outputs": [],
   "source": [
    "testX = testX.to(torch.float)"
   ]
  },
  {
   "cell_type": "code",
   "execution_count": 68,
   "id": "72238f4f-62ac-4eb6-a637-d9bdd2382401",
   "metadata": {},
   "outputs": [],
   "source": [
    "X_test_norm = (testX - torch.mean(testX)) / torch.std(testX)"
   ]
  },
  {
   "cell_type": "code",
   "execution_count": 86,
   "id": "aaa67f67-c114-40f9-8ba4-7c1b2f25b1eb",
   "metadata": {},
   "outputs": [
    {
     "data": {
      "text/plain": [
       "torch.Size([28, 28, 10000])"
      ]
     },
     "execution_count": 86,
     "metadata": {},
     "output_type": "execute_result"
    }
   ],
   "source": [
    "X_test_norm.shape"
   ]
  },
  {
   "cell_type": "code",
   "execution_count": 88,
   "id": "3ed29ea2-4b88-429e-94e5-5fbb610a8916",
   "metadata": {},
   "outputs": [],
   "source": [
    "X_test_norm = torch.transpose(X_test_norm, 0, 2)"
   ]
  },
  {
   "cell_type": "code",
   "execution_count": 94,
   "id": "7a1abdfb-a5c0-4df2-94ae-1d496d7289bc",
   "metadata": {},
   "outputs": [
    {
     "data": {
      "text/plain": [
       "torch.Size([10000, 28, 28])"
      ]
     },
     "execution_count": 94,
     "metadata": {},
     "output_type": "execute_result"
    }
   ],
   "source": [
    "X_test_norm.shape"
   ]
  },
  {
   "cell_type": "code",
   "execution_count": 96,
   "id": "70cfbe21-1e65-471c-86e7-483adb4af367",
   "metadata": {},
   "outputs": [],
   "source": [
    "pred_test = model(torch.flatten(X_test_norm, start_dim=1, end_dim=2))"
   ]
  },
  {
   "cell_type": "code",
   "execution_count": 120,
   "id": "543d24b7-fcac-4dbd-89ef-8b368251224d",
   "metadata": {},
   "outputs": [],
   "source": [
    "pred_class_test = torch.argmax(pred_test, dim=1)"
   ]
  },
  {
   "cell_type": "code",
   "execution_count": 124,
   "id": "e48ff07d-eb9c-4211-9364-627b1be804aa",
   "metadata": {},
   "outputs": [],
   "source": [
    "correct = (pred_class_test == testy).float()"
   ]
  },
  {
   "cell_type": "code",
   "execution_count": 130,
   "id": "c84a5019-61ea-4778-954c-ff82e850843a",
   "metadata": {},
   "outputs": [],
   "source": [
    "precision_by_class = [0] * num_classes\n",
    "recall_by_class = [0] * num_classes\n",
    "auroc = [0] * num_classes"
   ]
  },
  {
   "cell_type": "code",
   "execution_count": null,
   "id": "650df7b7-dd37-4e37-85cb-6fad7aff45f6",
   "metadata": {},
   "outputs": [],
   "source": [
    "#need to confirm\n",
    "for i in range(num_classes):\n",
    "    \n",
    "    p_index = (pred_class_test == i)\n",
    "    \n",
    "    precision_by_class[i] =  correct[p_index].sum() / sum(p_index) \n",
    "    \n",
    "    r_index = (testy == i)\n",
    "    recall_by_class[i] = correct[r_index].sum() / sum(r_index)\n",
    "\n",
    "    \n",
    "    \n",
    "    auc[i] = auc(correct[r_index],    \n",
    "\n",
    "\n"
   ]
  },
  {
   "cell_type": "code",
   "execution_count": 106,
   "id": "e34e8afc-18a3-42a6-872b-2ab4f1c563d2",
   "metadata": {},
   "outputs": [
    {
     "data": {
      "text/plain": [
       "tensor(0.9680)"
      ]
     },
     "execution_count": 106,
     "metadata": {},
     "output_type": "execute_result"
    }
   ],
   "source": [
    "precision = correct.sum()/pred_test.shape[0]\n",
    "precision.item()"
   ]
  },
  {
   "cell_type": "code",
   "execution_count": 110,
   "id": "49fc85fd-4d74-4cbf-a64b-08f90e6745bd",
   "metadata": {},
   "outputs": [
    {
     "data": {
      "text/plain": [
       "0.2178511917591095"
      ]
     },
     "execution_count": 110,
     "metadata": {},
     "output_type": "execute_result"
    }
   ],
   "source": [
    "recall = correct.sum()/\n",
    "recall.item()"
   ]
  },
  {
   "cell_type": "code",
   "execution_count": 112,
   "id": "1fad5bf4-bbe9-4d78-a10d-48bcf379227e",
   "metadata": {},
   "outputs": [
    {
     "data": {
      "text/plain": [
       "10000"
      ]
     },
     "execution_count": 112,
     "metadata": {},
     "output_type": "execute_result"
    }
   ],
   "source": [
    "pred_test.shape[0]"
   ]
  },
  {
   "cell_type": "code",
   "execution_count": 116,
   "id": "d9845408-4cc3-4ebc-96ca-3197104f86dc",
   "metadata": {},
   "outputs": [
    {
     "data": {
      "text/plain": [
       "tensor([7, 2, 1,  ..., 4, 5, 6])"
      ]
     },
     "execution_count": 116,
     "metadata": {},
     "output_type": "execute_result"
    }
   ],
   "source": [
    "testy"
   ]
  },
  {
   "cell_type": "code",
   "execution_count": 140,
   "id": "f768418d-3650-47d0-9a71-49ba7aac318e",
   "metadata": {},
   "outputs": [
    {
     "data": {
      "text/plain": [
       "tensor(892)"
      ]
     },
     "execution_count": 140,
     "metadata": {},
     "output_type": "execute_result"
    }
   ],
   "source": [
    "(testy == 5)"
   ]
  },
  {
   "cell_type": "code",
   "execution_count": 146,
   "id": "edbd5659-a4c3-4958-8586-bcf941804fa3",
   "metadata": {},
   "outputs": [
    {
     "data": {
      "text/plain": [
       "892"
      ]
     },
     "execution_count": 146,
     "metadata": {},
     "output_type": "execute_result"
    }
   ],
   "source": [
    "len(correct[testy == 5])"
   ]
  },
  {
   "cell_type": "code",
   "execution_count": null,
   "id": "c63ba3ff-ef7a-4f39-81ef-a14f3a566501",
   "metadata": {},
   "outputs": [],
   "source": []
  },
  {
   "cell_type": "code",
   "execution_count": null,
   "id": "44672bd3-96c7-4863-ab5b-08d00545d6aa",
   "metadata": {},
   "outputs": [],
   "source": []
  }
 ],
 "metadata": {
  "kernelspec": {
   "display_name": "Python 3 (ipykernel)",
   "language": "python",
   "name": "python3"
  },
  "language_info": {
   "codemirror_mode": {
    "name": "ipython",
    "version": 3
   },
   "file_extension": ".py",
   "mimetype": "text/x-python",
   "name": "python",
   "nbconvert_exporter": "python",
   "pygments_lexer": "ipython3",
   "version": "3.11.7"
  }
 },
 "nbformat": 4,
 "nbformat_minor": 5
}
