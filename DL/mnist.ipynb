{
 "cells": [
  {
   "cell_type": "code",
   "execution_count": 2,
   "id": "641bbd13-55aa-4309-8973-46b9b64b246a",
   "metadata": {},
   "outputs": [],
   "source": [
    "import torch\n",
    "import torch.nn as nn\n",
    "import torch.nn.functional as F\n",
    "import torch.optim as optim\n",
    "from mnist import MNIST\n",
    "from matplotlib import pyplot\n",
    "from sklearn.metrics import precision_recall_fscore_support\n",
    "import numpy as np\n",
    "from torch.utils.data import Dataset, TensorDataset, DataLoader"
   ]
  },
  {
   "cell_type": "code",
   "execution_count": 3,
   "id": "ac28e834-8eac-44d1-ac83-6a1ca4cc9567",
   "metadata": {},
   "outputs": [],
   "source": [
    "import matplotlib.pyplot as plt"
   ]
  },
  {
   "cell_type": "code",
   "execution_count": 4,
   "id": "bc895b64-2c92-46ac-ab16-a55de917931b",
   "metadata": {},
   "outputs": [],
   "source": [
    "import torchvision.datasets as datasets"
   ]
  },
  {
   "cell_type": "code",
   "execution_count": 5,
   "id": "56677ccd-f26f-48e9-b225-bc8b95210949",
   "metadata": {},
   "outputs": [],
   "source": [
    "from sklearn.metrics import roc_auc_score"
   ]
  },
  {
   "cell_type": "code",
   "execution_count": 6,
   "id": "6f8238c4-f3d0-4175-bdde-deb67fd7f3f4",
   "metadata": {},
   "outputs": [],
   "source": [
    "mnist_trainset = datasets.MNIST(root='./data', train=True, download=True, transform=None)"
   ]
  },
  {
   "cell_type": "code",
   "execution_count": 7,
   "id": "b61c83b6-384e-420e-a01e-4787956cf7fb",
   "metadata": {},
   "outputs": [],
   "source": [
    "mnist_testset = datasets.MNIST(root='./data', train=False, download=True, transform=None)"
   ]
  },
  {
   "cell_type": "code",
   "execution_count": 8,
   "id": "4efb9c0a-20bb-40a7-8e01-33f250008a4f",
   "metadata": {},
   "outputs": [],
   "source": [
    "# !pip install python-mnist"
   ]
  },
  {
   "cell_type": "code",
   "execution_count": 9,
   "id": "14d19e21-2382-400c-9362-96984d966be0",
   "metadata": {},
   "outputs": [
    {
     "data": {
      "text/plain": [
       "60000"
      ]
     },
     "execution_count": 9,
     "metadata": {},
     "output_type": "execute_result"
    }
   ],
   "source": [
    "len(mnist_trainset)"
   ]
  },
  {
   "cell_type": "code",
   "execution_count": 10,
   "id": "a46fec6d-bb75-429c-8893-c54116d9140c",
   "metadata": {},
   "outputs": [
    {
     "data": {
      "text/plain": [
       "10000"
      ]
     },
     "execution_count": 10,
     "metadata": {},
     "output_type": "execute_result"
    }
   ],
   "source": [
    "len(mnist_testset)"
   ]
  },
  {
   "cell_type": "code",
   "execution_count": 11,
   "id": "e26acd0a-4aa8-44a2-a407-ea7451c9efb4",
   "metadata": {},
   "outputs": [
    {
     "data": {
      "text/plain": [
       "(60000, 60000)"
      ]
     },
     "execution_count": 11,
     "metadata": {},
     "output_type": "execute_result"
    }
   ],
   "source": [
    "len(mnist_trainset.data), len(mnist_trainset.targets)"
   ]
  },
  {
   "cell_type": "code",
   "execution_count": 12,
   "id": "93333ba3-42d8-4169-a95b-a158f5a850e6",
   "metadata": {},
   "outputs": [
    {
     "name": "stdout",
     "output_type": "stream",
     "text": [
      "Train: X=torch.Size([60000, 28, 28]), y=torch.Size([60000])\n",
      "Test: X=torch.Size([10000, 28, 28]), y=torch.Size([10000])\n"
     ]
    },
    {
     "data": {
      "image/png": "[encoded data removed]",
      "text/plain": [
       "<Figure size 640x480 with 9 Axes>"
      ]
     },
     "metadata": {},
     "output_type": "display_data"
    }
   ],
   "source": [
    "(trainX, trainy) = mnist_trainset.data, mnist_trainset.targets\n",
    "\n",
    "(testX, testy) = mnist_testset.data, mnist_testset.targets\n",
    "\n",
    "print('Train: X=%s, y=%s' % (trainX.shape, trainy.shape))\n",
    "print('Test: X=%s, y=%s' % (testX.shape, testy.shape))\n",
    "\n",
    "# plot first few images\n",
    "for i in range(9):\n",
    "\t# define subplot\n",
    "\tpyplot.subplot(330 + 1 + i)\n",
    "\t# plot raw pixel data\n",
    "\tpyplot.imshow(trainX[i], cmap=pyplot.get_cmap('gray'))\n",
    "\n",
    "# show the figure\n",
    "pyplot.show()"
   ]
  },
  {
   "cell_type": "code",
   "execution_count": 13,
   "id": "68e99ca0-93d4-41c6-8dc4-cface75cd6b5",
   "metadata": {},
   "outputs": [
    {
     "name": "stdout",
     "output_type": "stream",
     "text": [
      "Label 0 - train: 0.0987 - test: 0.0980\n",
      "Label 1 - train: 0.1124 - test: 0.1135\n",
      "Label 2 - train: 0.0993 - test: 0.1032\n",
      "Label 3 - train: 0.1022 - test: 0.1010\n",
      "Label 4 - train: 0.0974 - test: 0.0982\n",
      "Label 5 - train: 0.0903 - test: 0.0892\n",
      "Label 6 - train: 0.0986 - test: 0.0958\n",
      "Label 7 - train: 0.1044 - test: 0.1028\n",
      "Label 8 - train: 0.0975 - test: 0.0974\n",
      "Label 9 - train: 0.0992 - test: 0.1009\n"
     ]
    }
   ],
   "source": [
    "for i in range(10):\n",
    "  count_train = np.where(trainy == i)[0]\n",
    "  count_test = np.where(testy == i)[0]\n",
    "\n",
    "  print(\"Label %d - train: %.4f - test: %.4f\" %(i, count_train.shape[0] / float(trainy.shape[0]), count_test.shape[0] / float(testy.shape[0]) ))"
   ]
  },
  {
   "cell_type": "code",
   "execution_count": 14,
   "id": "10375145-fe06-4ee2-a9bd-5cd5c799c4f2",
   "metadata": {},
   "outputs": [
    {
     "data": {
      "text/plain": [
       "(torch.Size([60000, 28, 28]), torch.Size([60000]))"
      ]
     },
     "execution_count": 14,
     "metadata": {},
     "output_type": "execute_result"
    }
   ],
   "source": [
    "# prepare data for training\n",
    "trainX.shape, trainy.shape"
   ]
  },
  {
   "cell_type": "code",
   "execution_count": 15,
   "id": "f6f39bbb-2b7a-4f5c-b91d-654283aa3a6d",
   "metadata": {},
   "outputs": [
    {
     "data": {
      "text/plain": [
       "torch.Size([60000, 28, 28])"
      ]
     },
     "execution_count": 15,
     "metadata": {},
     "output_type": "execute_result"
    }
   ],
   "source": [
    "trainX.shape"
   ]
  },
  {
   "cell_type": "code",
   "execution_count": 16,
   "id": "cde79230-5bdc-4d42-854a-c90eb1fc4e79",
   "metadata": {},
   "outputs": [
    {
     "data": {
      "text/plain": [
       "tensor(33.3184)"
      ]
     },
     "execution_count": 16,
     "metadata": {},
     "output_type": "execute_result"
    }
   ],
   "source": [
    "torch.mean(trainX.to(torch.float))"
   ]
  },
  {
   "cell_type": "code",
   "execution_count": 17,
   "id": "8d0944a0-c801-4407-a0b6-effc48accb98",
   "metadata": {},
   "outputs": [
    {
     "data": {
      "text/plain": [
       "tensor(78.5675)"
      ]
     },
     "execution_count": 17,
     "metadata": {},
     "output_type": "execute_result"
    }
   ],
   "source": [
    "torch.std(trainX.to(torch.float))"
   ]
  },
  {
   "cell_type": "code",
   "execution_count": 18,
   "id": "88b050b3-558c-4e44-b8aa-469f184f865f",
   "metadata": {},
   "outputs": [],
   "source": [
    "train_x_norm = (trainX - torch.mean(trainX.to(torch.float))) / torch.std(trainX.to(torch.float))"
   ]
  },
  {
   "cell_type": "code",
   "execution_count": 19,
   "id": "f7ab6e7b-18ce-408b-95a8-17cf8521fcfb",
   "metadata": {},
   "outputs": [
    {
     "data": {
      "text/plain": [
       "tensor([5, 0, 4,  ..., 5, 6, 8])"
      ]
     },
     "execution_count": 19,
     "metadata": {},
     "output_type": "execute_result"
    }
   ],
   "source": [
    "trainy"
   ]
  },
  {
   "cell_type": "code",
   "execution_count": 20,
   "id": "4c2f0581-17cd-43fd-bb39-db5041508218",
   "metadata": {},
   "outputs": [],
   "source": [
    "train_ds = TensorDataset(train_x_norm, trainy)\n",
    "torch.manual_seed(1234)\n",
    "batch_size = 100\n",
    "train_dl = DataLoader(train_ds, batch_size, shuffle=True)"
   ]
  },
  {
   "cell_type": "code",
   "execution_count": 21,
   "id": "9239ac3a-55ed-4bed-af6d-32d1da7e161a",
   "metadata": {},
   "outputs": [],
   "source": [
    "class DNN(nn.Module):\n",
    "  def __init__(self, input_size, hidden_size, num_classes):\n",
    "    super(DNN, self).__init__()\n",
    "    self.fc1 = nn.Linear(input_size, hidden_size)\n",
    "    self.fc2 = nn.Linear(hidden_size, num_classes)\n",
    "\n",
    "  def forward(self, x):\n",
    "    x = self.fc1(x)\n",
    "    x = nn.Sigmoid()(x)\n",
    "    x = self.fc2(x)\n",
    "    # x = nn.Softmax(dim=1)(x)\n",
    "    return x"
   ]
  },
  {
   "cell_type": "code",
   "execution_count": 22,
   "id": "ed323ebf-ae72-42da-9bdc-58a21e899387",
   "metadata": {},
   "outputs": [],
   "source": [
    "input_size = 28*28\n",
    "hidden_size = 100\n",
    "num_classes = 10\n",
    "learning_rate = 0.001\n",
    "num_epochs = 20\n",
    "\n",
    "model = DNN(input_size, hidden_size, num_classes)\n",
    "optimizer = optim.Adam(model.parameters(), lr=learning_rate)\n",
    "loss_fn = nn.CrossEntropyLoss()\n"
   ]
  },
  {
   "cell_type": "code",
   "execution_count": 23,
   "id": "90b69016-a27b-487a-9850-855cfed16fe1",
   "metadata": {},
   "outputs": [],
   "source": [
    "loss_hist = [0] * num_epochs\n",
    "accuracy_hist = [0] * num_epochs"
   ]
  },
  {
   "cell_type": "code",
   "execution_count": 24,
   "id": "aee13dd0-bf4f-4053-a70f-d0c9b9b7510d",
   "metadata": {},
   "outputs": [
    {
     "name": "stdout",
     "output_type": "stream",
     "text": [
      "1\n",
      "2\n",
      "3\n",
      "4\n",
      "5\n",
      "6\n",
      "7\n",
      "8\n",
      "9\n",
      "10\n",
      "11\n",
      "12\n",
      "13\n",
      "14\n",
      "15\n",
      "16\n",
      "17\n",
      "18\n",
      "19\n",
      "20\n"
     ]
    }
   ],
   "source": [
    "i = 1\n",
    "for epoch in range(num_epochs):\n",
    "    print(i)\n",
    "    for x_batch, y_batch in train_dl.dataset:\n",
    "        pred = model(torch.flatten(x_batch))\n",
    "        loss = loss_fn(pred, y_batch)\n",
    "        loss.backward()\n",
    "        optimizer.step()\n",
    "        optimizer.zero_grad()\n",
    "        loss_hist[epoch] += loss.item()*y_batch.item()\n",
    "        is_correct = (torch.argmax(pred) == y_batch).float()\n",
    "        accuracy_hist[epoch] += is_correct.sum()\n",
    "    accuracy_hist[epoch] /= len(train_dl.dataset)\n",
    "    loss_hist[epoch] /= len(train_dl.dataset)\n",
    "    i += 1"
   ]
  },
  {
   "cell_type": "code",
   "execution_count": 25,
   "id": "a234b94c-cb1f-404a-a03e-ee35452000a2",
   "metadata": {},
   "outputs": [
    {
     "data": {
      "text/plain": [
       "[<matplotlib.lines.Line2D at 0x1727cb050>]"
      ]
     },
     "execution_count": 25,
     "metadata": {},
     "output_type": "execute_result"
    },
    {
     "data": {
      "image/png": "[encoded data removed]",
      "text/plain": [
       "<Figure size 640x480 with 1 Axes>"
      ]
     },
     "metadata": {},
     "output_type": "display_data"
    }
   ],
   "source": [
    "plt.plot(loss_hist)"
   ]
  },
  {
   "cell_type": "code",
   "execution_count": 26,
   "id": "a4f98e24-dc7a-4bbb-b357-080ad83508d7",
   "metadata": {},
   "outputs": [
    {
     "data": {
      "text/plain": [
       "[<matplotlib.lines.Line2D at 0x17ef23b90>]"
      ]
     },
     "execution_count": 26,
     "metadata": {},
     "output_type": "execute_result"
    },
    {
     "data": {
      "image/png": "[encoded data removed]",
      "text/plain": [
       "<Figure size 640x480 with 1 Axes>"
      ]
     },
     "metadata": {},
     "output_type": "display_data"
    }
   ],
   "source": [
    "plt.plot(accuracy_hist)"
   ]
  },
  {
   "cell_type": "code",
   "execution_count": 27,
   "id": "dd7458bc-cc35-443a-9b9d-c87981418bbe",
   "metadata": {},
   "outputs": [
    {
     "data": {
      "text/plain": [
       "0.9814500212669373"
      ]
     },
     "execution_count": 27,
     "metadata": {},
     "output_type": "execute_result"
    }
   ],
   "source": [
    "accuracy_hist[-1].item()"
   ]
  },
  {
   "cell_type": "code",
   "execution_count": 28,
   "id": "3a982bfc-b57e-4a87-af1c-8c2585d7c840",
   "metadata": {},
   "outputs": [],
   "source": [
    "#Report:\n",
    "#precision\n",
    "#recall\n",
    "#ROC curve\n",
    "#confusion matrix"
   ]
  },
  {
   "cell_type": "code",
   "execution_count": 29,
   "id": "103cb976-0c30-4d03-8660-a1a373be210a",
   "metadata": {},
   "outputs": [],
   "source": [
    "testX = testX.to(torch.float)"
   ]
  },
  {
   "cell_type": "code",
   "execution_count": 30,
   "id": "72238f4f-62ac-4eb6-a637-d9bdd2382401",
   "metadata": {},
   "outputs": [],
   "source": [
    "X_test_norm = (testX - torch.mean(testX)) / torch.std(testX)"
   ]
  },
  {
   "cell_type": "code",
   "execution_count": 31,
   "id": "aaa67f67-c114-40f9-8ba4-7c1b2f25b1eb",
   "metadata": {},
   "outputs": [
    {
     "data": {
      "text/plain": [
       "torch.Size([10000, 28, 28])"
      ]
     },
     "execution_count": 31,
     "metadata": {},
     "output_type": "execute_result"
    }
   ],
   "source": [
    "X_test_norm.shape"
   ]
  },
  {
   "cell_type": "code",
   "execution_count": 32,
   "id": "3ed29ea2-4b88-429e-94e5-5fbb610a8916",
   "metadata": {},
   "outputs": [],
   "source": [
    "# X_test_norm = torch.transpose(X_test_norm, 0, 2)"
   ]
  },
  {
   "cell_type": "code",
   "execution_count": 33,
   "id": "7a1abdfb-a5c0-4df2-94ae-1d496d7289bc",
   "metadata": {},
   "outputs": [
    {
     "data": {
      "text/plain": [
       "torch.Size([10000, 28, 28])"
      ]
     },
     "execution_count": 33,
     "metadata": {},
     "output_type": "execute_result"
    }
   ],
   "source": [
    "X_test_norm.shape"
   ]
  },
  {
   "cell_type": "code",
   "execution_count": 34,
   "id": "70cfbe21-1e65-471c-86e7-483adb4af367",
   "metadata": {},
   "outputs": [],
   "source": [
    "pred_test = model(torch.flatten(X_test_norm, start_dim=1, end_dim=2))"
   ]
  },
  {
   "cell_type": "code",
   "execution_count": 35,
   "id": "543d24b7-fcac-4dbd-89ef-8b368251224d",
   "metadata": {},
   "outputs": [],
   "source": [
    "pred_class_test = torch.argmax(pred_test, dim=1)"
   ]
  },
  {
   "cell_type": "code",
   "execution_count": 36,
   "id": "e48ff07d-eb9c-4211-9364-627b1be804aa",
   "metadata": {},
   "outputs": [],
   "source": [
    "correct = (pred_class_test == testy).float()"
   ]
  },
  {
   "cell_type": "code",
   "execution_count": 37,
   "id": "c84a5019-61ea-4778-954c-ff82e850843a",
   "metadata": {},
   "outputs": [],
   "source": [
    "precision_by_class = [0] * num_classes\n",
    "recall_by_class = [0] * num_classes\n",
    "auroc_by_class = [0] * num_classes\n",
    "confusion_matrix = [[0]*num_classes for i in range(num_classes)]"
   ]
  },
  {
   "cell_type": "code",
   "execution_count": 38,
   "id": "650df7b7-dd37-4e37-85cb-6fad7aff45f6",
   "metadata": {},
   "outputs": [],
   "source": [
    "#need to confirm\n",
    "for i in range(num_classes):\n",
    "    \n",
    "    p_index = (pred_class_test == i)\n",
    "    \n",
    "    precision_by_class[i] =  (correct[p_index].sum() / sum(p_index)).item()\n",
    "    \n",
    "    r_index = (testy == i)\n",
    "    recall_by_class[i] = (correct[r_index].sum() / len(r_index)).item()\n",
    "\n",
    "    pred_i = np.zeros(pred_test.shape[0])    \n",
    "    pred_i[p_index] = 1\n",
    "    \n",
    "    testy_i = np.zeros(testy.shape[0])\n",
    "    testy_i[r_index] = 1\n",
    "    auroc_by_class[i] = roc_auc_score(testy_i, pred_i)\n",
    "\n",
    "    for j in range(num_classes):\n",
    "        confusion_matrix[i][j] = (testy[p_index] == j).sum().item()\n"
   ]
  },
  {
   "cell_type": "code",
   "execution_count": 39,
   "id": "8fb2c14e-af43-451e-ab6a-e13af504e692",
   "metadata": {},
   "outputs": [
    {
     "name": "stdout",
     "output_type": "stream",
     "text": [
      "precision by classes\n",
      "[0.9767441749572754, 0.9757785201072693, 0.9626794457435608, 0.9544131755828857, 0.9694501161575317, 0.9343379735946655, 0.9870410561561584, 0.9760239720344543, 0.978723406791687, 0.9640359878540039]\n"
     ]
    }
   ],
   "source": [
    "print('precision by classes')\n",
    "print(precision_by_class)"
   ]
  },
  {
   "cell_type": "code",
   "execution_count": 40,
   "id": "fd1471f2-1bf5-4a23-95aa-09cbe87eb700",
   "metadata": {},
   "outputs": [
    {
     "name": "stdout",
     "output_type": "stream",
     "text": [
      "recall by classes\n",
      "[0.0966000035405159, 0.1128000020980835, 0.1005999967455864, 0.09839999675750732, 0.09520000219345093, 0.0868000015616417, 0.09139999747276306, 0.09769999980926514, 0.09200000017881393, 0.09650000184774399]\n"
     ]
    }
   ],
   "source": [
    "print('recall by classes')\n",
    "print(recall_by_class)"
   ]
  },
  {
   "cell_type": "code",
   "execution_count": 41,
   "id": "f9602848-1ee1-4079-acbc-12d176005c71",
   "metadata": {},
   "outputs": [
    {
     "name": "stdout",
     "output_type": "stream",
     "text": [
      "auroc by class\n",
      "[0.9915821982895153, 0.9953370553406332, 0.9852287029161393, 0.9845146972984284, 0.9830617109298037, 0.9831983807661328, 0.9763719205987923, 0.9738570581020762, 0.9711713502994543, 0.9761942318929434]\n"
     ]
    }
   ],
   "source": [
    "print('auroc by class')\n",
    "print(auroc_by_class)"
   ]
  },
  {
   "cell_type": "code",
   "execution_count": 42,
   "id": "74fc6664-211d-4516-b323-9a22c492627d",
   "metadata": {},
   "outputs": [
    {
     "name": "stdout",
     "output_type": "stream",
     "text": [
      "confusion matrix\n",
      "[966, 0, 2, 0, 0, 2, 10, 3, 5, 1]\n",
      "[0, 1128, 5, 0, 2, 1, 3, 9, 2, 6]\n",
      "[2, 1, 1006, 5, 5, 1, 4, 11, 8, 2]\n",
      "[0, 3, 4, 984, 2, 11, 1, 7, 13, 6]\n",
      "[0, 0, 2, 3, 952, 1, 3, 6, 4, 11]\n",
      "[6, 1, 5, 6, 2, 868, 19, 0, 11, 11]\n",
      "[2, 0, 1, 0, 3, 2, 914, 1, 2, 1]\n",
      "[2, 0, 4, 6, 2, 1, 0, 977, 5, 4]\n",
      "[2, 2, 2, 1, 1, 2, 4, 4, 920, 2]\n",
      "[0, 0, 1, 5, 13, 3, 0, 10, 4, 965]\n"
     ]
    }
   ],
   "source": [
    "print('confusion matrix')\n",
    "for i in range(num_classes):\n",
    "    print(confusion_matrix[i])"
   ]
  },
  {
   "cell_type": "code",
   "execution_count": 43,
   "id": "1d893162-0c4a-4a16-9e21-501ca8402a1f",
   "metadata": {},
   "outputs": [],
   "source": [
    "#CNN"
   ]
  },
  {
   "cell_type": "code",
   "execution_count": 450,
   "id": "e30bade4-9d4e-4071-95d6-050f45af96f5",
   "metadata": {},
   "outputs": [],
   "source": [
    "torch.manual_seed(123)\n",
    "batch_size = 64"
   ]
  },
  {
   "cell_type": "code",
   "execution_count": 636,
   "id": "5d652353-64cb-44de-a456-d6d45660da1d",
   "metadata": {},
   "outputs": [],
   "source": [
    "train_dl = DataLoader(list(zip(train_x_norm,trainy)), shuffle=True, batch_size=64,drop_last=True)"
   ]
  },
  {
   "cell_type": "code",
   "execution_count": 568,
   "id": "af6d1245-5794-43cd-b79b-5ffbe0e3443e",
   "metadata": {},
   "outputs": [],
   "source": [
    "x = torch.ones(64,1,28,28)"
   ]
  },
  {
   "cell_type": "code",
   "execution_count": 570,
   "id": "7e328c28-02f3-4fe5-93c6-897bcdd5d723",
   "metadata": {},
   "outputs": [],
   "source": [
    "model = torch.nn.Sequential()"
   ]
  },
  {
   "cell_type": "code",
   "execution_count": 572,
   "id": "1080fec4-df6b-4504-b259-eda9ef976aaf",
   "metadata": {},
   "outputs": [],
   "source": [
    "model.add_module('conv1', nn.Conv2d(in_channels=1, out_channels=32, kernel_size = 5, padding = 2))"
   ]
  },
  {
   "cell_type": "code",
   "execution_count": 574,
   "id": "dee740b8-1b0f-42ec-ba9e-04c5ad73eba2",
   "metadata": {},
   "outputs": [
    {
     "data": {
      "text/plain": [
       "torch.Size([64, 32, 28, 28])"
      ]
     },
     "execution_count": 574,
     "metadata": {},
     "output_type": "execute_result"
    }
   ],
   "source": [
    "model(x).shape"
   ]
  },
  {
   "cell_type": "code",
   "execution_count": 576,
   "id": "ee62ff3a-80d1-4ced-9497-6ebf9f24109c",
   "metadata": {},
   "outputs": [],
   "source": [
    "model.add_module('relu1', nn.ReLU())"
   ]
  },
  {
   "cell_type": "code",
   "execution_count": 578,
   "id": "f7913763-2cba-4b6b-a00b-aa6b7407151a",
   "metadata": {},
   "outputs": [],
   "source": [
    "model.add_module('pool1', nn.MaxPool2d(kernel_size=2))"
   ]
  },
  {
   "cell_type": "code",
   "execution_count": 580,
   "id": "a0aaeb53-51a8-4da8-9721-cb2f72faac1e",
   "metadata": {},
   "outputs": [
    {
     "data": {
      "text/plain": [
       "torch.Size([64, 32, 14, 14])"
      ]
     },
     "execution_count": 580,
     "metadata": {},
     "output_type": "execute_result"
    }
   ],
   "source": [
    "model(x).shape"
   ]
  },
  {
   "cell_type": "code",
   "execution_count": 582,
   "id": "fa391187-977b-4bd5-9cb4-3db99eddf8d2",
   "metadata": {},
   "outputs": [],
   "source": [
    "model.add_module('conv2', nn.Conv2d(in_channels = 32, out_channels = 64, kernel_size = 5, padding = 2))"
   ]
  },
  {
   "cell_type": "code",
   "execution_count": 584,
   "id": "3be7f5af-42f9-4084-a347-1574e498d04d",
   "metadata": {},
   "outputs": [
    {
     "data": {
      "text/plain": [
       "torch.Size([64, 64, 14, 14])"
      ]
     },
     "execution_count": 584,
     "metadata": {},
     "output_type": "execute_result"
    }
   ],
   "source": [
    "model(x).shape"
   ]
  },
  {
   "cell_type": "code",
   "execution_count": 586,
   "id": "9c153aff-3950-4f66-9c04-604c10a7e93a",
   "metadata": {},
   "outputs": [],
   "source": [
    "model.add_module('relu2', nn.ReLU())"
   ]
  },
  {
   "cell_type": "code",
   "execution_count": 588,
   "id": "b5d274d3-2239-4d3b-b78e-330c73005d39",
   "metadata": {},
   "outputs": [],
   "source": [
    "model.add_module('pool2', nn.MaxPool2d(kernel_size=2))"
   ]
  },
  {
   "cell_type": "code",
   "execution_count": 590,
   "id": "63e1b6e2-c486-4b61-9406-4441e0e18562",
   "metadata": {},
   "outputs": [
    {
     "data": {
      "text/plain": [
       "torch.Size([64, 64, 7, 7])"
      ]
     },
     "execution_count": 590,
     "metadata": {},
     "output_type": "execute_result"
    }
   ],
   "source": [
    "model(x).shape"
   ]
  },
  {
   "cell_type": "code",
   "execution_count": 592,
   "id": "05fef765-54a7-4218-adf7-5f7def5d5ddc",
   "metadata": {},
   "outputs": [],
   "source": [
    "model.add_module('flatten', nn.Flatten())"
   ]
  },
  {
   "cell_type": "code",
   "execution_count": 594,
   "id": "aab0cc9d-7a05-4b21-ab55-ce45ed5ab23f",
   "metadata": {},
   "outputs": [
    {
     "data": {
      "text/plain": [
       "torch.Size([64, 3136])"
      ]
     },
     "execution_count": 594,
     "metadata": {},
     "output_type": "execute_result"
    }
   ],
   "source": [
    "model(x).shape"
   ]
  },
  {
   "cell_type": "code",
   "execution_count": 596,
   "id": "84bf496e-bf2c-40da-a414-29ebbd64cb0b",
   "metadata": {},
   "outputs": [],
   "source": [
    "model.add_module('fc1', nn.Linear(3136, 1024))"
   ]
  },
  {
   "cell_type": "code",
   "execution_count": 598,
   "id": "bc753413-90c2-4d9f-b236-bd3798050b14",
   "metadata": {},
   "outputs": [
    {
     "data": {
      "text/plain": [
       "torch.Size([64, 1024])"
      ]
     },
     "execution_count": 598,
     "metadata": {},
     "output_type": "execute_result"
    }
   ],
   "source": [
    "model(x).shape"
   ]
  },
  {
   "cell_type": "code",
   "execution_count": 600,
   "id": "f3afc4ed-8b48-4924-a890-3b800bd2500c",
   "metadata": {},
   "outputs": [],
   "source": [
    "model.add_module('relu3', nn.ReLU())"
   ]
  },
  {
   "cell_type": "code",
   "execution_count": 602,
   "id": "5c232aa7-43a5-4dcf-8759-6686c33a5b72",
   "metadata": {},
   "outputs": [],
   "source": [
    "model.add_module('dropout', nn.Dropout(p=0.5))"
   ]
  },
  {
   "cell_type": "code",
   "execution_count": 604,
   "id": "a0e2f2ae-4f05-4916-8652-7429f10cc907",
   "metadata": {},
   "outputs": [
    {
     "data": {
      "text/plain": [
       "torch.Size([64, 1024])"
      ]
     },
     "execution_count": 604,
     "metadata": {},
     "output_type": "execute_result"
    }
   ],
   "source": [
    "model(x).shape"
   ]
  },
  {
   "cell_type": "code",
   "execution_count": 606,
   "id": "5ed677b1-569e-4ec5-bdf0-068e2b43573d",
   "metadata": {},
   "outputs": [],
   "source": [
    "model.add_module('fc2', nn.Linear(1024,10))"
   ]
  },
  {
   "cell_type": "code",
   "execution_count": 608,
   "id": "89fc4b8d-ddda-4319-95cd-8b39a00a7799",
   "metadata": {},
   "outputs": [
    {
     "data": {
      "text/plain": [
       "torch.Size([64, 10])"
      ]
     },
     "execution_count": 608,
     "metadata": {},
     "output_type": "execute_result"
    }
   ],
   "source": [
    "model(x).shape"
   ]
  },
  {
   "cell_type": "code",
   "execution_count": 610,
   "id": "401799f3-c4f5-4525-be4e-4ceea653d745",
   "metadata": {},
   "outputs": [],
   "source": [
    "loss_fn = nn.CrossEntropyLoss()"
   ]
  },
  {
   "cell_type": "code",
   "execution_count": 612,
   "id": "d967695f-1158-41aa-b4d8-39a7acf76c18",
   "metadata": {},
   "outputs": [],
   "source": [
    "optimizer = torch.optim.Adam(model.parameters(), lr = 0.001)"
   ]
  },
  {
   "cell_type": "code",
   "execution_count": 693,
   "id": "3136451e-b746-4c5f-969c-82bb69b0d51f",
   "metadata": {},
   "outputs": [],
   "source": [
    "num_classes = 10\n",
    "num_epochs = 10"
   ]
  },
  {
   "cell_type": "code",
   "execution_count": 716,
   "id": "c499b104-7b65-4b31-bee6-501fe5bc9c2f",
   "metadata": {},
   "outputs": [],
   "source": [
    "precision_by_class = [0] * num_classes\n",
    "recall_by_class = [0] * num_classes\n",
    "auroc_by_class = [0] * num_classes\n",
    "confusion_matrix = [[0]*num_classes for i in range(num_classes)]"
   ]
  },
  {
   "cell_type": "code",
   "execution_count": 714,
   "id": "f8ca06c4-53c8-4ba4-a281-93aee9f3ce99",
   "metadata": {},
   "outputs": [],
   "source": [
    "loss_hist = [0] * num_epochs\n",
    "accuracy_hist = [0] * num_epochs"
   ]
  },
  {
   "cell_type": "code",
   "execution_count": 620,
   "id": "6c485674-8a51-475d-b07c-aadf978b07e2",
   "metadata": {},
   "outputs": [
    {
     "name": "stdout",
     "output_type": "stream",
     "text": [
      "torch.Size([64, 1, 28, 28]) torch.Size([64])\n"
     ]
    }
   ],
   "source": [
    "for X_batch, y_batch in train_dl:\n",
    "    print(torch.unsqueeze(X_batch, 1).shape, y_batch.shape)\n",
    "    break"
   ]
  },
  {
   "cell_type": "code",
   "execution_count": 622,
   "id": "549aabb1-9eab-4b59-8032-ba2e49091bce",
   "metadata": {},
   "outputs": [],
   "source": [
    "pred = model(torch.unsqueeze(X_batch, 1))"
   ]
  },
  {
   "cell_type": "code",
   "execution_count": 624,
   "id": "ee9c681e-03d8-4d64-9bab-a2ddd6f3da3a",
   "metadata": {},
   "outputs": [
    {
     "data": {
      "text/plain": [
       "torch.Size([64, 10])"
      ]
     },
     "execution_count": 624,
     "metadata": {},
     "output_type": "execute_result"
    }
   ],
   "source": [
    "pred.shape"
   ]
  },
  {
   "cell_type": "code",
   "execution_count": 626,
   "id": "58f4e2db-4875-49e3-bc0c-de1fe588c5e7",
   "metadata": {},
   "outputs": [
    {
     "data": {
      "text/plain": [
       "tensor(2.2978, grad_fn=<NllLossBackward0>)"
      ]
     },
     "execution_count": 626,
     "metadata": {},
     "output_type": "execute_result"
    }
   ],
   "source": [
    "loss_fn(pred, y_batch)"
   ]
  },
  {
   "cell_type": "code",
   "execution_count": 718,
   "id": "232eb26a-9f8b-4bc9-a894-d622d598c4dc",
   "metadata": {},
   "outputs": [
    {
     "name": "stdout",
     "output_type": "stream",
     "text": [
      "1\n",
      "2\n",
      "3\n",
      "4\n",
      "5\n",
      "6\n",
      "7\n",
      "8\n",
      "9\n",
      "10\n"
     ]
    }
   ],
   "source": [
    "i = 1\n",
    "for epoch in range(num_epochs):\n",
    "    print(i)\n",
    "    model.train()\n",
    "    for x_batch, y_batch in train_dl:\n",
    "        pred = model(torch.unsqueeze(X_batch, 1))\n",
    "        loss = loss_fn(pred, y_batch)\n",
    "        loss.backward()\n",
    "        optimizer.step()\n",
    "        optimizer.zero_grad()\n",
    "        loss_hist[epoch] += loss.item()*y_batch.size(0)\n",
    "        is_correct = (torch.argmax(pred) == y_batch).float()\n",
    "        accuracy_hist[epoch] += is_correct.sum()\n",
    "    accuracy_hist[epoch] /= len(train_dl.dataset)\n",
    "    loss_hist[epoch] /= len(train_dl.dataset)\n",
    "    i += 1"
   ]
  },
  {
   "cell_type": "code",
   "execution_count": 735,
   "id": "307ef1f5-f3b0-4330-8393-7a33f9eab096",
   "metadata": {},
   "outputs": [
    {
     "data": {
      "text/plain": [
       "[<matplotlib.lines.Line2D at 0x326305ed0>]"
      ]
     },
     "execution_count": 735,
     "metadata": {},
     "output_type": "execute_result"
    },
    {
     "data": {
      "image/png": "[encoded data removed]",
      "text/plain": [
       "<Figure size 640x480 with 1 Axes>"
      ]
     },
     "metadata": {},
     "output_type": "display_data"
    }
   ],
   "source": [
    "plt.plot(accuracy_hist)"
   ]
  },
  {
   "cell_type": "code",
   "execution_count": 720,
   "id": "279b41d8-deec-4f5e-9fc4-6a4c03f594f2",
   "metadata": {},
   "outputs": [
    {
     "data": {
      "text/plain": [
       "[<matplotlib.lines.Line2D at 0x3294e5590>]"
      ]
     },
     "execution_count": 720,
     "metadata": {},
     "output_type": "execute_result"
    },
    {
     "data": {
      "image/png": "[encoded data removed]",
      "text/plain": [
       "<Figure size 640x480 with 1 Axes>"
      ]
     },
     "metadata": {},
     "output_type": "display_data"
    }
   ],
   "source": [
    "plt.plot(loss_hist)"
   ]
  },
  {
   "cell_type": "code",
   "execution_count": 721,
   "id": "434c7e27-203b-482f-aa6a-1450b664fc45",
   "metadata": {},
   "outputs": [
    {
     "data": {
      "text/plain": [
       "torch.Size([10000, 28, 28])"
      ]
     },
     "execution_count": 721,
     "metadata": {},
     "output_type": "execute_result"
    }
   ],
   "source": [
    "X_test_norm.shape"
   ]
  },
  {
   "cell_type": "code",
   "execution_count": 722,
   "id": "e3758dac-1b36-4caf-b4e6-aa93216f9514",
   "metadata": {},
   "outputs": [],
   "source": [
    "pred_test = model(torch.unsqueeze(X_test_norm, 1))"
   ]
  },
  {
   "cell_type": "code",
   "execution_count": 723,
   "id": "3af9d866-b47c-407b-9d3d-287103ac7747",
   "metadata": {},
   "outputs": [
    {
     "data": {
      "text/plain": [
       "torch.Size([10000, 10])"
      ]
     },
     "execution_count": 723,
     "metadata": {},
     "output_type": "execute_result"
    }
   ],
   "source": [
    "pred_test.shape"
   ]
  },
  {
   "cell_type": "code",
   "execution_count": 724,
   "id": "1566a625-9220-423c-8acd-4f588545c4aa",
   "metadata": {},
   "outputs": [
    {
     "data": {
      "text/plain": [
       "tensor([-0.0215,  0.1177, -0.0050,  0.0153, -0.0268, -0.1160, -0.0264,  0.0505,\n",
       "        -0.0330, -0.0037], grad_fn=<SliceBackward0>)"
      ]
     },
     "execution_count": 724,
     "metadata": {},
     "output_type": "execute_result"
    }
   ],
   "source": [
    "pred_test[10000-1,:]"
   ]
  },
  {
   "cell_type": "code",
   "execution_count": 725,
   "id": "21ad4f0b-8e93-44a4-8c94-973115ffd732",
   "metadata": {},
   "outputs": [],
   "source": [
    "pred_class_test = torch.argmax(pred_test, dim=1)"
   ]
  },
  {
   "cell_type": "code",
   "execution_count": 726,
   "id": "fda1fa89-da8e-4bfb-a3da-a1be78da1b1d",
   "metadata": {},
   "outputs": [],
   "source": [
    "correct = (pred_class_test == testy).float()"
   ]
  },
  {
   "cell_type": "code",
   "execution_count": 727,
   "id": "175eec21-248a-4404-9ade-f20a02454a1e",
   "metadata": {},
   "outputs": [
    {
     "data": {
      "text/plain": [
       "tensor(1)"
      ]
     },
     "execution_count": 727,
     "metadata": {},
     "output_type": "execute_result"
    }
   ],
   "source": [
    "pred_class_test[1]"
   ]
  },
  {
   "cell_type": "code",
   "execution_count": 728,
   "id": "414c3146-8caf-4176-b0e6-d3931b89ba6c",
   "metadata": {},
   "outputs": [],
   "source": [
    "precision_by_class = [0] * num_classes\n",
    "recall_by_class = [0] * num_classes\n",
    "auroc_by_class = [0] * num_classes\n",
    "confusion_matrix = [[0]*num_classes for i in range(num_classes)]"
   ]
  },
  {
   "cell_type": "code",
   "execution_count": 729,
   "id": "23a8850e-ba11-4ce3-b450-2f3da5243583",
   "metadata": {},
   "outputs": [],
   "source": [
    "#need to confirm\n",
    "for i in range(num_classes):\n",
    "    \n",
    "    p_index = (pred_class_test == i)\n",
    "    \n",
    "    precision_by_class[i] =  (correct[p_index].sum() / sum(p_index)).item()\n",
    "    \n",
    "    r_index = (testy == i)\n",
    "    recall_by_class[i] = (correct[r_index].sum() / len(r_index)).item()\n",
    "\n",
    "    pred_i = np.zeros(pred_test.shape[0])    \n",
    "    pred_i[p_index] = 1\n",
    "    \n",
    "    testy_i = np.zeros(testy.shape[0])\n",
    "    testy_i[r_index] = 1\n",
    "    auroc_by_class[i] = roc_auc_score(testy_i, pred_i)\n",
    "\n",
    "    for j in range(num_classes):\n",
    "        confusion_matrix[i][j] = (testy[p_index] == j).sum().item()\n"
   ]
  },
  {
   "cell_type": "code",
   "execution_count": 730,
   "id": "96eb30dc-e1ae-4f3e-942c-4347f5595ae3",
   "metadata": {},
   "outputs": [
    {
     "name": "stdout",
     "output_type": "stream",
     "text": [
      "precision by classes\n",
      "[nan, 0.11349999904632568, nan, nan, nan, nan, nan, nan, nan, nan]\n"
     ]
    }
   ],
   "source": [
    "print('precision by classes')\n",
    "print(precision_by_class)"
   ]
  },
  {
   "cell_type": "code",
   "execution_count": 731,
   "id": "030a9d6f-1901-4fc1-88e0-b53726b35b3a",
   "metadata": {},
   "outputs": [
    {
     "name": "stdout",
     "output_type": "stream",
     "text": [
      "recall by classes\n",
      "[0.0, 0.11349999904632568, 0.0, 0.0, 0.0, 0.0, 0.0, 0.0, 0.0, 0.0]\n"
     ]
    }
   ],
   "source": [
    "print('recall by classes')\n",
    "print(recall_by_class)"
   ]
  },
  {
   "cell_type": "code",
   "execution_count": 732,
   "id": "2e6ad1ea-3dff-49dd-9529-a55e6210f4dc",
   "metadata": {},
   "outputs": [
    {
     "name": "stdout",
     "output_type": "stream",
     "text": [
      "auroc by class\n",
      "[0.5, 0.5, 0.5, 0.5, 0.5, 0.5, 0.5, 0.5, 0.5, 0.5]\n"
     ]
    }
   ],
   "source": [
    "print('auroc by class')\n",
    "print(auroc_by_class)"
   ]
  },
  {
   "cell_type": "code",
   "execution_count": 733,
   "id": "41984333-bc3c-426c-b163-fe7ed985d733",
   "metadata": {},
   "outputs": [
    {
     "name": "stdout",
     "output_type": "stream",
     "text": [
      "confusion matrix\n",
      "[0, 0, 0, 0, 0, 0, 0, 0, 0, 0]\n",
      "[980, 1135, 1032, 1010, 982, 892, 958, 1028, 974, 1009]\n",
      "[0, 0, 0, 0, 0, 0, 0, 0, 0, 0]\n",
      "[0, 0, 0, 0, 0, 0, 0, 0, 0, 0]\n",
      "[0, 0, 0, 0, 0, 0, 0, 0, 0, 0]\n",
      "[0, 0, 0, 0, 0, 0, 0, 0, 0, 0]\n",
      "[0, 0, 0, 0, 0, 0, 0, 0, 0, 0]\n",
      "[0, 0, 0, 0, 0, 0, 0, 0, 0, 0]\n",
      "[0, 0, 0, 0, 0, 0, 0, 0, 0, 0]\n",
      "[0, 0, 0, 0, 0, 0, 0, 0, 0, 0]\n"
     ]
    }
   ],
   "source": [
    "print('confusion matrix')\n",
    "for i in range(num_classes):\n",
    "    print(confusion_matrix[i])"
   ]
  },
  {
   "cell_type": "code",
   "execution_count": null,
   "id": "44672bd3-96c7-4863-ab5b-08d00545d6aa",
   "metadata": {},
   "outputs": [],
   "source": []
  },
  {
   "cell_type": "code",
   "execution_count": null,
   "id": "ba9cd93f-24cb-4a00-8b2b-30aabfbef13c",
   "metadata": {},
   "outputs": [],
   "source": []
  },
  {
   "cell_type": "code",
   "execution_count": null,
   "id": "5e9eda98-c5e9-4c3a-8f65-b23e337e6bb4",
   "metadata": {},
   "outputs": [],
   "source": []
  }
 ],
 "metadata": {
  "kernelspec": {
   "display_name": "Python 3 (ipykernel)",
   "language": "python",
   "name": "python3"
  },
  "language_info": {
   "codemirror_mode": {
    "name": "ipython",
    "version": 3
   },
   "file_extension": ".py",
   "mimetype": "text/x-python",
   "name": "python",
   "nbconvert_exporter": "python",
   "pygments_lexer": "ipython3",
   "version": "3.11.7"
  }
 },
 "nbformat": 4,
 "nbformat_minor": 5
}
