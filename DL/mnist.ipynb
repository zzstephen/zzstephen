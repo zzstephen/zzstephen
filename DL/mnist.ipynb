{
 "cells": [
  {
   "cell_type": "code",
   "execution_count": 2,
   "id": "641bbd13-55aa-4309-8973-46b9b64b246a",
   "metadata": {},
   "outputs": [],
   "source": [
    "import torch\n",
    "import torch.nn as nn\n",
    "import torch.nn.functional as F\n",
    "import torch.optim as optim\n",
    "from mnist import MNIST\n",
    "from matplotlib import pyplot\n",
    "from sklearn.metrics import precision_recall_fscore_support\n",
    "import numpy as np\n",
    "from torch.utils.data import Dataset, TensorDataset, DataLoader"
   ]
  },
  {
   "cell_type": "code",
   "execution_count": 3,
   "id": "bc895b64-2c92-46ac-ab16-a55de917931b",
   "metadata": {},
   "outputs": [],
   "source": [
    "import torchvision.datasets as datasets"
   ]
  },
  {
   "cell_type": "code",
   "execution_count": 4,
   "id": "6f8238c4-f3d0-4175-bdde-deb67fd7f3f4",
   "metadata": {},
   "outputs": [],
   "source": [
    "mnist_trainset = datasets.MNIST(root='./data', train=True, download=True, transform=None)"
   ]
  },
  {
   "cell_type": "code",
   "execution_count": 5,
   "id": "b61c83b6-384e-420e-a01e-4787956cf7fb",
   "metadata": {},
   "outputs": [],
   "source": [
    "mnist_testset = datasets.MNIST(root='./data', train=False, download=True, transform=None)\n"
   ]
  },
  {
   "cell_type": "code",
   "execution_count": 6,
   "id": "4efb9c0a-20bb-40a7-8e01-33f250008a4f",
   "metadata": {},
   "outputs": [],
   "source": [
    "# !pip install python-mnist"
   ]
  },
  {
   "cell_type": "code",
   "execution_count": 8,
   "id": "14d19e21-2382-400c-9362-96984d966be0",
   "metadata": {},
   "outputs": [
    {
     "data": {
      "text/plain": [
       "60000"
      ]
     },
     "execution_count": 8,
     "metadata": {},
     "output_type": "execute_result"
    }
   ],
   "source": [
    "len(mnist_trainset)"
   ]
  },
  {
   "cell_type": "code",
   "execution_count": 9,
   "id": "a46fec6d-bb75-429c-8893-c54116d9140c",
   "metadata": {},
   "outputs": [
    {
     "data": {
      "text/plain": [
       "10000"
      ]
     },
     "execution_count": 9,
     "metadata": {},
     "output_type": "execute_result"
    }
   ],
   "source": [
    "len(mnist_testset)"
   ]
  },
  {
   "cell_type": "code",
   "execution_count": 10,
   "id": "e26acd0a-4aa8-44a2-a407-ea7451c9efb4",
   "metadata": {},
   "outputs": [
    {
     "data": {
      "text/plain": [
       "(60000, 60000)"
      ]
     },
     "execution_count": 10,
     "metadata": {},
     "output_type": "execute_result"
    }
   ],
   "source": [
    "len(mnist_trainset.data), len(mnist_trainset.targets)"
   ]
  },
  {
   "cell_type": "code",
   "execution_count": 18,
   "id": "93333ba3-42d8-4169-a95b-a158f5a850e6",
   "metadata": {},
   "outputs": [
    {
     "name": "stdout",
     "output_type": "stream",
     "text": [
      "Train: X=torch.Size([60000, 28, 28]), y=torch.Size([60000])\n",
      "Test: X=torch.Size([10000, 28, 28]), y=torch.Size([10000])\n"
     ]
    },
    {
     "data": {
      "image/png": "[encoded data removed]",
      "text/plain": [
       "<Figure size 640x480 with 9 Axes>"
      ]
     },
     "metadata": {},
     "output_type": "display_data"
    }
   ],
   "source": [
    "(trainX, trainy) = mnist_trainset.data, mnist_trainset.targets\n",
    "\n",
    "(testX, testy) = mnist_testset.data, mnist_testset.targets\n",
    "\n",
    "print('Train: X=%s, y=%s' % (trainX.shape, trainy.shape))\n",
    "print('Test: X=%s, y=%s' % (testX.shape, testy.shape))\n",
    "\n",
    "# plot first few images\n",
    "for i in range(9):\n",
    "\t# define subplot\n",
    "\tpyplot.subplot(330 + 1 + i)\n",
    "\t# plot raw pixel data\n",
    "\tpyplot.imshow(trainX[i], cmap=pyplot.get_cmap('gray'))\n",
    "\n",
    "# show the figure\n",
    "pyplot.show()"
   ]
  },
  {
   "cell_type": "code",
   "execution_count": 19,
   "id": "68e99ca0-93d4-41c6-8dc4-cface75cd6b5",
   "metadata": {},
   "outputs": [
    {
     "name": "stdout",
     "output_type": "stream",
     "text": [
      "Label 0 - train: 0.0987 - test: 0.0980\n",
      "Label 1 - train: 0.1124 - test: 0.1135\n",
      "Label 2 - train: 0.0993 - test: 0.1032\n",
      "Label 3 - train: 0.1022 - test: 0.1010\n",
      "Label 4 - train: 0.0974 - test: 0.0982\n",
      "Label 5 - train: 0.0903 - test: 0.0892\n",
      "Label 6 - train: 0.0986 - test: 0.0958\n",
      "Label 7 - train: 0.1044 - test: 0.1028\n",
      "Label 8 - train: 0.0975 - test: 0.0974\n",
      "Label 9 - train: 0.0992 - test: 0.1009\n"
     ]
    }
   ],
   "source": [
    "for i in range(10):\n",
    "  count_train = np.where(trainy == i)[0]\n",
    "  count_test = np.where(testy == i)[0]\n",
    "\n",
    "  print(\"Label %d - train: %.4f - test: %.4f\" %(i, count_train.shape[0] / float(trainy.shape[0]), count_test.shape[0] / float(testy.shape[0]) ))"
   ]
  },
  {
   "cell_type": "code",
   "execution_count": 22,
   "id": "10375145-fe06-4ee2-a9bd-5cd5c799c4f2",
   "metadata": {},
   "outputs": [
    {
     "data": {
      "text/plain": [
       "(torch.Size([60000, 28, 28]), torch.Size([60000]))"
      ]
     },
     "execution_count": 22,
     "metadata": {},
     "output_type": "execute_result"
    }
   ],
   "source": [
    "# prepare data for training\n",
    "trainX.shape, trainy.shape"
   ]
  },
  {
   "cell_type": "code",
   "execution_count": 24,
   "id": "f6f39bbb-2b7a-4f5c-b91d-654283aa3a6d",
   "metadata": {},
   "outputs": [
    {
     "data": {
      "text/plain": [
       "torch.Size([60000, 28, 28])"
      ]
     },
     "execution_count": 24,
     "metadata": {},
     "output_type": "execute_result"
    }
   ],
   "source": [
    "trainX.shape"
   ]
  },
  {
   "cell_type": "code",
   "execution_count": 26,
   "id": "cde79230-5bdc-4d42-854a-c90eb1fc4e79",
   "metadata": {},
   "outputs": [
    {
     "data": {
      "text/plain": [
       "tensor(33.3184)"
      ]
     },
     "execution_count": 26,
     "metadata": {},
     "output_type": "execute_result"
    }
   ],
   "source": [
    "torch.mean(trainX.to(torch.float))"
   ]
  },
  {
   "cell_type": "code",
   "execution_count": 30,
   "id": "8d0944a0-c801-4407-a0b6-effc48accb98",
   "metadata": {},
   "outputs": [
    {
     "data": {
      "text/plain": [
       "tensor(78.5675)"
      ]
     },
     "execution_count": 30,
     "metadata": {},
     "output_type": "execute_result"
    }
   ],
   "source": [
    "torch.std(trainX.to(torch.float))"
   ]
  },
  {
   "cell_type": "code",
   "execution_count": 38,
   "id": "88b050b3-558c-4e44-b8aa-469f184f865f",
   "metadata": {},
   "outputs": [],
   "source": [
    "train_x_norm = (trainX - torch.mean(trainX.to(torch.float))) / torch.std(trainX.to(torch.float))"
   ]
  },
  {
   "cell_type": "code",
   "execution_count": 46,
   "id": "f7ab6e7b-18ce-408b-95a8-17cf8521fcfb",
   "metadata": {},
   "outputs": [
    {
     "data": {
      "text/plain": [
       "tensor([5, 0, 4,  ..., 5, 6, 8])"
      ]
     },
     "execution_count": 46,
     "metadata": {},
     "output_type": "execute_result"
    }
   ],
   "source": [
    "trainy"
   ]
  },
  {
   "cell_type": "code",
   "execution_count": 56,
   "id": "4c2f0581-17cd-43fd-bb39-db5041508218",
   "metadata": {},
   "outputs": [],
   "source": [
    "train_ds = TensorDataset(train_x_norm, trainy)\n",
    "torch.manual_seed(1234)\n",
    "batch_size = 100\n",
    "train_dl = DataLoader(train_ds, batch_size, shuffle=True)"
   ]
  },
  {
   "cell_type": "code",
   "execution_count": 48,
   "id": "9239ac3a-55ed-4bed-af6d-32d1da7e161a",
   "metadata": {},
   "outputs": [],
   "source": [
    "class DNN(nn.Module):\n",
    "  def __init__(self, input_size, hidden_size, num_classes):\n",
    "    super(DNN, self).__init__()\n",
    "    self.fc1 = nn.Linear(input_size, hidden_size)\n",
    "    self.fc2 = nn.Linear(hidden_size, num_classes)\n",
    "\n",
    "  def forward(self, x):\n",
    "    x = self.fc1(x)\n",
    "    x = nn.Sigmoid()(x)\n",
    "    x = self.fc2(x)\n",
    "    # x = nn.Softmax(dim=1)(x)\n",
    "    return x"
   ]
  },
  {
   "cell_type": "code",
   "execution_count": 50,
   "id": "ed323ebf-ae72-42da-9bdc-58a21e899387",
   "metadata": {},
   "outputs": [],
   "source": [
    "input_size = 28*28\n",
    "hidden_size = 100\n",
    "num_classes = 10\n",
    "learning_rate = 0.001\n",
    "num_epochs = 20\n",
    "\n",
    "model = DNN(input_size, hidden_size, num_classes)\n",
    "optimizer = optim.Adam(model.parameters(), lr=learning_rate)\n",
    "loss_fn = nn.CrossEntropyLoss()\n"
   ]
  },
  {
   "cell_type": "code",
   "execution_count": 52,
   "id": "90b69016-a27b-487a-9850-855cfed16fe1",
   "metadata": {},
   "outputs": [],
   "source": [
    "loss_hist = [0] * num_epochs\n",
    "accuracy_hist = [0] * num_epochs"
   ]
  },
  {
   "cell_type": "code",
   "execution_count": null,
   "id": "aee13dd0-bf4f-4053-a70f-d0c9b9b7510d",
   "metadata": {},
   "outputs": [],
   "source": [
    "for epoch in range(num_epochs):\n",
    "    for x_batch, y_batch in train_dl.dataset:\n",
    "        pred = model(torch.flatten(x_batch))\n",
    "        loss = loss_fn(pred, y_batch)\n",
    "        loss.backward()\n",
    "        optimizer.step()\n",
    "        optimizer.zero_grad()\n",
    "        loss_hist[epoch] += loss.item()*y_batch.item()\n",
    "        is_correct = (torch.argmax(pred) == y_batch).float()\n",
    "    accuracy_hist[epoch] /= len(train_dl.dataset)\n",
    "    loss_hist[epoch] /= len(train_dl.dataset)"
   ]
  },
  {
   "cell_type": "code",
   "execution_count": null,
   "id": "a234b94c-cb1f-404a-a03e-ee35452000a2",
   "metadata": {},
   "outputs": [],
   "source": []
  },
  {
   "cell_type": "code",
   "execution_count": null,
   "id": "a4f98e24-dc7a-4bbb-b357-080ad83508d7",
   "metadata": {},
   "outputs": [],
   "source": []
  },
  {
   "cell_type": "code",
   "execution_count": null,
   "id": "dd7458bc-cc35-443a-9b9d-c87981418bbe",
   "metadata": {},
   "outputs": [],
   "source": []
  },
  {
   "cell_type": "code",
   "execution_count": null,
   "id": "3a982bfc-b57e-4a87-af1c-8c2585d7c840",
   "metadata": {},
   "outputs": [],
   "source": []
  },
  {
   "cell_type": "code",
   "execution_count": null,
   "id": "72238f4f-62ac-4eb6-a637-d9bdd2382401",
   "metadata": {},
   "outputs": [],
   "source": []
  },
  {
   "cell_type": "code",
   "execution_count": null,
   "id": "42798052-175a-49ab-9451-ee134275293f",
   "metadata": {},
   "outputs": [],
   "source": []
  },
  {
   "cell_type": "code",
   "execution_count": null,
   "id": "70cfbe21-1e65-471c-86e7-483adb4af367",
   "metadata": {},
   "outputs": [],
   "source": []
  },
  {
   "cell_type": "code",
   "execution_count": null,
   "id": "449e1df0-4df6-4f38-a8b2-56a4bb015411",
   "metadata": {},
   "outputs": [],
   "source": []
  },
  {
   "cell_type": "code",
   "execution_count": null,
   "id": "44672bd3-96c7-4863-ab5b-08d00545d6aa",
   "metadata": {},
   "outputs": [],
   "source": []
  }
 ],
 "metadata": {
  "kernelspec": {
   "display_name": "Python 3 (ipykernel)",
   "language": "python",
   "name": "python3"
  },
  "language_info": {
   "codemirror_mode": {
    "name": "ipython",
    "version": 3
   },
   "file_extension": ".py",
   "mimetype": "text/x-python",
   "name": "python",
   "nbconvert_exporter": "python",
   "pygments_lexer": "ipython3",
   "version": "3.11.7"
  }
 },
 "nbformat": 4,
 "nbformat_minor": 5
}
