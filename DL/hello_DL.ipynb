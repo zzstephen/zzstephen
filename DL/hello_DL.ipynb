{
 "cells": [
  {
   "cell_type": "code",
   "execution_count": 183,
   "id": "fa70b9fa-18ac-427c-ae74-865605d10db2",
   "metadata": {},
   "outputs": [],
   "source": [
    "from fastai.data.all import *\n",
    "from fastai.vision.all import *\n",
    "# from fastbook. import *"
   ]
  },
  {
   "cell_type": "code",
   "execution_count": 2,
   "id": "addde260-e1ab-4599-9222-d7b374d2e095",
   "metadata": {},
   "outputs": [],
   "source": [
    "import torch\n",
    "import torchvision.models as models\n",
    "from torch.profiler import profile, record_function, ProfilerActivity"
   ]
  },
  {
   "cell_type": "code",
   "execution_count": 3,
   "id": "6d6239da-9bad-4dc4-8ba2-9cb2225cab8b",
   "metadata": {},
   "outputs": [],
   "source": [
    "import numpy as np"
   ]
  },
  {
   "cell_type": "code",
   "execution_count": 4,
   "id": "b28f6b70-ea16-43c6-b082-8de6e5ef2303",
   "metadata": {},
   "outputs": [],
   "source": [
    "device = torch.device(\"cuda:0\" if torch.cuda.is_available() else \"cpu\")"
   ]
  },
  {
   "cell_type": "code",
   "execution_count": 5,
   "id": "f53e9713-076b-4275-9e4e-e2d321883f9c",
   "metadata": {},
   "outputs": [
    {
     "data": {
      "text/plain": [
       "device(type='cpu')"
      ]
     },
     "execution_count": 5,
     "metadata": {},
     "output_type": "execute_result"
    }
   ],
   "source": [
    "device"
   ]
  },
  {
   "cell_type": "code",
   "execution_count": 6,
   "id": "2a7c0848-372c-4c42-818c-6048ca1ad477",
   "metadata": {},
   "outputs": [],
   "source": [
    "path = untar_data(URLs.MNIST_SAMPLE)"
   ]
  },
  {
   "cell_type": "code",
   "execution_count": 7,
   "id": "0b2908fc-bbc9-4cbc-b3ef-37b8e6ec0102",
   "metadata": {},
   "outputs": [
    {
     "data": {
      "text/plain": [
       "(#3) [Path('/Users/stephenzhou/.fastai/data/mnist_sample/valid'),Path('/Users/stephenzhou/.fastai/data/mnist_sample/labels.csv'),Path('/Users/stephenzhou/.fastai/data/mnist_sample/train')]"
      ]
     },
     "execution_count": 7,
     "metadata": {},
     "output_type": "execute_result"
    }
   ],
   "source": [
    "path.ls()"
   ]
  },
  {
   "cell_type": "code",
   "execution_count": 8,
   "id": "d02ec5a4-17e5-42ca-8d00-ffeeca8b3bb6",
   "metadata": {},
   "outputs": [
    {
     "data": {
      "text/plain": [
       "(#2) [Path('/Users/stephenzhou/.fastai/data/mnist_sample/train/7'),Path('/Users/stephenzhou/.fastai/data/mnist_sample/train/3')]"
      ]
     },
     "execution_count": 8,
     "metadata": {},
     "output_type": "execute_result"
    }
   ],
   "source": [
    "(path/'train').ls()"
   ]
  },
  {
   "cell_type": "code",
   "execution_count": 9,
   "id": "a10626c7-5d65-4e6a-858f-2a10d80ee13c",
   "metadata": {},
   "outputs": [],
   "source": [
    "threes = sorted((path/'train/3').ls())"
   ]
  },
  {
   "cell_type": "code",
   "execution_count": 10,
   "id": "3f78df86-f581-4911-ac77-2b6132290493",
   "metadata": {},
   "outputs": [],
   "source": [
    "sevens = (path/'train/7').ls().sorted()"
   ]
  },
  {
   "cell_type": "code",
   "execution_count": 11,
   "id": "ce9b5766-b6ba-4862-816b-a1e15ed9f5d9",
   "metadata": {},
   "outputs": [],
   "source": [
    "im3_path = threes[1]"
   ]
  },
  {
   "cell_type": "code",
   "execution_count": 12,
   "id": "d9ffa44a-4ed9-4749-97c9-922845b6e447",
   "metadata": {},
   "outputs": [],
   "source": [
    "im3 = Image.open(im3_path)"
   ]
  },
  {
   "cell_type": "code",
   "execution_count": 13,
   "id": "71b41bda-ef3e-4f71-ba78-2450cfcc92fc",
   "metadata": {},
   "outputs": [
    {
     "data": {
      "image/jpeg": "[encoded data removed]",
      "image/png": "[encoded data removed]",
      "text/plain": [
       "<PIL.PngImagePlugin.PngImageFile image mode=L size=28x28>"
      ]
     },
     "execution_count": 13,
     "metadata": {},
     "output_type": "execute_result"
    }
   ],
   "source": [
    "im3"
   ]
  },
  {
   "cell_type": "code",
   "execution_count": 14,
   "id": "61b1ce2d-4afb-4595-b0c2-ba27360855ee",
   "metadata": {},
   "outputs": [
    {
     "data": {
      "text/plain": [
       "(28, 28)"
      ]
     },
     "execution_count": 14,
     "metadata": {},
     "output_type": "execute_result"
    }
   ],
   "source": [
    "array(im3).shape"
   ]
  },
  {
   "cell_type": "code",
   "execution_count": 15,
   "id": "93199251-3823-46c3-baeb-008dc5d97679",
   "metadata": {},
   "outputs": [],
   "source": [
    "im3_t = tensor(im3)"
   ]
  },
  {
   "cell_type": "code",
   "execution_count": 16,
   "id": "cdef33aa-a844-4bc8-9309-21b54e6ee658",
   "metadata": {},
   "outputs": [],
   "source": [
    "df = pd.DataFrame(im3_t[4:15, 4:22])"
   ]
  },
  {
   "cell_type": "code",
   "execution_count": 17,
   "id": "dc645410-bc7e-4a8a-aef8-0c31eacdf448",
   "metadata": {},
   "outputs": [
    {
     "data": {
      "text/html": [
       "<style type=\"text/css\">\n",
       "#T_11a7a_row0_col0, #T_11a7a_row0_col1, #T_11a7a_row0_col2, #T_11a7a_row0_col3, #T_11a7a_row0_col4, #T_11a7a_row0_col5, #T_11a7a_row0_col6, #T_11a7a_row0_col7, #T_11a7a_row0_col8, #T_11a7a_row0_col9, #T_11a7a_row0_col10, #T_11a7a_row0_col11, #T_11a7a_row0_col12, #T_11a7a_row0_col13, #T_11a7a_row0_col14, #T_11a7a_row0_col15, #T_11a7a_row0_col16, #T_11a7a_row0_col17, #T_11a7a_row1_col0, #T_11a7a_row1_col1, #T_11a7a_row1_col2, #T_11a7a_row1_col3, #T_11a7a_row1_col4, #T_11a7a_row1_col15, #T_11a7a_row1_col16, #T_11a7a_row1_col17, #T_11a7a_row2_col0, #T_11a7a_row2_col1, #T_11a7a_row2_col2, #T_11a7a_row2_col15, #T_11a7a_row2_col16, #T_11a7a_row2_col17, #T_11a7a_row3_col0, #T_11a7a_row3_col15, #T_11a7a_row3_col16, #T_11a7a_row3_col17, #T_11a7a_row4_col0, #T_11a7a_row4_col6, #T_11a7a_row4_col7, #T_11a7a_row4_col8, #T_11a7a_row4_col9, #T_11a7a_row4_col10, #T_11a7a_row4_col15, #T_11a7a_row4_col16, #T_11a7a_row4_col17, #T_11a7a_row5_col0, #T_11a7a_row5_col5, #T_11a7a_row5_col6, #T_11a7a_row5_col7, #T_11a7a_row5_col8, #T_11a7a_row5_col9, #T_11a7a_row5_col15, #T_11a7a_row5_col16, #T_11a7a_row5_col17, #T_11a7a_row6_col0, #T_11a7a_row6_col1, #T_11a7a_row6_col2, #T_11a7a_row6_col3, #T_11a7a_row6_col4, #T_11a7a_row6_col5, #T_11a7a_row6_col6, #T_11a7a_row6_col7, #T_11a7a_row6_col8, #T_11a7a_row6_col9, #T_11a7a_row6_col14, #T_11a7a_row6_col15, #T_11a7a_row6_col16, #T_11a7a_row6_col17, #T_11a7a_row7_col0, #T_11a7a_row7_col1, #T_11a7a_row7_col2, #T_11a7a_row7_col3, #T_11a7a_row7_col4, #T_11a7a_row7_col5, #T_11a7a_row7_col6, #T_11a7a_row7_col13, #T_11a7a_row7_col14, #T_11a7a_row7_col15, #T_11a7a_row7_col16, #T_11a7a_row7_col17, #T_11a7a_row8_col0, #T_11a7a_row8_col1, #T_11a7a_row8_col2, #T_11a7a_row8_col3, #T_11a7a_row8_col4, #T_11a7a_row8_col13, #T_11a7a_row8_col14, #T_11a7a_row8_col15, #T_11a7a_row8_col16, #T_11a7a_row8_col17, #T_11a7a_row9_col0, #T_11a7a_row9_col1, #T_11a7a_row9_col2, #T_11a7a_row9_col3, #T_11a7a_row9_col4, #T_11a7a_row9_col16, #T_11a7a_row9_col17, #T_11a7a_row10_col0, #T_11a7a_row10_col1, #T_11a7a_row10_col2, #T_11a7a_row10_col3, #T_11a7a_row10_col4, #T_11a7a_row10_col5, #T_11a7a_row10_col6, #T_11a7a_row10_col17 {\n",
       "  font-size: 6pt;\n",
       "  background-color: #ffffff;\n",
       "  color: #000000;\n",
       "}\n",
       "#T_11a7a_row1_col5 {\n",
       "  font-size: 6pt;\n",
       "  background-color: #efefef;\n",
       "  color: #000000;\n",
       "}\n",
       "#T_11a7a_row1_col6, #T_11a7a_row1_col13 {\n",
       "  font-size: 6pt;\n",
       "  background-color: #7c7c7c;\n",
       "  color: #f1f1f1;\n",
       "}\n",
       "#T_11a7a_row1_col7 {\n",
       "  font-size: 6pt;\n",
       "  background-color: #4a4a4a;\n",
       "  color: #f1f1f1;\n",
       "}\n",
       "#T_11a7a_row1_col8, #T_11a7a_row1_col9, #T_11a7a_row1_col10, #T_11a7a_row2_col5, #T_11a7a_row2_col6, #T_11a7a_row2_col7, #T_11a7a_row2_col11, #T_11a7a_row2_col12, #T_11a7a_row2_col13, #T_11a7a_row3_col4, #T_11a7a_row3_col12, #T_11a7a_row3_col13, #T_11a7a_row4_col1, #T_11a7a_row4_col2, #T_11a7a_row4_col3, #T_11a7a_row4_col12, #T_11a7a_row4_col13, #T_11a7a_row5_col12, #T_11a7a_row6_col11, #T_11a7a_row9_col11, #T_11a7a_row10_col11, #T_11a7a_row10_col12, #T_11a7a_row10_col13, #T_11a7a_row10_col14, #T_11a7a_row10_col15, #T_11a7a_row10_col16 {\n",
       "  font-size: 6pt;\n",
       "  background-color: #000000;\n",
       "  color: #f1f1f1;\n",
       "}\n",
       "#T_11a7a_row1_col11 {\n",
       "  font-size: 6pt;\n",
       "  background-color: #606060;\n",
       "  color: #f1f1f1;\n",
       "}\n",
       "#T_11a7a_row1_col12 {\n",
       "  font-size: 6pt;\n",
       "  background-color: #4d4d4d;\n",
       "  color: #f1f1f1;\n",
       "}\n",
       "#T_11a7a_row1_col14 {\n",
       "  font-size: 6pt;\n",
       "  background-color: #bbbbbb;\n",
       "  color: #000000;\n",
       "}\n",
       "#T_11a7a_row2_col3 {\n",
       "  font-size: 6pt;\n",
       "  background-color: #e4e4e4;\n",
       "  color: #000000;\n",
       "}\n",
       "#T_11a7a_row2_col4, #T_11a7a_row8_col6 {\n",
       "  font-size: 6pt;\n",
       "  background-color: #6b6b6b;\n",
       "  color: #f1f1f1;\n",
       "}\n",
       "#T_11a7a_row2_col8, #T_11a7a_row2_col14, #T_11a7a_row3_col14 {\n",
       "  font-size: 6pt;\n",
       "  background-color: #171717;\n",
       "  color: #f1f1f1;\n",
       "}\n",
       "#T_11a7a_row2_col9, #T_11a7a_row3_col11 {\n",
       "  font-size: 6pt;\n",
       "  background-color: #4b4b4b;\n",
       "  color: #f1f1f1;\n",
       "}\n",
       "#T_11a7a_row2_col10, #T_11a7a_row7_col10, #T_11a7a_row8_col8, #T_11a7a_row8_col10, #T_11a7a_row9_col8, #T_11a7a_row9_col10 {\n",
       "  font-size: 6pt;\n",
       "  background-color: #010101;\n",
       "  color: #f1f1f1;\n",
       "}\n",
       "#T_11a7a_row3_col1 {\n",
       "  font-size: 6pt;\n",
       "  background-color: #272727;\n",
       "  color: #f1f1f1;\n",
       "}\n",
       "#T_11a7a_row3_col2 {\n",
       "  font-size: 6pt;\n",
       "  background-color: #0a0a0a;\n",
       "  color: #f1f1f1;\n",
       "}\n",
       "#T_11a7a_row3_col3 {\n",
       "  font-size: 6pt;\n",
       "  background-color: #050505;\n",
       "  color: #f1f1f1;\n",
       "}\n",
       "#T_11a7a_row3_col5 {\n",
       "  font-size: 6pt;\n",
       "  background-color: #333333;\n",
       "  color: #f1f1f1;\n",
       "}\n",
       "#T_11a7a_row3_col6 {\n",
       "  font-size: 6pt;\n",
       "  background-color: #e6e6e6;\n",
       "  color: #000000;\n",
       "}\n",
       "#T_11a7a_row3_col7, #T_11a7a_row3_col10 {\n",
       "  font-size: 6pt;\n",
       "  background-color: #fafafa;\n",
       "  color: #000000;\n",
       "}\n",
       "#T_11a7a_row3_col8 {\n",
       "  font-size: 6pt;\n",
       "  background-color: #fbfbfb;\n",
       "  color: #000000;\n",
       "}\n",
       "#T_11a7a_row3_col9 {\n",
       "  font-size: 6pt;\n",
       "  background-color: #fdfdfd;\n",
       "  color: #000000;\n",
       "}\n",
       "#T_11a7a_row4_col4 {\n",
       "  font-size: 6pt;\n",
       "  background-color: #1b1b1b;\n",
       "  color: #f1f1f1;\n",
       "}\n",
       "#T_11a7a_row4_col5 {\n",
       "  font-size: 6pt;\n",
       "  background-color: #e0e0e0;\n",
       "  color: #000000;\n",
       "}\n",
       "#T_11a7a_row4_col11 {\n",
       "  font-size: 6pt;\n",
       "  background-color: #4e4e4e;\n",
       "  color: #f1f1f1;\n",
       "}\n",
       "#T_11a7a_row4_col14 {\n",
       "  font-size: 6pt;\n",
       "  background-color: #767676;\n",
       "  color: #f1f1f1;\n",
       "}\n",
       "#T_11a7a_row5_col1 {\n",
       "  font-size: 6pt;\n",
       "  background-color: #fcfcfc;\n",
       "  color: #000000;\n",
       "}\n",
       "#T_11a7a_row5_col2, #T_11a7a_row5_col3 {\n",
       "  font-size: 6pt;\n",
       "  background-color: #f6f6f6;\n",
       "  color: #000000;\n",
       "}\n",
       "#T_11a7a_row5_col4, #T_11a7a_row7_col7 {\n",
       "  font-size: 6pt;\n",
       "  background-color: #f8f8f8;\n",
       "  color: #000000;\n",
       "}\n",
       "#T_11a7a_row5_col10, #T_11a7a_row10_col7 {\n",
       "  font-size: 6pt;\n",
       "  background-color: #e8e8e8;\n",
       "  color: #000000;\n",
       "}\n",
       "#T_11a7a_row5_col11 {\n",
       "  font-size: 6pt;\n",
       "  background-color: #222222;\n",
       "  color: #f1f1f1;\n",
       "}\n",
       "#T_11a7a_row5_col13, #T_11a7a_row6_col12 {\n",
       "  font-size: 6pt;\n",
       "  background-color: #090909;\n",
       "  color: #f1f1f1;\n",
       "}\n",
       "#T_11a7a_row5_col14 {\n",
       "  font-size: 6pt;\n",
       "  background-color: #d0d0d0;\n",
       "  color: #000000;\n",
       "}\n",
       "#T_11a7a_row6_col10, #T_11a7a_row7_col11, #T_11a7a_row9_col6 {\n",
       "  font-size: 6pt;\n",
       "  background-color: #060606;\n",
       "  color: #f1f1f1;\n",
       "}\n",
       "#T_11a7a_row6_col13 {\n",
       "  font-size: 6pt;\n",
       "  background-color: #979797;\n",
       "  color: #f1f1f1;\n",
       "}\n",
       "#T_11a7a_row7_col8 {\n",
       "  font-size: 6pt;\n",
       "  background-color: #b6b6b6;\n",
       "  color: #000000;\n",
       "}\n",
       "#T_11a7a_row7_col9 {\n",
       "  font-size: 6pt;\n",
       "  background-color: #252525;\n",
       "  color: #f1f1f1;\n",
       "}\n",
       "#T_11a7a_row7_col12 {\n",
       "  font-size: 6pt;\n",
       "  background-color: #999999;\n",
       "  color: #f1f1f1;\n",
       "}\n",
       "#T_11a7a_row8_col5 {\n",
       "  font-size: 6pt;\n",
       "  background-color: #f9f9f9;\n",
       "  color: #000000;\n",
       "}\n",
       "#T_11a7a_row8_col7 {\n",
       "  font-size: 6pt;\n",
       "  background-color: #101010;\n",
       "  color: #f1f1f1;\n",
       "}\n",
       "#T_11a7a_row8_col9, #T_11a7a_row9_col9 {\n",
       "  font-size: 6pt;\n",
       "  background-color: #020202;\n",
       "  color: #f1f1f1;\n",
       "}\n",
       "#T_11a7a_row8_col11 {\n",
       "  font-size: 6pt;\n",
       "  background-color: #545454;\n",
       "  color: #f1f1f1;\n",
       "}\n",
       "#T_11a7a_row8_col12 {\n",
       "  font-size: 6pt;\n",
       "  background-color: #f1f1f1;\n",
       "  color: #000000;\n",
       "}\n",
       "#T_11a7a_row9_col5 {\n",
       "  font-size: 6pt;\n",
       "  background-color: #f7f7f7;\n",
       "  color: #000000;\n",
       "}\n",
       "#T_11a7a_row9_col7 {\n",
       "  font-size: 6pt;\n",
       "  background-color: #030303;\n",
       "  color: #f1f1f1;\n",
       "}\n",
       "#T_11a7a_row9_col12 {\n",
       "  font-size: 6pt;\n",
       "  background-color: #181818;\n",
       "  color: #f1f1f1;\n",
       "}\n",
       "#T_11a7a_row9_col13 {\n",
       "  font-size: 6pt;\n",
       "  background-color: #303030;\n",
       "  color: #f1f1f1;\n",
       "}\n",
       "#T_11a7a_row9_col14 {\n",
       "  font-size: 6pt;\n",
       "  background-color: #a9a9a9;\n",
       "  color: #f1f1f1;\n",
       "}\n",
       "#T_11a7a_row9_col15 {\n",
       "  font-size: 6pt;\n",
       "  background-color: #fefefe;\n",
       "  color: #000000;\n",
       "}\n",
       "#T_11a7a_row10_col8, #T_11a7a_row10_col9 {\n",
       "  font-size: 6pt;\n",
       "  background-color: #bababa;\n",
       "  color: #000000;\n",
       "}\n",
       "#T_11a7a_row10_col10 {\n",
       "  font-size: 6pt;\n",
       "  background-color: #393939;\n",
       "  color: #f1f1f1;\n",
       "}\n",
       "</style>\n",
       "<table id=\"T_11a7a\">\n",
       "  <thead>\n",
       "    <tr>\n",
       "      <th class=\"blank level0\" >&nbsp;</th>\n",
       "      <th id=\"T_11a7a_level0_col0\" class=\"col_heading level0 col0\" >0</th>\n",
       "      <th id=\"T_11a7a_level0_col1\" class=\"col_heading level0 col1\" >1</th>\n",
       "      <th id=\"T_11a7a_level0_col2\" class=\"col_heading level0 col2\" >2</th>\n",
       "      <th id=\"T_11a7a_level0_col3\" class=\"col_heading level0 col3\" >3</th>\n",
       "      <th id=\"T_11a7a_level0_col4\" class=\"col_heading level0 col4\" >4</th>\n",
       "      <th id=\"T_11a7a_level0_col5\" class=\"col_heading level0 col5\" >5</th>\n",
       "      <th id=\"T_11a7a_level0_col6\" class=\"col_heading level0 col6\" >6</th>\n",
       "      <th id=\"T_11a7a_level0_col7\" class=\"col_heading level0 col7\" >7</th>\n",
       "      <th id=\"T_11a7a_level0_col8\" class=\"col_heading level0 col8\" >8</th>\n",
       "      <th id=\"T_11a7a_level0_col9\" class=\"col_heading level0 col9\" >9</th>\n",
       "      <th id=\"T_11a7a_level0_col10\" class=\"col_heading level0 col10\" >10</th>\n",
       "      <th id=\"T_11a7a_level0_col11\" class=\"col_heading level0 col11\" >11</th>\n",
       "      <th id=\"T_11a7a_level0_col12\" class=\"col_heading level0 col12\" >12</th>\n",
       "      <th id=\"T_11a7a_level0_col13\" class=\"col_heading level0 col13\" >13</th>\n",
       "      <th id=\"T_11a7a_level0_col14\" class=\"col_heading level0 col14\" >14</th>\n",
       "      <th id=\"T_11a7a_level0_col15\" class=\"col_heading level0 col15\" >15</th>\n",
       "      <th id=\"T_11a7a_level0_col16\" class=\"col_heading level0 col16\" >16</th>\n",
       "      <th id=\"T_11a7a_level0_col17\" class=\"col_heading level0 col17\" >17</th>\n",
       "    </tr>\n",
       "  </thead>\n",
       "  <tbody>\n",
       "    <tr>\n",
       "      <th id=\"T_11a7a_level0_row0\" class=\"row_heading level0 row0\" >0</th>\n",
       "      <td id=\"T_11a7a_row0_col0\" class=\"data row0 col0\" >0</td>\n",
       "      <td id=\"T_11a7a_row0_col1\" class=\"data row0 col1\" >0</td>\n",
       "      <td id=\"T_11a7a_row0_col2\" class=\"data row0 col2\" >0</td>\n",
       "      <td id=\"T_11a7a_row0_col3\" class=\"data row0 col3\" >0</td>\n",
       "      <td id=\"T_11a7a_row0_col4\" class=\"data row0 col4\" >0</td>\n",
       "      <td id=\"T_11a7a_row0_col5\" class=\"data row0 col5\" >0</td>\n",
       "      <td id=\"T_11a7a_row0_col6\" class=\"data row0 col6\" >0</td>\n",
       "      <td id=\"T_11a7a_row0_col7\" class=\"data row0 col7\" >0</td>\n",
       "      <td id=\"T_11a7a_row0_col8\" class=\"data row0 col8\" >0</td>\n",
       "      <td id=\"T_11a7a_row0_col9\" class=\"data row0 col9\" >0</td>\n",
       "      <td id=\"T_11a7a_row0_col10\" class=\"data row0 col10\" >0</td>\n",
       "      <td id=\"T_11a7a_row0_col11\" class=\"data row0 col11\" >0</td>\n",
       "      <td id=\"T_11a7a_row0_col12\" class=\"data row0 col12\" >0</td>\n",
       "      <td id=\"T_11a7a_row0_col13\" class=\"data row0 col13\" >0</td>\n",
       "      <td id=\"T_11a7a_row0_col14\" class=\"data row0 col14\" >0</td>\n",
       "      <td id=\"T_11a7a_row0_col15\" class=\"data row0 col15\" >0</td>\n",
       "      <td id=\"T_11a7a_row0_col16\" class=\"data row0 col16\" >0</td>\n",
       "      <td id=\"T_11a7a_row0_col17\" class=\"data row0 col17\" >0</td>\n",
       "    </tr>\n",
       "    <tr>\n",
       "      <th id=\"T_11a7a_level0_row1\" class=\"row_heading level0 row1\" >1</th>\n",
       "      <td id=\"T_11a7a_row1_col0\" class=\"data row1 col0\" >0</td>\n",
       "      <td id=\"T_11a7a_row1_col1\" class=\"data row1 col1\" >0</td>\n",
       "      <td id=\"T_11a7a_row1_col2\" class=\"data row1 col2\" >0</td>\n",
       "      <td id=\"T_11a7a_row1_col3\" class=\"data row1 col3\" >0</td>\n",
       "      <td id=\"T_11a7a_row1_col4\" class=\"data row1 col4\" >0</td>\n",
       "      <td id=\"T_11a7a_row1_col5\" class=\"data row1 col5\" >29</td>\n",
       "      <td id=\"T_11a7a_row1_col6\" class=\"data row1 col6\" >150</td>\n",
       "      <td id=\"T_11a7a_row1_col7\" class=\"data row1 col7\" >195</td>\n",
       "      <td id=\"T_11a7a_row1_col8\" class=\"data row1 col8\" >254</td>\n",
       "      <td id=\"T_11a7a_row1_col9\" class=\"data row1 col9\" >255</td>\n",
       "      <td id=\"T_11a7a_row1_col10\" class=\"data row1 col10\" >254</td>\n",
       "      <td id=\"T_11a7a_row1_col11\" class=\"data row1 col11\" >176</td>\n",
       "      <td id=\"T_11a7a_row1_col12\" class=\"data row1 col12\" >193</td>\n",
       "      <td id=\"T_11a7a_row1_col13\" class=\"data row1 col13\" >150</td>\n",
       "      <td id=\"T_11a7a_row1_col14\" class=\"data row1 col14\" >96</td>\n",
       "      <td id=\"T_11a7a_row1_col15\" class=\"data row1 col15\" >0</td>\n",
       "      <td id=\"T_11a7a_row1_col16\" class=\"data row1 col16\" >0</td>\n",
       "      <td id=\"T_11a7a_row1_col17\" class=\"data row1 col17\" >0</td>\n",
       "    </tr>\n",
       "    <tr>\n",
       "      <th id=\"T_11a7a_level0_row2\" class=\"row_heading level0 row2\" >2</th>\n",
       "      <td id=\"T_11a7a_row2_col0\" class=\"data row2 col0\" >0</td>\n",
       "      <td id=\"T_11a7a_row2_col1\" class=\"data row2 col1\" >0</td>\n",
       "      <td id=\"T_11a7a_row2_col2\" class=\"data row2 col2\" >0</td>\n",
       "      <td id=\"T_11a7a_row2_col3\" class=\"data row2 col3\" >48</td>\n",
       "      <td id=\"T_11a7a_row2_col4\" class=\"data row2 col4\" >166</td>\n",
       "      <td id=\"T_11a7a_row2_col5\" class=\"data row2 col5\" >224</td>\n",
       "      <td id=\"T_11a7a_row2_col6\" class=\"data row2 col6\" >253</td>\n",
       "      <td id=\"T_11a7a_row2_col7\" class=\"data row2 col7\" >253</td>\n",
       "      <td id=\"T_11a7a_row2_col8\" class=\"data row2 col8\" >234</td>\n",
       "      <td id=\"T_11a7a_row2_col9\" class=\"data row2 col9\" >196</td>\n",
       "      <td id=\"T_11a7a_row2_col10\" class=\"data row2 col10\" >253</td>\n",
       "      <td id=\"T_11a7a_row2_col11\" class=\"data row2 col11\" >253</td>\n",
       "      <td id=\"T_11a7a_row2_col12\" class=\"data row2 col12\" >253</td>\n",
       "      <td id=\"T_11a7a_row2_col13\" class=\"data row2 col13\" >253</td>\n",
       "      <td id=\"T_11a7a_row2_col14\" class=\"data row2 col14\" >233</td>\n",
       "      <td id=\"T_11a7a_row2_col15\" class=\"data row2 col15\" >0</td>\n",
       "      <td id=\"T_11a7a_row2_col16\" class=\"data row2 col16\" >0</td>\n",
       "      <td id=\"T_11a7a_row2_col17\" class=\"data row2 col17\" >0</td>\n",
       "    </tr>\n",
       "    <tr>\n",
       "      <th id=\"T_11a7a_level0_row3\" class=\"row_heading level0 row3\" >3</th>\n",
       "      <td id=\"T_11a7a_row3_col0\" class=\"data row3 col0\" >0</td>\n",
       "      <td id=\"T_11a7a_row3_col1\" class=\"data row3 col1\" >93</td>\n",
       "      <td id=\"T_11a7a_row3_col2\" class=\"data row3 col2\" >244</td>\n",
       "      <td id=\"T_11a7a_row3_col3\" class=\"data row3 col3\" >249</td>\n",
       "      <td id=\"T_11a7a_row3_col4\" class=\"data row3 col4\" >253</td>\n",
       "      <td id=\"T_11a7a_row3_col5\" class=\"data row3 col5\" >187</td>\n",
       "      <td id=\"T_11a7a_row3_col6\" class=\"data row3 col6\" >46</td>\n",
       "      <td id=\"T_11a7a_row3_col7\" class=\"data row3 col7\" >10</td>\n",
       "      <td id=\"T_11a7a_row3_col8\" class=\"data row3 col8\" >8</td>\n",
       "      <td id=\"T_11a7a_row3_col9\" class=\"data row3 col9\" >4</td>\n",
       "      <td id=\"T_11a7a_row3_col10\" class=\"data row3 col10\" >10</td>\n",
       "      <td id=\"T_11a7a_row3_col11\" class=\"data row3 col11\" >194</td>\n",
       "      <td id=\"T_11a7a_row3_col12\" class=\"data row3 col12\" >253</td>\n",
       "      <td id=\"T_11a7a_row3_col13\" class=\"data row3 col13\" >253</td>\n",
       "      <td id=\"T_11a7a_row3_col14\" class=\"data row3 col14\" >233</td>\n",
       "      <td id=\"T_11a7a_row3_col15\" class=\"data row3 col15\" >0</td>\n",
       "      <td id=\"T_11a7a_row3_col16\" class=\"data row3 col16\" >0</td>\n",
       "      <td id=\"T_11a7a_row3_col17\" class=\"data row3 col17\" >0</td>\n",
       "    </tr>\n",
       "    <tr>\n",
       "      <th id=\"T_11a7a_level0_row4\" class=\"row_heading level0 row4\" >4</th>\n",
       "      <td id=\"T_11a7a_row4_col0\" class=\"data row4 col0\" >0</td>\n",
       "      <td id=\"T_11a7a_row4_col1\" class=\"data row4 col1\" >107</td>\n",
       "      <td id=\"T_11a7a_row4_col2\" class=\"data row4 col2\" >253</td>\n",
       "      <td id=\"T_11a7a_row4_col3\" class=\"data row4 col3\" >253</td>\n",
       "      <td id=\"T_11a7a_row4_col4\" class=\"data row4 col4\" >230</td>\n",
       "      <td id=\"T_11a7a_row4_col5\" class=\"data row4 col5\" >48</td>\n",
       "      <td id=\"T_11a7a_row4_col6\" class=\"data row4 col6\" >0</td>\n",
       "      <td id=\"T_11a7a_row4_col7\" class=\"data row4 col7\" >0</td>\n",
       "      <td id=\"T_11a7a_row4_col8\" class=\"data row4 col8\" >0</td>\n",
       "      <td id=\"T_11a7a_row4_col9\" class=\"data row4 col9\" >0</td>\n",
       "      <td id=\"T_11a7a_row4_col10\" class=\"data row4 col10\" >0</td>\n",
       "      <td id=\"T_11a7a_row4_col11\" class=\"data row4 col11\" >192</td>\n",
       "      <td id=\"T_11a7a_row4_col12\" class=\"data row4 col12\" >253</td>\n",
       "      <td id=\"T_11a7a_row4_col13\" class=\"data row4 col13\" >253</td>\n",
       "      <td id=\"T_11a7a_row4_col14\" class=\"data row4 col14\" >156</td>\n",
       "      <td id=\"T_11a7a_row4_col15\" class=\"data row4 col15\" >0</td>\n",
       "      <td id=\"T_11a7a_row4_col16\" class=\"data row4 col16\" >0</td>\n",
       "      <td id=\"T_11a7a_row4_col17\" class=\"data row4 col17\" >0</td>\n",
       "    </tr>\n",
       "    <tr>\n",
       "      <th id=\"T_11a7a_level0_row5\" class=\"row_heading level0 row5\" >5</th>\n",
       "      <td id=\"T_11a7a_row5_col0\" class=\"data row5 col0\" >0</td>\n",
       "      <td id=\"T_11a7a_row5_col1\" class=\"data row5 col1\" >3</td>\n",
       "      <td id=\"T_11a7a_row5_col2\" class=\"data row5 col2\" >20</td>\n",
       "      <td id=\"T_11a7a_row5_col3\" class=\"data row5 col3\" >20</td>\n",
       "      <td id=\"T_11a7a_row5_col4\" class=\"data row5 col4\" >15</td>\n",
       "      <td id=\"T_11a7a_row5_col5\" class=\"data row5 col5\" >0</td>\n",
       "      <td id=\"T_11a7a_row5_col6\" class=\"data row5 col6\" >0</td>\n",
       "      <td id=\"T_11a7a_row5_col7\" class=\"data row5 col7\" >0</td>\n",
       "      <td id=\"T_11a7a_row5_col8\" class=\"data row5 col8\" >0</td>\n",
       "      <td id=\"T_11a7a_row5_col9\" class=\"data row5 col9\" >0</td>\n",
       "      <td id=\"T_11a7a_row5_col10\" class=\"data row5 col10\" >43</td>\n",
       "      <td id=\"T_11a7a_row5_col11\" class=\"data row5 col11\" >224</td>\n",
       "      <td id=\"T_11a7a_row5_col12\" class=\"data row5 col12\" >253</td>\n",
       "      <td id=\"T_11a7a_row5_col13\" class=\"data row5 col13\" >245</td>\n",
       "      <td id=\"T_11a7a_row5_col14\" class=\"data row5 col14\" >74</td>\n",
       "      <td id=\"T_11a7a_row5_col15\" class=\"data row5 col15\" >0</td>\n",
       "      <td id=\"T_11a7a_row5_col16\" class=\"data row5 col16\" >0</td>\n",
       "      <td id=\"T_11a7a_row5_col17\" class=\"data row5 col17\" >0</td>\n",
       "    </tr>\n",
       "    <tr>\n",
       "      <th id=\"T_11a7a_level0_row6\" class=\"row_heading level0 row6\" >6</th>\n",
       "      <td id=\"T_11a7a_row6_col0\" class=\"data row6 col0\" >0</td>\n",
       "      <td id=\"T_11a7a_row6_col1\" class=\"data row6 col1\" >0</td>\n",
       "      <td id=\"T_11a7a_row6_col2\" class=\"data row6 col2\" >0</td>\n",
       "      <td id=\"T_11a7a_row6_col3\" class=\"data row6 col3\" >0</td>\n",
       "      <td id=\"T_11a7a_row6_col4\" class=\"data row6 col4\" >0</td>\n",
       "      <td id=\"T_11a7a_row6_col5\" class=\"data row6 col5\" >0</td>\n",
       "      <td id=\"T_11a7a_row6_col6\" class=\"data row6 col6\" >0</td>\n",
       "      <td id=\"T_11a7a_row6_col7\" class=\"data row6 col7\" >0</td>\n",
       "      <td id=\"T_11a7a_row6_col8\" class=\"data row6 col8\" >0</td>\n",
       "      <td id=\"T_11a7a_row6_col9\" class=\"data row6 col9\" >0</td>\n",
       "      <td id=\"T_11a7a_row6_col10\" class=\"data row6 col10\" >249</td>\n",
       "      <td id=\"T_11a7a_row6_col11\" class=\"data row6 col11\" >253</td>\n",
       "      <td id=\"T_11a7a_row6_col12\" class=\"data row6 col12\" >245</td>\n",
       "      <td id=\"T_11a7a_row6_col13\" class=\"data row6 col13\" >126</td>\n",
       "      <td id=\"T_11a7a_row6_col14\" class=\"data row6 col14\" >0</td>\n",
       "      <td id=\"T_11a7a_row6_col15\" class=\"data row6 col15\" >0</td>\n",
       "      <td id=\"T_11a7a_row6_col16\" class=\"data row6 col16\" >0</td>\n",
       "      <td id=\"T_11a7a_row6_col17\" class=\"data row6 col17\" >0</td>\n",
       "    </tr>\n",
       "    <tr>\n",
       "      <th id=\"T_11a7a_level0_row7\" class=\"row_heading level0 row7\" >7</th>\n",
       "      <td id=\"T_11a7a_row7_col0\" class=\"data row7 col0\" >0</td>\n",
       "      <td id=\"T_11a7a_row7_col1\" class=\"data row7 col1\" >0</td>\n",
       "      <td id=\"T_11a7a_row7_col2\" class=\"data row7 col2\" >0</td>\n",
       "      <td id=\"T_11a7a_row7_col3\" class=\"data row7 col3\" >0</td>\n",
       "      <td id=\"T_11a7a_row7_col4\" class=\"data row7 col4\" >0</td>\n",
       "      <td id=\"T_11a7a_row7_col5\" class=\"data row7 col5\" >0</td>\n",
       "      <td id=\"T_11a7a_row7_col6\" class=\"data row7 col6\" >0</td>\n",
       "      <td id=\"T_11a7a_row7_col7\" class=\"data row7 col7\" >14</td>\n",
       "      <td id=\"T_11a7a_row7_col8\" class=\"data row7 col8\" >101</td>\n",
       "      <td id=\"T_11a7a_row7_col9\" class=\"data row7 col9\" >223</td>\n",
       "      <td id=\"T_11a7a_row7_col10\" class=\"data row7 col10\" >253</td>\n",
       "      <td id=\"T_11a7a_row7_col11\" class=\"data row7 col11\" >248</td>\n",
       "      <td id=\"T_11a7a_row7_col12\" class=\"data row7 col12\" >124</td>\n",
       "      <td id=\"T_11a7a_row7_col13\" class=\"data row7 col13\" >0</td>\n",
       "      <td id=\"T_11a7a_row7_col14\" class=\"data row7 col14\" >0</td>\n",
       "      <td id=\"T_11a7a_row7_col15\" class=\"data row7 col15\" >0</td>\n",
       "      <td id=\"T_11a7a_row7_col16\" class=\"data row7 col16\" >0</td>\n",
       "      <td id=\"T_11a7a_row7_col17\" class=\"data row7 col17\" >0</td>\n",
       "    </tr>\n",
       "    <tr>\n",
       "      <th id=\"T_11a7a_level0_row8\" class=\"row_heading level0 row8\" >8</th>\n",
       "      <td id=\"T_11a7a_row8_col0\" class=\"data row8 col0\" >0</td>\n",
       "      <td id=\"T_11a7a_row8_col1\" class=\"data row8 col1\" >0</td>\n",
       "      <td id=\"T_11a7a_row8_col2\" class=\"data row8 col2\" >0</td>\n",
       "      <td id=\"T_11a7a_row8_col3\" class=\"data row8 col3\" >0</td>\n",
       "      <td id=\"T_11a7a_row8_col4\" class=\"data row8 col4\" >0</td>\n",
       "      <td id=\"T_11a7a_row8_col5\" class=\"data row8 col5\" >11</td>\n",
       "      <td id=\"T_11a7a_row8_col6\" class=\"data row8 col6\" >166</td>\n",
       "      <td id=\"T_11a7a_row8_col7\" class=\"data row8 col7\" >239</td>\n",
       "      <td id=\"T_11a7a_row8_col8\" class=\"data row8 col8\" >253</td>\n",
       "      <td id=\"T_11a7a_row8_col9\" class=\"data row8 col9\" >253</td>\n",
       "      <td id=\"T_11a7a_row8_col10\" class=\"data row8 col10\" >253</td>\n",
       "      <td id=\"T_11a7a_row8_col11\" class=\"data row8 col11\" >187</td>\n",
       "      <td id=\"T_11a7a_row8_col12\" class=\"data row8 col12\" >30</td>\n",
       "      <td id=\"T_11a7a_row8_col13\" class=\"data row8 col13\" >0</td>\n",
       "      <td id=\"T_11a7a_row8_col14\" class=\"data row8 col14\" >0</td>\n",
       "      <td id=\"T_11a7a_row8_col15\" class=\"data row8 col15\" >0</td>\n",
       "      <td id=\"T_11a7a_row8_col16\" class=\"data row8 col16\" >0</td>\n",
       "      <td id=\"T_11a7a_row8_col17\" class=\"data row8 col17\" >0</td>\n",
       "    </tr>\n",
       "    <tr>\n",
       "      <th id=\"T_11a7a_level0_row9\" class=\"row_heading level0 row9\" >9</th>\n",
       "      <td id=\"T_11a7a_row9_col0\" class=\"data row9 col0\" >0</td>\n",
       "      <td id=\"T_11a7a_row9_col1\" class=\"data row9 col1\" >0</td>\n",
       "      <td id=\"T_11a7a_row9_col2\" class=\"data row9 col2\" >0</td>\n",
       "      <td id=\"T_11a7a_row9_col3\" class=\"data row9 col3\" >0</td>\n",
       "      <td id=\"T_11a7a_row9_col4\" class=\"data row9 col4\" >0</td>\n",
       "      <td id=\"T_11a7a_row9_col5\" class=\"data row9 col5\" >16</td>\n",
       "      <td id=\"T_11a7a_row9_col6\" class=\"data row9 col6\" >248</td>\n",
       "      <td id=\"T_11a7a_row9_col7\" class=\"data row9 col7\" >250</td>\n",
       "      <td id=\"T_11a7a_row9_col8\" class=\"data row9 col8\" >253</td>\n",
       "      <td id=\"T_11a7a_row9_col9\" class=\"data row9 col9\" >253</td>\n",
       "      <td id=\"T_11a7a_row9_col10\" class=\"data row9 col10\" >253</td>\n",
       "      <td id=\"T_11a7a_row9_col11\" class=\"data row9 col11\" >253</td>\n",
       "      <td id=\"T_11a7a_row9_col12\" class=\"data row9 col12\" >232</td>\n",
       "      <td id=\"T_11a7a_row9_col13\" class=\"data row9 col13\" >213</td>\n",
       "      <td id=\"T_11a7a_row9_col14\" class=\"data row9 col14\" >111</td>\n",
       "      <td id=\"T_11a7a_row9_col15\" class=\"data row9 col15\" >2</td>\n",
       "      <td id=\"T_11a7a_row9_col16\" class=\"data row9 col16\" >0</td>\n",
       "      <td id=\"T_11a7a_row9_col17\" class=\"data row9 col17\" >0</td>\n",
       "    </tr>\n",
       "    <tr>\n",
       "      <th id=\"T_11a7a_level0_row10\" class=\"row_heading level0 row10\" >10</th>\n",
       "      <td id=\"T_11a7a_row10_col0\" class=\"data row10 col0\" >0</td>\n",
       "      <td id=\"T_11a7a_row10_col1\" class=\"data row10 col1\" >0</td>\n",
       "      <td id=\"T_11a7a_row10_col2\" class=\"data row10 col2\" >0</td>\n",
       "      <td id=\"T_11a7a_row10_col3\" class=\"data row10 col3\" >0</td>\n",
       "      <td id=\"T_11a7a_row10_col4\" class=\"data row10 col4\" >0</td>\n",
       "      <td id=\"T_11a7a_row10_col5\" class=\"data row10 col5\" >0</td>\n",
       "      <td id=\"T_11a7a_row10_col6\" class=\"data row10 col6\" >0</td>\n",
       "      <td id=\"T_11a7a_row10_col7\" class=\"data row10 col7\" >43</td>\n",
       "      <td id=\"T_11a7a_row10_col8\" class=\"data row10 col8\" >98</td>\n",
       "      <td id=\"T_11a7a_row10_col9\" class=\"data row10 col9\" >98</td>\n",
       "      <td id=\"T_11a7a_row10_col10\" class=\"data row10 col10\" >208</td>\n",
       "      <td id=\"T_11a7a_row10_col11\" class=\"data row10 col11\" >253</td>\n",
       "      <td id=\"T_11a7a_row10_col12\" class=\"data row10 col12\" >253</td>\n",
       "      <td id=\"T_11a7a_row10_col13\" class=\"data row10 col13\" >253</td>\n",
       "      <td id=\"T_11a7a_row10_col14\" class=\"data row10 col14\" >253</td>\n",
       "      <td id=\"T_11a7a_row10_col15\" class=\"data row10 col15\" >187</td>\n",
       "      <td id=\"T_11a7a_row10_col16\" class=\"data row10 col16\" >22</td>\n",
       "      <td id=\"T_11a7a_row10_col17\" class=\"data row10 col17\" >0</td>\n",
       "    </tr>\n",
       "  </tbody>\n",
       "</table>\n"
      ],
      "text/plain": [
       "<pandas.io.formats.style.Styler at 0x17b25a850>"
      ]
     },
     "execution_count": 17,
     "metadata": {},
     "output_type": "execute_result"
    }
   ],
   "source": [
    "df.style.set_properties(**{'font-size':'6pt'}).background_gradient('Greys')"
   ]
  },
  {
   "cell_type": "code",
   "execution_count": 18,
   "id": "78fab22c-746a-470a-bfb5-b7381552afd6",
   "metadata": {},
   "outputs": [],
   "source": [
    "tensors3 = [tensor(Image.open(o)) for o in threes]"
   ]
  },
  {
   "cell_type": "code",
   "execution_count": 19,
   "id": "0dfae2f9-ddd2-40d8-9ee5-f431b93648b7",
   "metadata": {},
   "outputs": [],
   "source": [
    "tensors7 = [tensor(Image.open(o)) for o in sevens]"
   ]
  },
  {
   "cell_type": "code",
   "execution_count": 20,
   "id": "7582c26b-01d2-4224-a8c0-769720356bb6",
   "metadata": {},
   "outputs": [
    {
     "data": {
      "text/plain": [
       "6131"
      ]
     },
     "execution_count": 20,
     "metadata": {},
     "output_type": "execute_result"
    }
   ],
   "source": [
    "len(tensors3)"
   ]
  },
  {
   "cell_type": "code",
   "execution_count": 21,
   "id": "57e03a82-cfa7-4a1a-9ee0-1da0069d69bf",
   "metadata": {},
   "outputs": [
    {
     "data": {
      "text/plain": [
       "6265"
      ]
     },
     "execution_count": 21,
     "metadata": {},
     "output_type": "execute_result"
    }
   ],
   "source": [
    "len(tensors7)"
   ]
  },
  {
   "cell_type": "code",
   "execution_count": 22,
   "id": "dd698ad1-3d37-4d18-8f46-1a1d77e2f649",
   "metadata": {},
   "outputs": [
    {
     "data": {
      "text/plain": [
       "<Axes: >"
      ]
     },
     "execution_count": 22,
     "metadata": {},
     "output_type": "execute_result"
    },
    {
     "data": {
      "image/png": "[encoded data removed]",
      "text/plain": [
       "<Figure size 100x100 with 1 Axes>"
      ]
     },
     "metadata": {},
     "output_type": "display_data"
    }
   ],
   "source": [
    "show_image(tensors7[0])"
   ]
  },
  {
   "cell_type": "code",
   "execution_count": 23,
   "id": "4ebf1fa5-4a9a-4c5a-b12f-ba0715af4c0d",
   "metadata": {},
   "outputs": [],
   "source": [
    "stacked_sevens = torch.stack(tensors7).float()/255"
   ]
  },
  {
   "cell_type": "code",
   "execution_count": 24,
   "id": "250c3902-533a-4986-b79d-71998b7c2e1f",
   "metadata": {},
   "outputs": [],
   "source": [
    "stacked_threes = torch.stack(tensors3).float()/255"
   ]
  },
  {
   "cell_type": "code",
   "execution_count": 25,
   "id": "4358cae9-3d56-4139-a5b5-9aa6f8bcb930",
   "metadata": {
    "scrolled": true
   },
   "outputs": [
    {
     "data": {
      "text/plain": [
       "torch.Size([6131, 28, 28])"
      ]
     },
     "execution_count": 25,
     "metadata": {},
     "output_type": "execute_result"
    }
   ],
   "source": [
    "stacked_threes.shape"
   ]
  },
  {
   "cell_type": "code",
   "execution_count": 26,
   "id": "3102591b-0dc7-4ecf-b313-e3da719bfa85",
   "metadata": {},
   "outputs": [],
   "source": [
    "mean3 = stacked_threes.mean(0)"
   ]
  },
  {
   "cell_type": "code",
   "execution_count": 27,
   "id": "b3b95d4d-733c-4fb4-bd6a-1656d423123e",
   "metadata": {},
   "outputs": [
    {
     "data": {
      "text/plain": [
       "<Axes: >"
      ]
     },
     "execution_count": 27,
     "metadata": {},
     "output_type": "execute_result"
    },
    {
     "data": {
      "image/png": "[encoded data removed]",
      "text/plain": [
       "<Figure size 100x100 with 1 Axes>"
      ]
     },
     "metadata": {},
     "output_type": "display_data"
    }
   ],
   "source": [
    "show_image(mean3)"
   ]
  },
  {
   "cell_type": "code",
   "execution_count": 28,
   "id": "e2c5e78c-902a-46f0-b0f6-8f8a74fb4b29",
   "metadata": {},
   "outputs": [],
   "source": [
    "mean7 = stacked_sevens.mean(0)"
   ]
  },
  {
   "cell_type": "code",
   "execution_count": 29,
   "id": "5c72d9c4-5895-4c81-b599-0a22c789b0a0",
   "metadata": {},
   "outputs": [
    {
     "data": {
      "text/plain": [
       "<Axes: >"
      ]
     },
     "execution_count": 29,
     "metadata": {},
     "output_type": "execute_result"
    },
    {
     "data": {
      "image/png": "[encoded data removed]",
      "text/plain": [
       "<Figure size 100x100 with 1 Axes>"
      ]
     },
     "metadata": {},
     "output_type": "display_data"
    }
   ],
   "source": [
    "show_image(mean7)"
   ]
  },
  {
   "cell_type": "code",
   "execution_count": 30,
   "id": "755a2993-b4d3-4308-8b09-276cacacfd14",
   "metadata": {},
   "outputs": [],
   "source": [
    "def f(t, params):\n",
    "    return params[0]*(t**2) + params[1]*t + params[2]"
   ]
  },
  {
   "cell_type": "code",
   "execution_count": 31,
   "id": "1268eb45-1b05-4125-97e1-4d7a1ab5ca58",
   "metadata": {},
   "outputs": [],
   "source": [
    "def mse(preds, targets):\n",
    "    return torch.mean((preds - targets)**2)"
   ]
  },
  {
   "cell_type": "code",
   "execution_count": 32,
   "id": "6e31760f-8d95-4263-bc76-516c9358ecb8",
   "metadata": {},
   "outputs": [],
   "source": [
    "params = torch.randn(3).requires_grad_()"
   ]
  },
  {
   "cell_type": "code",
   "execution_count": 33,
   "id": "de818fa3-bc78-494a-b512-0a93aa2ab173",
   "metadata": {},
   "outputs": [
    {
     "data": {
      "text/plain": [
       "tensor([1.6956, 1.8260, 1.1352], requires_grad=True)"
      ]
     },
     "execution_count": 33,
     "metadata": {},
     "output_type": "execute_result"
    }
   ],
   "source": [
    "params"
   ]
  },
  {
   "cell_type": "code",
   "execution_count": 34,
   "id": "cbfa59a5-08cf-411f-80a5-c55e0fc8e9e3",
   "metadata": {},
   "outputs": [],
   "source": [
    "time = torch.arange(20).float()"
   ]
  },
  {
   "cell_type": "code",
   "execution_count": 35,
   "id": "85f0e3c8-e3bb-4100-88ed-b6508779bbea",
   "metadata": {},
   "outputs": [],
   "source": [
    "speed = torch.randn(20)*3 + 0.75 * (time - 9.5)**2 + 1"
   ]
  },
  {
   "cell_type": "code",
   "execution_count": 36,
   "id": "6f7e686f-35cd-47ae-8529-c35d9166bb82",
   "metadata": {},
   "outputs": [],
   "source": [
    "pred = f(time, params)"
   ]
  },
  {
   "cell_type": "code",
   "execution_count": 37,
   "id": "b2d00076-34bd-40e3-867a-5ff5eb362b6c",
   "metadata": {},
   "outputs": [
    {
     "data": {
      "text/plain": [
       "tensor([  1.1352,   4.6567,  11.5695,  21.8734,  35.5686,  52.6550,  73.1326,\n",
       "         97.0013, 124.2613, 154.9125, 188.9549, 226.3885, 267.2133, 311.4294,\n",
       "        359.0366, 410.0350, 464.4246, 522.2054, 583.3774, 647.9407],\n",
       "       grad_fn=<AddBackward0>)"
      ]
     },
     "execution_count": 37,
     "metadata": {},
     "output_type": "execute_result"
    }
   ],
   "source": [
    "pred"
   ]
  },
  {
   "cell_type": "code",
   "execution_count": 38,
   "id": "51f91224-3a77-487c-8be8-a209c90bf815",
   "metadata": {},
   "outputs": [
    {
     "data": {
      "text/plain": [
       "tensor([74.4540, 55.9899, 41.4079, 32.6954, 22.5650, 19.9118,  5.4773, -1.4987,\n",
       "         2.7296, -2.1429, -0.3372,  4.6098,  1.6012,  8.4006, 14.7170, 22.1533,\n",
       "        37.8807, 35.1619, 51.3825, 67.6755])"
      ]
     },
     "execution_count": 38,
     "metadata": {},
     "output_type": "execute_result"
    }
   ],
   "source": [
    "speed"
   ]
  },
  {
   "cell_type": "code",
   "execution_count": 39,
   "id": "28bcfc3b-500a-4565-9dd8-f59c2c414cd1",
   "metadata": {},
   "outputs": [],
   "source": [
    "def show_preds(preds, ax = None):\n",
    "    if ax is None:\n",
    "        ax = plt.subplots()[1]\n",
    "    ax.scatter(time, speed)\n",
    "    ax.scatter(time, to_np(preds), color='red')\n",
    "    ax.set_ylim(-300, 100)"
   ]
  },
  {
   "cell_type": "code",
   "execution_count": 40,
   "id": "22cda6b6-9c20-4621-9215-21692825046f",
   "metadata": {},
   "outputs": [
    {
     "data": {
      "image/png": "[encoded data removed]",
      "text/plain": [
       "<Figure size 640x480 with 1 Axes>"
      ]
     },
     "metadata": {},
     "output_type": "display_data"
    }
   ],
   "source": [
    "show_preds(pred)"
   ]
  },
  {
   "cell_type": "code",
   "execution_count": 41,
   "id": "0d9dbc2c-b6ef-4674-ba16-f0a85b8d54ae",
   "metadata": {},
   "outputs": [],
   "source": [
    "loss = mse(pred, speed)"
   ]
  },
  {
   "cell_type": "code",
   "execution_count": 42,
   "id": "d01f7c67-8785-488a-82f9-ee013fa1d94c",
   "metadata": {},
   "outputs": [],
   "source": [
    "loss.backward()"
   ]
  },
  {
   "cell_type": "code",
   "execution_count": 43,
   "id": "d7618bb2-d751-48d0-b9d0-f8557f2ba48b",
   "metadata": {},
   "outputs": [
    {
     "data": {
      "text/plain": [
       "tensor([95029.7656,  6135.6738,   406.2937])"
      ]
     },
     "execution_count": 43,
     "metadata": {},
     "output_type": "execute_result"
    }
   ],
   "source": [
    "params.grad"
   ]
  },
  {
   "cell_type": "code",
   "execution_count": 44,
   "id": "1ba96281-c57b-449d-99d8-9c6937effe28",
   "metadata": {},
   "outputs": [],
   "source": [
    "def apply_step(params, prn=True):\n",
    "    preds = f(time, params)\n",
    "    loss = mse(preds, speed)\n",
    "    loss.backward()\n",
    "    params.data -= 1e-5 * params.grad\n",
    "    params.grad = None\n",
    "    if prn:\n",
    "        print(loss.item())\n",
    "    return preds"
   ]
  },
  {
   "cell_type": "code",
   "execution_count": 45,
   "id": "e57ee93e-0c51-4755-b96d-8f14c5679095",
   "metadata": {},
   "outputs": [
    {
     "data": {
      "image/png": "[encoded data removed]",
      "text/plain": [
       "<Figure size 1200x300 with 4 Axes>"
      ]
     },
     "metadata": {},
     "output_type": "display_data"
    }
   ],
   "source": [
    "_, axes = plt.subplots(1,4,figsize=(12,3))\n",
    "for ax in axes:\n",
    "    show_preds(apply_step(params, False),ax)"
   ]
  },
  {
   "cell_type": "code",
   "execution_count": 46,
   "id": "68a6f578-b4e0-4e67-a0bd-1ce0423b5a0f",
   "metadata": {},
   "outputs": [],
   "source": [
    "train_x = torch.cat([stacked_threes, stacked_sevens]).view(-1, 28*28)"
   ]
  },
  {
   "cell_type": "code",
   "execution_count": 47,
   "id": "ad91731a-e83f-46fc-b05f-c1ade1f750df",
   "metadata": {},
   "outputs": [
    {
     "data": {
      "text/plain": [
       "torch.Size([12396, 784])"
      ]
     },
     "execution_count": 47,
     "metadata": {},
     "output_type": "execute_result"
    }
   ],
   "source": [
    "train_x.shape"
   ]
  },
  {
   "cell_type": "code",
   "execution_count": 48,
   "id": "83f2fb17-5763-456c-ad70-f6f6a145509e",
   "metadata": {},
   "outputs": [],
   "source": [
    "train_y = tensor([1]*len(threes) + [0]*len(sevens)).unsqueeze(1)"
   ]
  },
  {
   "cell_type": "code",
   "execution_count": 49,
   "id": "c5d5402d-e8ca-4e3a-9bb7-c1949f41c0ec",
   "metadata": {},
   "outputs": [
    {
     "data": {
      "text/plain": [
       "(torch.Size([12396, 784]), torch.Size([12396, 1]))"
      ]
     },
     "execution_count": 49,
     "metadata": {},
     "output_type": "execute_result"
    }
   ],
   "source": [
    "train_x.shape, train_y.shape"
   ]
  },
  {
   "cell_type": "code",
   "execution_count": 50,
   "id": "c4c3ab6f-1882-47bc-9c72-0ba416b62aff",
   "metadata": {},
   "outputs": [],
   "source": [
    "dset = list(zip(train_x, train_y))"
   ]
  },
  {
   "cell_type": "code",
   "execution_count": 51,
   "id": "6d723fcf-285a-4446-9859-b4284c1b666a",
   "metadata": {},
   "outputs": [
    {
     "data": {
      "text/plain": [
       "12396"
      ]
     },
     "execution_count": 51,
     "metadata": {},
     "output_type": "execute_result"
    }
   ],
   "source": [
    "len(dset)"
   ]
  },
  {
   "cell_type": "code",
   "execution_count": 52,
   "id": "bdb57213-5c6a-40e9-bd71-260b539f8d89",
   "metadata": {},
   "outputs": [],
   "source": [
    "x, y = dset[0]"
   ]
  },
  {
   "cell_type": "code",
   "execution_count": 53,
   "id": "b4f8721b-07dd-40f2-ab87-b8bbbc1d55a8",
   "metadata": {},
   "outputs": [
    {
     "data": {
      "text/plain": [
       "(torch.Size([784]), torch.Size([1]))"
      ]
     },
     "execution_count": 53,
     "metadata": {},
     "output_type": "execute_result"
    }
   ],
   "source": [
    "x.shape, y.shape"
   ]
  },
  {
   "cell_type": "code",
   "execution_count": 54,
   "id": "bd09d1f6-a938-4b41-95f5-a91789f11899",
   "metadata": {},
   "outputs": [],
   "source": [
    "valid_3_tens = torch.stack([tensor(Image.open(o)) for o in (path/'valid'/'3').ls()])"
   ]
  },
  {
   "cell_type": "code",
   "execution_count": 55,
   "id": "9dcc0bed-ad8d-4fd4-8525-3f6fe919ba50",
   "metadata": {},
   "outputs": [],
   "source": [
    "valid_3_tens = valid_3_tens.float()/255"
   ]
  },
  {
   "cell_type": "code",
   "execution_count": 56,
   "id": "6102151c-dd37-4c1a-8273-79ce262c76ad",
   "metadata": {},
   "outputs": [],
   "source": [
    "valid_7_tens = torch.stack([tensor(Image.open(o)) for o in (path/'valid'/'7').ls()])"
   ]
  },
  {
   "cell_type": "code",
   "execution_count": 57,
   "id": "fd532f23-dff7-46c5-a1bb-1f9e4199eee2",
   "metadata": {},
   "outputs": [],
   "source": [
    "valid_7_tens = valid_7_tens.float()/255"
   ]
  },
  {
   "cell_type": "code",
   "execution_count": 58,
   "id": "cdf4ac85-2970-416c-8861-f67ba9ab2488",
   "metadata": {},
   "outputs": [
    {
     "data": {
      "text/plain": [
       "torch.Size([1010, 28, 28])"
      ]
     },
     "execution_count": 58,
     "metadata": {},
     "output_type": "execute_result"
    }
   ],
   "source": [
    "valid_3_tens.shape"
   ]
  },
  {
   "cell_type": "code",
   "execution_count": 59,
   "id": "7b4f0e5a-1de3-42ca-a5d1-411b831974a4",
   "metadata": {},
   "outputs": [
    {
     "data": {
      "text/plain": [
       "torch.Size([1028, 28, 28])"
      ]
     },
     "execution_count": 59,
     "metadata": {},
     "output_type": "execute_result"
    }
   ],
   "source": [
    "valid_7_tens.shape"
   ]
  },
  {
   "cell_type": "code",
   "execution_count": 60,
   "id": "58518431-7862-4c32-9c3d-cca489d04352",
   "metadata": {},
   "outputs": [],
   "source": [
    "valid_x = torch.cat([valid_3_tens, valid_7_tens]).view(-1, 28*28)"
   ]
  },
  {
   "cell_type": "code",
   "execution_count": 61,
   "id": "b7132fcd-99f6-4363-8164-6a52f1361885",
   "metadata": {},
   "outputs": [],
   "source": [
    "valid_y = tensor(len(valid_3_tens)*[1] + len(valid_7_tens)*[0]).unsqueeze(1)"
   ]
  },
  {
   "cell_type": "code",
   "execution_count": 62,
   "id": "e155c48f-c4ff-4587-90c5-ca40c36f886a",
   "metadata": {},
   "outputs": [],
   "source": [
    "valid_set = list(zip(valid_x, valid_y))"
   ]
  },
  {
   "cell_type": "code",
   "execution_count": 63,
   "id": "c6c7db09-1e43-4526-bd76-ddce1b5b275e",
   "metadata": {},
   "outputs": [
    {
     "data": {
      "text/plain": [
       "torch.Size([1010, 28, 28])"
      ]
     },
     "execution_count": 63,
     "metadata": {},
     "output_type": "execute_result"
    }
   ],
   "source": [
    "valid_3_tens.shape"
   ]
  },
  {
   "cell_type": "code",
   "execution_count": 64,
   "id": "40e1332e-861e-404d-9613-72f2fc883b17",
   "metadata": {},
   "outputs": [
    {
     "data": {
      "text/plain": [
       "torch.Size([1028, 28, 28])"
      ]
     },
     "execution_count": 64,
     "metadata": {},
     "output_type": "execute_result"
    }
   ],
   "source": [
    "valid_7_tens.shape"
   ]
  },
  {
   "cell_type": "code",
   "execution_count": 65,
   "id": "73180cd9-6ea3-4874-a675-de6d18442653",
   "metadata": {},
   "outputs": [
    {
     "data": {
      "text/plain": [
       "torch.Size([2038, 784])"
      ]
     },
     "execution_count": 65,
     "metadata": {},
     "output_type": "execute_result"
    }
   ],
   "source": [
    "valid_x.shape"
   ]
  },
  {
   "cell_type": "code",
   "execution_count": 66,
   "id": "c6bd2129-b9e0-4ac5-9ff4-ca34918142fd",
   "metadata": {},
   "outputs": [
    {
     "data": {
      "text/plain": [
       "torch.Size([2038, 1])"
      ]
     },
     "execution_count": 66,
     "metadata": {},
     "output_type": "execute_result"
    }
   ],
   "source": [
    "valid_y.shape"
   ]
  },
  {
   "cell_type": "code",
   "execution_count": 67,
   "id": "80ae9d8d-fee0-4b90-9242-b33062cd5b01",
   "metadata": {},
   "outputs": [
    {
     "data": {
      "text/plain": [
       "2038"
      ]
     },
     "execution_count": 67,
     "metadata": {},
     "output_type": "execute_result"
    }
   ],
   "source": [
    "len(valid_set)"
   ]
  },
  {
   "cell_type": "code",
   "execution_count": 68,
   "id": "b6cffd31-e799-4776-bbf0-f79defae0d0b",
   "metadata": {},
   "outputs": [],
   "source": [
    "def init_params(size, std=1.0):\n",
    "    return (torch.randn(size)*std).requires_grad_()"
   ]
  },
  {
   "cell_type": "code",
   "execution_count": 69,
   "id": "f9d569c4-9674-46cb-ac75-c907e7447257",
   "metadata": {},
   "outputs": [],
   "source": [
    "weights = init_params((784,1))"
   ]
  },
  {
   "cell_type": "code",
   "execution_count": 70,
   "id": "efb0fda0-8365-4173-91bd-5c792e38870e",
   "metadata": {},
   "outputs": [],
   "source": [
    "bias = init_params(1)"
   ]
  },
  {
   "cell_type": "code",
   "execution_count": 71,
   "id": "b5c2cb67-c63a-4f6a-9375-4bb2ccfb2ab9",
   "metadata": {},
   "outputs": [
    {
     "data": {
      "text/plain": [
       "tensor([-9.0280], grad_fn=<AddBackward0>)"
      ]
     },
     "execution_count": 71,
     "metadata": {},
     "output_type": "execute_result"
    }
   ],
   "source": [
    "(train_x[0]*weights.T).sum() + bias"
   ]
  },
  {
   "cell_type": "code",
   "execution_count": 72,
   "id": "95c21c1a-8f3d-46be-911f-508a4c53458a",
   "metadata": {},
   "outputs": [],
   "source": [
    "def linear1(xb):\n",
    "    return xb@weights + bias"
   ]
  },
  {
   "cell_type": "code",
   "execution_count": 73,
   "id": "3df05396-52ea-4239-a939-29a382f59554",
   "metadata": {},
   "outputs": [],
   "source": [
    "preds = linear1(train_x)"
   ]
  },
  {
   "cell_type": "code",
   "execution_count": 74,
   "id": "548e3de3-f4c5-475d-8c3b-cfc6351da18e",
   "metadata": {},
   "outputs": [
    {
     "data": {
      "text/plain": [
       "tensor([[ -9.0280],\n",
       "        [ -7.2074],\n",
       "        [ -2.7822],\n",
       "        ...,\n",
       "        [-10.2228],\n",
       "        [-10.4630],\n",
       "        [-13.6122]], grad_fn=<AddBackward0>)"
      ]
     },
     "execution_count": 74,
     "metadata": {},
     "output_type": "execute_result"
    }
   ],
   "source": [
    "preds"
   ]
  },
  {
   "cell_type": "code",
   "execution_count": 75,
   "id": "a1ea6104-d84a-4569-a413-75ae2b9a9720",
   "metadata": {},
   "outputs": [],
   "source": [
    "corrects = (preds>0.5).float() == train_y"
   ]
  },
  {
   "cell_type": "code",
   "execution_count": 76,
   "id": "b13d560e-36af-46a1-aa9b-38196d77ce84",
   "metadata": {},
   "outputs": [
    {
     "data": {
      "text/plain": [
       "0.5655050277709961"
      ]
     },
     "execution_count": 76,
     "metadata": {},
     "output_type": "execute_result"
    }
   ],
   "source": [
    "(corrects.sum()/len(corrects)).item()"
   ]
  },
  {
   "cell_type": "code",
   "execution_count": 77,
   "id": "59e9241f-1803-4fc7-b9e7-ba295bc61770",
   "metadata": {},
   "outputs": [],
   "source": [
    "def mnist_loss(preds, targets):\n",
    "    return torch.where((targets==1, 1-preds, preds).mean())"
   ]
  },
  {
   "cell_type": "code",
   "execution_count": 165,
   "id": "20c69ebf-e522-4982-a710-5067a727ecff",
   "metadata": {},
   "outputs": [],
   "source": [
    "def sigmoid(x):\n",
    "    return 1/(1+torch.exp(-x))"
   ]
  },
  {
   "cell_type": "code",
   "execution_count": 167,
   "id": "da9bbe31-94c7-4a3c-bff3-383423efe85d",
   "metadata": {},
   "outputs": [
    {
     "ename": "NameError",
     "evalue": "name 'plot_function' is not defined",
     "output_type": "error",
     "traceback": [
      "\u001b[0;31m---------------------------------------------------------------------------\u001b[0m",
      "\u001b[0;31mNameError\u001b[0m                                 Traceback (most recent call last)",
      "Cell \u001b[0;32mIn[167], line 1\u001b[0m\n\u001b[0;32m----> 1\u001b[0m plot_function(torch\u001b[38;5;241m.\u001b[39msigmoid, title \u001b[38;5;241m=\u001b[39m \u001b[38;5;124m'\u001b[39m\u001b[38;5;124mSigmoid\u001b[39m\u001b[38;5;124m'\u001b[39m, \u001b[38;5;28mmin\u001b[39m\u001b[38;5;241m=\u001b[39m\u001b[38;5;241m-\u001b[39m\u001b[38;5;241m4\u001b[39m, \u001b[38;5;28mmax\u001b[39m\u001b[38;5;241m=\u001b[39m\u001b[38;5;241m4\u001b[39m)\n",
      "\u001b[0;31mNameError\u001b[0m: name 'plot_function' is not defined"
     ]
    }
   ],
   "source": [
    "plot_function(torch.sigmoid, title = 'Sigmoid', min=-4, max=4)"
   ]
  },
  {
   "cell_type": "code",
   "execution_count": null,
   "id": "d6923d0b-4ba6-4270-b255-c1c6c9be045c",
   "metadata": {},
   "outputs": [],
   "source": []
  },
  {
   "cell_type": "code",
   "execution_count": null,
   "id": "be1f63b7-972d-45f1-bf09-b2d7698df4d1",
   "metadata": {},
   "outputs": [],
   "source": []
  },
  {
   "cell_type": "code",
   "execution_count": null,
   "id": "ebcc6976-4d89-4535-bec3-f990af6ee3aa",
   "metadata": {},
   "outputs": [],
   "source": []
  },
  {
   "cell_type": "code",
   "execution_count": null,
   "id": "8ddbc69d-8cdd-4094-a21a-89480bb74d07",
   "metadata": {},
   "outputs": [],
   "source": []
  },
  {
   "cell_type": "code",
   "execution_count": null,
   "id": "954e08b2-b1fd-4b4c-8fdf-aff3506833a1",
   "metadata": {},
   "outputs": [],
   "source": []
  },
  {
   "cell_type": "code",
   "execution_count": null,
   "id": "3586362c-4c7f-42e1-8931-f4353ea0bff5",
   "metadata": {},
   "outputs": [],
   "source": []
  },
  {
   "cell_type": "code",
   "execution_count": null,
   "id": "634ab680-0f22-40fb-bad5-c92d2377827e",
   "metadata": {},
   "outputs": [],
   "source": []
  },
  {
   "cell_type": "code",
   "execution_count": null,
   "id": "8676d58a-7589-474a-bf46-ead53cb5171a",
   "metadata": {},
   "outputs": [],
   "source": []
  }
 ],
 "metadata": {
  "kernelspec": {
   "display_name": "Python 3 (ipykernel)",
   "language": "python",
   "name": "python3"
  },
  "language_info": {
   "codemirror_mode": {
    "name": "ipython",
    "version": 3
   },
   "file_extension": ".py",
   "mimetype": "text/x-python",
   "name": "python",
   "nbconvert_exporter": "python",
   "pygments_lexer": "ipython3",
   "version": "3.11.7"
  }
 },
 "nbformat": 4,
 "nbformat_minor": 5
}
