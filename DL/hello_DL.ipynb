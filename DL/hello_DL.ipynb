{
 "cells": [
  {
   "cell_type": "code",
   "execution_count": 312,
   "id": "fa70b9fa-18ac-427c-ae74-865605d10db2",
   "metadata": {},
   "outputs": [],
   "source": [
    "from fastai.data.all import *\n",
    "from fastai.vision.all import *\n",
    "from fastbook import *"
   ]
  },
  {
   "cell_type": "code",
   "execution_count": 313,
   "id": "addde260-e1ab-4599-9222-d7b374d2e095",
   "metadata": {},
   "outputs": [],
   "source": [
    "import torch\n",
    "import torchvision.models as models\n",
    "from torch.profiler import profile, record_function, ProfilerActivity"
   ]
  },
  {
   "cell_type": "code",
   "execution_count": 314,
   "id": "6d6239da-9bad-4dc4-8ba2-9cb2225cab8b",
   "metadata": {},
   "outputs": [],
   "source": [
    "import numpy as np"
   ]
  },
  {
   "cell_type": "code",
   "execution_count": 315,
   "id": "b28f6b70-ea16-43c6-b082-8de6e5ef2303",
   "metadata": {},
   "outputs": [],
   "source": [
    "device = torch.device(\"cuda:0\" if torch.cuda.is_available() else \"cpu\")"
   ]
  },
  {
   "cell_type": "code",
   "execution_count": 316,
   "id": "f53e9713-076b-4275-9e4e-e2d321883f9c",
   "metadata": {},
   "outputs": [
    {
     "data": {
      "text/plain": [
       "device(type='cpu')"
      ]
     },
     "execution_count": 316,
     "metadata": {},
     "output_type": "execute_result"
    }
   ],
   "source": [
    "device"
   ]
  },
  {
   "cell_type": "code",
   "execution_count": 317,
   "id": "2a7c0848-372c-4c42-818c-6048ca1ad477",
   "metadata": {},
   "outputs": [],
   "source": [
    "path = untar_data(URLs.MNIST_SAMPLE)"
   ]
  },
  {
   "cell_type": "code",
   "execution_count": 318,
   "id": "0b2908fc-bbc9-4cbc-b3ef-37b8e6ec0102",
   "metadata": {},
   "outputs": [
    {
     "data": {
      "text/plain": [
       "(#3) [Path('/Users/stephenzhou/.fastai/data/mnist_sample/valid'),Path('/Users/stephenzhou/.fastai/data/mnist_sample/labels.csv'),Path('/Users/stephenzhou/.fastai/data/mnist_sample/train')]"
      ]
     },
     "execution_count": 318,
     "metadata": {},
     "output_type": "execute_result"
    }
   ],
   "source": [
    "path.ls()"
   ]
  },
  {
   "cell_type": "code",
   "execution_count": 319,
   "id": "d02ec5a4-17e5-42ca-8d00-ffeeca8b3bb6",
   "metadata": {},
   "outputs": [
    {
     "data": {
      "text/plain": [
       "(#2) [Path('/Users/stephenzhou/.fastai/data/mnist_sample/train/7'),Path('/Users/stephenzhou/.fastai/data/mnist_sample/train/3')]"
      ]
     },
     "execution_count": 319,
     "metadata": {},
     "output_type": "execute_result"
    }
   ],
   "source": [
    "(path/'train').ls()"
   ]
  },
  {
   "cell_type": "code",
   "execution_count": 320,
   "id": "a10626c7-5d65-4e6a-858f-2a10d80ee13c",
   "metadata": {},
   "outputs": [],
   "source": [
    "threes = sorted((path/'train/3').ls())"
   ]
  },
  {
   "cell_type": "code",
   "execution_count": 321,
   "id": "3f78df86-f581-4911-ac77-2b6132290493",
   "metadata": {},
   "outputs": [],
   "source": [
    "sevens = (path/'train/7').ls().sorted()"
   ]
  },
  {
   "cell_type": "code",
   "execution_count": 322,
   "id": "ce9b5766-b6ba-4862-816b-a1e15ed9f5d9",
   "metadata": {},
   "outputs": [],
   "source": [
    "im3_path = threes[1]"
   ]
  },
  {
   "cell_type": "code",
   "execution_count": 323,
   "id": "d9ffa44a-4ed9-4749-97c9-922845b6e447",
   "metadata": {},
   "outputs": [],
   "source": [
    "im3 = Image.open(im3_path)"
   ]
  },
  {
   "cell_type": "code",
   "execution_count": 324,
   "id": "71b41bda-ef3e-4f71-ba78-2450cfcc92fc",
   "metadata": {},
   "outputs": [
    {
     "data": {
      "image/jpeg": "[encoded data removed]",
      "image/png": "[encoded data removed]",
      "text/plain": [
       "<PIL.PngImagePlugin.PngImageFile image mode=L size=28x28>"
      ]
     },
     "execution_count": 324,
     "metadata": {},
     "output_type": "execute_result"
    }
   ],
   "source": [
    "im3"
   ]
  },
  {
   "cell_type": "code",
   "execution_count": 325,
   "id": "61b1ce2d-4afb-4595-b0c2-ba27360855ee",
   "metadata": {},
   "outputs": [
    {
     "data": {
      "text/plain": [
       "(28, 28)"
      ]
     },
     "execution_count": 325,
     "metadata": {},
     "output_type": "execute_result"
    }
   ],
   "source": [
    "array(im3).shape"
   ]
  },
  {
   "cell_type": "code",
   "execution_count": 326,
   "id": "93199251-3823-46c3-baeb-008dc5d97679",
   "metadata": {},
   "outputs": [],
   "source": [
    "im3_t = tensor(im3)"
   ]
  },
  {
   "cell_type": "code",
   "execution_count": 327,
   "id": "cdef33aa-a844-4bc8-9309-21b54e6ee658",
   "metadata": {},
   "outputs": [],
   "source": [
    "df = pd.DataFrame(im3_t[4:15, 4:22])"
   ]
  },
  {
   "cell_type": "code",
   "execution_count": 328,
   "id": "dc645410-bc7e-4a8a-aef8-0c31eacdf448",
   "metadata": {},
   "outputs": [
    {
     "data": {
      "text/html": [
       "<style type=\"text/css\">\n",
       "#T_6c843_row0_col0, #T_6c843_row0_col1, #T_6c843_row0_col2, #T_6c843_row0_col3, #T_6c843_row0_col4, #T_6c843_row0_col5, #T_6c843_row0_col6, #T_6c843_row0_col7, #T_6c843_row0_col8, #T_6c843_row0_col9, #T_6c843_row0_col10, #T_6c843_row0_col11, #T_6c843_row0_col12, #T_6c843_row0_col13, #T_6c843_row0_col14, #T_6c843_row0_col15, #T_6c843_row0_col16, #T_6c843_row0_col17, #T_6c843_row1_col0, #T_6c843_row1_col1, #T_6c843_row1_col2, #T_6c843_row1_col3, #T_6c843_row1_col4, #T_6c843_row1_col15, #T_6c843_row1_col16, #T_6c843_row1_col17, #T_6c843_row2_col0, #T_6c843_row2_col1, #T_6c843_row2_col2, #T_6c843_row2_col15, #T_6c843_row2_col16, #T_6c843_row2_col17, #T_6c843_row3_col0, #T_6c843_row3_col15, #T_6c843_row3_col16, #T_6c843_row3_col17, #T_6c843_row4_col0, #T_6c843_row4_col6, #T_6c843_row4_col7, #T_6c843_row4_col8, #T_6c843_row4_col9, #T_6c843_row4_col10, #T_6c843_row4_col15, #T_6c843_row4_col16, #T_6c843_row4_col17, #T_6c843_row5_col0, #T_6c843_row5_col5, #T_6c843_row5_col6, #T_6c843_row5_col7, #T_6c843_row5_col8, #T_6c843_row5_col9, #T_6c843_row5_col15, #T_6c843_row5_col16, #T_6c843_row5_col17, #T_6c843_row6_col0, #T_6c843_row6_col1, #T_6c843_row6_col2, #T_6c843_row6_col3, #T_6c843_row6_col4, #T_6c843_row6_col5, #T_6c843_row6_col6, #T_6c843_row6_col7, #T_6c843_row6_col8, #T_6c843_row6_col9, #T_6c843_row6_col14, #T_6c843_row6_col15, #T_6c843_row6_col16, #T_6c843_row6_col17, #T_6c843_row7_col0, #T_6c843_row7_col1, #T_6c843_row7_col2, #T_6c843_row7_col3, #T_6c843_row7_col4, #T_6c843_row7_col5, #T_6c843_row7_col6, #T_6c843_row7_col13, #T_6c843_row7_col14, #T_6c843_row7_col15, #T_6c843_row7_col16, #T_6c843_row7_col17, #T_6c843_row8_col0, #T_6c843_row8_col1, #T_6c843_row8_col2, #T_6c843_row8_col3, #T_6c843_row8_col4, #T_6c843_row8_col13, #T_6c843_row8_col14, #T_6c843_row8_col15, #T_6c843_row8_col16, #T_6c843_row8_col17, #T_6c843_row9_col0, #T_6c843_row9_col1, #T_6c843_row9_col2, #T_6c843_row9_col3, #T_6c843_row9_col4, #T_6c843_row9_col16, #T_6c843_row9_col17, #T_6c843_row10_col0, #T_6c843_row10_col1, #T_6c843_row10_col2, #T_6c843_row10_col3, #T_6c843_row10_col4, #T_6c843_row10_col5, #T_6c843_row10_col6, #T_6c843_row10_col17 {\n",
       "  font-size: 6pt;\n",
       "  background-color: #ffffff;\n",
       "  color: #000000;\n",
       "}\n",
       "#T_6c843_row1_col5 {\n",
       "  font-size: 6pt;\n",
       "  background-color: #efefef;\n",
       "  color: #000000;\n",
       "}\n",
       "#T_6c843_row1_col6, #T_6c843_row1_col13 {\n",
       "  font-size: 6pt;\n",
       "  background-color: #7c7c7c;\n",
       "  color: #f1f1f1;\n",
       "}\n",
       "#T_6c843_row1_col7 {\n",
       "  font-size: 6pt;\n",
       "  background-color: #4a4a4a;\n",
       "  color: #f1f1f1;\n",
       "}\n",
       "#T_6c843_row1_col8, #T_6c843_row1_col9, #T_6c843_row1_col10, #T_6c843_row2_col5, #T_6c843_row2_col6, #T_6c843_row2_col7, #T_6c843_row2_col11, #T_6c843_row2_col12, #T_6c843_row2_col13, #T_6c843_row3_col4, #T_6c843_row3_col12, #T_6c843_row3_col13, #T_6c843_row4_col1, #T_6c843_row4_col2, #T_6c843_row4_col3, #T_6c843_row4_col12, #T_6c843_row4_col13, #T_6c843_row5_col12, #T_6c843_row6_col11, #T_6c843_row9_col11, #T_6c843_row10_col11, #T_6c843_row10_col12, #T_6c843_row10_col13, #T_6c843_row10_col14, #T_6c843_row10_col15, #T_6c843_row10_col16 {\n",
       "  font-size: 6pt;\n",
       "  background-color: #000000;\n",
       "  color: #f1f1f1;\n",
       "}\n",
       "#T_6c843_row1_col11 {\n",
       "  font-size: 6pt;\n",
       "  background-color: #606060;\n",
       "  color: #f1f1f1;\n",
       "}\n",
       "#T_6c843_row1_col12 {\n",
       "  font-size: 6pt;\n",
       "  background-color: #4d4d4d;\n",
       "  color: #f1f1f1;\n",
       "}\n",
       "#T_6c843_row1_col14 {\n",
       "  font-size: 6pt;\n",
       "  background-color: #bbbbbb;\n",
       "  color: #000000;\n",
       "}\n",
       "#T_6c843_row2_col3 {\n",
       "  font-size: 6pt;\n",
       "  background-color: #e4e4e4;\n",
       "  color: #000000;\n",
       "}\n",
       "#T_6c843_row2_col4, #T_6c843_row8_col6 {\n",
       "  font-size: 6pt;\n",
       "  background-color: #6b6b6b;\n",
       "  color: #f1f1f1;\n",
       "}\n",
       "#T_6c843_row2_col8, #T_6c843_row2_col14, #T_6c843_row3_col14 {\n",
       "  font-size: 6pt;\n",
       "  background-color: #171717;\n",
       "  color: #f1f1f1;\n",
       "}\n",
       "#T_6c843_row2_col9, #T_6c843_row3_col11 {\n",
       "  font-size: 6pt;\n",
       "  background-color: #4b4b4b;\n",
       "  color: #f1f1f1;\n",
       "}\n",
       "#T_6c843_row2_col10, #T_6c843_row7_col10, #T_6c843_row8_col8, #T_6c843_row8_col10, #T_6c843_row9_col8, #T_6c843_row9_col10 {\n",
       "  font-size: 6pt;\n",
       "  background-color: #010101;\n",
       "  color: #f1f1f1;\n",
       "}\n",
       "#T_6c843_row3_col1 {\n",
       "  font-size: 6pt;\n",
       "  background-color: #272727;\n",
       "  color: #f1f1f1;\n",
       "}\n",
       "#T_6c843_row3_col2 {\n",
       "  font-size: 6pt;\n",
       "  background-color: #0a0a0a;\n",
       "  color: #f1f1f1;\n",
       "}\n",
       "#T_6c843_row3_col3 {\n",
       "  font-size: 6pt;\n",
       "  background-color: #050505;\n",
       "  color: #f1f1f1;\n",
       "}\n",
       "#T_6c843_row3_col5 {\n",
       "  font-size: 6pt;\n",
       "  background-color: #333333;\n",
       "  color: #f1f1f1;\n",
       "}\n",
       "#T_6c843_row3_col6 {\n",
       "  font-size: 6pt;\n",
       "  background-color: #e6e6e6;\n",
       "  color: #000000;\n",
       "}\n",
       "#T_6c843_row3_col7, #T_6c843_row3_col10 {\n",
       "  font-size: 6pt;\n",
       "  background-color: #fafafa;\n",
       "  color: #000000;\n",
       "}\n",
       "#T_6c843_row3_col8 {\n",
       "  font-size: 6pt;\n",
       "  background-color: #fbfbfb;\n",
       "  color: #000000;\n",
       "}\n",
       "#T_6c843_row3_col9 {\n",
       "  font-size: 6pt;\n",
       "  background-color: #fdfdfd;\n",
       "  color: #000000;\n",
       "}\n",
       "#T_6c843_row4_col4 {\n",
       "  font-size: 6pt;\n",
       "  background-color: #1b1b1b;\n",
       "  color: #f1f1f1;\n",
       "}\n",
       "#T_6c843_row4_col5 {\n",
       "  font-size: 6pt;\n",
       "  background-color: #e0e0e0;\n",
       "  color: #000000;\n",
       "}\n",
       "#T_6c843_row4_col11 {\n",
       "  font-size: 6pt;\n",
       "  background-color: #4e4e4e;\n",
       "  color: #f1f1f1;\n",
       "}\n",
       "#T_6c843_row4_col14 {\n",
       "  font-size: 6pt;\n",
       "  background-color: #767676;\n",
       "  color: #f1f1f1;\n",
       "}\n",
       "#T_6c843_row5_col1 {\n",
       "  font-size: 6pt;\n",
       "  background-color: #fcfcfc;\n",
       "  color: #000000;\n",
       "}\n",
       "#T_6c843_row5_col2, #T_6c843_row5_col3 {\n",
       "  font-size: 6pt;\n",
       "  background-color: #f6f6f6;\n",
       "  color: #000000;\n",
       "}\n",
       "#T_6c843_row5_col4, #T_6c843_row7_col7 {\n",
       "  font-size: 6pt;\n",
       "  background-color: #f8f8f8;\n",
       "  color: #000000;\n",
       "}\n",
       "#T_6c843_row5_col10, #T_6c843_row10_col7 {\n",
       "  font-size: 6pt;\n",
       "  background-color: #e8e8e8;\n",
       "  color: #000000;\n",
       "}\n",
       "#T_6c843_row5_col11 {\n",
       "  font-size: 6pt;\n",
       "  background-color: #222222;\n",
       "  color: #f1f1f1;\n",
       "}\n",
       "#T_6c843_row5_col13, #T_6c843_row6_col12 {\n",
       "  font-size: 6pt;\n",
       "  background-color: #090909;\n",
       "  color: #f1f1f1;\n",
       "}\n",
       "#T_6c843_row5_col14 {\n",
       "  font-size: 6pt;\n",
       "  background-color: #d0d0d0;\n",
       "  color: #000000;\n",
       "}\n",
       "#T_6c843_row6_col10, #T_6c843_row7_col11, #T_6c843_row9_col6 {\n",
       "  font-size: 6pt;\n",
       "  background-color: #060606;\n",
       "  color: #f1f1f1;\n",
       "}\n",
       "#T_6c843_row6_col13 {\n",
       "  font-size: 6pt;\n",
       "  background-color: #979797;\n",
       "  color: #f1f1f1;\n",
       "}\n",
       "#T_6c843_row7_col8 {\n",
       "  font-size: 6pt;\n",
       "  background-color: #b6b6b6;\n",
       "  color: #000000;\n",
       "}\n",
       "#T_6c843_row7_col9 {\n",
       "  font-size: 6pt;\n",
       "  background-color: #252525;\n",
       "  color: #f1f1f1;\n",
       "}\n",
       "#T_6c843_row7_col12 {\n",
       "  font-size: 6pt;\n",
       "  background-color: #999999;\n",
       "  color: #f1f1f1;\n",
       "}\n",
       "#T_6c843_row8_col5 {\n",
       "  font-size: 6pt;\n",
       "  background-color: #f9f9f9;\n",
       "  color: #000000;\n",
       "}\n",
       "#T_6c843_row8_col7 {\n",
       "  font-size: 6pt;\n",
       "  background-color: #101010;\n",
       "  color: #f1f1f1;\n",
       "}\n",
       "#T_6c843_row8_col9, #T_6c843_row9_col9 {\n",
       "  font-size: 6pt;\n",
       "  background-color: #020202;\n",
       "  color: #f1f1f1;\n",
       "}\n",
       "#T_6c843_row8_col11 {\n",
       "  font-size: 6pt;\n",
       "  background-color: #545454;\n",
       "  color: #f1f1f1;\n",
       "}\n",
       "#T_6c843_row8_col12 {\n",
       "  font-size: 6pt;\n",
       "  background-color: #f1f1f1;\n",
       "  color: #000000;\n",
       "}\n",
       "#T_6c843_row9_col5 {\n",
       "  font-size: 6pt;\n",
       "  background-color: #f7f7f7;\n",
       "  color: #000000;\n",
       "}\n",
       "#T_6c843_row9_col7 {\n",
       "  font-size: 6pt;\n",
       "  background-color: #030303;\n",
       "  color: #f1f1f1;\n",
       "}\n",
       "#T_6c843_row9_col12 {\n",
       "  font-size: 6pt;\n",
       "  background-color: #181818;\n",
       "  color: #f1f1f1;\n",
       "}\n",
       "#T_6c843_row9_col13 {\n",
       "  font-size: 6pt;\n",
       "  background-color: #303030;\n",
       "  color: #f1f1f1;\n",
       "}\n",
       "#T_6c843_row9_col14 {\n",
       "  font-size: 6pt;\n",
       "  background-color: #a9a9a9;\n",
       "  color: #f1f1f1;\n",
       "}\n",
       "#T_6c843_row9_col15 {\n",
       "  font-size: 6pt;\n",
       "  background-color: #fefefe;\n",
       "  color: #000000;\n",
       "}\n",
       "#T_6c843_row10_col8, #T_6c843_row10_col9 {\n",
       "  font-size: 6pt;\n",
       "  background-color: #bababa;\n",
       "  color: #000000;\n",
       "}\n",
       "#T_6c843_row10_col10 {\n",
       "  font-size: 6pt;\n",
       "  background-color: #393939;\n",
       "  color: #f1f1f1;\n",
       "}\n",
       "</style>\n",
       "<table id=\"T_6c843\">\n",
       "  <thead>\n",
       "    <tr>\n",
       "      <th class=\"blank level0\" >&nbsp;</th>\n",
       "      <th id=\"T_6c843_level0_col0\" class=\"col_heading level0 col0\" >0</th>\n",
       "      <th id=\"T_6c843_level0_col1\" class=\"col_heading level0 col1\" >1</th>\n",
       "      <th id=\"T_6c843_level0_col2\" class=\"col_heading level0 col2\" >2</th>\n",
       "      <th id=\"T_6c843_level0_col3\" class=\"col_heading level0 col3\" >3</th>\n",
       "      <th id=\"T_6c843_level0_col4\" class=\"col_heading level0 col4\" >4</th>\n",
       "      <th id=\"T_6c843_level0_col5\" class=\"col_heading level0 col5\" >5</th>\n",
       "      <th id=\"T_6c843_level0_col6\" class=\"col_heading level0 col6\" >6</th>\n",
       "      <th id=\"T_6c843_level0_col7\" class=\"col_heading level0 col7\" >7</th>\n",
       "      <th id=\"T_6c843_level0_col8\" class=\"col_heading level0 col8\" >8</th>\n",
       "      <th id=\"T_6c843_level0_col9\" class=\"col_heading level0 col9\" >9</th>\n",
       "      <th id=\"T_6c843_level0_col10\" class=\"col_heading level0 col10\" >10</th>\n",
       "      <th id=\"T_6c843_level0_col11\" class=\"col_heading level0 col11\" >11</th>\n",
       "      <th id=\"T_6c843_level0_col12\" class=\"col_heading level0 col12\" >12</th>\n",
       "      <th id=\"T_6c843_level0_col13\" class=\"col_heading level0 col13\" >13</th>\n",
       "      <th id=\"T_6c843_level0_col14\" class=\"col_heading level0 col14\" >14</th>\n",
       "      <th id=\"T_6c843_level0_col15\" class=\"col_heading level0 col15\" >15</th>\n",
       "      <th id=\"T_6c843_level0_col16\" class=\"col_heading level0 col16\" >16</th>\n",
       "      <th id=\"T_6c843_level0_col17\" class=\"col_heading level0 col17\" >17</th>\n",
       "    </tr>\n",
       "  </thead>\n",
       "  <tbody>\n",
       "    <tr>\n",
       "      <th id=\"T_6c843_level0_row0\" class=\"row_heading level0 row0\" >0</th>\n",
       "      <td id=\"T_6c843_row0_col0\" class=\"data row0 col0\" >0</td>\n",
       "      <td id=\"T_6c843_row0_col1\" class=\"data row0 col1\" >0</td>\n",
       "      <td id=\"T_6c843_row0_col2\" class=\"data row0 col2\" >0</td>\n",
       "      <td id=\"T_6c843_row0_col3\" class=\"data row0 col3\" >0</td>\n",
       "      <td id=\"T_6c843_row0_col4\" class=\"data row0 col4\" >0</td>\n",
       "      <td id=\"T_6c843_row0_col5\" class=\"data row0 col5\" >0</td>\n",
       "      <td id=\"T_6c843_row0_col6\" class=\"data row0 col6\" >0</td>\n",
       "      <td id=\"T_6c843_row0_col7\" class=\"data row0 col7\" >0</td>\n",
       "      <td id=\"T_6c843_row0_col8\" class=\"data row0 col8\" >0</td>\n",
       "      <td id=\"T_6c843_row0_col9\" class=\"data row0 col9\" >0</td>\n",
       "      <td id=\"T_6c843_row0_col10\" class=\"data row0 col10\" >0</td>\n",
       "      <td id=\"T_6c843_row0_col11\" class=\"data row0 col11\" >0</td>\n",
       "      <td id=\"T_6c843_row0_col12\" class=\"data row0 col12\" >0</td>\n",
       "      <td id=\"T_6c843_row0_col13\" class=\"data row0 col13\" >0</td>\n",
       "      <td id=\"T_6c843_row0_col14\" class=\"data row0 col14\" >0</td>\n",
       "      <td id=\"T_6c843_row0_col15\" class=\"data row0 col15\" >0</td>\n",
       "      <td id=\"T_6c843_row0_col16\" class=\"data row0 col16\" >0</td>\n",
       "      <td id=\"T_6c843_row0_col17\" class=\"data row0 col17\" >0</td>\n",
       "    </tr>\n",
       "    <tr>\n",
       "      <th id=\"T_6c843_level0_row1\" class=\"row_heading level0 row1\" >1</th>\n",
       "      <td id=\"T_6c843_row1_col0\" class=\"data row1 col0\" >0</td>\n",
       "      <td id=\"T_6c843_row1_col1\" class=\"data row1 col1\" >0</td>\n",
       "      <td id=\"T_6c843_row1_col2\" class=\"data row1 col2\" >0</td>\n",
       "      <td id=\"T_6c843_row1_col3\" class=\"data row1 col3\" >0</td>\n",
       "      <td id=\"T_6c843_row1_col4\" class=\"data row1 col4\" >0</td>\n",
       "      <td id=\"T_6c843_row1_col5\" class=\"data row1 col5\" >29</td>\n",
       "      <td id=\"T_6c843_row1_col6\" class=\"data row1 col6\" >150</td>\n",
       "      <td id=\"T_6c843_row1_col7\" class=\"data row1 col7\" >195</td>\n",
       "      <td id=\"T_6c843_row1_col8\" class=\"data row1 col8\" >254</td>\n",
       "      <td id=\"T_6c843_row1_col9\" class=\"data row1 col9\" >255</td>\n",
       "      <td id=\"T_6c843_row1_col10\" class=\"data row1 col10\" >254</td>\n",
       "      <td id=\"T_6c843_row1_col11\" class=\"data row1 col11\" >176</td>\n",
       "      <td id=\"T_6c843_row1_col12\" class=\"data row1 col12\" >193</td>\n",
       "      <td id=\"T_6c843_row1_col13\" class=\"data row1 col13\" >150</td>\n",
       "      <td id=\"T_6c843_row1_col14\" class=\"data row1 col14\" >96</td>\n",
       "      <td id=\"T_6c843_row1_col15\" class=\"data row1 col15\" >0</td>\n",
       "      <td id=\"T_6c843_row1_col16\" class=\"data row1 col16\" >0</td>\n",
       "      <td id=\"T_6c843_row1_col17\" class=\"data row1 col17\" >0</td>\n",
       "    </tr>\n",
       "    <tr>\n",
       "      <th id=\"T_6c843_level0_row2\" class=\"row_heading level0 row2\" >2</th>\n",
       "      <td id=\"T_6c843_row2_col0\" class=\"data row2 col0\" >0</td>\n",
       "      <td id=\"T_6c843_row2_col1\" class=\"data row2 col1\" >0</td>\n",
       "      <td id=\"T_6c843_row2_col2\" class=\"data row2 col2\" >0</td>\n",
       "      <td id=\"T_6c843_row2_col3\" class=\"data row2 col3\" >48</td>\n",
       "      <td id=\"T_6c843_row2_col4\" class=\"data row2 col4\" >166</td>\n",
       "      <td id=\"T_6c843_row2_col5\" class=\"data row2 col5\" >224</td>\n",
       "      <td id=\"T_6c843_row2_col6\" class=\"data row2 col6\" >253</td>\n",
       "      <td id=\"T_6c843_row2_col7\" class=\"data row2 col7\" >253</td>\n",
       "      <td id=\"T_6c843_row2_col8\" class=\"data row2 col8\" >234</td>\n",
       "      <td id=\"T_6c843_row2_col9\" class=\"data row2 col9\" >196</td>\n",
       "      <td id=\"T_6c843_row2_col10\" class=\"data row2 col10\" >253</td>\n",
       "      <td id=\"T_6c843_row2_col11\" class=\"data row2 col11\" >253</td>\n",
       "      <td id=\"T_6c843_row2_col12\" class=\"data row2 col12\" >253</td>\n",
       "      <td id=\"T_6c843_row2_col13\" class=\"data row2 col13\" >253</td>\n",
       "      <td id=\"T_6c843_row2_col14\" class=\"data row2 col14\" >233</td>\n",
       "      <td id=\"T_6c843_row2_col15\" class=\"data row2 col15\" >0</td>\n",
       "      <td id=\"T_6c843_row2_col16\" class=\"data row2 col16\" >0</td>\n",
       "      <td id=\"T_6c843_row2_col17\" class=\"data row2 col17\" >0</td>\n",
       "    </tr>\n",
       "    <tr>\n",
       "      <th id=\"T_6c843_level0_row3\" class=\"row_heading level0 row3\" >3</th>\n",
       "      <td id=\"T_6c843_row3_col0\" class=\"data row3 col0\" >0</td>\n",
       "      <td id=\"T_6c843_row3_col1\" class=\"data row3 col1\" >93</td>\n",
       "      <td id=\"T_6c843_row3_col2\" class=\"data row3 col2\" >244</td>\n",
       "      <td id=\"T_6c843_row3_col3\" class=\"data row3 col3\" >249</td>\n",
       "      <td id=\"T_6c843_row3_col4\" class=\"data row3 col4\" >253</td>\n",
       "      <td id=\"T_6c843_row3_col5\" class=\"data row3 col5\" >187</td>\n",
       "      <td id=\"T_6c843_row3_col6\" class=\"data row3 col6\" >46</td>\n",
       "      <td id=\"T_6c843_row3_col7\" class=\"data row3 col7\" >10</td>\n",
       "      <td id=\"T_6c843_row3_col8\" class=\"data row3 col8\" >8</td>\n",
       "      <td id=\"T_6c843_row3_col9\" class=\"data row3 col9\" >4</td>\n",
       "      <td id=\"T_6c843_row3_col10\" class=\"data row3 col10\" >10</td>\n",
       "      <td id=\"T_6c843_row3_col11\" class=\"data row3 col11\" >194</td>\n",
       "      <td id=\"T_6c843_row3_col12\" class=\"data row3 col12\" >253</td>\n",
       "      <td id=\"T_6c843_row3_col13\" class=\"data row3 col13\" >253</td>\n",
       "      <td id=\"T_6c843_row3_col14\" class=\"data row3 col14\" >233</td>\n",
       "      <td id=\"T_6c843_row3_col15\" class=\"data row3 col15\" >0</td>\n",
       "      <td id=\"T_6c843_row3_col16\" class=\"data row3 col16\" >0</td>\n",
       "      <td id=\"T_6c843_row3_col17\" class=\"data row3 col17\" >0</td>\n",
       "    </tr>\n",
       "    <tr>\n",
       "      <th id=\"T_6c843_level0_row4\" class=\"row_heading level0 row4\" >4</th>\n",
       "      <td id=\"T_6c843_row4_col0\" class=\"data row4 col0\" >0</td>\n",
       "      <td id=\"T_6c843_row4_col1\" class=\"data row4 col1\" >107</td>\n",
       "      <td id=\"T_6c843_row4_col2\" class=\"data row4 col2\" >253</td>\n",
       "      <td id=\"T_6c843_row4_col3\" class=\"data row4 col3\" >253</td>\n",
       "      <td id=\"T_6c843_row4_col4\" class=\"data row4 col4\" >230</td>\n",
       "      <td id=\"T_6c843_row4_col5\" class=\"data row4 col5\" >48</td>\n",
       "      <td id=\"T_6c843_row4_col6\" class=\"data row4 col6\" >0</td>\n",
       "      <td id=\"T_6c843_row4_col7\" class=\"data row4 col7\" >0</td>\n",
       "      <td id=\"T_6c843_row4_col8\" class=\"data row4 col8\" >0</td>\n",
       "      <td id=\"T_6c843_row4_col9\" class=\"data row4 col9\" >0</td>\n",
       "      <td id=\"T_6c843_row4_col10\" class=\"data row4 col10\" >0</td>\n",
       "      <td id=\"T_6c843_row4_col11\" class=\"data row4 col11\" >192</td>\n",
       "      <td id=\"T_6c843_row4_col12\" class=\"data row4 col12\" >253</td>\n",
       "      <td id=\"T_6c843_row4_col13\" class=\"data row4 col13\" >253</td>\n",
       "      <td id=\"T_6c843_row4_col14\" class=\"data row4 col14\" >156</td>\n",
       "      <td id=\"T_6c843_row4_col15\" class=\"data row4 col15\" >0</td>\n",
       "      <td id=\"T_6c843_row4_col16\" class=\"data row4 col16\" >0</td>\n",
       "      <td id=\"T_6c843_row4_col17\" class=\"data row4 col17\" >0</td>\n",
       "    </tr>\n",
       "    <tr>\n",
       "      <th id=\"T_6c843_level0_row5\" class=\"row_heading level0 row5\" >5</th>\n",
       "      <td id=\"T_6c843_row5_col0\" class=\"data row5 col0\" >0</td>\n",
       "      <td id=\"T_6c843_row5_col1\" class=\"data row5 col1\" >3</td>\n",
       "      <td id=\"T_6c843_row5_col2\" class=\"data row5 col2\" >20</td>\n",
       "      <td id=\"T_6c843_row5_col3\" class=\"data row5 col3\" >20</td>\n",
       "      <td id=\"T_6c843_row5_col4\" class=\"data row5 col4\" >15</td>\n",
       "      <td id=\"T_6c843_row5_col5\" class=\"data row5 col5\" >0</td>\n",
       "      <td id=\"T_6c843_row5_col6\" class=\"data row5 col6\" >0</td>\n",
       "      <td id=\"T_6c843_row5_col7\" class=\"data row5 col7\" >0</td>\n",
       "      <td id=\"T_6c843_row5_col8\" class=\"data row5 col8\" >0</td>\n",
       "      <td id=\"T_6c843_row5_col9\" class=\"data row5 col9\" >0</td>\n",
       "      <td id=\"T_6c843_row5_col10\" class=\"data row5 col10\" >43</td>\n",
       "      <td id=\"T_6c843_row5_col11\" class=\"data row5 col11\" >224</td>\n",
       "      <td id=\"T_6c843_row5_col12\" class=\"data row5 col12\" >253</td>\n",
       "      <td id=\"T_6c843_row5_col13\" class=\"data row5 col13\" >245</td>\n",
       "      <td id=\"T_6c843_row5_col14\" class=\"data row5 col14\" >74</td>\n",
       "      <td id=\"T_6c843_row5_col15\" class=\"data row5 col15\" >0</td>\n",
       "      <td id=\"T_6c843_row5_col16\" class=\"data row5 col16\" >0</td>\n",
       "      <td id=\"T_6c843_row5_col17\" class=\"data row5 col17\" >0</td>\n",
       "    </tr>\n",
       "    <tr>\n",
       "      <th id=\"T_6c843_level0_row6\" class=\"row_heading level0 row6\" >6</th>\n",
       "      <td id=\"T_6c843_row6_col0\" class=\"data row6 col0\" >0</td>\n",
       "      <td id=\"T_6c843_row6_col1\" class=\"data row6 col1\" >0</td>\n",
       "      <td id=\"T_6c843_row6_col2\" class=\"data row6 col2\" >0</td>\n",
       "      <td id=\"T_6c843_row6_col3\" class=\"data row6 col3\" >0</td>\n",
       "      <td id=\"T_6c843_row6_col4\" class=\"data row6 col4\" >0</td>\n",
       "      <td id=\"T_6c843_row6_col5\" class=\"data row6 col5\" >0</td>\n",
       "      <td id=\"T_6c843_row6_col6\" class=\"data row6 col6\" >0</td>\n",
       "      <td id=\"T_6c843_row6_col7\" class=\"data row6 col7\" >0</td>\n",
       "      <td id=\"T_6c843_row6_col8\" class=\"data row6 col8\" >0</td>\n",
       "      <td id=\"T_6c843_row6_col9\" class=\"data row6 col9\" >0</td>\n",
       "      <td id=\"T_6c843_row6_col10\" class=\"data row6 col10\" >249</td>\n",
       "      <td id=\"T_6c843_row6_col11\" class=\"data row6 col11\" >253</td>\n",
       "      <td id=\"T_6c843_row6_col12\" class=\"data row6 col12\" >245</td>\n",
       "      <td id=\"T_6c843_row6_col13\" class=\"data row6 col13\" >126</td>\n",
       "      <td id=\"T_6c843_row6_col14\" class=\"data row6 col14\" >0</td>\n",
       "      <td id=\"T_6c843_row6_col15\" class=\"data row6 col15\" >0</td>\n",
       "      <td id=\"T_6c843_row6_col16\" class=\"data row6 col16\" >0</td>\n",
       "      <td id=\"T_6c843_row6_col17\" class=\"data row6 col17\" >0</td>\n",
       "    </tr>\n",
       "    <tr>\n",
       "      <th id=\"T_6c843_level0_row7\" class=\"row_heading level0 row7\" >7</th>\n",
       "      <td id=\"T_6c843_row7_col0\" class=\"data row7 col0\" >0</td>\n",
       "      <td id=\"T_6c843_row7_col1\" class=\"data row7 col1\" >0</td>\n",
       "      <td id=\"T_6c843_row7_col2\" class=\"data row7 col2\" >0</td>\n",
       "      <td id=\"T_6c843_row7_col3\" class=\"data row7 col3\" >0</td>\n",
       "      <td id=\"T_6c843_row7_col4\" class=\"data row7 col4\" >0</td>\n",
       "      <td id=\"T_6c843_row7_col5\" class=\"data row7 col5\" >0</td>\n",
       "      <td id=\"T_6c843_row7_col6\" class=\"data row7 col6\" >0</td>\n",
       "      <td id=\"T_6c843_row7_col7\" class=\"data row7 col7\" >14</td>\n",
       "      <td id=\"T_6c843_row7_col8\" class=\"data row7 col8\" >101</td>\n",
       "      <td id=\"T_6c843_row7_col9\" class=\"data row7 col9\" >223</td>\n",
       "      <td id=\"T_6c843_row7_col10\" class=\"data row7 col10\" >253</td>\n",
       "      <td id=\"T_6c843_row7_col11\" class=\"data row7 col11\" >248</td>\n",
       "      <td id=\"T_6c843_row7_col12\" class=\"data row7 col12\" >124</td>\n",
       "      <td id=\"T_6c843_row7_col13\" class=\"data row7 col13\" >0</td>\n",
       "      <td id=\"T_6c843_row7_col14\" class=\"data row7 col14\" >0</td>\n",
       "      <td id=\"T_6c843_row7_col15\" class=\"data row7 col15\" >0</td>\n",
       "      <td id=\"T_6c843_row7_col16\" class=\"data row7 col16\" >0</td>\n",
       "      <td id=\"T_6c843_row7_col17\" class=\"data row7 col17\" >0</td>\n",
       "    </tr>\n",
       "    <tr>\n",
       "      <th id=\"T_6c843_level0_row8\" class=\"row_heading level0 row8\" >8</th>\n",
       "      <td id=\"T_6c843_row8_col0\" class=\"data row8 col0\" >0</td>\n",
       "      <td id=\"T_6c843_row8_col1\" class=\"data row8 col1\" >0</td>\n",
       "      <td id=\"T_6c843_row8_col2\" class=\"data row8 col2\" >0</td>\n",
       "      <td id=\"T_6c843_row8_col3\" class=\"data row8 col3\" >0</td>\n",
       "      <td id=\"T_6c843_row8_col4\" class=\"data row8 col4\" >0</td>\n",
       "      <td id=\"T_6c843_row8_col5\" class=\"data row8 col5\" >11</td>\n",
       "      <td id=\"T_6c843_row8_col6\" class=\"data row8 col6\" >166</td>\n",
       "      <td id=\"T_6c843_row8_col7\" class=\"data row8 col7\" >239</td>\n",
       "      <td id=\"T_6c843_row8_col8\" class=\"data row8 col8\" >253</td>\n",
       "      <td id=\"T_6c843_row8_col9\" class=\"data row8 col9\" >253</td>\n",
       "      <td id=\"T_6c843_row8_col10\" class=\"data row8 col10\" >253</td>\n",
       "      <td id=\"T_6c843_row8_col11\" class=\"data row8 col11\" >187</td>\n",
       "      <td id=\"T_6c843_row8_col12\" class=\"data row8 col12\" >30</td>\n",
       "      <td id=\"T_6c843_row8_col13\" class=\"data row8 col13\" >0</td>\n",
       "      <td id=\"T_6c843_row8_col14\" class=\"data row8 col14\" >0</td>\n",
       "      <td id=\"T_6c843_row8_col15\" class=\"data row8 col15\" >0</td>\n",
       "      <td id=\"T_6c843_row8_col16\" class=\"data row8 col16\" >0</td>\n",
       "      <td id=\"T_6c843_row8_col17\" class=\"data row8 col17\" >0</td>\n",
       "    </tr>\n",
       "    <tr>\n",
       "      <th id=\"T_6c843_level0_row9\" class=\"row_heading level0 row9\" >9</th>\n",
       "      <td id=\"T_6c843_row9_col0\" class=\"data row9 col0\" >0</td>\n",
       "      <td id=\"T_6c843_row9_col1\" class=\"data row9 col1\" >0</td>\n",
       "      <td id=\"T_6c843_row9_col2\" class=\"data row9 col2\" >0</td>\n",
       "      <td id=\"T_6c843_row9_col3\" class=\"data row9 col3\" >0</td>\n",
       "      <td id=\"T_6c843_row9_col4\" class=\"data row9 col4\" >0</td>\n",
       "      <td id=\"T_6c843_row9_col5\" class=\"data row9 col5\" >16</td>\n",
       "      <td id=\"T_6c843_row9_col6\" class=\"data row9 col6\" >248</td>\n",
       "      <td id=\"T_6c843_row9_col7\" class=\"data row9 col7\" >250</td>\n",
       "      <td id=\"T_6c843_row9_col8\" class=\"data row9 col8\" >253</td>\n",
       "      <td id=\"T_6c843_row9_col9\" class=\"data row9 col9\" >253</td>\n",
       "      <td id=\"T_6c843_row9_col10\" class=\"data row9 col10\" >253</td>\n",
       "      <td id=\"T_6c843_row9_col11\" class=\"data row9 col11\" >253</td>\n",
       "      <td id=\"T_6c843_row9_col12\" class=\"data row9 col12\" >232</td>\n",
       "      <td id=\"T_6c843_row9_col13\" class=\"data row9 col13\" >213</td>\n",
       "      <td id=\"T_6c843_row9_col14\" class=\"data row9 col14\" >111</td>\n",
       "      <td id=\"T_6c843_row9_col15\" class=\"data row9 col15\" >2</td>\n",
       "      <td id=\"T_6c843_row9_col16\" class=\"data row9 col16\" >0</td>\n",
       "      <td id=\"T_6c843_row9_col17\" class=\"data row9 col17\" >0</td>\n",
       "    </tr>\n",
       "    <tr>\n",
       "      <th id=\"T_6c843_level0_row10\" class=\"row_heading level0 row10\" >10</th>\n",
       "      <td id=\"T_6c843_row10_col0\" class=\"data row10 col0\" >0</td>\n",
       "      <td id=\"T_6c843_row10_col1\" class=\"data row10 col1\" >0</td>\n",
       "      <td id=\"T_6c843_row10_col2\" class=\"data row10 col2\" >0</td>\n",
       "      <td id=\"T_6c843_row10_col3\" class=\"data row10 col3\" >0</td>\n",
       "      <td id=\"T_6c843_row10_col4\" class=\"data row10 col4\" >0</td>\n",
       "      <td id=\"T_6c843_row10_col5\" class=\"data row10 col5\" >0</td>\n",
       "      <td id=\"T_6c843_row10_col6\" class=\"data row10 col6\" >0</td>\n",
       "      <td id=\"T_6c843_row10_col7\" class=\"data row10 col7\" >43</td>\n",
       "      <td id=\"T_6c843_row10_col8\" class=\"data row10 col8\" >98</td>\n",
       "      <td id=\"T_6c843_row10_col9\" class=\"data row10 col9\" >98</td>\n",
       "      <td id=\"T_6c843_row10_col10\" class=\"data row10 col10\" >208</td>\n",
       "      <td id=\"T_6c843_row10_col11\" class=\"data row10 col11\" >253</td>\n",
       "      <td id=\"T_6c843_row10_col12\" class=\"data row10 col12\" >253</td>\n",
       "      <td id=\"T_6c843_row10_col13\" class=\"data row10 col13\" >253</td>\n",
       "      <td id=\"T_6c843_row10_col14\" class=\"data row10 col14\" >253</td>\n",
       "      <td id=\"T_6c843_row10_col15\" class=\"data row10 col15\" >187</td>\n",
       "      <td id=\"T_6c843_row10_col16\" class=\"data row10 col16\" >22</td>\n",
       "      <td id=\"T_6c843_row10_col17\" class=\"data row10 col17\" >0</td>\n",
       "    </tr>\n",
       "  </tbody>\n",
       "</table>\n"
      ],
      "text/plain": [
       "<pandas.io.formats.style.Styler at 0x17e62d150>"
      ]
     },
     "execution_count": 328,
     "metadata": {},
     "output_type": "execute_result"
    }
   ],
   "source": [
    "df.style.set_properties(**{'font-size':'6pt'}).background_gradient('Greys')"
   ]
  },
  {
   "cell_type": "code",
   "execution_count": 329,
   "id": "78fab22c-746a-470a-bfb5-b7381552afd6",
   "metadata": {},
   "outputs": [],
   "source": [
    "tensors3 = [tensor(Image.open(o)) for o in threes]"
   ]
  },
  {
   "cell_type": "code",
   "execution_count": 330,
   "id": "0dfae2f9-ddd2-40d8-9ee5-f431b93648b7",
   "metadata": {},
   "outputs": [],
   "source": [
    "tensors7 = [tensor(Image.open(o)) for o in sevens]"
   ]
  },
  {
   "cell_type": "code",
   "execution_count": 331,
   "id": "7582c26b-01d2-4224-a8c0-769720356bb6",
   "metadata": {},
   "outputs": [
    {
     "data": {
      "text/plain": [
       "6131"
      ]
     },
     "execution_count": 331,
     "metadata": {},
     "output_type": "execute_result"
    }
   ],
   "source": [
    "len(tensors3)"
   ]
  },
  {
   "cell_type": "code",
   "execution_count": 332,
   "id": "57e03a82-cfa7-4a1a-9ee0-1da0069d69bf",
   "metadata": {},
   "outputs": [
    {
     "data": {
      "text/plain": [
       "6265"
      ]
     },
     "execution_count": 332,
     "metadata": {},
     "output_type": "execute_result"
    }
   ],
   "source": [
    "len(tensors7)"
   ]
  },
  {
   "cell_type": "code",
   "execution_count": 333,
   "id": "dd698ad1-3d37-4d18-8f46-1a1d77e2f649",
   "metadata": {},
   "outputs": [
    {
     "data": {
      "text/plain": [
       "<Axes: >"
      ]
     },
     "execution_count": 333,
     "metadata": {},
     "output_type": "execute_result"
    },
    {
     "data": {
      "image/png": "[encoded data removed]",
      "text/plain": [
       "<Figure size 100x100 with 1 Axes>"
      ]
     },
     "metadata": {},
     "output_type": "display_data"
    }
   ],
   "source": [
    "show_image(tensors7[0])"
   ]
  },
  {
   "cell_type": "code",
   "execution_count": 334,
   "id": "4ebf1fa5-4a9a-4c5a-b12f-ba0715af4c0d",
   "metadata": {},
   "outputs": [],
   "source": [
    "stacked_sevens = torch.stack(tensors7).float()/255"
   ]
  },
  {
   "cell_type": "code",
   "execution_count": 335,
   "id": "250c3902-533a-4986-b79d-71998b7c2e1f",
   "metadata": {},
   "outputs": [],
   "source": [
    "stacked_threes = torch.stack(tensors3).float()/255"
   ]
  },
  {
   "cell_type": "code",
   "execution_count": 336,
   "id": "4358cae9-3d56-4139-a5b5-9aa6f8bcb930",
   "metadata": {
    "scrolled": true
   },
   "outputs": [
    {
     "data": {
      "text/plain": [
       "torch.Size([6131, 28, 28])"
      ]
     },
     "execution_count": 336,
     "metadata": {},
     "output_type": "execute_result"
    }
   ],
   "source": [
    "stacked_threes.shape"
   ]
  },
  {
   "cell_type": "code",
   "execution_count": 337,
   "id": "3102591b-0dc7-4ecf-b313-e3da719bfa85",
   "metadata": {},
   "outputs": [],
   "source": [
    "mean3 = stacked_threes.mean(0)"
   ]
  },
  {
   "cell_type": "code",
   "execution_count": 338,
   "id": "b3b95d4d-733c-4fb4-bd6a-1656d423123e",
   "metadata": {},
   "outputs": [
    {
     "data": {
      "text/plain": [
       "<Axes: >"
      ]
     },
     "execution_count": 338,
     "metadata": {},
     "output_type": "execute_result"
    },
    {
     "data": {
      "image/png": "[encoded data removed]",
      "text/plain": [
       "<Figure size 100x100 with 1 Axes>"
      ]
     },
     "metadata": {},
     "output_type": "display_data"
    }
   ],
   "source": [
    "show_image(mean3)"
   ]
  },
  {
   "cell_type": "code",
   "execution_count": 339,
   "id": "e2c5e78c-902a-46f0-b0f6-8f8a74fb4b29",
   "metadata": {},
   "outputs": [],
   "source": [
    "mean7 = stacked_sevens.mean(0)"
   ]
  },
  {
   "cell_type": "code",
   "execution_count": 340,
   "id": "5c72d9c4-5895-4c81-b599-0a22c789b0a0",
   "metadata": {},
   "outputs": [
    {
     "data": {
      "text/plain": [
       "<Axes: >"
      ]
     },
     "execution_count": 340,
     "metadata": {},
     "output_type": "execute_result"
    },
    {
     "data": {
      "image/png": "[encoded data removed]",
      "text/plain": [
       "<Figure size 100x100 with 1 Axes>"
      ]
     },
     "metadata": {},
     "output_type": "display_data"
    }
   ],
   "source": [
    "show_image(mean7)"
   ]
  },
  {
   "cell_type": "code",
   "execution_count": 341,
   "id": "755a2993-b4d3-4308-8b09-276cacacfd14",
   "metadata": {},
   "outputs": [],
   "source": [
    "def f(t, params):\n",
    "    return params[0]*(t**2) + params[1]*t + params[2]"
   ]
  },
  {
   "cell_type": "code",
   "execution_count": 342,
   "id": "1268eb45-1b05-4125-97e1-4d7a1ab5ca58",
   "metadata": {},
   "outputs": [],
   "source": [
    "def mse(preds, targets):\n",
    "    return torch.mean((preds - targets)**2)"
   ]
  },
  {
   "cell_type": "code",
   "execution_count": 343,
   "id": "6e31760f-8d95-4263-bc76-516c9358ecb8",
   "metadata": {},
   "outputs": [],
   "source": [
    "params = torch.randn(3).requires_grad_()"
   ]
  },
  {
   "cell_type": "code",
   "execution_count": 344,
   "id": "de818fa3-bc78-494a-b512-0a93aa2ab173",
   "metadata": {},
   "outputs": [
    {
     "data": {
      "text/plain": [
       "tensor([ 0.4034,  0.0723, -0.0412], requires_grad=True)"
      ]
     },
     "execution_count": 344,
     "metadata": {},
     "output_type": "execute_result"
    }
   ],
   "source": [
    "params"
   ]
  },
  {
   "cell_type": "code",
   "execution_count": 345,
   "id": "cbfa59a5-08cf-411f-80a5-c55e0fc8e9e3",
   "metadata": {},
   "outputs": [],
   "source": [
    "time = torch.arange(20).float()"
   ]
  },
  {
   "cell_type": "code",
   "execution_count": 346,
   "id": "85f0e3c8-e3bb-4100-88ed-b6508779bbea",
   "metadata": {},
   "outputs": [],
   "source": [
    "speed = torch.randn(20)*3 + 0.75 * (time - 9.5)**2 + 1"
   ]
  },
  {
   "cell_type": "code",
   "execution_count": 347,
   "id": "6f7e686f-35cd-47ae-8529-c35d9166bb82",
   "metadata": {},
   "outputs": [],
   "source": [
    "pred = f(time, params)"
   ]
  },
  {
   "cell_type": "code",
   "execution_count": 348,
   "id": "b2d00076-34bd-40e3-867a-5ff5eb362b6c",
   "metadata": {},
   "outputs": [
    {
     "data": {
      "text/plain": [
       "tensor([-4.1222e-02,  4.3442e-01,  1.7168e+00,  3.8058e+00,  6.7016e+00,  1.0404e+01,  1.4913e+01,  2.0229e+01,  2.6352e+01,  3.3281e+01,  4.1017e+01,  4.9560e+01,  5.8909e+01,  6.9066e+01,\n",
       "         8.0028e+01,  9.1798e+01,  1.0437e+02,  1.1776e+02,  1.3195e+02,  1.4694e+02], grad_fn=<AddBackward0>)"
      ]
     },
     "execution_count": 348,
     "metadata": {},
     "output_type": "execute_result"
    }
   ],
   "source": [
    "pred"
   ]
  },
  {
   "cell_type": "code",
   "execution_count": 349,
   "id": "51f91224-3a77-487c-8be8-a209c90bf815",
   "metadata": {},
   "outputs": [
    {
     "data": {
      "text/plain": [
       "tensor([75.9311, 54.6443, 40.3471, 33.4488, 26.9393, 12.9294,  8.7598,  5.5035,  1.9208,  1.6847, -0.6810,  4.0407,  6.9511, 15.3436, 15.0912, 23.8518, 33.8891, 45.3920, 54.7591, 72.0036])"
      ]
     },
     "execution_count": 349,
     "metadata": {},
     "output_type": "execute_result"
    }
   ],
   "source": [
    "speed"
   ]
  },
  {
   "cell_type": "code",
   "execution_count": 350,
   "id": "28bcfc3b-500a-4565-9dd8-f59c2c414cd1",
   "metadata": {},
   "outputs": [],
   "source": [
    "def show_preds(preds, ax = None):\n",
    "    if ax is None:\n",
    "        ax = plt.subplots()[1]\n",
    "    ax.scatter(time, speed)\n",
    "    ax.scatter(time, to_np(preds), color='red')\n",
    "    ax.set_ylim(-300, 100)"
   ]
  },
  {
   "cell_type": "code",
   "execution_count": 351,
   "id": "22cda6b6-9c20-4621-9215-21692825046f",
   "metadata": {},
   "outputs": [
    {
     "data": {
      "image/png": "[encoded data removed]",
      "text/plain": [
       "<Figure size 640x480 with 1 Axes>"
      ]
     },
     "metadata": {},
     "output_type": "display_data"
    }
   ],
   "source": [
    "show_preds(pred)"
   ]
  },
  {
   "cell_type": "code",
   "execution_count": 352,
   "id": "0d9dbc2c-b6ef-4674-ba16-f0a85b8d54ae",
   "metadata": {},
   "outputs": [],
   "source": [
    "loss = mse(pred, speed)"
   ]
  },
  {
   "cell_type": "code",
   "execution_count": 353,
   "id": "d01f7c67-8785-488a-82f9-ee013fa1d94c",
   "metadata": {},
   "outputs": [],
   "source": [
    "loss.backward()"
   ]
  },
  {
   "cell_type": "code",
   "execution_count": 354,
   "id": "d7618bb2-d751-48d0-b9d0-f8557f2ba48b",
   "metadata": {},
   "outputs": [
    {
     "data": {
      "text/plain": [
       "tensor([14947.7773,   964.4949,    47.6448])"
      ]
     },
     "execution_count": 354,
     "metadata": {},
     "output_type": "execute_result"
    }
   ],
   "source": [
    "params.grad"
   ]
  },
  {
   "cell_type": "code",
   "execution_count": 355,
   "id": "1ba96281-c57b-449d-99d8-9c6937effe28",
   "metadata": {},
   "outputs": [],
   "source": [
    "def apply_step(params, prn=True):\n",
    "    preds = f(time, params)\n",
    "    loss = mse(preds, speed)\n",
    "    loss.backward()\n",
    "    params.data -= 1e-5 * params.grad\n",
    "    params.grad = None\n",
    "    if prn:\n",
    "        print(loss.item())\n",
    "    return preds"
   ]
  },
  {
   "cell_type": "code",
   "execution_count": 356,
   "id": "e57ee93e-0c51-4755-b96d-8f14c5679095",
   "metadata": {},
   "outputs": [
    {
     "data": {
      "image/png": "[encoded data removed]",
      "text/plain": [
       "<Figure size 1200x300 with 4 Axes>"
      ]
     },
     "metadata": {},
     "output_type": "display_data"
    }
   ],
   "source": [
    "_, axes = plt.subplots(1,4,figsize=(12,3))\n",
    "for ax in axes:\n",
    "    show_preds(apply_step(params, False),ax)"
   ]
  },
  {
   "cell_type": "code",
   "execution_count": 357,
   "id": "68a6f578-b4e0-4e67-a0bd-1ce0423b5a0f",
   "metadata": {},
   "outputs": [],
   "source": [
    "train_x = torch.cat([stacked_threes, stacked_sevens]).view(-1, 28*28)"
   ]
  },
  {
   "cell_type": "code",
   "execution_count": 358,
   "id": "ad91731a-e83f-46fc-b05f-c1ade1f750df",
   "metadata": {},
   "outputs": [
    {
     "data": {
      "text/plain": [
       "torch.Size([12396, 784])"
      ]
     },
     "execution_count": 358,
     "metadata": {},
     "output_type": "execute_result"
    }
   ],
   "source": [
    "train_x.shape"
   ]
  },
  {
   "cell_type": "code",
   "execution_count": 359,
   "id": "83f2fb17-5763-456c-ad70-f6f6a145509e",
   "metadata": {},
   "outputs": [],
   "source": [
    "train_y = tensor([1]*len(threes) + [0]*len(sevens)).unsqueeze(1)"
   ]
  },
  {
   "cell_type": "code",
   "execution_count": 360,
   "id": "c5d5402d-e8ca-4e3a-9bb7-c1949f41c0ec",
   "metadata": {},
   "outputs": [
    {
     "data": {
      "text/plain": [
       "(torch.Size([12396, 784]), torch.Size([12396, 1]))"
      ]
     },
     "execution_count": 360,
     "metadata": {},
     "output_type": "execute_result"
    }
   ],
   "source": [
    "train_x.shape, train_y.shape"
   ]
  },
  {
   "cell_type": "code",
   "execution_count": 361,
   "id": "c4c3ab6f-1882-47bc-9c72-0ba416b62aff",
   "metadata": {},
   "outputs": [],
   "source": [
    "dset = list(zip(train_x, train_y))"
   ]
  },
  {
   "cell_type": "code",
   "execution_count": 362,
   "id": "6d723fcf-285a-4446-9859-b4284c1b666a",
   "metadata": {},
   "outputs": [
    {
     "data": {
      "text/plain": [
       "12396"
      ]
     },
     "execution_count": 362,
     "metadata": {},
     "output_type": "execute_result"
    }
   ],
   "source": [
    "len(dset)"
   ]
  },
  {
   "cell_type": "code",
   "execution_count": 363,
   "id": "bdb57213-5c6a-40e9-bd71-260b539f8d89",
   "metadata": {},
   "outputs": [],
   "source": [
    "x, y = dset[0]"
   ]
  },
  {
   "cell_type": "code",
   "execution_count": 364,
   "id": "b4f8721b-07dd-40f2-ab87-b8bbbc1d55a8",
   "metadata": {},
   "outputs": [
    {
     "data": {
      "text/plain": [
       "(torch.Size([784]), torch.Size([1]))"
      ]
     },
     "execution_count": 364,
     "metadata": {},
     "output_type": "execute_result"
    }
   ],
   "source": [
    "x.shape, y.shape"
   ]
  },
  {
   "cell_type": "code",
   "execution_count": 365,
   "id": "bd09d1f6-a938-4b41-95f5-a91789f11899",
   "metadata": {},
   "outputs": [],
   "source": [
    "valid_3_tens = torch.stack([tensor(Image.open(o)) for o in (path/'valid'/'3').ls()])"
   ]
  },
  {
   "cell_type": "code",
   "execution_count": 366,
   "id": "9dcc0bed-ad8d-4fd4-8525-3f6fe919ba50",
   "metadata": {},
   "outputs": [],
   "source": [
    "valid_3_tens = valid_3_tens.float()/255"
   ]
  },
  {
   "cell_type": "code",
   "execution_count": 367,
   "id": "6102151c-dd37-4c1a-8273-79ce262c76ad",
   "metadata": {},
   "outputs": [],
   "source": [
    "valid_7_tens = torch.stack([tensor(Image.open(o)) for o in (path/'valid'/'7').ls()])"
   ]
  },
  {
   "cell_type": "code",
   "execution_count": 368,
   "id": "fd532f23-dff7-46c5-a1bb-1f9e4199eee2",
   "metadata": {},
   "outputs": [],
   "source": [
    "valid_7_tens = valid_7_tens.float()/255"
   ]
  },
  {
   "cell_type": "code",
   "execution_count": 369,
   "id": "cdf4ac85-2970-416c-8861-f67ba9ab2488",
   "metadata": {},
   "outputs": [
    {
     "data": {
      "text/plain": [
       "torch.Size([1010, 28, 28])"
      ]
     },
     "execution_count": 369,
     "metadata": {},
     "output_type": "execute_result"
    }
   ],
   "source": [
    "valid_3_tens.shape"
   ]
  },
  {
   "cell_type": "code",
   "execution_count": 370,
   "id": "7b4f0e5a-1de3-42ca-a5d1-411b831974a4",
   "metadata": {},
   "outputs": [
    {
     "data": {
      "text/plain": [
       "torch.Size([1028, 28, 28])"
      ]
     },
     "execution_count": 370,
     "metadata": {},
     "output_type": "execute_result"
    }
   ],
   "source": [
    "valid_7_tens.shape"
   ]
  },
  {
   "cell_type": "code",
   "execution_count": 371,
   "id": "58518431-7862-4c32-9c3d-cca489d04352",
   "metadata": {},
   "outputs": [],
   "source": [
    "valid_x = torch.cat([valid_3_tens, valid_7_tens]).view(-1, 28*28)"
   ]
  },
  {
   "cell_type": "code",
   "execution_count": 372,
   "id": "b7132fcd-99f6-4363-8164-6a52f1361885",
   "metadata": {},
   "outputs": [],
   "source": [
    "valid_y = tensor(len(valid_3_tens)*[1] + len(valid_7_tens)*[0]).unsqueeze(1)"
   ]
  },
  {
   "cell_type": "code",
   "execution_count": 373,
   "id": "e155c48f-c4ff-4587-90c5-ca40c36f886a",
   "metadata": {},
   "outputs": [],
   "source": [
    "valid_dset = list(zip(valid_x, valid_y))"
   ]
  },
  {
   "cell_type": "code",
   "execution_count": 374,
   "id": "c6c7db09-1e43-4526-bd76-ddce1b5b275e",
   "metadata": {},
   "outputs": [
    {
     "data": {
      "text/plain": [
       "torch.Size([1010, 28, 28])"
      ]
     },
     "execution_count": 374,
     "metadata": {},
     "output_type": "execute_result"
    }
   ],
   "source": [
    "valid_3_tens.shape"
   ]
  },
  {
   "cell_type": "code",
   "execution_count": 375,
   "id": "40e1332e-861e-404d-9613-72f2fc883b17",
   "metadata": {},
   "outputs": [
    {
     "data": {
      "text/plain": [
       "torch.Size([1028, 28, 28])"
      ]
     },
     "execution_count": 375,
     "metadata": {},
     "output_type": "execute_result"
    }
   ],
   "source": [
    "valid_7_tens.shape"
   ]
  },
  {
   "cell_type": "code",
   "execution_count": 376,
   "id": "73180cd9-6ea3-4874-a675-de6d18442653",
   "metadata": {},
   "outputs": [
    {
     "data": {
      "text/plain": [
       "torch.Size([2038, 784])"
      ]
     },
     "execution_count": 376,
     "metadata": {},
     "output_type": "execute_result"
    }
   ],
   "source": [
    "valid_x.shape"
   ]
  },
  {
   "cell_type": "code",
   "execution_count": 377,
   "id": "c6bd2129-b9e0-4ac5-9ff4-ca34918142fd",
   "metadata": {},
   "outputs": [
    {
     "data": {
      "text/plain": [
       "torch.Size([2038, 1])"
      ]
     },
     "execution_count": 377,
     "metadata": {},
     "output_type": "execute_result"
    }
   ],
   "source": [
    "valid_y.shape"
   ]
  },
  {
   "cell_type": "code",
   "execution_count": 378,
   "id": "80ae9d8d-fee0-4b90-9242-b33062cd5b01",
   "metadata": {},
   "outputs": [
    {
     "data": {
      "text/plain": [
       "2038"
      ]
     },
     "execution_count": 378,
     "metadata": {},
     "output_type": "execute_result"
    }
   ],
   "source": [
    "len(valid_dset)"
   ]
  },
  {
   "cell_type": "code",
   "execution_count": 379,
   "id": "b6cffd31-e799-4776-bbf0-f79defae0d0b",
   "metadata": {},
   "outputs": [],
   "source": [
    "def init_params(size, std=1.0):\n",
    "    return (torch.randn(size)*std).requires_grad_()"
   ]
  },
  {
   "cell_type": "code",
   "execution_count": 380,
   "id": "f9d569c4-9674-46cb-ac75-c907e7447257",
   "metadata": {},
   "outputs": [],
   "source": [
    "weights = init_params((784,1))"
   ]
  },
  {
   "cell_type": "code",
   "execution_count": 381,
   "id": "efb0fda0-8365-4173-91bd-5c792e38870e",
   "metadata": {},
   "outputs": [],
   "source": [
    "bias = init_params(1)"
   ]
  },
  {
   "cell_type": "code",
   "execution_count": 382,
   "id": "b5c2cb67-c63a-4f6a-9375-4bb2ccfb2ab9",
   "metadata": {},
   "outputs": [
    {
     "data": {
      "text/plain": [
       "tensor([1.6246], grad_fn=<AddBackward0>)"
      ]
     },
     "execution_count": 382,
     "metadata": {},
     "output_type": "execute_result"
    }
   ],
   "source": [
    "(train_x[0]*weights.T).sum() + bias"
   ]
  },
  {
   "cell_type": "code",
   "execution_count": 383,
   "id": "95c21c1a-8f3d-46be-911f-508a4c53458a",
   "metadata": {},
   "outputs": [],
   "source": [
    "def linear1(xb):\n",
    "    return xb@weights + bias"
   ]
  },
  {
   "cell_type": "code",
   "execution_count": 384,
   "id": "3df05396-52ea-4239-a939-29a382f59554",
   "metadata": {},
   "outputs": [],
   "source": [
    "preds = linear1(train_x)"
   ]
  },
  {
   "cell_type": "code",
   "execution_count": 385,
   "id": "548e3de3-f4c5-475d-8c3b-cfc6351da18e",
   "metadata": {},
   "outputs": [
    {
     "data": {
      "text/plain": [
       "tensor([[ 1.6246],\n",
       "        [ 7.9091],\n",
       "        [-3.3117],\n",
       "        ...,\n",
       "        [ 3.0202],\n",
       "        [-3.6869],\n",
       "        [ 1.7940]], grad_fn=<AddBackward0>)"
      ]
     },
     "execution_count": 385,
     "metadata": {},
     "output_type": "execute_result"
    }
   ],
   "source": [
    "preds"
   ]
  },
  {
   "cell_type": "code",
   "execution_count": 386,
   "id": "a1ea6104-d84a-4569-a413-75ae2b9a9720",
   "metadata": {},
   "outputs": [],
   "source": [
    "corrects = (preds>0.5).float() == train_y"
   ]
  },
  {
   "cell_type": "code",
   "execution_count": 387,
   "id": "b13d560e-36af-46a1-aa9b-38196d77ce84",
   "metadata": {},
   "outputs": [
    {
     "data": {
      "text/plain": [
       "0.5497741103172302"
      ]
     },
     "execution_count": 387,
     "metadata": {},
     "output_type": "execute_result"
    }
   ],
   "source": [
    "(corrects.sum()/len(corrects)).item()"
   ]
  },
  {
   "cell_type": "code",
   "execution_count": 388,
   "id": "59e9241f-1803-4fc7-b9e7-ba295bc61770",
   "metadata": {},
   "outputs": [],
   "source": [
    "def mnist_loss(preds, targets):\n",
    "    preds = preds.sigmoid()\n",
    "    return torch.where(targets==1, 1-preds, preds).mean()"
   ]
  },
  {
   "cell_type": "code",
   "execution_count": 389,
   "id": "20c69ebf-e522-4982-a710-5067a727ecff",
   "metadata": {},
   "outputs": [],
   "source": [
    "def sigmoid(x):\n",
    "    return 1/(1+torch.exp(-x))"
   ]
  },
  {
   "cell_type": "code",
   "execution_count": 390,
   "id": "da9bbe31-94c7-4a3c-bff3-383423efe85d",
   "metadata": {},
   "outputs": [
    {
     "data": {
      "image/png": "[encoded data removed]",
      "text/plain": [
       "<Figure size 600x400 with 1 Axes>"
      ]
     },
     "metadata": {},
     "output_type": "display_data"
    }
   ],
   "source": [
    "plot_function(torch.sigmoid, title = 'Sigmoid', min=-4, max=4)"
   ]
  },
  {
   "cell_type": "code",
   "execution_count": 391,
   "id": "d6923d0b-4ba6-4270-b255-c1c6c9be045c",
   "metadata": {},
   "outputs": [],
   "source": [
    "coll = range(15)"
   ]
  },
  {
   "cell_type": "code",
   "execution_count": 392,
   "id": "715a65a9-a6a5-4eac-b8cf-c25cc23f7717",
   "metadata": {},
   "outputs": [],
   "source": [
    "dl = DataLoader(coll, batch_size = 5, shuffle=True)"
   ]
  },
  {
   "cell_type": "code",
   "execution_count": 393,
   "id": "253feb7c-a597-4f26-b5ed-513cf034f6d1",
   "metadata": {},
   "outputs": [
    {
     "data": {
      "text/plain": [
       "[tensor([ 3,  2, 10,  9, 13]),\n",
       " tensor([14,  6,  8,  0,  1]),\n",
       " tensor([ 7,  4,  5, 12, 11])]"
      ]
     },
     "execution_count": 393,
     "metadata": {},
     "output_type": "execute_result"
    }
   ],
   "source": [
    "list(dl)"
   ]
  },
  {
   "cell_type": "code",
   "execution_count": 394,
   "id": "3ed68e4e-243b-476b-9780-dd2fb83a2043",
   "metadata": {},
   "outputs": [],
   "source": [
    "ds = L(enumerate(string.ascii_lowercase))"
   ]
  },
  {
   "cell_type": "code",
   "execution_count": 395,
   "id": "a842d088-4055-43f1-940d-0284f2b2a3aa",
   "metadata": {},
   "outputs": [
    {
     "data": {
      "text/plain": [
       "(#26) [(0, 'a'),(1, 'b'),(2, 'c'),(3, 'd'),(4, 'e'),(5, 'f'),(6, 'g'),(7, 'h'),(8, 'i'),(9, 'j')...]"
      ]
     },
     "execution_count": 395,
     "metadata": {},
     "output_type": "execute_result"
    }
   ],
   "source": [
    "ds"
   ]
  },
  {
   "cell_type": "code",
   "execution_count": 396,
   "id": "be1f63b7-972d-45f1-bf09-b2d7698df4d1",
   "metadata": {},
   "outputs": [
    {
     "data": {
      "text/plain": [
       "26"
      ]
     },
     "execution_count": 396,
     "metadata": {},
     "output_type": "execute_result"
    }
   ],
   "source": [
    "len(ds)"
   ]
  },
  {
   "cell_type": "code",
   "execution_count": 397,
   "id": "ebcc6976-4d89-4535-bec3-f990af6ee3aa",
   "metadata": {},
   "outputs": [],
   "source": [
    "dl = DataLoader(ds, batch_size=6, shuffle=True)"
   ]
  },
  {
   "cell_type": "code",
   "execution_count": 398,
   "id": "8ddbc69d-8cdd-4094-a21a-89480bb74d07",
   "metadata": {},
   "outputs": [
    {
     "data": {
      "text/plain": [
       "[(tensor([ 3, 16, 17,  8,  7,  2]), ('d', 'q', 'r', 'i', 'h', 'c')),\n",
       " (tensor([10, 22,  4, 14, 25, 15]), ('k', 'w', 'e', 'o', 'z', 'p')),\n",
       " (tensor([ 1, 12, 19,  5,  9, 11]), ('b', 'm', 't', 'f', 'j', 'l')),\n",
       " (tensor([ 0, 23, 21, 13, 18, 20]), ('a', 'x', 'v', 'n', 's', 'u')),\n",
       " (tensor([ 6, 24]), ('g', 'y'))]"
      ]
     },
     "execution_count": 398,
     "metadata": {},
     "output_type": "execute_result"
    }
   ],
   "source": [
    "list(dl)"
   ]
  },
  {
   "cell_type": "code",
   "execution_count": 399,
   "id": "954e08b2-b1fd-4b4c-8fdf-aff3506833a1",
   "metadata": {},
   "outputs": [],
   "source": [
    "weights = init_params((28*28,1))"
   ]
  },
  {
   "cell_type": "code",
   "execution_count": 400,
   "id": "50e9cbcd-debf-46f0-b89f-438dc43b8ec9",
   "metadata": {},
   "outputs": [],
   "source": [
    "bias = init_params(1)"
   ]
  },
  {
   "cell_type": "code",
   "execution_count": 401,
   "id": "50f703bf-15c1-45c3-91a3-cd03e532b2f9",
   "metadata": {},
   "outputs": [],
   "source": [
    "dl = DataLoader(dset, batch_size = 256)"
   ]
  },
  {
   "cell_type": "code",
   "execution_count": 402,
   "id": "3fc35715-4546-487e-8311-07ccdfa9ec38",
   "metadata": {},
   "outputs": [],
   "source": [
    "xb, yb = first(dl)"
   ]
  },
  {
   "cell_type": "code",
   "execution_count": 403,
   "id": "0f266d3b-ad3f-439d-a59d-edc92d861be5",
   "metadata": {},
   "outputs": [],
   "source": [
    "xxb, yyb = list(dl)[0]"
   ]
  },
  {
   "cell_type": "code",
   "execution_count": 404,
   "id": "d4be2b72-aab7-4354-b76d-d395e6e0de38",
   "metadata": {},
   "outputs": [
    {
     "data": {
      "text/plain": [
       "(torch.Size([256, 784]), torch.Size([256, 1]))"
      ]
     },
     "execution_count": 404,
     "metadata": {},
     "output_type": "execute_result"
    }
   ],
   "source": [
    "xxb.shape, yyb.shape"
   ]
  },
  {
   "cell_type": "code",
   "execution_count": 405,
   "id": "c4f6204b-1219-419b-85e8-12609503c870",
   "metadata": {},
   "outputs": [
    {
     "data": {
      "text/plain": [
       "(torch.Size([256, 784]), torch.Size([256, 1]))"
      ]
     },
     "execution_count": 405,
     "metadata": {},
     "output_type": "execute_result"
    }
   ],
   "source": [
    "xb.shape, yb.shape"
   ]
  },
  {
   "cell_type": "code",
   "execution_count": 406,
   "id": "867134bf-298e-4457-bad2-8fb6d9a75c1c",
   "metadata": {},
   "outputs": [],
   "source": [
    "valid_dl = DataLoader(valid_dset, batch_size=256)"
   ]
  },
  {
   "cell_type": "code",
   "execution_count": 407,
   "id": "2b2f83c3-af97-4679-978f-d36c5fb0e37d",
   "metadata": {},
   "outputs": [],
   "source": [
    "batch = train_x[:4]"
   ]
  },
  {
   "cell_type": "code",
   "execution_count": 408,
   "id": "5721a79e-7cd2-4525-b512-b205cbf507ec",
   "metadata": {},
   "outputs": [
    {
     "data": {
      "text/plain": [
       "torch.Size([4, 784])"
      ]
     },
     "execution_count": 408,
     "metadata": {},
     "output_type": "execute_result"
    }
   ],
   "source": [
    "batch.shape"
   ]
  },
  {
   "cell_type": "code",
   "execution_count": 409,
   "id": "f13ea9be-9649-45a4-8052-246bba7540cd",
   "metadata": {},
   "outputs": [
    {
     "data": {
      "text/plain": [
       "torch.Size([4, 784])"
      ]
     },
     "execution_count": 409,
     "metadata": {},
     "output_type": "execute_result"
    }
   ],
   "source": [
    "torch.Size([4, 784])"
   ]
  },
  {
   "cell_type": "code",
   "execution_count": 410,
   "id": "2067207d-f11b-4d27-9890-9785d6082cfe",
   "metadata": {},
   "outputs": [
    {
     "data": {
      "text/plain": [
       "torch.Size([12396, 784])"
      ]
     },
     "execution_count": 410,
     "metadata": {},
     "output_type": "execute_result"
    }
   ],
   "source": [
    "train_x.shape"
   ]
  },
  {
   "cell_type": "code",
   "execution_count": 411,
   "id": "ff6753f6-893d-485d-a178-f418045ae299",
   "metadata": {},
   "outputs": [],
   "source": [
    "preds = linear1(batch)"
   ]
  },
  {
   "cell_type": "code",
   "execution_count": 412,
   "id": "238a5b6e-cc72-447e-84e8-c62c76169b13",
   "metadata": {},
   "outputs": [
    {
     "data": {
      "text/plain": [
       "tensor([[-6.3672],\n",
       "        [-7.3696],\n",
       "        [-6.5319],\n",
       "        [-6.3195]], grad_fn=<AddBackward0>)"
      ]
     },
     "execution_count": 412,
     "metadata": {},
     "output_type": "execute_result"
    }
   ],
   "source": [
    "preds"
   ]
  },
  {
   "cell_type": "code",
   "execution_count": 413,
   "id": "0627811c-33e8-4c54-9fd8-86d205dbf9ff",
   "metadata": {},
   "outputs": [],
   "source": [
    "loss = mnist_loss(preds, train_y[:4])"
   ]
  },
  {
   "cell_type": "code",
   "execution_count": 414,
   "id": "0b2b9735-4bbc-4a7c-8c9c-a82cd03b810b",
   "metadata": {},
   "outputs": [],
   "source": [
    "loss.backward()"
   ]
  },
  {
   "cell_type": "code",
   "execution_count": 415,
   "id": "fe77fb01-8c1f-4fee-9970-e2bcdbb7e1cc",
   "metadata": {},
   "outputs": [
    {
     "data": {
      "text/plain": [
       "0.9986011385917664"
      ]
     },
     "execution_count": 415,
     "metadata": {},
     "output_type": "execute_result"
    }
   ],
   "source": [
    "loss.data.item()"
   ]
  },
  {
   "cell_type": "code",
   "execution_count": 416,
   "id": "e12b275a-4c8c-4010-a0d5-9cc7e7d6a890",
   "metadata": {},
   "outputs": [
    {
     "data": {
      "text/plain": [
       "(torch.Size([784, 1]), tensor(-0.0002), tensor([-0.0014]))"
      ]
     },
     "execution_count": 416,
     "metadata": {},
     "output_type": "execute_result"
    }
   ],
   "source": [
    "weights.grad.shape, weights.grad.mean(), bias.grad"
   ]
  },
  {
   "cell_type": "code",
   "execution_count": 417,
   "id": "cafff0a8-8b52-471c-925d-247817740685",
   "metadata": {},
   "outputs": [],
   "source": [
    "def calc_grad(xb, yb, model):\n",
    "    preds = model(xb)\n",
    "    loss = mnist_loss(preds, yb)\n",
    "    loss.backward()\n",
    "    return loss.data.item()"
   ]
  },
  {
   "cell_type": "code",
   "execution_count": 418,
   "id": "fd35d0c0-2f29-49b5-8144-629217f6298f",
   "metadata": {},
   "outputs": [
    {
     "data": {
      "text/plain": [
       "0.9986011385917664"
      ]
     },
     "execution_count": 418,
     "metadata": {},
     "output_type": "execute_result"
    }
   ],
   "source": [
    "calc_grad(batch, train_y[:4], linear1)"
   ]
  },
  {
   "cell_type": "code",
   "execution_count": 419,
   "id": "0c8a1d63-6e46-4eac-a420-f4814bf20aa4",
   "metadata": {},
   "outputs": [
    {
     "data": {
      "text/plain": [
       "(tensor(-0.0004), tensor([-0.0028]))"
      ]
     },
     "execution_count": 419,
     "metadata": {},
     "output_type": "execute_result"
    }
   ],
   "source": [
    "weights.grad.mean(), bias.grad"
   ]
  },
  {
   "cell_type": "code",
   "execution_count": 420,
   "id": "fcb35690-f78a-4ec7-9fd4-285108fdd244",
   "metadata": {},
   "outputs": [
    {
     "data": {
      "text/plain": [
       "0.9986011385917664"
      ]
     },
     "execution_count": 420,
     "metadata": {},
     "output_type": "execute_result"
    }
   ],
   "source": [
    "calc_grad(batch, train_y[:4], linear1)"
   ]
  },
  {
   "cell_type": "code",
   "execution_count": 421,
   "id": "c6066aab-fa47-4c3d-8bc8-d0535034f739",
   "metadata": {},
   "outputs": [
    {
     "data": {
      "text/plain": [
       "(tensor(-0.0006), tensor([-0.0042]))"
      ]
     },
     "execution_count": 421,
     "metadata": {},
     "output_type": "execute_result"
    }
   ],
   "source": [
    "weights.grad.mean(), bias.grad"
   ]
  },
  {
   "cell_type": "code",
   "execution_count": 422,
   "id": "d673bae9-c830-4409-8eeb-98e489d0c054",
   "metadata": {},
   "outputs": [
    {
     "data": {
      "text/plain": [
       "tensor([[0.],\n",
       "        [0.],\n",
       "        [0.],\n",
       "        [0.],\n",
       "        [0.],\n",
       "        [0.],\n",
       "        [0.],\n",
       "        [0.],\n",
       "        [0.],\n",
       "        [0.],\n",
       "        [0.],\n",
       "        [0.],\n",
       "        [0.],\n",
       "        [0.],\n",
       "        [0.],\n",
       "        [0.],\n",
       "        [0.],\n",
       "        [0.],\n",
       "        [0.],\n",
       "        [0.],\n",
       "        [0.],\n",
       "        [0.],\n",
       "        [0.],\n",
       "        [0.],\n",
       "        [0.],\n",
       "        [0.],\n",
       "        [0.],\n",
       "        [0.],\n",
       "        [0.],\n",
       "        [0.],\n",
       "        [0.],\n",
       "        [0.],\n",
       "        [0.],\n",
       "        [0.],\n",
       "        [0.],\n",
       "        [0.],\n",
       "        [0.],\n",
       "        [0.],\n",
       "        [0.],\n",
       "        [0.],\n",
       "        [0.],\n",
       "        [0.],\n",
       "        [0.],\n",
       "        [0.],\n",
       "        [0.],\n",
       "        [0.],\n",
       "        [0.],\n",
       "        [0.],\n",
       "        [0.],\n",
       "        [0.],\n",
       "        [0.],\n",
       "        [0.],\n",
       "        [0.],\n",
       "        [0.],\n",
       "        [0.],\n",
       "        [0.],\n",
       "        [0.],\n",
       "        [0.],\n",
       "        [0.],\n",
       "        [0.],\n",
       "        [0.],\n",
       "        [0.],\n",
       "        [0.],\n",
       "        [0.],\n",
       "        [0.],\n",
       "        [0.],\n",
       "        [0.],\n",
       "        [0.],\n",
       "        [0.],\n",
       "        [0.],\n",
       "        [0.],\n",
       "        [0.],\n",
       "        [0.],\n",
       "        [0.],\n",
       "        [0.],\n",
       "        [0.],\n",
       "        [0.],\n",
       "        [0.],\n",
       "        [0.],\n",
       "        [0.],\n",
       "        [0.],\n",
       "        [0.],\n",
       "        [0.],\n",
       "        [0.],\n",
       "        [0.],\n",
       "        [0.],\n",
       "        [0.],\n",
       "        [0.],\n",
       "        [0.],\n",
       "        [0.],\n",
       "        [0.],\n",
       "        [0.],\n",
       "        [0.],\n",
       "        [0.],\n",
       "        [0.],\n",
       "        [0.],\n",
       "        [0.],\n",
       "        [0.],\n",
       "        [0.],\n",
       "        [0.],\n",
       "        [0.],\n",
       "        [0.],\n",
       "        [0.],\n",
       "        [0.],\n",
       "        [0.],\n",
       "        [0.],\n",
       "        [0.],\n",
       "        [0.],\n",
       "        [0.],\n",
       "        [0.],\n",
       "        [0.],\n",
       "        [0.],\n",
       "        [0.],\n",
       "        [0.],\n",
       "        [0.],\n",
       "        [0.],\n",
       "        [0.],\n",
       "        [0.],\n",
       "        [0.],\n",
       "        [0.],\n",
       "        [0.],\n",
       "        [0.],\n",
       "        [0.],\n",
       "        [0.],\n",
       "        [0.],\n",
       "        [0.],\n",
       "        [0.],\n",
       "        [0.],\n",
       "        [0.],\n",
       "        [0.],\n",
       "        [0.],\n",
       "        [0.],\n",
       "        [0.],\n",
       "        [0.],\n",
       "        [0.],\n",
       "        [0.],\n",
       "        [0.],\n",
       "        [0.],\n",
       "        [0.],\n",
       "        [0.],\n",
       "        [0.],\n",
       "        [0.],\n",
       "        [0.],\n",
       "        [0.],\n",
       "        [0.],\n",
       "        [0.],\n",
       "        [0.],\n",
       "        [0.],\n",
       "        [0.],\n",
       "        [0.],\n",
       "        [0.],\n",
       "        [0.],\n",
       "        [0.],\n",
       "        [0.],\n",
       "        [0.],\n",
       "        [0.],\n",
       "        [0.],\n",
       "        [0.],\n",
       "        [0.],\n",
       "        [0.],\n",
       "        [0.],\n",
       "        [0.],\n",
       "        [0.],\n",
       "        [0.],\n",
       "        [0.],\n",
       "        [0.],\n",
       "        [0.],\n",
       "        [0.],\n",
       "        [0.],\n",
       "        [0.],\n",
       "        [0.],\n",
       "        [0.],\n",
       "        [0.],\n",
       "        [0.],\n",
       "        [0.],\n",
       "        [0.],\n",
       "        [0.],\n",
       "        [0.],\n",
       "        [0.],\n",
       "        [0.],\n",
       "        [0.],\n",
       "        [0.],\n",
       "        [0.],\n",
       "        [0.],\n",
       "        [0.],\n",
       "        [0.],\n",
       "        [0.],\n",
       "        [0.],\n",
       "        [0.],\n",
       "        [0.],\n",
       "        [0.],\n",
       "        [0.],\n",
       "        [0.],\n",
       "        [0.],\n",
       "        [0.],\n",
       "        [0.],\n",
       "        [0.],\n",
       "        [0.],\n",
       "        [0.],\n",
       "        [0.],\n",
       "        [0.],\n",
       "        [0.],\n",
       "        [0.],\n",
       "        [0.],\n",
       "        [0.],\n",
       "        [0.],\n",
       "        [0.],\n",
       "        [0.],\n",
       "        [0.],\n",
       "        [0.],\n",
       "        [0.],\n",
       "        [0.],\n",
       "        [0.],\n",
       "        [0.],\n",
       "        [0.],\n",
       "        [0.],\n",
       "        [0.],\n",
       "        [0.],\n",
       "        [0.],\n",
       "        [0.],\n",
       "        [0.],\n",
       "        [0.],\n",
       "        [0.],\n",
       "        [0.],\n",
       "        [0.],\n",
       "        [0.],\n",
       "        [0.],\n",
       "        [0.],\n",
       "        [0.],\n",
       "        [0.],\n",
       "        [0.],\n",
       "        [0.],\n",
       "        [0.],\n",
       "        [0.],\n",
       "        [0.],\n",
       "        [0.],\n",
       "        [0.],\n",
       "        [0.],\n",
       "        [0.],\n",
       "        [0.],\n",
       "        [0.],\n",
       "        [0.],\n",
       "        [0.],\n",
       "        [0.],\n",
       "        [0.],\n",
       "        [0.],\n",
       "        [0.],\n",
       "        [0.],\n",
       "        [0.],\n",
       "        [0.],\n",
       "        [0.],\n",
       "        [0.],\n",
       "        [0.],\n",
       "        [0.],\n",
       "        [0.],\n",
       "        [0.],\n",
       "        [0.],\n",
       "        [0.],\n",
       "        [0.],\n",
       "        [0.],\n",
       "        [0.],\n",
       "        [0.],\n",
       "        [0.],\n",
       "        [0.],\n",
       "        [0.],\n",
       "        [0.],\n",
       "        [0.],\n",
       "        [0.],\n",
       "        [0.],\n",
       "        [0.],\n",
       "        [0.],\n",
       "        [0.],\n",
       "        [0.],\n",
       "        [0.],\n",
       "        [0.],\n",
       "        [0.],\n",
       "        [0.],\n",
       "        [0.],\n",
       "        [0.],\n",
       "        [0.],\n",
       "        [0.],\n",
       "        [0.],\n",
       "        [0.],\n",
       "        [0.],\n",
       "        [0.],\n",
       "        [0.],\n",
       "        [0.],\n",
       "        [0.],\n",
       "        [0.],\n",
       "        [0.],\n",
       "        [0.],\n",
       "        [0.],\n",
       "        [0.],\n",
       "        [0.],\n",
       "        [0.],\n",
       "        [0.],\n",
       "        [0.],\n",
       "        [0.],\n",
       "        [0.],\n",
       "        [0.],\n",
       "        [0.],\n",
       "        [0.],\n",
       "        [0.],\n",
       "        [0.],\n",
       "        [0.],\n",
       "        [0.],\n",
       "        [0.],\n",
       "        [0.],\n",
       "        [0.],\n",
       "        [0.],\n",
       "        [0.],\n",
       "        [0.],\n",
       "        [0.],\n",
       "        [0.],\n",
       "        [0.],\n",
       "        [0.],\n",
       "        [0.],\n",
       "        [0.],\n",
       "        [0.],\n",
       "        [0.],\n",
       "        [0.],\n",
       "        [0.],\n",
       "        [0.],\n",
       "        [0.],\n",
       "        [0.],\n",
       "        [0.],\n",
       "        [0.],\n",
       "        [0.],\n",
       "        [0.],\n",
       "        [0.],\n",
       "        [0.],\n",
       "        [0.],\n",
       "        [0.],\n",
       "        [0.],\n",
       "        [0.],\n",
       "        [0.],\n",
       "        [0.],\n",
       "        [0.],\n",
       "        [0.],\n",
       "        [0.],\n",
       "        [0.],\n",
       "        [0.],\n",
       "        [0.],\n",
       "        [0.],\n",
       "        [0.],\n",
       "        [0.],\n",
       "        [0.],\n",
       "        [0.],\n",
       "        [0.],\n",
       "        [0.],\n",
       "        [0.],\n",
       "        [0.],\n",
       "        [0.],\n",
       "        [0.],\n",
       "        [0.],\n",
       "        [0.],\n",
       "        [0.],\n",
       "        [0.],\n",
       "        [0.],\n",
       "        [0.],\n",
       "        [0.],\n",
       "        [0.],\n",
       "        [0.],\n",
       "        [0.],\n",
       "        [0.],\n",
       "        [0.],\n",
       "        [0.],\n",
       "        [0.],\n",
       "        [0.],\n",
       "        [0.],\n",
       "        [0.],\n",
       "        [0.],\n",
       "        [0.],\n",
       "        [0.],\n",
       "        [0.],\n",
       "        [0.],\n",
       "        [0.],\n",
       "        [0.],\n",
       "        [0.],\n",
       "        [0.],\n",
       "        [0.],\n",
       "        [0.],\n",
       "        [0.],\n",
       "        [0.],\n",
       "        [0.],\n",
       "        [0.],\n",
       "        [0.],\n",
       "        [0.],\n",
       "        [0.],\n",
       "        [0.],\n",
       "        [0.],\n",
       "        [0.],\n",
       "        [0.],\n",
       "        [0.],\n",
       "        [0.],\n",
       "        [0.],\n",
       "        [0.],\n",
       "        [0.],\n",
       "        [0.],\n",
       "        [0.],\n",
       "        [0.],\n",
       "        [0.],\n",
       "        [0.],\n",
       "        [0.],\n",
       "        [0.],\n",
       "        [0.],\n",
       "        [0.],\n",
       "        [0.],\n",
       "        [0.],\n",
       "        [0.],\n",
       "        [0.],\n",
       "        [0.],\n",
       "        [0.],\n",
       "        [0.],\n",
       "        [0.],\n",
       "        [0.],\n",
       "        [0.],\n",
       "        [0.],\n",
       "        [0.],\n",
       "        [0.],\n",
       "        [0.],\n",
       "        [0.],\n",
       "        [0.],\n",
       "        [0.],\n",
       "        [0.],\n",
       "        [0.],\n",
       "        [0.],\n",
       "        [0.],\n",
       "        [0.],\n",
       "        [0.],\n",
       "        [0.],\n",
       "        [0.],\n",
       "        [0.],\n",
       "        [0.],\n",
       "        [0.],\n",
       "        [0.],\n",
       "        [0.],\n",
       "        [0.],\n",
       "        [0.],\n",
       "        [0.],\n",
       "        [0.],\n",
       "        [0.],\n",
       "        [0.],\n",
       "        [0.],\n",
       "        [0.],\n",
       "        [0.],\n",
       "        [0.],\n",
       "        [0.],\n",
       "        [0.],\n",
       "        [0.],\n",
       "        [0.],\n",
       "        [0.],\n",
       "        [0.],\n",
       "        [0.],\n",
       "        [0.],\n",
       "        [0.],\n",
       "        [0.],\n",
       "        [0.],\n",
       "        [0.],\n",
       "        [0.],\n",
       "        [0.],\n",
       "        [0.],\n",
       "        [0.],\n",
       "        [0.],\n",
       "        [0.],\n",
       "        [0.],\n",
       "        [0.],\n",
       "        [0.],\n",
       "        [0.],\n",
       "        [0.],\n",
       "        [0.],\n",
       "        [0.],\n",
       "        [0.],\n",
       "        [0.],\n",
       "        [0.],\n",
       "        [0.],\n",
       "        [0.],\n",
       "        [0.],\n",
       "        [0.],\n",
       "        [0.],\n",
       "        [0.],\n",
       "        [0.],\n",
       "        [0.],\n",
       "        [0.],\n",
       "        [0.],\n",
       "        [0.],\n",
       "        [0.],\n",
       "        [0.],\n",
       "        [0.],\n",
       "        [0.],\n",
       "        [0.],\n",
       "        [0.],\n",
       "        [0.],\n",
       "        [0.],\n",
       "        [0.],\n",
       "        [0.],\n",
       "        [0.],\n",
       "        [0.],\n",
       "        [0.],\n",
       "        [0.],\n",
       "        [0.],\n",
       "        [0.],\n",
       "        [0.],\n",
       "        [0.],\n",
       "        [0.],\n",
       "        [0.],\n",
       "        [0.],\n",
       "        [0.],\n",
       "        [0.],\n",
       "        [0.],\n",
       "        [0.],\n",
       "        [0.],\n",
       "        [0.],\n",
       "        [0.],\n",
       "        [0.],\n",
       "        [0.],\n",
       "        [0.],\n",
       "        [0.],\n",
       "        [0.],\n",
       "        [0.],\n",
       "        [0.],\n",
       "        [0.],\n",
       "        [0.],\n",
       "        [0.],\n",
       "        [0.],\n",
       "        [0.],\n",
       "        [0.],\n",
       "        [0.],\n",
       "        [0.],\n",
       "        [0.],\n",
       "        [0.],\n",
       "        [0.],\n",
       "        [0.],\n",
       "        [0.],\n",
       "        [0.],\n",
       "        [0.],\n",
       "        [0.],\n",
       "        [0.],\n",
       "        [0.],\n",
       "        [0.],\n",
       "        [0.],\n",
       "        [0.],\n",
       "        [0.],\n",
       "        [0.],\n",
       "        [0.],\n",
       "        [0.],\n",
       "        [0.],\n",
       "        [0.],\n",
       "        [0.],\n",
       "        [0.],\n",
       "        [0.],\n",
       "        [0.],\n",
       "        [0.],\n",
       "        [0.],\n",
       "        [0.],\n",
       "        [0.],\n",
       "        [0.],\n",
       "        [0.],\n",
       "        [0.],\n",
       "        [0.],\n",
       "        [0.],\n",
       "        [0.],\n",
       "        [0.],\n",
       "        [0.],\n",
       "        [0.],\n",
       "        [0.],\n",
       "        [0.],\n",
       "        [0.],\n",
       "        [0.],\n",
       "        [0.],\n",
       "        [0.],\n",
       "        [0.],\n",
       "        [0.],\n",
       "        [0.],\n",
       "        [0.],\n",
       "        [0.],\n",
       "        [0.],\n",
       "        [0.],\n",
       "        [0.],\n",
       "        [0.],\n",
       "        [0.],\n",
       "        [0.],\n",
       "        [0.],\n",
       "        [0.],\n",
       "        [0.],\n",
       "        [0.],\n",
       "        [0.],\n",
       "        [0.],\n",
       "        [0.],\n",
       "        [0.],\n",
       "        [0.],\n",
       "        [0.],\n",
       "        [0.],\n",
       "        [0.],\n",
       "        [0.],\n",
       "        [0.],\n",
       "        [0.],\n",
       "        [0.],\n",
       "        [0.],\n",
       "        [0.],\n",
       "        [0.],\n",
       "        [0.],\n",
       "        [0.],\n",
       "        [0.],\n",
       "        [0.],\n",
       "        [0.],\n",
       "        [0.],\n",
       "        [0.],\n",
       "        [0.],\n",
       "        [0.],\n",
       "        [0.],\n",
       "        [0.],\n",
       "        [0.],\n",
       "        [0.],\n",
       "        [0.],\n",
       "        [0.],\n",
       "        [0.],\n",
       "        [0.],\n",
       "        [0.],\n",
       "        [0.],\n",
       "        [0.],\n",
       "        [0.],\n",
       "        [0.],\n",
       "        [0.],\n",
       "        [0.],\n",
       "        [0.],\n",
       "        [0.],\n",
       "        [0.],\n",
       "        [0.],\n",
       "        [0.],\n",
       "        [0.],\n",
       "        [0.],\n",
       "        [0.],\n",
       "        [0.],\n",
       "        [0.],\n",
       "        [0.],\n",
       "        [0.],\n",
       "        [0.],\n",
       "        [0.],\n",
       "        [0.],\n",
       "        [0.],\n",
       "        [0.],\n",
       "        [0.],\n",
       "        [0.],\n",
       "        [0.],\n",
       "        [0.],\n",
       "        [0.],\n",
       "        [0.],\n",
       "        [0.],\n",
       "        [0.],\n",
       "        [0.],\n",
       "        [0.],\n",
       "        [0.],\n",
       "        [0.],\n",
       "        [0.],\n",
       "        [0.],\n",
       "        [0.],\n",
       "        [0.],\n",
       "        [0.],\n",
       "        [0.],\n",
       "        [0.],\n",
       "        [0.],\n",
       "        [0.],\n",
       "        [0.],\n",
       "        [0.],\n",
       "        [0.],\n",
       "        [0.],\n",
       "        [0.],\n",
       "        [0.],\n",
       "        [0.],\n",
       "        [0.],\n",
       "        [0.],\n",
       "        [0.],\n",
       "        [0.],\n",
       "        [0.],\n",
       "        [0.],\n",
       "        [0.],\n",
       "        [0.],\n",
       "        [0.],\n",
       "        [0.],\n",
       "        [0.],\n",
       "        [0.],\n",
       "        [0.],\n",
       "        [0.],\n",
       "        [0.],\n",
       "        [0.],\n",
       "        [0.],\n",
       "        [0.],\n",
       "        [0.],\n",
       "        [0.],\n",
       "        [0.],\n",
       "        [0.],\n",
       "        [0.],\n",
       "        [0.],\n",
       "        [0.],\n",
       "        [0.],\n",
       "        [0.],\n",
       "        [0.],\n",
       "        [0.],\n",
       "        [0.],\n",
       "        [0.],\n",
       "        [0.],\n",
       "        [0.],\n",
       "        [0.],\n",
       "        [0.],\n",
       "        [0.],\n",
       "        [0.],\n",
       "        [0.],\n",
       "        [0.],\n",
       "        [0.],\n",
       "        [0.],\n",
       "        [0.],\n",
       "        [0.],\n",
       "        [0.],\n",
       "        [0.],\n",
       "        [0.],\n",
       "        [0.],\n",
       "        [0.],\n",
       "        [0.],\n",
       "        [0.],\n",
       "        [0.],\n",
       "        [0.],\n",
       "        [0.],\n",
       "        [0.],\n",
       "        [0.],\n",
       "        [0.],\n",
       "        [0.],\n",
       "        [0.],\n",
       "        [0.],\n",
       "        [0.],\n",
       "        [0.],\n",
       "        [0.],\n",
       "        [0.],\n",
       "        [0.],\n",
       "        [0.],\n",
       "        [0.],\n",
       "        [0.],\n",
       "        [0.],\n",
       "        [0.],\n",
       "        [0.],\n",
       "        [0.],\n",
       "        [0.],\n",
       "        [0.],\n",
       "        [0.],\n",
       "        [0.],\n",
       "        [0.],\n",
       "        [0.],\n",
       "        [0.],\n",
       "        [0.],\n",
       "        [0.],\n",
       "        [0.],\n",
       "        [0.],\n",
       "        [0.],\n",
       "        [0.],\n",
       "        [0.],\n",
       "        [0.],\n",
       "        [0.],\n",
       "        [0.],\n",
       "        [0.],\n",
       "        [0.],\n",
       "        [0.],\n",
       "        [0.],\n",
       "        [0.],\n",
       "        [0.],\n",
       "        [0.],\n",
       "        [0.],\n",
       "        [0.],\n",
       "        [0.],\n",
       "        [0.],\n",
       "        [0.],\n",
       "        [0.],\n",
       "        [0.],\n",
       "        [0.],\n",
       "        [0.],\n",
       "        [0.],\n",
       "        [0.],\n",
       "        [0.],\n",
       "        [0.],\n",
       "        [0.],\n",
       "        [0.],\n",
       "        [0.],\n",
       "        [0.],\n",
       "        [0.],\n",
       "        [0.]])"
      ]
     },
     "execution_count": 422,
     "metadata": {},
     "output_type": "execute_result"
    }
   ],
   "source": [
    "weights.grad.zero_()"
   ]
  },
  {
   "cell_type": "code",
   "execution_count": 423,
   "id": "b215adcb-bd6a-4d10-b17a-d4bb40b95cf4",
   "metadata": {},
   "outputs": [
    {
     "data": {
      "text/plain": [
       "tensor([0.])"
      ]
     },
     "execution_count": 423,
     "metadata": {},
     "output_type": "execute_result"
    }
   ],
   "source": [
    "bias.grad.zero_()"
   ]
  },
  {
   "cell_type": "code",
   "execution_count": 424,
   "id": "3586362c-4c7f-42e1-8931-f4353ea0bff5",
   "metadata": {},
   "outputs": [],
   "source": [
    "def train_epoch(model, lr, params):\n",
    "    losses = []\n",
    "    for xb, yb in dl:\n",
    "        losses.append(calc_grad(xb, yb, model))\n",
    "        for p in params:\n",
    "            p.data -= p.grad * lr\n",
    "            p.grad.zero_()\n",
    "    return losses"
   ]
  },
  {
   "cell_type": "code",
   "execution_count": 425,
   "id": "24b1675c-96cb-4efc-918b-389094d0d30d",
   "metadata": {},
   "outputs": [
    {
     "data": {
      "text/plain": [
       "tensor([[False],\n",
       "        [False],\n",
       "        [False],\n",
       "        [False]])"
      ]
     },
     "execution_count": 425,
     "metadata": {},
     "output_type": "execute_result"
    }
   ],
   "source": [
    "(preds>0.5).float() == train_y[:4]"
   ]
  },
  {
   "cell_type": "code",
   "execution_count": 426,
   "id": "d33274d2-391a-4a49-962a-3950de017f3a",
   "metadata": {},
   "outputs": [],
   "source": [
    "def batch_accuracy(xb,yb):\n",
    "    preds = xb.sigmoid()\n",
    "    correct = (preds>0.5) == yb\n",
    "    return correct.float().mean()\n",
    "    "
   ]
  },
  {
   "cell_type": "code",
   "execution_count": 427,
   "id": "bf154811-cb07-4e8b-8c74-9eda5d4be4af",
   "metadata": {},
   "outputs": [
    {
     "data": {
      "text/plain": [
       "tensor(0.)"
      ]
     },
     "execution_count": 427,
     "metadata": {},
     "output_type": "execute_result"
    }
   ],
   "source": [
    "batch_accuracy(linear1(batch), train_y[:4])"
   ]
  },
  {
   "cell_type": "code",
   "execution_count": 428,
   "id": "827dc669-c74a-4771-823c-26b1871f444b",
   "metadata": {},
   "outputs": [],
   "source": [
    "def validate_epoch(model):\n",
    "    accs = [batch_accuracy(model(xb), yb) for xb, yb in valid_dl]\n",
    "    return round(torch.stack(accs).mean().item(), 4)"
   ]
  },
  {
   "cell_type": "code",
   "execution_count": 429,
   "id": "6c7b0e8f-5eda-40cc-a447-b36e10bf1891",
   "metadata": {},
   "outputs": [
    {
     "data": {
      "text/plain": [
       "0.4944"
      ]
     },
     "execution_count": 429,
     "metadata": {},
     "output_type": "execute_result"
    }
   ],
   "source": [
    "validate_epoch(linear1)"
   ]
  },
  {
   "cell_type": "code",
   "execution_count": 430,
   "id": "0a99b44e-37aa-42a1-a89e-25f8bebea6b6",
   "metadata": {},
   "outputs": [],
   "source": [
    "lr = 5"
   ]
  },
  {
   "cell_type": "code",
   "execution_count": 431,
   "id": "bb461fdb-fa3e-4aee-8eb6-a5c0070aa17e",
   "metadata": {},
   "outputs": [
    {
     "data": {
      "text/plain": [
       "tensor([0.])"
      ]
     },
     "execution_count": 431,
     "metadata": {},
     "output_type": "execute_result"
    }
   ],
   "source": [
    "bias.grad.zero_()"
   ]
  },
  {
   "cell_type": "code",
   "execution_count": 432,
   "id": "11178646-54f8-4783-a3fd-1cb5263ed23e",
   "metadata": {},
   "outputs": [],
   "source": [
    "weights.grad.zero_();"
   ]
  },
  {
   "cell_type": "code",
   "execution_count": 433,
   "id": "7439a3b9-1346-4836-8aec-265cc445df05",
   "metadata": {},
   "outputs": [],
   "source": [
    "params = weights, bias"
   ]
  },
  {
   "cell_type": "code",
   "execution_count": 434,
   "id": "93306c46-0b1f-4f45-a2b7-ff3a5abce354",
   "metadata": {},
   "outputs": [],
   "source": [
    "losses = train_epoch(linear1, lr, params)"
   ]
  },
  {
   "cell_type": "code",
   "execution_count": 435,
   "id": "bdb0863a-fa06-43e2-9631-792d39056319",
   "metadata": {},
   "outputs": [
    {
     "data": {
      "text/plain": [
       "[<matplotlib.lines.Line2D at 0x31616ed50>]"
      ]
     },
     "execution_count": 435,
     "metadata": {},
     "output_type": "execute_result"
    },
    {
     "data": {
      "image/png": "[encoded data removed]",
      "text/plain": [
       "<Figure size 640x480 with 1 Axes>"
      ]
     },
     "metadata": {},
     "output_type": "display_data"
    }
   ],
   "source": [
    "plt.plot(np.array(losses))"
   ]
  },
  {
   "cell_type": "code",
   "execution_count": 436,
   "id": "511e0595-0150-4d6e-b466-ba2a828db632",
   "metadata": {},
   "outputs": [
    {
     "data": {
      "text/plain": [
       "0.5703"
      ]
     },
     "execution_count": 436,
     "metadata": {},
     "output_type": "execute_result"
    }
   ],
   "source": [
    "validate_epoch(linear1)"
   ]
  },
  {
   "cell_type": "code",
   "execution_count": 437,
   "id": "1526bb40-72c1-4643-9eac-89aeb3c59946",
   "metadata": {},
   "outputs": [],
   "source": [
    "weights = init_params((28*28,1))\n",
    "bias = init_params(1)"
   ]
  },
  {
   "cell_type": "code",
   "execution_count": 438,
   "id": "35f43b17-f0d2-4870-966b-8d1fc9bf325d",
   "metadata": {},
   "outputs": [],
   "source": [
    "params = weights,bias"
   ]
  },
  {
   "cell_type": "code",
   "execution_count": 439,
   "id": "19ca29b6-9bd3-43b2-80d9-e91c2feebaa6",
   "metadata": {},
   "outputs": [
    {
     "name": "stdout",
     "output_type": "stream",
     "text": [
      "0.5688 0.7539 0.8681 0.915 0.9365 0.9458 0.9536 0.9614 0.9648 0.9682 0.9697 0.9721 0.9751 0.9755 0.976 0.9765 0.9765 0.9765 0.977 0.978 "
     ]
    }
   ],
   "source": [
    "avg_losses = []\n",
    "for i in range(20):\n",
    "    loss = train_epoch(linear1, lr, params)\n",
    "    avg_losses.append(np.mean(loss))\n",
    "    print(validate_epoch(linear1), end = ' ')"
   ]
  },
  {
   "cell_type": "code",
   "execution_count": 440,
   "id": "79080539-28fa-412f-9ce7-f0847baaaf45",
   "metadata": {},
   "outputs": [
    {
     "data": {
      "text/plain": [
       "[<matplotlib.lines.Line2D at 0x315e3c390>]"
      ]
     },
     "execution_count": 440,
     "metadata": {},
     "output_type": "execute_result"
    },
    {
     "data": {
      "image/png": "[encoded data removed]",
      "text/plain": [
       "<Figure size 640x480 with 1 Axes>"
      ]
     },
     "metadata": {},
     "output_type": "display_data"
    }
   ],
   "source": [
    "plt.plot(avg_losses)"
   ]
  },
  {
   "cell_type": "code",
   "execution_count": 441,
   "id": "583e4f0b-1e77-465d-9c4a-56c1265e7e65",
   "metadata": {},
   "outputs": [],
   "source": [
    "linear_model = nn.Linear(28*28,1)"
   ]
  },
  {
   "cell_type": "code",
   "execution_count": 442,
   "id": "976aee43-900e-4ac9-8562-68adac5c0e61",
   "metadata": {},
   "outputs": [],
   "source": [
    "w, b = linear_model.parameters()"
   ]
  },
  {
   "cell_type": "code",
   "execution_count": 443,
   "id": "a2ef53f2-44a6-4801-86dc-8c90a7da3e09",
   "metadata": {},
   "outputs": [
    {
     "data": {
      "text/plain": [
       "(torch.Size([1, 784]), torch.Size([1]))"
      ]
     },
     "execution_count": 443,
     "metadata": {},
     "output_type": "execute_result"
    }
   ],
   "source": [
    "w.shape, b.shape"
   ]
  },
  {
   "cell_type": "code",
   "execution_count": 444,
   "id": "f80ca019-f67d-498e-830d-cf57d61705e5",
   "metadata": {},
   "outputs": [
    {
     "data": {
      "text/plain": [
       "Parameter containing:\n",
       "tensor([0.0051], requires_grad=True)"
      ]
     },
     "execution_count": 444,
     "metadata": {},
     "output_type": "execute_result"
    }
   ],
   "source": [
    "b"
   ]
  },
  {
   "cell_type": "code",
   "execution_count": 445,
   "id": "610413c4-4848-49b8-9a5b-3db2bc162d18",
   "metadata": {},
   "outputs": [],
   "source": [
    "class BasicOptim:\n",
    "    def __init__(self, params, lr):\n",
    "        self.params, self.lr = list(params), lr\n",
    "        \n",
    "    def step(self, *args, **kwargs):\n",
    "        for p in self.params:\n",
    "            p.data -= p.grad.data * self.lr\n",
    "\n",
    "    def zero_grad(self, *args, **kwargs):\n",
    "        for p in self.params:\n",
    "            p.grad = None"
   ]
  },
  {
   "cell_type": "code",
   "execution_count": 446,
   "id": "3c1b6402-5cf5-45bb-9f19-22bfed5abc40",
   "metadata": {},
   "outputs": [],
   "source": [
    "opt = BasicOptim(linear_model.parameters(), lr)"
   ]
  },
  {
   "cell_type": "code",
   "execution_count": 447,
   "id": "0744360a-a28d-44ea-83ef-c9d686aed867",
   "metadata": {},
   "outputs": [],
   "source": [
    "def train_epoch(model):\n",
    "    for xb, yb in dl:\n",
    "        calc_grad(xb, yb, model)\n",
    "        opt.step()\n",
    "        opt.zero_grad()"
   ]
  },
  {
   "cell_type": "code",
   "execution_count": 448,
   "id": "7d557ab1-cbed-463a-aa23-3ce9eaf213df",
   "metadata": {},
   "outputs": [
    {
     "data": {
      "text/plain": [
       "0.6105"
      ]
     },
     "execution_count": 448,
     "metadata": {},
     "output_type": "execute_result"
    }
   ],
   "source": [
    "validate_epoch(linear_model)"
   ]
  },
  {
   "cell_type": "code",
   "execution_count": 449,
   "id": "fe537645-d91f-4028-a836-284f723e8f2b",
   "metadata": {},
   "outputs": [],
   "source": [
    "def train_model(model, epochs):\n",
    "    for i in range(epochs):\n",
    "        train_epoch(model)\n",
    "        print(validate_epoch(model), end = ' ')"
   ]
  },
  {
   "cell_type": "code",
   "execution_count": 450,
   "id": "a107e327-cad6-4bdf-bac2-c3b9c84ebb31",
   "metadata": {},
   "outputs": [
    {
     "name": "stdout",
     "output_type": "stream",
     "text": [
      "0.4932 0.4932 0.4932 0.4932 0.4932 0.4932 0.4932 0.4932 0.4932 0.4932 0.4932 0.4932 0.4932 0.4932 0.4932 0.4932 0.4932 0.4932 0.4932 0.4932 "
     ]
    }
   ],
   "source": [
    "train_model(linear_model, 20)"
   ]
  },
  {
   "cell_type": "code",
   "execution_count": 451,
   "id": "080b299d-c095-4c76-b511-121ce96322a0",
   "metadata": {},
   "outputs": [
    {
     "name": "stdout",
     "output_type": "stream",
     "text": [
      "0.4932 0.4932 0.4932 0.4932 0.4932 0.4932 0.4932 0.4932 0.4932 0.4932 0.4932 0.4932 0.4932 0.4932 0.4932 0.4932 0.4932 0.4932 0.4932 0.4932 "
     ]
    }
   ],
   "source": [
    "linear_model = nn.Linear(28*28,1)\n",
    "opt = SGD(linear_model.parameters(), lr)\n",
    "train_model(linear_model, 20)"
   ]
  },
  {
   "cell_type": "code",
   "execution_count": 452,
   "id": "61c9af4a-27fd-41d8-b05e-d5cbbc005229",
   "metadata": {},
   "outputs": [],
   "source": [
    "dls = DataLoaders(dl, valid_dl)"
   ]
  },
  {
   "cell_type": "code",
   "execution_count": 453,
   "id": "de1fb9df-b417-4431-b1ff-7623dedfcdaf",
   "metadata": {},
   "outputs": [],
   "source": [
    "learn = Learner(dls, nn.Linear(28*28,1), opt_func = SGD, loss_func = mnist_loss, metrics=batch_accuracy)"
   ]
  },
  {
   "cell_type": "code",
   "execution_count": 454,
   "id": "8983b03b-763e-4086-8f2c-2a00b7d1bde2",
   "metadata": {},
   "outputs": [
    {
     "data": {
      "text/html": [
       "\n",
       "<style>\n",
       "    /* Turns off some styling */\n",
       "    progress {\n",
       "        /* gets rid of default border in Firefox and Opera. */\n",
       "        border: none;\n",
       "        /* Needs to be in here for Safari polyfill so background images work as expected. */\n",
       "        background-size: auto;\n",
       "    }\n",
       "    progress:not([value]), progress:not([value])::-webkit-progress-bar {\n",
       "        background: repeating-linear-gradient(45deg, #7e7e7e, #7e7e7e 10px, #5c5c5c 10px, #5c5c5c 20px);\n",
       "    }\n",
       "    .progress-bar-interrupted, .progress-bar-interrupted::-webkit-progress-bar {\n",
       "        background: #F44336;\n",
       "    }\n",
       "</style>\n"
      ],
      "text/plain": [
       "<IPython.core.display.HTML object>"
      ]
     },
     "metadata": {},
     "output_type": "display_data"
    },
    {
     "data": {
      "text/html": [
       "<table border=\"1\" class=\"dataframe\">\n",
       "  <thead>\n",
       "    <tr style=\"text-align: left;\">\n",
       "      <th>epoch</th>\n",
       "      <th>train_loss</th>\n",
       "      <th>valid_loss</th>\n",
       "      <th>batch_accuracy</th>\n",
       "      <th>time</th>\n",
       "    </tr>\n",
       "  </thead>\n",
       "  <tbody>\n",
       "    <tr>\n",
       "      <td>0</td>\n",
       "      <td>0.637672</td>\n",
       "      <td>0.504416</td>\n",
       "      <td>0.495584</td>\n",
       "      <td>00:00</td>\n",
       "    </tr>\n",
       "    <tr>\n",
       "      <td>1</td>\n",
       "      <td>0.633537</td>\n",
       "      <td>0.504416</td>\n",
       "      <td>0.495584</td>\n",
       "      <td>00:00</td>\n",
       "    </tr>\n",
       "    <tr>\n",
       "      <td>2</td>\n",
       "      <td>0.632519</td>\n",
       "      <td>0.504416</td>\n",
       "      <td>0.495584</td>\n",
       "      <td>00:00</td>\n",
       "    </tr>\n",
       "    <tr>\n",
       "      <td>3</td>\n",
       "      <td>0.632187</td>\n",
       "      <td>0.504416</td>\n",
       "      <td>0.495584</td>\n",
       "      <td>00:00</td>\n",
       "    </tr>\n",
       "    <tr>\n",
       "      <td>4</td>\n",
       "      <td>0.632069</td>\n",
       "      <td>0.504416</td>\n",
       "      <td>0.495584</td>\n",
       "      <td>00:00</td>\n",
       "    </tr>\n",
       "    <tr>\n",
       "      <td>5</td>\n",
       "      <td>0.632025</td>\n",
       "      <td>0.504416</td>\n",
       "      <td>0.495584</td>\n",
       "      <td>00:00</td>\n",
       "    </tr>\n",
       "    <tr>\n",
       "      <td>6</td>\n",
       "      <td>0.632010</td>\n",
       "      <td>0.504416</td>\n",
       "      <td>0.495584</td>\n",
       "      <td>00:00</td>\n",
       "    </tr>\n",
       "    <tr>\n",
       "      <td>7</td>\n",
       "      <td>0.632004</td>\n",
       "      <td>0.504416</td>\n",
       "      <td>0.495584</td>\n",
       "      <td>00:00</td>\n",
       "    </tr>\n",
       "    <tr>\n",
       "      <td>8</td>\n",
       "      <td>0.632002</td>\n",
       "      <td>0.504416</td>\n",
       "      <td>0.495584</td>\n",
       "      <td>00:00</td>\n",
       "    </tr>\n",
       "    <tr>\n",
       "      <td>9</td>\n",
       "      <td>0.632001</td>\n",
       "      <td>0.504416</td>\n",
       "      <td>0.495584</td>\n",
       "      <td>00:00</td>\n",
       "    </tr>\n",
       "  </tbody>\n",
       "</table>"
      ],
      "text/plain": [
       "<IPython.core.display.HTML object>"
      ]
     },
     "metadata": {},
     "output_type": "display_data"
    }
   ],
   "source": [
    "learn.fit(10, lr = 3)"
   ]
  },
  {
   "cell_type": "code",
   "execution_count": 455,
   "id": "791c0dd3-225a-4b01-8118-67b4c0c87012",
   "metadata": {},
   "outputs": [],
   "source": [
    "def simple_net(xb):\n",
    "    res = xb@w1 + b1\n",
    "    res = F.relu()\n",
    "    res = res@w2 + b2\n",
    "    return res"
   ]
  },
  {
   "cell_type": "code",
   "execution_count": 456,
   "id": "b78c57c8-753d-4535-a4e3-0944e5d73a65",
   "metadata": {},
   "outputs": [],
   "source": [
    "w1 = init_params((28*28,30))\n",
    "b1 = init_params(30)\n",
    "w2 = init_params((30,1))\n",
    "b2 = init_params(1)"
   ]
  },
  {
   "cell_type": "code",
   "execution_count": 457,
   "id": "78264c3d-45e3-4d4c-9eed-72d75d031fdb",
   "metadata": {},
   "outputs": [],
   "source": [
    "simple_net = nn.Sequential(nn.Linear(28*28,30), nn.ReLU(), nn.Linear(30,1))"
   ]
  },
  {
   "cell_type": "code",
   "execution_count": 458,
   "id": "4b02836d-0ebc-4d61-94a3-1c00043d8f49",
   "metadata": {},
   "outputs": [],
   "source": [
    "learn = Learner(dls, simple_net, opt_func = SGD, loss_func = mnist_loss, metrics=batch_accuracy)"
   ]
  },
  {
   "cell_type": "code",
   "execution_count": 459,
   "id": "ed3d64cf-2703-41e3-8a94-653afab9bba3",
   "metadata": {},
   "outputs": [
    {
     "data": {
      "text/html": [
       "\n",
       "<style>\n",
       "    /* Turns off some styling */\n",
       "    progress {\n",
       "        /* gets rid of default border in Firefox and Opera. */\n",
       "        border: none;\n",
       "        /* Needs to be in here for Safari polyfill so background images work as expected. */\n",
       "        background-size: auto;\n",
       "    }\n",
       "    progress:not([value]), progress:not([value])::-webkit-progress-bar {\n",
       "        background: repeating-linear-gradient(45deg, #7e7e7e, #7e7e7e 10px, #5c5c5c 10px, #5c5c5c 20px);\n",
       "    }\n",
       "    .progress-bar-interrupted, .progress-bar-interrupted::-webkit-progress-bar {\n",
       "        background: #F44336;\n",
       "    }\n",
       "</style>\n"
      ],
      "text/plain": [
       "<IPython.core.display.HTML object>"
      ]
     },
     "metadata": {},
     "output_type": "display_data"
    },
    {
     "data": {
      "text/html": [
       "<table border=\"1\" class=\"dataframe\">\n",
       "  <thead>\n",
       "    <tr style=\"text-align: left;\">\n",
       "      <th>epoch</th>\n",
       "      <th>train_loss</th>\n",
       "      <th>valid_loss</th>\n",
       "      <th>batch_accuracy</th>\n",
       "      <th>time</th>\n",
       "    </tr>\n",
       "  </thead>\n",
       "  <tbody>\n",
       "    <tr>\n",
       "      <td>0</td>\n",
       "      <td>0.162475</td>\n",
       "      <td>0.489219</td>\n",
       "      <td>0.504416</td>\n",
       "      <td>00:00</td>\n",
       "    </tr>\n",
       "    <tr>\n",
       "      <td>1</td>\n",
       "      <td>0.081868</td>\n",
       "      <td>0.220548</td>\n",
       "      <td>0.787046</td>\n",
       "      <td>00:00</td>\n",
       "    </tr>\n",
       "    <tr>\n",
       "      <td>2</td>\n",
       "      <td>0.041708</td>\n",
       "      <td>0.105624</td>\n",
       "      <td>0.900393</td>\n",
       "      <td>00:00</td>\n",
       "    </tr>\n",
       "    <tr>\n",
       "      <td>3</td>\n",
       "      <td>0.026474</td>\n",
       "      <td>0.073606</td>\n",
       "      <td>0.930815</td>\n",
       "      <td>00:00</td>\n",
       "    </tr>\n",
       "    <tr>\n",
       "      <td>4</td>\n",
       "      <td>0.019554</td>\n",
       "      <td>0.059286</td>\n",
       "      <td>0.944553</td>\n",
       "      <td>00:00</td>\n",
       "    </tr>\n",
       "    <tr>\n",
       "      <td>5</td>\n",
       "      <td>0.016054</td>\n",
       "      <td>0.050651</td>\n",
       "      <td>0.952404</td>\n",
       "      <td>00:00</td>\n",
       "    </tr>\n",
       "    <tr>\n",
       "      <td>6</td>\n",
       "      <td>0.014119</td>\n",
       "      <td>0.045334</td>\n",
       "      <td>0.956820</td>\n",
       "      <td>00:00</td>\n",
       "    </tr>\n",
       "    <tr>\n",
       "      <td>7</td>\n",
       "      <td>0.012885</td>\n",
       "      <td>0.041860</td>\n",
       "      <td>0.959764</td>\n",
       "      <td>00:00</td>\n",
       "    </tr>\n",
       "    <tr>\n",
       "      <td>8</td>\n",
       "      <td>0.011955</td>\n",
       "      <td>0.039432</td>\n",
       "      <td>0.964181</td>\n",
       "      <td>00:00</td>\n",
       "    </tr>\n",
       "    <tr>\n",
       "      <td>9</td>\n",
       "      <td>0.011195</td>\n",
       "      <td>0.037523</td>\n",
       "      <td>0.964671</td>\n",
       "      <td>00:00</td>\n",
       "    </tr>\n",
       "    <tr>\n",
       "      <td>10</td>\n",
       "      <td>0.010576</td>\n",
       "      <td>0.035880</td>\n",
       "      <td>0.965653</td>\n",
       "      <td>00:00</td>\n",
       "    </tr>\n",
       "    <tr>\n",
       "      <td>11</td>\n",
       "      <td>0.010128</td>\n",
       "      <td>0.034401</td>\n",
       "      <td>0.967125</td>\n",
       "      <td>00:00</td>\n",
       "    </tr>\n",
       "    <tr>\n",
       "      <td>12</td>\n",
       "      <td>0.009844</td>\n",
       "      <td>0.033022</td>\n",
       "      <td>0.968597</td>\n",
       "      <td>00:00</td>\n",
       "    </tr>\n",
       "    <tr>\n",
       "      <td>13</td>\n",
       "      <td>0.009655</td>\n",
       "      <td>0.031747</td>\n",
       "      <td>0.970069</td>\n",
       "      <td>00:00</td>\n",
       "    </tr>\n",
       "    <tr>\n",
       "      <td>14</td>\n",
       "      <td>0.009490</td>\n",
       "      <td>0.030624</td>\n",
       "      <td>0.971050</td>\n",
       "      <td>00:00</td>\n",
       "    </tr>\n",
       "    <tr>\n",
       "      <td>15</td>\n",
       "      <td>0.009319</td>\n",
       "      <td>0.029651</td>\n",
       "      <td>0.971050</td>\n",
       "      <td>00:00</td>\n",
       "    </tr>\n",
       "    <tr>\n",
       "      <td>16</td>\n",
       "      <td>0.009136</td>\n",
       "      <td>0.028752</td>\n",
       "      <td>0.973503</td>\n",
       "      <td>00:00</td>\n",
       "    </tr>\n",
       "    <tr>\n",
       "      <td>17</td>\n",
       "      <td>0.008945</td>\n",
       "      <td>0.027848</td>\n",
       "      <td>0.973503</td>\n",
       "      <td>00:00</td>\n",
       "    </tr>\n",
       "    <tr>\n",
       "      <td>18</td>\n",
       "      <td>0.008752</td>\n",
       "      <td>0.026947</td>\n",
       "      <td>0.974975</td>\n",
       "      <td>00:00</td>\n",
       "    </tr>\n",
       "    <tr>\n",
       "      <td>19</td>\n",
       "      <td>0.008553</td>\n",
       "      <td>0.026127</td>\n",
       "      <td>0.974975</td>\n",
       "      <td>00:00</td>\n",
       "    </tr>\n",
       "  </tbody>\n",
       "</table>"
      ],
      "text/plain": [
       "<IPython.core.display.HTML object>"
      ]
     },
     "metadata": {},
     "output_type": "display_data"
    }
   ],
   "source": [
    "learn.fit(20,1)"
   ]
  },
  {
   "cell_type": "code",
   "execution_count": 460,
   "id": "4a322001-d8a6-4989-bc68-12869405b72d",
   "metadata": {},
   "outputs": [
    {
     "data": {
      "text/plain": [
       "[<matplotlib.lines.Line2D at 0x31611a690>]"
      ]
     },
     "execution_count": 460,
     "metadata": {},
     "output_type": "execute_result"
    },
    {
     "data": {
      "image/png": "[encoded data removed]",
      "text/plain": [
       "<Figure size 640x480 with 1 Axes>"
      ]
     },
     "metadata": {},
     "output_type": "display_data"
    }
   ],
   "source": [
    "plt.plot(L(learn.recorder.values).itemgot(2))"
   ]
  },
  {
   "cell_type": "code",
   "execution_count": 629,
   "id": "8676d58a-7589-474a-bf46-ead53cb5171a",
   "metadata": {},
   "outputs": [
    {
     "data": {
      "text/plain": [
       "0.9749754667282104"
      ]
     },
     "execution_count": 629,
     "metadata": {},
     "output_type": "execute_result"
    }
   ],
   "source": [
    "learn.recorder.values[-1][2]"
   ]
  },
  {
   "cell_type": "code",
   "execution_count": null,
   "id": "7381e4f4-6b82-4e0a-8ff0-a10dc3176182",
   "metadata": {},
   "outputs": [],
   "source": [
    "learn.recorder"
   ]
  },
  {
   "cell_type": "code",
   "execution_count": null,
   "id": "c578751e-e1dc-41cd-995d-553a404ab044",
   "metadata": {},
   "outputs": [],
   "source": []
  },
  {
   "cell_type": "code",
   "execution_count": null,
   "id": "eb3a64d7-feb2-4247-b0c7-387a55104a8e",
   "metadata": {},
   "outputs": [],
   "source": []
  },
  {
   "cell_type": "code",
   "execution_count": null,
   "id": "a2bc43dc-42c3-47d9-81ec-e89818d420b1",
   "metadata": {},
   "outputs": [],
   "source": []
  },
  {
   "cell_type": "code",
   "execution_count": null,
   "id": "c2111da7-49ab-45f7-b82e-657f2830959c",
   "metadata": {},
   "outputs": [],
   "source": []
  },
  {
   "cell_type": "code",
   "execution_count": null,
   "id": "ebfc07aa-197d-4fb0-91e5-884b6733291a",
   "metadata": {},
   "outputs": [],
   "source": []
  },
  {
   "cell_type": "code",
   "execution_count": null,
   "id": "1de5106a-62e2-4602-8a19-384d3c06f5d9",
   "metadata": {},
   "outputs": [],
   "source": []
  },
  {
   "cell_type": "code",
   "execution_count": null,
   "id": "13d392ea-4ed3-466b-95ad-534c11ce7651",
   "metadata": {},
   "outputs": [],
   "source": []
  }
 ],
 "metadata": {
  "kernelspec": {
   "display_name": "Python 3 (ipykernel)",
   "language": "python",
   "name": "python3"
  },
  "language_info": {
   "codemirror_mode": {
    "name": "ipython",
    "version": 3
   },
   "file_extension": ".py",
   "mimetype": "text/x-python",
   "name": "python",
   "nbconvert_exporter": "python",
   "pygments_lexer": "ipython3",
   "version": "3.11.7"
  }
 },
 "nbformat": 4,
 "nbformat_minor": 5
}
