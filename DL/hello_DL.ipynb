{
 "cells": [
  {
   "cell_type": "code",
   "execution_count": 1,
   "id": "fa70b9fa-18ac-427c-ae74-865605d10db2",
   "metadata": {},
   "outputs": [],
   "source": [
    "from fastai.data.all import *\n",
    "from fastai.vision.all import *"
   ]
  },
  {
   "cell_type": "code",
   "execution_count": 2,
   "id": "addde260-e1ab-4599-9222-d7b374d2e095",
   "metadata": {},
   "outputs": [],
   "source": [
    "import torch\n",
    "import torchvision.models as models\n",
    "from torch.profiler import profile, record_function, ProfilerActivity"
   ]
  },
  {
   "cell_type": "code",
   "execution_count": 3,
   "id": "6d6239da-9bad-4dc4-8ba2-9cb2225cab8b",
   "metadata": {},
   "outputs": [],
   "source": [
    "import numpy as np"
   ]
  },
  {
   "cell_type": "code",
   "execution_count": 4,
   "id": "b28f6b70-ea16-43c6-b082-8de6e5ef2303",
   "metadata": {},
   "outputs": [],
   "source": [
    "device = torch.device(\"cuda:0\" if torch.cuda.is_available() else \"cpu\")"
   ]
  },
  {
   "cell_type": "code",
   "execution_count": 5,
   "id": "f53e9713-076b-4275-9e4e-e2d321883f9c",
   "metadata": {},
   "outputs": [
    {
     "data": {
      "text/plain": [
       "device(type='cpu')"
      ]
     },
     "execution_count": 5,
     "metadata": {},
     "output_type": "execute_result"
    }
   ],
   "source": [
    "device"
   ]
  },
  {
   "cell_type": "code",
   "execution_count": 6,
   "id": "2a7c0848-372c-4c42-818c-6048ca1ad477",
   "metadata": {},
   "outputs": [],
   "source": [
    "path = untar_data(URLs.MNIST_SAMPLE)"
   ]
  },
  {
   "cell_type": "code",
   "execution_count": 7,
   "id": "0b2908fc-bbc9-4cbc-b3ef-37b8e6ec0102",
   "metadata": {},
   "outputs": [
    {
     "data": {
      "text/plain": [
       "(#3) [Path('/Users/stephenzhou/.fastai/data/mnist_sample/valid'),Path('/Users/stephenzhou/.fastai/data/mnist_sample/labels.csv'),Path('/Users/stephenzhou/.fastai/data/mnist_sample/train')]"
      ]
     },
     "execution_count": 7,
     "metadata": {},
     "output_type": "execute_result"
    }
   ],
   "source": [
    "path.ls()"
   ]
  },
  {
   "cell_type": "code",
   "execution_count": 8,
   "id": "d02ec5a4-17e5-42ca-8d00-ffeeca8b3bb6",
   "metadata": {},
   "outputs": [
    {
     "data": {
      "text/plain": [
       "(#2) [Path('/Users/stephenzhou/.fastai/data/mnist_sample/train/7'),Path('/Users/stephenzhou/.fastai/data/mnist_sample/train/3')]"
      ]
     },
     "execution_count": 8,
     "metadata": {},
     "output_type": "execute_result"
    }
   ],
   "source": [
    "(path/'train').ls()"
   ]
  },
  {
   "cell_type": "code",
   "execution_count": 9,
   "id": "a10626c7-5d65-4e6a-858f-2a10d80ee13c",
   "metadata": {},
   "outputs": [],
   "source": [
    "threes = sorted((path/'train/3').ls())"
   ]
  },
  {
   "cell_type": "code",
   "execution_count": 10,
   "id": "3f78df86-f581-4911-ac77-2b6132290493",
   "metadata": {},
   "outputs": [],
   "source": [
    "sevens = (path/'train/7').ls().sorted()"
   ]
  },
  {
   "cell_type": "code",
   "execution_count": 11,
   "id": "ce9b5766-b6ba-4862-816b-a1e15ed9f5d9",
   "metadata": {},
   "outputs": [],
   "source": [
    "im3_path = threes[1]"
   ]
  },
  {
   "cell_type": "code",
   "execution_count": 12,
   "id": "d9ffa44a-4ed9-4749-97c9-922845b6e447",
   "metadata": {},
   "outputs": [],
   "source": [
    "im3 = Image.open(im3_path)"
   ]
  },
  {
   "cell_type": "code",
   "execution_count": 13,
   "id": "71b41bda-ef3e-4f71-ba78-2450cfcc92fc",
   "metadata": {},
   "outputs": [
    {
     "data": {
      "image/jpeg": "[encoded data removed]",
      "image/png": "[encoded data removed]",
      "text/plain": [
       "<PIL.PngImagePlugin.PngImageFile image mode=L size=28x28>"
      ]
     },
     "execution_count": 13,
     "metadata": {},
     "output_type": "execute_result"
    }
   ],
   "source": [
    "im3"
   ]
  },
  {
   "cell_type": "code",
   "execution_count": 14,
   "id": "61b1ce2d-4afb-4595-b0c2-ba27360855ee",
   "metadata": {},
   "outputs": [
    {
     "data": {
      "text/plain": [
       "(28, 28)"
      ]
     },
     "execution_count": 14,
     "metadata": {},
     "output_type": "execute_result"
    }
   ],
   "source": [
    "array(im3).shape"
   ]
  },
  {
   "cell_type": "code",
   "execution_count": 15,
   "id": "93199251-3823-46c3-baeb-008dc5d97679",
   "metadata": {},
   "outputs": [],
   "source": [
    "im3_t = tensor(im3)"
   ]
  },
  {
   "cell_type": "code",
   "execution_count": 16,
   "id": "cdef33aa-a844-4bc8-9309-21b54e6ee658",
   "metadata": {},
   "outputs": [],
   "source": [
    "df = pd.DataFrame(im3_t[4:15, 4:22])"
   ]
  },
  {
   "cell_type": "code",
   "execution_count": 17,
   "id": "dc645410-bc7e-4a8a-aef8-0c31eacdf448",
   "metadata": {},
   "outputs": [
    {
     "data": {
      "text/html": [
       "<style type=\"text/css\">\n",
       "#T_b2156_row0_col0, #T_b2156_row0_col1, #T_b2156_row0_col2, #T_b2156_row0_col3, #T_b2156_row0_col4, #T_b2156_row0_col5, #T_b2156_row0_col6, #T_b2156_row0_col7, #T_b2156_row0_col8, #T_b2156_row0_col9, #T_b2156_row0_col10, #T_b2156_row0_col11, #T_b2156_row0_col12, #T_b2156_row0_col13, #T_b2156_row0_col14, #T_b2156_row0_col15, #T_b2156_row0_col16, #T_b2156_row0_col17, #T_b2156_row1_col0, #T_b2156_row1_col1, #T_b2156_row1_col2, #T_b2156_row1_col3, #T_b2156_row1_col4, #T_b2156_row1_col15, #T_b2156_row1_col16, #T_b2156_row1_col17, #T_b2156_row2_col0, #T_b2156_row2_col1, #T_b2156_row2_col2, #T_b2156_row2_col15, #T_b2156_row2_col16, #T_b2156_row2_col17, #T_b2156_row3_col0, #T_b2156_row3_col15, #T_b2156_row3_col16, #T_b2156_row3_col17, #T_b2156_row4_col0, #T_b2156_row4_col6, #T_b2156_row4_col7, #T_b2156_row4_col8, #T_b2156_row4_col9, #T_b2156_row4_col10, #T_b2156_row4_col15, #T_b2156_row4_col16, #T_b2156_row4_col17, #T_b2156_row5_col0, #T_b2156_row5_col5, #T_b2156_row5_col6, #T_b2156_row5_col7, #T_b2156_row5_col8, #T_b2156_row5_col9, #T_b2156_row5_col15, #T_b2156_row5_col16, #T_b2156_row5_col17, #T_b2156_row6_col0, #T_b2156_row6_col1, #T_b2156_row6_col2, #T_b2156_row6_col3, #T_b2156_row6_col4, #T_b2156_row6_col5, #T_b2156_row6_col6, #T_b2156_row6_col7, #T_b2156_row6_col8, #T_b2156_row6_col9, #T_b2156_row6_col14, #T_b2156_row6_col15, #T_b2156_row6_col16, #T_b2156_row6_col17, #T_b2156_row7_col0, #T_b2156_row7_col1, #T_b2156_row7_col2, #T_b2156_row7_col3, #T_b2156_row7_col4, #T_b2156_row7_col5, #T_b2156_row7_col6, #T_b2156_row7_col13, #T_b2156_row7_col14, #T_b2156_row7_col15, #T_b2156_row7_col16, #T_b2156_row7_col17, #T_b2156_row8_col0, #T_b2156_row8_col1, #T_b2156_row8_col2, #T_b2156_row8_col3, #T_b2156_row8_col4, #T_b2156_row8_col13, #T_b2156_row8_col14, #T_b2156_row8_col15, #T_b2156_row8_col16, #T_b2156_row8_col17, #T_b2156_row9_col0, #T_b2156_row9_col1, #T_b2156_row9_col2, #T_b2156_row9_col3, #T_b2156_row9_col4, #T_b2156_row9_col16, #T_b2156_row9_col17, #T_b2156_row10_col0, #T_b2156_row10_col1, #T_b2156_row10_col2, #T_b2156_row10_col3, #T_b2156_row10_col4, #T_b2156_row10_col5, #T_b2156_row10_col6, #T_b2156_row10_col17 {\n",
       "  font-size: 6pt;\n",
       "  background-color: #ffffff;\n",
       "  color: #000000;\n",
       "}\n",
       "#T_b2156_row1_col5 {\n",
       "  font-size: 6pt;\n",
       "  background-color: #efefef;\n",
       "  color: #000000;\n",
       "}\n",
       "#T_b2156_row1_col6, #T_b2156_row1_col13 {\n",
       "  font-size: 6pt;\n",
       "  background-color: #7c7c7c;\n",
       "  color: #f1f1f1;\n",
       "}\n",
       "#T_b2156_row1_col7 {\n",
       "  font-size: 6pt;\n",
       "  background-color: #4a4a4a;\n",
       "  color: #f1f1f1;\n",
       "}\n",
       "#T_b2156_row1_col8, #T_b2156_row1_col9, #T_b2156_row1_col10, #T_b2156_row2_col5, #T_b2156_row2_col6, #T_b2156_row2_col7, #T_b2156_row2_col11, #T_b2156_row2_col12, #T_b2156_row2_col13, #T_b2156_row3_col4, #T_b2156_row3_col12, #T_b2156_row3_col13, #T_b2156_row4_col1, #T_b2156_row4_col2, #T_b2156_row4_col3, #T_b2156_row4_col12, #T_b2156_row4_col13, #T_b2156_row5_col12, #T_b2156_row6_col11, #T_b2156_row9_col11, #T_b2156_row10_col11, #T_b2156_row10_col12, #T_b2156_row10_col13, #T_b2156_row10_col14, #T_b2156_row10_col15, #T_b2156_row10_col16 {\n",
       "  font-size: 6pt;\n",
       "  background-color: #000000;\n",
       "  color: #f1f1f1;\n",
       "}\n",
       "#T_b2156_row1_col11 {\n",
       "  font-size: 6pt;\n",
       "  background-color: #606060;\n",
       "  color: #f1f1f1;\n",
       "}\n",
       "#T_b2156_row1_col12 {\n",
       "  font-size: 6pt;\n",
       "  background-color: #4d4d4d;\n",
       "  color: #f1f1f1;\n",
       "}\n",
       "#T_b2156_row1_col14 {\n",
       "  font-size: 6pt;\n",
       "  background-color: #bbbbbb;\n",
       "  color: #000000;\n",
       "}\n",
       "#T_b2156_row2_col3 {\n",
       "  font-size: 6pt;\n",
       "  background-color: #e4e4e4;\n",
       "  color: #000000;\n",
       "}\n",
       "#T_b2156_row2_col4, #T_b2156_row8_col6 {\n",
       "  font-size: 6pt;\n",
       "  background-color: #6b6b6b;\n",
       "  color: #f1f1f1;\n",
       "}\n",
       "#T_b2156_row2_col8, #T_b2156_row2_col14, #T_b2156_row3_col14 {\n",
       "  font-size: 6pt;\n",
       "  background-color: #171717;\n",
       "  color: #f1f1f1;\n",
       "}\n",
       "#T_b2156_row2_col9, #T_b2156_row3_col11 {\n",
       "  font-size: 6pt;\n",
       "  background-color: #4b4b4b;\n",
       "  color: #f1f1f1;\n",
       "}\n",
       "#T_b2156_row2_col10, #T_b2156_row7_col10, #T_b2156_row8_col8, #T_b2156_row8_col10, #T_b2156_row9_col8, #T_b2156_row9_col10 {\n",
       "  font-size: 6pt;\n",
       "  background-color: #010101;\n",
       "  color: #f1f1f1;\n",
       "}\n",
       "#T_b2156_row3_col1 {\n",
       "  font-size: 6pt;\n",
       "  background-color: #272727;\n",
       "  color: #f1f1f1;\n",
       "}\n",
       "#T_b2156_row3_col2 {\n",
       "  font-size: 6pt;\n",
       "  background-color: #0a0a0a;\n",
       "  color: #f1f1f1;\n",
       "}\n",
       "#T_b2156_row3_col3 {\n",
       "  font-size: 6pt;\n",
       "  background-color: #050505;\n",
       "  color: #f1f1f1;\n",
       "}\n",
       "#T_b2156_row3_col5 {\n",
       "  font-size: 6pt;\n",
       "  background-color: #333333;\n",
       "  color: #f1f1f1;\n",
       "}\n",
       "#T_b2156_row3_col6 {\n",
       "  font-size: 6pt;\n",
       "  background-color: #e6e6e6;\n",
       "  color: #000000;\n",
       "}\n",
       "#T_b2156_row3_col7, #T_b2156_row3_col10 {\n",
       "  font-size: 6pt;\n",
       "  background-color: #fafafa;\n",
       "  color: #000000;\n",
       "}\n",
       "#T_b2156_row3_col8 {\n",
       "  font-size: 6pt;\n",
       "  background-color: #fbfbfb;\n",
       "  color: #000000;\n",
       "}\n",
       "#T_b2156_row3_col9 {\n",
       "  font-size: 6pt;\n",
       "  background-color: #fdfdfd;\n",
       "  color: #000000;\n",
       "}\n",
       "#T_b2156_row4_col4 {\n",
       "  font-size: 6pt;\n",
       "  background-color: #1b1b1b;\n",
       "  color: #f1f1f1;\n",
       "}\n",
       "#T_b2156_row4_col5 {\n",
       "  font-size: 6pt;\n",
       "  background-color: #e0e0e0;\n",
       "  color: #000000;\n",
       "}\n",
       "#T_b2156_row4_col11 {\n",
       "  font-size: 6pt;\n",
       "  background-color: #4e4e4e;\n",
       "  color: #f1f1f1;\n",
       "}\n",
       "#T_b2156_row4_col14 {\n",
       "  font-size: 6pt;\n",
       "  background-color: #767676;\n",
       "  color: #f1f1f1;\n",
       "}\n",
       "#T_b2156_row5_col1 {\n",
       "  font-size: 6pt;\n",
       "  background-color: #fcfcfc;\n",
       "  color: #000000;\n",
       "}\n",
       "#T_b2156_row5_col2, #T_b2156_row5_col3 {\n",
       "  font-size: 6pt;\n",
       "  background-color: #f6f6f6;\n",
       "  color: #000000;\n",
       "}\n",
       "#T_b2156_row5_col4, #T_b2156_row7_col7 {\n",
       "  font-size: 6pt;\n",
       "  background-color: #f8f8f8;\n",
       "  color: #000000;\n",
       "}\n",
       "#T_b2156_row5_col10, #T_b2156_row10_col7 {\n",
       "  font-size: 6pt;\n",
       "  background-color: #e8e8e8;\n",
       "  color: #000000;\n",
       "}\n",
       "#T_b2156_row5_col11 {\n",
       "  font-size: 6pt;\n",
       "  background-color: #222222;\n",
       "  color: #f1f1f1;\n",
       "}\n",
       "#T_b2156_row5_col13, #T_b2156_row6_col12 {\n",
       "  font-size: 6pt;\n",
       "  background-color: #090909;\n",
       "  color: #f1f1f1;\n",
       "}\n",
       "#T_b2156_row5_col14 {\n",
       "  font-size: 6pt;\n",
       "  background-color: #d0d0d0;\n",
       "  color: #000000;\n",
       "}\n",
       "#T_b2156_row6_col10, #T_b2156_row7_col11, #T_b2156_row9_col6 {\n",
       "  font-size: 6pt;\n",
       "  background-color: #060606;\n",
       "  color: #f1f1f1;\n",
       "}\n",
       "#T_b2156_row6_col13 {\n",
       "  font-size: 6pt;\n",
       "  background-color: #979797;\n",
       "  color: #f1f1f1;\n",
       "}\n",
       "#T_b2156_row7_col8 {\n",
       "  font-size: 6pt;\n",
       "  background-color: #b6b6b6;\n",
       "  color: #000000;\n",
       "}\n",
       "#T_b2156_row7_col9 {\n",
       "  font-size: 6pt;\n",
       "  background-color: #252525;\n",
       "  color: #f1f1f1;\n",
       "}\n",
       "#T_b2156_row7_col12 {\n",
       "  font-size: 6pt;\n",
       "  background-color: #999999;\n",
       "  color: #f1f1f1;\n",
       "}\n",
       "#T_b2156_row8_col5 {\n",
       "  font-size: 6pt;\n",
       "  background-color: #f9f9f9;\n",
       "  color: #000000;\n",
       "}\n",
       "#T_b2156_row8_col7 {\n",
       "  font-size: 6pt;\n",
       "  background-color: #101010;\n",
       "  color: #f1f1f1;\n",
       "}\n",
       "#T_b2156_row8_col9, #T_b2156_row9_col9 {\n",
       "  font-size: 6pt;\n",
       "  background-color: #020202;\n",
       "  color: #f1f1f1;\n",
       "}\n",
       "#T_b2156_row8_col11 {\n",
       "  font-size: 6pt;\n",
       "  background-color: #545454;\n",
       "  color: #f1f1f1;\n",
       "}\n",
       "#T_b2156_row8_col12 {\n",
       "  font-size: 6pt;\n",
       "  background-color: #f1f1f1;\n",
       "  color: #000000;\n",
       "}\n",
       "#T_b2156_row9_col5 {\n",
       "  font-size: 6pt;\n",
       "  background-color: #f7f7f7;\n",
       "  color: #000000;\n",
       "}\n",
       "#T_b2156_row9_col7 {\n",
       "  font-size: 6pt;\n",
       "  background-color: #030303;\n",
       "  color: #f1f1f1;\n",
       "}\n",
       "#T_b2156_row9_col12 {\n",
       "  font-size: 6pt;\n",
       "  background-color: #181818;\n",
       "  color: #f1f1f1;\n",
       "}\n",
       "#T_b2156_row9_col13 {\n",
       "  font-size: 6pt;\n",
       "  background-color: #303030;\n",
       "  color: #f1f1f1;\n",
       "}\n",
       "#T_b2156_row9_col14 {\n",
       "  font-size: 6pt;\n",
       "  background-color: #a9a9a9;\n",
       "  color: #f1f1f1;\n",
       "}\n",
       "#T_b2156_row9_col15 {\n",
       "  font-size: 6pt;\n",
       "  background-color: #fefefe;\n",
       "  color: #000000;\n",
       "}\n",
       "#T_b2156_row10_col8, #T_b2156_row10_col9 {\n",
       "  font-size: 6pt;\n",
       "  background-color: #bababa;\n",
       "  color: #000000;\n",
       "}\n",
       "#T_b2156_row10_col10 {\n",
       "  font-size: 6pt;\n",
       "  background-color: #393939;\n",
       "  color: #f1f1f1;\n",
       "}\n",
       "</style>\n",
       "<table id=\"T_b2156\">\n",
       "  <thead>\n",
       "    <tr>\n",
       "      <th class=\"blank level0\" >&nbsp;</th>\n",
       "      <th id=\"T_b2156_level0_col0\" class=\"col_heading level0 col0\" >0</th>\n",
       "      <th id=\"T_b2156_level0_col1\" class=\"col_heading level0 col1\" >1</th>\n",
       "      <th id=\"T_b2156_level0_col2\" class=\"col_heading level0 col2\" >2</th>\n",
       "      <th id=\"T_b2156_level0_col3\" class=\"col_heading level0 col3\" >3</th>\n",
       "      <th id=\"T_b2156_level0_col4\" class=\"col_heading level0 col4\" >4</th>\n",
       "      <th id=\"T_b2156_level0_col5\" class=\"col_heading level0 col5\" >5</th>\n",
       "      <th id=\"T_b2156_level0_col6\" class=\"col_heading level0 col6\" >6</th>\n",
       "      <th id=\"T_b2156_level0_col7\" class=\"col_heading level0 col7\" >7</th>\n",
       "      <th id=\"T_b2156_level0_col8\" class=\"col_heading level0 col8\" >8</th>\n",
       "      <th id=\"T_b2156_level0_col9\" class=\"col_heading level0 col9\" >9</th>\n",
       "      <th id=\"T_b2156_level0_col10\" class=\"col_heading level0 col10\" >10</th>\n",
       "      <th id=\"T_b2156_level0_col11\" class=\"col_heading level0 col11\" >11</th>\n",
       "      <th id=\"T_b2156_level0_col12\" class=\"col_heading level0 col12\" >12</th>\n",
       "      <th id=\"T_b2156_level0_col13\" class=\"col_heading level0 col13\" >13</th>\n",
       "      <th id=\"T_b2156_level0_col14\" class=\"col_heading level0 col14\" >14</th>\n",
       "      <th id=\"T_b2156_level0_col15\" class=\"col_heading level0 col15\" >15</th>\n",
       "      <th id=\"T_b2156_level0_col16\" class=\"col_heading level0 col16\" >16</th>\n",
       "      <th id=\"T_b2156_level0_col17\" class=\"col_heading level0 col17\" >17</th>\n",
       "    </tr>\n",
       "  </thead>\n",
       "  <tbody>\n",
       "    <tr>\n",
       "      <th id=\"T_b2156_level0_row0\" class=\"row_heading level0 row0\" >0</th>\n",
       "      <td id=\"T_b2156_row0_col0\" class=\"data row0 col0\" >0</td>\n",
       "      <td id=\"T_b2156_row0_col1\" class=\"data row0 col1\" >0</td>\n",
       "      <td id=\"T_b2156_row0_col2\" class=\"data row0 col2\" >0</td>\n",
       "      <td id=\"T_b2156_row0_col3\" class=\"data row0 col3\" >0</td>\n",
       "      <td id=\"T_b2156_row0_col4\" class=\"data row0 col4\" >0</td>\n",
       "      <td id=\"T_b2156_row0_col5\" class=\"data row0 col5\" >0</td>\n",
       "      <td id=\"T_b2156_row0_col6\" class=\"data row0 col6\" >0</td>\n",
       "      <td id=\"T_b2156_row0_col7\" class=\"data row0 col7\" >0</td>\n",
       "      <td id=\"T_b2156_row0_col8\" class=\"data row0 col8\" >0</td>\n",
       "      <td id=\"T_b2156_row0_col9\" class=\"data row0 col9\" >0</td>\n",
       "      <td id=\"T_b2156_row0_col10\" class=\"data row0 col10\" >0</td>\n",
       "      <td id=\"T_b2156_row0_col11\" class=\"data row0 col11\" >0</td>\n",
       "      <td id=\"T_b2156_row0_col12\" class=\"data row0 col12\" >0</td>\n",
       "      <td id=\"T_b2156_row0_col13\" class=\"data row0 col13\" >0</td>\n",
       "      <td id=\"T_b2156_row0_col14\" class=\"data row0 col14\" >0</td>\n",
       "      <td id=\"T_b2156_row0_col15\" class=\"data row0 col15\" >0</td>\n",
       "      <td id=\"T_b2156_row0_col16\" class=\"data row0 col16\" >0</td>\n",
       "      <td id=\"T_b2156_row0_col17\" class=\"data row0 col17\" >0</td>\n",
       "    </tr>\n",
       "    <tr>\n",
       "      <th id=\"T_b2156_level0_row1\" class=\"row_heading level0 row1\" >1</th>\n",
       "      <td id=\"T_b2156_row1_col0\" class=\"data row1 col0\" >0</td>\n",
       "      <td id=\"T_b2156_row1_col1\" class=\"data row1 col1\" >0</td>\n",
       "      <td id=\"T_b2156_row1_col2\" class=\"data row1 col2\" >0</td>\n",
       "      <td id=\"T_b2156_row1_col3\" class=\"data row1 col3\" >0</td>\n",
       "      <td id=\"T_b2156_row1_col4\" class=\"data row1 col4\" >0</td>\n",
       "      <td id=\"T_b2156_row1_col5\" class=\"data row1 col5\" >29</td>\n",
       "      <td id=\"T_b2156_row1_col6\" class=\"data row1 col6\" >150</td>\n",
       "      <td id=\"T_b2156_row1_col7\" class=\"data row1 col7\" >195</td>\n",
       "      <td id=\"T_b2156_row1_col8\" class=\"data row1 col8\" >254</td>\n",
       "      <td id=\"T_b2156_row1_col9\" class=\"data row1 col9\" >255</td>\n",
       "      <td id=\"T_b2156_row1_col10\" class=\"data row1 col10\" >254</td>\n",
       "      <td id=\"T_b2156_row1_col11\" class=\"data row1 col11\" >176</td>\n",
       "      <td id=\"T_b2156_row1_col12\" class=\"data row1 col12\" >193</td>\n",
       "      <td id=\"T_b2156_row1_col13\" class=\"data row1 col13\" >150</td>\n",
       "      <td id=\"T_b2156_row1_col14\" class=\"data row1 col14\" >96</td>\n",
       "      <td id=\"T_b2156_row1_col15\" class=\"data row1 col15\" >0</td>\n",
       "      <td id=\"T_b2156_row1_col16\" class=\"data row1 col16\" >0</td>\n",
       "      <td id=\"T_b2156_row1_col17\" class=\"data row1 col17\" >0</td>\n",
       "    </tr>\n",
       "    <tr>\n",
       "      <th id=\"T_b2156_level0_row2\" class=\"row_heading level0 row2\" >2</th>\n",
       "      <td id=\"T_b2156_row2_col0\" class=\"data row2 col0\" >0</td>\n",
       "      <td id=\"T_b2156_row2_col1\" class=\"data row2 col1\" >0</td>\n",
       "      <td id=\"T_b2156_row2_col2\" class=\"data row2 col2\" >0</td>\n",
       "      <td id=\"T_b2156_row2_col3\" class=\"data row2 col3\" >48</td>\n",
       "      <td id=\"T_b2156_row2_col4\" class=\"data row2 col4\" >166</td>\n",
       "      <td id=\"T_b2156_row2_col5\" class=\"data row2 col5\" >224</td>\n",
       "      <td id=\"T_b2156_row2_col6\" class=\"data row2 col6\" >253</td>\n",
       "      <td id=\"T_b2156_row2_col7\" class=\"data row2 col7\" >253</td>\n",
       "      <td id=\"T_b2156_row2_col8\" class=\"data row2 col8\" >234</td>\n",
       "      <td id=\"T_b2156_row2_col9\" class=\"data row2 col9\" >196</td>\n",
       "      <td id=\"T_b2156_row2_col10\" class=\"data row2 col10\" >253</td>\n",
       "      <td id=\"T_b2156_row2_col11\" class=\"data row2 col11\" >253</td>\n",
       "      <td id=\"T_b2156_row2_col12\" class=\"data row2 col12\" >253</td>\n",
       "      <td id=\"T_b2156_row2_col13\" class=\"data row2 col13\" >253</td>\n",
       "      <td id=\"T_b2156_row2_col14\" class=\"data row2 col14\" >233</td>\n",
       "      <td id=\"T_b2156_row2_col15\" class=\"data row2 col15\" >0</td>\n",
       "      <td id=\"T_b2156_row2_col16\" class=\"data row2 col16\" >0</td>\n",
       "      <td id=\"T_b2156_row2_col17\" class=\"data row2 col17\" >0</td>\n",
       "    </tr>\n",
       "    <tr>\n",
       "      <th id=\"T_b2156_level0_row3\" class=\"row_heading level0 row3\" >3</th>\n",
       "      <td id=\"T_b2156_row3_col0\" class=\"data row3 col0\" >0</td>\n",
       "      <td id=\"T_b2156_row3_col1\" class=\"data row3 col1\" >93</td>\n",
       "      <td id=\"T_b2156_row3_col2\" class=\"data row3 col2\" >244</td>\n",
       "      <td id=\"T_b2156_row3_col3\" class=\"data row3 col3\" >249</td>\n",
       "      <td id=\"T_b2156_row3_col4\" class=\"data row3 col4\" >253</td>\n",
       "      <td id=\"T_b2156_row3_col5\" class=\"data row3 col5\" >187</td>\n",
       "      <td id=\"T_b2156_row3_col6\" class=\"data row3 col6\" >46</td>\n",
       "      <td id=\"T_b2156_row3_col7\" class=\"data row3 col7\" >10</td>\n",
       "      <td id=\"T_b2156_row3_col8\" class=\"data row3 col8\" >8</td>\n",
       "      <td id=\"T_b2156_row3_col9\" class=\"data row3 col9\" >4</td>\n",
       "      <td id=\"T_b2156_row3_col10\" class=\"data row3 col10\" >10</td>\n",
       "      <td id=\"T_b2156_row3_col11\" class=\"data row3 col11\" >194</td>\n",
       "      <td id=\"T_b2156_row3_col12\" class=\"data row3 col12\" >253</td>\n",
       "      <td id=\"T_b2156_row3_col13\" class=\"data row3 col13\" >253</td>\n",
       "      <td id=\"T_b2156_row3_col14\" class=\"data row3 col14\" >233</td>\n",
       "      <td id=\"T_b2156_row3_col15\" class=\"data row3 col15\" >0</td>\n",
       "      <td id=\"T_b2156_row3_col16\" class=\"data row3 col16\" >0</td>\n",
       "      <td id=\"T_b2156_row3_col17\" class=\"data row3 col17\" >0</td>\n",
       "    </tr>\n",
       "    <tr>\n",
       "      <th id=\"T_b2156_level0_row4\" class=\"row_heading level0 row4\" >4</th>\n",
       "      <td id=\"T_b2156_row4_col0\" class=\"data row4 col0\" >0</td>\n",
       "      <td id=\"T_b2156_row4_col1\" class=\"data row4 col1\" >107</td>\n",
       "      <td id=\"T_b2156_row4_col2\" class=\"data row4 col2\" >253</td>\n",
       "      <td id=\"T_b2156_row4_col3\" class=\"data row4 col3\" >253</td>\n",
       "      <td id=\"T_b2156_row4_col4\" class=\"data row4 col4\" >230</td>\n",
       "      <td id=\"T_b2156_row4_col5\" class=\"data row4 col5\" >48</td>\n",
       "      <td id=\"T_b2156_row4_col6\" class=\"data row4 col6\" >0</td>\n",
       "      <td id=\"T_b2156_row4_col7\" class=\"data row4 col7\" >0</td>\n",
       "      <td id=\"T_b2156_row4_col8\" class=\"data row4 col8\" >0</td>\n",
       "      <td id=\"T_b2156_row4_col9\" class=\"data row4 col9\" >0</td>\n",
       "      <td id=\"T_b2156_row4_col10\" class=\"data row4 col10\" >0</td>\n",
       "      <td id=\"T_b2156_row4_col11\" class=\"data row4 col11\" >192</td>\n",
       "      <td id=\"T_b2156_row4_col12\" class=\"data row4 col12\" >253</td>\n",
       "      <td id=\"T_b2156_row4_col13\" class=\"data row4 col13\" >253</td>\n",
       "      <td id=\"T_b2156_row4_col14\" class=\"data row4 col14\" >156</td>\n",
       "      <td id=\"T_b2156_row4_col15\" class=\"data row4 col15\" >0</td>\n",
       "      <td id=\"T_b2156_row4_col16\" class=\"data row4 col16\" >0</td>\n",
       "      <td id=\"T_b2156_row4_col17\" class=\"data row4 col17\" >0</td>\n",
       "    </tr>\n",
       "    <tr>\n",
       "      <th id=\"T_b2156_level0_row5\" class=\"row_heading level0 row5\" >5</th>\n",
       "      <td id=\"T_b2156_row5_col0\" class=\"data row5 col0\" >0</td>\n",
       "      <td id=\"T_b2156_row5_col1\" class=\"data row5 col1\" >3</td>\n",
       "      <td id=\"T_b2156_row5_col2\" class=\"data row5 col2\" >20</td>\n",
       "      <td id=\"T_b2156_row5_col3\" class=\"data row5 col3\" >20</td>\n",
       "      <td id=\"T_b2156_row5_col4\" class=\"data row5 col4\" >15</td>\n",
       "      <td id=\"T_b2156_row5_col5\" class=\"data row5 col5\" >0</td>\n",
       "      <td id=\"T_b2156_row5_col6\" class=\"data row5 col6\" >0</td>\n",
       "      <td id=\"T_b2156_row5_col7\" class=\"data row5 col7\" >0</td>\n",
       "      <td id=\"T_b2156_row5_col8\" class=\"data row5 col8\" >0</td>\n",
       "      <td id=\"T_b2156_row5_col9\" class=\"data row5 col9\" >0</td>\n",
       "      <td id=\"T_b2156_row5_col10\" class=\"data row5 col10\" >43</td>\n",
       "      <td id=\"T_b2156_row5_col11\" class=\"data row5 col11\" >224</td>\n",
       "      <td id=\"T_b2156_row5_col12\" class=\"data row5 col12\" >253</td>\n",
       "      <td id=\"T_b2156_row5_col13\" class=\"data row5 col13\" >245</td>\n",
       "      <td id=\"T_b2156_row5_col14\" class=\"data row5 col14\" >74</td>\n",
       "      <td id=\"T_b2156_row5_col15\" class=\"data row5 col15\" >0</td>\n",
       "      <td id=\"T_b2156_row5_col16\" class=\"data row5 col16\" >0</td>\n",
       "      <td id=\"T_b2156_row5_col17\" class=\"data row5 col17\" >0</td>\n",
       "    </tr>\n",
       "    <tr>\n",
       "      <th id=\"T_b2156_level0_row6\" class=\"row_heading level0 row6\" >6</th>\n",
       "      <td id=\"T_b2156_row6_col0\" class=\"data row6 col0\" >0</td>\n",
       "      <td id=\"T_b2156_row6_col1\" class=\"data row6 col1\" >0</td>\n",
       "      <td id=\"T_b2156_row6_col2\" class=\"data row6 col2\" >0</td>\n",
       "      <td id=\"T_b2156_row6_col3\" class=\"data row6 col3\" >0</td>\n",
       "      <td id=\"T_b2156_row6_col4\" class=\"data row6 col4\" >0</td>\n",
       "      <td id=\"T_b2156_row6_col5\" class=\"data row6 col5\" >0</td>\n",
       "      <td id=\"T_b2156_row6_col6\" class=\"data row6 col6\" >0</td>\n",
       "      <td id=\"T_b2156_row6_col7\" class=\"data row6 col7\" >0</td>\n",
       "      <td id=\"T_b2156_row6_col8\" class=\"data row6 col8\" >0</td>\n",
       "      <td id=\"T_b2156_row6_col9\" class=\"data row6 col9\" >0</td>\n",
       "      <td id=\"T_b2156_row6_col10\" class=\"data row6 col10\" >249</td>\n",
       "      <td id=\"T_b2156_row6_col11\" class=\"data row6 col11\" >253</td>\n",
       "      <td id=\"T_b2156_row6_col12\" class=\"data row6 col12\" >245</td>\n",
       "      <td id=\"T_b2156_row6_col13\" class=\"data row6 col13\" >126</td>\n",
       "      <td id=\"T_b2156_row6_col14\" class=\"data row6 col14\" >0</td>\n",
       "      <td id=\"T_b2156_row6_col15\" class=\"data row6 col15\" >0</td>\n",
       "      <td id=\"T_b2156_row6_col16\" class=\"data row6 col16\" >0</td>\n",
       "      <td id=\"T_b2156_row6_col17\" class=\"data row6 col17\" >0</td>\n",
       "    </tr>\n",
       "    <tr>\n",
       "      <th id=\"T_b2156_level0_row7\" class=\"row_heading level0 row7\" >7</th>\n",
       "      <td id=\"T_b2156_row7_col0\" class=\"data row7 col0\" >0</td>\n",
       "      <td id=\"T_b2156_row7_col1\" class=\"data row7 col1\" >0</td>\n",
       "      <td id=\"T_b2156_row7_col2\" class=\"data row7 col2\" >0</td>\n",
       "      <td id=\"T_b2156_row7_col3\" class=\"data row7 col3\" >0</td>\n",
       "      <td id=\"T_b2156_row7_col4\" class=\"data row7 col4\" >0</td>\n",
       "      <td id=\"T_b2156_row7_col5\" class=\"data row7 col5\" >0</td>\n",
       "      <td id=\"T_b2156_row7_col6\" class=\"data row7 col6\" >0</td>\n",
       "      <td id=\"T_b2156_row7_col7\" class=\"data row7 col7\" >14</td>\n",
       "      <td id=\"T_b2156_row7_col8\" class=\"data row7 col8\" >101</td>\n",
       "      <td id=\"T_b2156_row7_col9\" class=\"data row7 col9\" >223</td>\n",
       "      <td id=\"T_b2156_row7_col10\" class=\"data row7 col10\" >253</td>\n",
       "      <td id=\"T_b2156_row7_col11\" class=\"data row7 col11\" >248</td>\n",
       "      <td id=\"T_b2156_row7_col12\" class=\"data row7 col12\" >124</td>\n",
       "      <td id=\"T_b2156_row7_col13\" class=\"data row7 col13\" >0</td>\n",
       "      <td id=\"T_b2156_row7_col14\" class=\"data row7 col14\" >0</td>\n",
       "      <td id=\"T_b2156_row7_col15\" class=\"data row7 col15\" >0</td>\n",
       "      <td id=\"T_b2156_row7_col16\" class=\"data row7 col16\" >0</td>\n",
       "      <td id=\"T_b2156_row7_col17\" class=\"data row7 col17\" >0</td>\n",
       "    </tr>\n",
       "    <tr>\n",
       "      <th id=\"T_b2156_level0_row8\" class=\"row_heading level0 row8\" >8</th>\n",
       "      <td id=\"T_b2156_row8_col0\" class=\"data row8 col0\" >0</td>\n",
       "      <td id=\"T_b2156_row8_col1\" class=\"data row8 col1\" >0</td>\n",
       "      <td id=\"T_b2156_row8_col2\" class=\"data row8 col2\" >0</td>\n",
       "      <td id=\"T_b2156_row8_col3\" class=\"data row8 col3\" >0</td>\n",
       "      <td id=\"T_b2156_row8_col4\" class=\"data row8 col4\" >0</td>\n",
       "      <td id=\"T_b2156_row8_col5\" class=\"data row8 col5\" >11</td>\n",
       "      <td id=\"T_b2156_row8_col6\" class=\"data row8 col6\" >166</td>\n",
       "      <td id=\"T_b2156_row8_col7\" class=\"data row8 col7\" >239</td>\n",
       "      <td id=\"T_b2156_row8_col8\" class=\"data row8 col8\" >253</td>\n",
       "      <td id=\"T_b2156_row8_col9\" class=\"data row8 col9\" >253</td>\n",
       "      <td id=\"T_b2156_row8_col10\" class=\"data row8 col10\" >253</td>\n",
       "      <td id=\"T_b2156_row8_col11\" class=\"data row8 col11\" >187</td>\n",
       "      <td id=\"T_b2156_row8_col12\" class=\"data row8 col12\" >30</td>\n",
       "      <td id=\"T_b2156_row8_col13\" class=\"data row8 col13\" >0</td>\n",
       "      <td id=\"T_b2156_row8_col14\" class=\"data row8 col14\" >0</td>\n",
       "      <td id=\"T_b2156_row8_col15\" class=\"data row8 col15\" >0</td>\n",
       "      <td id=\"T_b2156_row8_col16\" class=\"data row8 col16\" >0</td>\n",
       "      <td id=\"T_b2156_row8_col17\" class=\"data row8 col17\" >0</td>\n",
       "    </tr>\n",
       "    <tr>\n",
       "      <th id=\"T_b2156_level0_row9\" class=\"row_heading level0 row9\" >9</th>\n",
       "      <td id=\"T_b2156_row9_col0\" class=\"data row9 col0\" >0</td>\n",
       "      <td id=\"T_b2156_row9_col1\" class=\"data row9 col1\" >0</td>\n",
       "      <td id=\"T_b2156_row9_col2\" class=\"data row9 col2\" >0</td>\n",
       "      <td id=\"T_b2156_row9_col3\" class=\"data row9 col3\" >0</td>\n",
       "      <td id=\"T_b2156_row9_col4\" class=\"data row9 col4\" >0</td>\n",
       "      <td id=\"T_b2156_row9_col5\" class=\"data row9 col5\" >16</td>\n",
       "      <td id=\"T_b2156_row9_col6\" class=\"data row9 col6\" >248</td>\n",
       "      <td id=\"T_b2156_row9_col7\" class=\"data row9 col7\" >250</td>\n",
       "      <td id=\"T_b2156_row9_col8\" class=\"data row9 col8\" >253</td>\n",
       "      <td id=\"T_b2156_row9_col9\" class=\"data row9 col9\" >253</td>\n",
       "      <td id=\"T_b2156_row9_col10\" class=\"data row9 col10\" >253</td>\n",
       "      <td id=\"T_b2156_row9_col11\" class=\"data row9 col11\" >253</td>\n",
       "      <td id=\"T_b2156_row9_col12\" class=\"data row9 col12\" >232</td>\n",
       "      <td id=\"T_b2156_row9_col13\" class=\"data row9 col13\" >213</td>\n",
       "      <td id=\"T_b2156_row9_col14\" class=\"data row9 col14\" >111</td>\n",
       "      <td id=\"T_b2156_row9_col15\" class=\"data row9 col15\" >2</td>\n",
       "      <td id=\"T_b2156_row9_col16\" class=\"data row9 col16\" >0</td>\n",
       "      <td id=\"T_b2156_row9_col17\" class=\"data row9 col17\" >0</td>\n",
       "    </tr>\n",
       "    <tr>\n",
       "      <th id=\"T_b2156_level0_row10\" class=\"row_heading level0 row10\" >10</th>\n",
       "      <td id=\"T_b2156_row10_col0\" class=\"data row10 col0\" >0</td>\n",
       "      <td id=\"T_b2156_row10_col1\" class=\"data row10 col1\" >0</td>\n",
       "      <td id=\"T_b2156_row10_col2\" class=\"data row10 col2\" >0</td>\n",
       "      <td id=\"T_b2156_row10_col3\" class=\"data row10 col3\" >0</td>\n",
       "      <td id=\"T_b2156_row10_col4\" class=\"data row10 col4\" >0</td>\n",
       "      <td id=\"T_b2156_row10_col5\" class=\"data row10 col5\" >0</td>\n",
       "      <td id=\"T_b2156_row10_col6\" class=\"data row10 col6\" >0</td>\n",
       "      <td id=\"T_b2156_row10_col7\" class=\"data row10 col7\" >43</td>\n",
       "      <td id=\"T_b2156_row10_col8\" class=\"data row10 col8\" >98</td>\n",
       "      <td id=\"T_b2156_row10_col9\" class=\"data row10 col9\" >98</td>\n",
       "      <td id=\"T_b2156_row10_col10\" class=\"data row10 col10\" >208</td>\n",
       "      <td id=\"T_b2156_row10_col11\" class=\"data row10 col11\" >253</td>\n",
       "      <td id=\"T_b2156_row10_col12\" class=\"data row10 col12\" >253</td>\n",
       "      <td id=\"T_b2156_row10_col13\" class=\"data row10 col13\" >253</td>\n",
       "      <td id=\"T_b2156_row10_col14\" class=\"data row10 col14\" >253</td>\n",
       "      <td id=\"T_b2156_row10_col15\" class=\"data row10 col15\" >187</td>\n",
       "      <td id=\"T_b2156_row10_col16\" class=\"data row10 col16\" >22</td>\n",
       "      <td id=\"T_b2156_row10_col17\" class=\"data row10 col17\" >0</td>\n",
       "    </tr>\n",
       "  </tbody>\n",
       "</table>\n"
      ],
      "text/plain": [
       "<pandas.io.formats.style.Styler at 0x175eeb110>"
      ]
     },
     "execution_count": 17,
     "metadata": {},
     "output_type": "execute_result"
    }
   ],
   "source": [
    "df.style.set_properties(**{'font-size':'6pt'}).background_gradient('Greys')"
   ]
  },
  {
   "cell_type": "code",
   "execution_count": 18,
   "id": "78fab22c-746a-470a-bfb5-b7381552afd6",
   "metadata": {},
   "outputs": [],
   "source": [
    "tensors3 = [tensor(Image.open(o)) for o in threes]"
   ]
  },
  {
   "cell_type": "code",
   "execution_count": 19,
   "id": "0dfae2f9-ddd2-40d8-9ee5-f431b93648b7",
   "metadata": {},
   "outputs": [],
   "source": [
    "tensors7 = [tensor(Image.open(o)) for o in sevens]"
   ]
  },
  {
   "cell_type": "code",
   "execution_count": 20,
   "id": "7582c26b-01d2-4224-a8c0-769720356bb6",
   "metadata": {},
   "outputs": [
    {
     "data": {
      "text/plain": [
       "6131"
      ]
     },
     "execution_count": 20,
     "metadata": {},
     "output_type": "execute_result"
    }
   ],
   "source": [
    "len(tensors3)"
   ]
  },
  {
   "cell_type": "code",
   "execution_count": 21,
   "id": "57e03a82-cfa7-4a1a-9ee0-1da0069d69bf",
   "metadata": {},
   "outputs": [
    {
     "data": {
      "text/plain": [
       "6265"
      ]
     },
     "execution_count": 21,
     "metadata": {},
     "output_type": "execute_result"
    }
   ],
   "source": [
    "len(tensors7)"
   ]
  },
  {
   "cell_type": "code",
   "execution_count": 22,
   "id": "dd698ad1-3d37-4d18-8f46-1a1d77e2f649",
   "metadata": {},
   "outputs": [
    {
     "data": {
      "text/plain": [
       "<Axes: >"
      ]
     },
     "execution_count": 22,
     "metadata": {},
     "output_type": "execute_result"
    },
    {
     "data": {
      "image/png": "[encoded data removed]",
      "text/plain": [
       "<Figure size 100x100 with 1 Axes>"
      ]
     },
     "metadata": {},
     "output_type": "display_data"
    }
   ],
   "source": [
    "show_image(tensors7[0])"
   ]
  },
  {
   "cell_type": "code",
   "execution_count": 23,
   "id": "4ebf1fa5-4a9a-4c5a-b12f-ba0715af4c0d",
   "metadata": {},
   "outputs": [],
   "source": [
    "stacked_sevens = torch.stack(tensors7).float()/255"
   ]
  },
  {
   "cell_type": "code",
   "execution_count": 24,
   "id": "250c3902-533a-4986-b79d-71998b7c2e1f",
   "metadata": {},
   "outputs": [],
   "source": [
    "stacked_threes = torch.stack(tensors3).float()/255"
   ]
  },
  {
   "cell_type": "code",
   "execution_count": 25,
   "id": "4358cae9-3d56-4139-a5b5-9aa6f8bcb930",
   "metadata": {
    "scrolled": true
   },
   "outputs": [
    {
     "data": {
      "text/plain": [
       "torch.Size([6131, 28, 28])"
      ]
     },
     "execution_count": 25,
     "metadata": {},
     "output_type": "execute_result"
    }
   ],
   "source": [
    "stacked_threes.shape"
   ]
  },
  {
   "cell_type": "code",
   "execution_count": 26,
   "id": "3102591b-0dc7-4ecf-b313-e3da719bfa85",
   "metadata": {},
   "outputs": [],
   "source": [
    "mean3 = stacked_threes.mean(0)"
   ]
  },
  {
   "cell_type": "code",
   "execution_count": 27,
   "id": "b3b95d4d-733c-4fb4-bd6a-1656d423123e",
   "metadata": {},
   "outputs": [
    {
     "data": {
      "text/plain": [
       "<Axes: >"
      ]
     },
     "execution_count": 27,
     "metadata": {},
     "output_type": "execute_result"
    },
    {
     "data": {
      "image/png": "[encoded data removed]",
      "text/plain": [
       "<Figure size 100x100 with 1 Axes>"
      ]
     },
     "metadata": {},
     "output_type": "display_data"
    }
   ],
   "source": [
    "show_image(mean3)"
   ]
  },
  {
   "cell_type": "code",
   "execution_count": 28,
   "id": "e2c5e78c-902a-46f0-b0f6-8f8a74fb4b29",
   "metadata": {},
   "outputs": [],
   "source": [
    "mean7 = stacked_sevens.mean(0)"
   ]
  },
  {
   "cell_type": "code",
   "execution_count": 29,
   "id": "5c72d9c4-5895-4c81-b599-0a22c789b0a0",
   "metadata": {},
   "outputs": [
    {
     "data": {
      "text/plain": [
       "<Axes: >"
      ]
     },
     "execution_count": 29,
     "metadata": {},
     "output_type": "execute_result"
    },
    {
     "data": {
      "image/png": "[encoded data removed]",
      "text/plain": [
       "<Figure size 100x100 with 1 Axes>"
      ]
     },
     "metadata": {},
     "output_type": "display_data"
    }
   ],
   "source": [
    "show_image(mean7)"
   ]
  },
  {
   "cell_type": "code",
   "execution_count": 30,
   "id": "755a2993-b4d3-4308-8b09-276cacacfd14",
   "metadata": {},
   "outputs": [],
   "source": [
    "def f(t, params):\n",
    "    return params[0]*(t**2) + params[1]*t + params[2]"
   ]
  },
  {
   "cell_type": "code",
   "execution_count": 31,
   "id": "ba664333-12d2-4fe0-b73e-adfc5ae42b41",
   "metadata": {},
   "outputs": [],
   "source": [
    "# xt = tensor(3.).requires_grad_()"
   ]
  },
  {
   "cell_type": "code",
   "execution_count": 32,
   "id": "597e213f-b700-44e0-9b4c-af3066a1a930",
   "metadata": {},
   "outputs": [],
   "source": [
    "# yt = f(xt)"
   ]
  },
  {
   "cell_type": "code",
   "execution_count": 33,
   "id": "99200944-ea64-4412-966c-ccea4aa9606b",
   "metadata": {},
   "outputs": [],
   "source": [
    "# yt"
   ]
  },
  {
   "cell_type": "code",
   "execution_count": 34,
   "id": "d25bf935-3074-42d0-9c9b-0c4c8ce20f67",
   "metadata": {},
   "outputs": [],
   "source": [
    "# yt.backward()"
   ]
  },
  {
   "cell_type": "code",
   "execution_count": 35,
   "id": "6e0bcff3-c188-4f7d-8e5c-48b5f6e04e5e",
   "metadata": {},
   "outputs": [],
   "source": [
    "# xt.grad"
   ]
  },
  {
   "cell_type": "code",
   "execution_count": 36,
   "id": "1268eb45-1b05-4125-97e1-4d7a1ab5ca58",
   "metadata": {},
   "outputs": [],
   "source": [
    "def mse(preds, targets):\n",
    "    return torch.mean((preds - targets)**2)"
   ]
  },
  {
   "cell_type": "code",
   "execution_count": 37,
   "id": "6e31760f-8d95-4263-bc76-516c9358ecb8",
   "metadata": {},
   "outputs": [],
   "source": [
    "params = torch.randn(3).requires_grad_()"
   ]
  },
  {
   "cell_type": "code",
   "execution_count": 38,
   "id": "de818fa3-bc78-494a-b512-0a93aa2ab173",
   "metadata": {},
   "outputs": [
    {
     "data": {
      "text/plain": [
       "tensor([-0.9283, -2.6681, -1.1454], requires_grad=True)"
      ]
     },
     "execution_count": 38,
     "metadata": {},
     "output_type": "execute_result"
    }
   ],
   "source": [
    "params"
   ]
  },
  {
   "cell_type": "code",
   "execution_count": 39,
   "id": "cbfa59a5-08cf-411f-80a5-c55e0fc8e9e3",
   "metadata": {},
   "outputs": [],
   "source": [
    "time = torch.arange(20).float()"
   ]
  },
  {
   "cell_type": "code",
   "execution_count": 40,
   "id": "85f0e3c8-e3bb-4100-88ed-b6508779bbea",
   "metadata": {},
   "outputs": [],
   "source": [
    "speed = torch.randn(20)*3 + 0.75 * (time - 9.5)**2 + 1"
   ]
  },
  {
   "cell_type": "code",
   "execution_count": 41,
   "id": "6f7e686f-35cd-47ae-8529-c35d9166bb82",
   "metadata": {},
   "outputs": [],
   "source": [
    "pred = f(time, params)"
   ]
  },
  {
   "cell_type": "code",
   "execution_count": 42,
   "id": "b2d00076-34bd-40e3-867a-5ff5eb362b6c",
   "metadata": {},
   "outputs": [
    {
     "data": {
      "text/plain": [
       "tensor([  -1.1454,   -4.7418,  -10.1947,  -17.5042,  -26.6702,  -37.6928,\n",
       "         -50.5719,  -65.3075,  -81.8997, -100.3484, -120.6536, -142.8154,\n",
       "        -166.8337, -192.7085, -220.4399, -250.0279, -281.4723, -314.7733,\n",
       "        -349.9308, -386.9449], grad_fn=<AddBackward0>)"
      ]
     },
     "execution_count": 42,
     "metadata": {},
     "output_type": "execute_result"
    }
   ],
   "source": [
    "pred"
   ]
  },
  {
   "cell_type": "code",
   "execution_count": 43,
   "id": "51f91224-3a77-487c-8be8-a209c90bf815",
   "metadata": {},
   "outputs": [
    {
     "data": {
      "text/plain": [
       "tensor([73.4718, 55.2151, 48.1415, 32.2048, 27.7304, 11.5703, 11.2025,  5.6044,\n",
       "         3.2588,  2.6303,  3.5282,  5.5357,  3.5992, 12.3235, 12.8517, 21.1019,\n",
       "        33.7354, 45.6635, 56.8128, 63.3296])"
      ]
     },
     "execution_count": 43,
     "metadata": {},
     "output_type": "execute_result"
    }
   ],
   "source": [
    "speed"
   ]
  },
  {
   "cell_type": "code",
   "execution_count": 44,
   "id": "28bcfc3b-500a-4565-9dd8-f59c2c414cd1",
   "metadata": {},
   "outputs": [],
   "source": [
    "def show_preds(preds, ax = None):\n",
    "    if ax is None:\n",
    "        ax = plt.subplots()[1]\n",
    "    ax.scatter(time, speed)\n",
    "    ax.scatter(time, to_np(preds), color='red')\n",
    "    ax.set_ylim(-300, 100)"
   ]
  },
  {
   "cell_type": "code",
   "execution_count": 45,
   "id": "22cda6b6-9c20-4621-9215-21692825046f",
   "metadata": {},
   "outputs": [
    {
     "data": {
      "image/png": "[encoded data removed]",
      "text/plain": [
       "<Figure size 640x480 with 1 Axes>"
      ]
     },
     "metadata": {},
     "output_type": "display_data"
    }
   ],
   "source": [
    "show_preds(pred)"
   ]
  },
  {
   "cell_type": "code",
   "execution_count": 46,
   "id": "0d9dbc2c-b6ef-4674-ba16-f0a85b8d54ae",
   "metadata": {},
   "outputs": [],
   "source": [
    "loss = mse(pred, speed)"
   ]
  },
  {
   "cell_type": "code",
   "execution_count": 47,
   "id": "d01f7c67-8785-488a-82f9-ee013fa1d94c",
   "metadata": {},
   "outputs": [],
   "source": [
    "loss.backward()"
   ]
  },
  {
   "cell_type": "code",
   "execution_count": 48,
   "id": "d7618bb2-d751-48d0-b9d0-f8557f2ba48b",
   "metadata": {},
   "outputs": [
    {
     "data": {
      "text/plain": [
       "tensor([-69781.6875,  -4522.9453,   -335.2188])"
      ]
     },
     "execution_count": 48,
     "metadata": {},
     "output_type": "execute_result"
    }
   ],
   "source": [
    "params.grad"
   ]
  },
  {
   "cell_type": "code",
   "execution_count": 49,
   "id": "1ba96281-c57b-449d-99d8-9c6937effe28",
   "metadata": {},
   "outputs": [],
   "source": [
    "def apply_step(params, prn=True):\n",
    "    preds = f(time, params)\n",
    "    loss = mse(preds, speed)\n",
    "    loss.backward()\n",
    "    params.data -= 1e-5 * params.grad\n",
    "    params.grad = None\n",
    "    if prn:\n",
    "        print(loss.item())\n",
    "    return preds"
   ]
  },
  {
   "cell_type": "code",
   "execution_count": null,
   "id": "e57ee93e-0c51-4755-b96d-8f14c5679095",
   "metadata": {},
   "outputs": [],
   "source": []
  },
  {
   "cell_type": "code",
   "execution_count": null,
   "id": "26875909-e003-4096-aa67-93b62f6cf275",
   "metadata": {},
   "outputs": [],
   "source": []
  },
  {
   "cell_type": "code",
   "execution_count": null,
   "id": "83f2fb17-5763-456c-ad70-f6f6a145509e",
   "metadata": {},
   "outputs": [],
   "source": []
  },
  {
   "cell_type": "code",
   "execution_count": null,
   "id": "1ee2c013-ff0d-4689-9f3a-54418ad4092e",
   "metadata": {},
   "outputs": [],
   "source": []
  },
  {
   "cell_type": "code",
   "execution_count": null,
   "id": "8676d58a-7589-474a-bf46-ead53cb5171a",
   "metadata": {},
   "outputs": [],
   "source": []
  }
 ],
 "metadata": {
  "kernelspec": {
   "display_name": "Python 3 (ipykernel)",
   "language": "python",
   "name": "python3"
  },
  "language_info": {
   "codemirror_mode": {
    "name": "ipython",
    "version": 3
   },
   "file_extension": ".py",
   "mimetype": "text/x-python",
   "name": "python",
   "nbconvert_exporter": "python",
   "pygments_lexer": "ipython3",
   "version": "3.11.7"
  }
 },
 "nbformat": 4,
 "nbformat_minor": 5
}
