{
 "cells": [
  {
   "cell_type": "code",
   "execution_count": 1,
   "id": "f8b23a05-4e02-4ef3-bf2c-7836a7746236",
   "metadata": {},
   "outputs": [],
   "source": [
    "from fastai.text.all import *"
   ]
  },
  {
   "cell_type": "code",
   "execution_count": 2,
   "id": "8ecb4b62-1abe-4a17-85a4-5bb5ee0271c5",
   "metadata": {},
   "outputs": [],
   "source": [
    "from fastai.text.core import *"
   ]
  },
  {
   "cell_type": "code",
   "execution_count": 3,
   "id": "fd923cbf-24b4-4677-bd51-732f89d9170f",
   "metadata": {},
   "outputs": [],
   "source": [
    "path = untar_data(URLs.IMDB)"
   ]
  },
  {
   "cell_type": "code",
   "execution_count": 4,
   "id": "30b86c45-7752-40ee-892c-ff55c557b89f",
   "metadata": {},
   "outputs": [],
   "source": [
    "files = get_text_files(path, folders = ['train','test','unsup'])"
   ]
  },
  {
   "cell_type": "code",
   "execution_count": 5,
   "id": "4a545f66-286f-4eac-a57d-0109cf1fc108",
   "metadata": {},
   "outputs": [],
   "source": [
    "txt = files[0].open().read();"
   ]
  },
  {
   "cell_type": "code",
   "execution_count": 6,
   "id": "021d5c25-f701-40b6-bf91-bd04eddaad37",
   "metadata": {},
   "outputs": [
    {
     "data": {
      "text/plain": [
       "'Alan Rickman & Emma Thompson give good performances with southern/New Orlea'"
      ]
     },
     "execution_count": 6,
     "metadata": {},
     "output_type": "execute_result"
    }
   ],
   "source": [
    "txt[:75]"
   ]
  },
  {
   "cell_type": "code",
   "execution_count": 7,
   "id": "a8deb2c8-5184-42b4-be33-d8e5ececb23b",
   "metadata": {},
   "outputs": [],
   "source": [
    "from fastai.text.core import *"
   ]
  },
  {
   "cell_type": "code",
   "execution_count": 8,
   "id": "70fc6fae-f075-43ad-8d1b-9015447f096c",
   "metadata": {},
   "outputs": [],
   "source": [
    "spacy = WordTokenizer()"
   ]
  },
  {
   "cell_type": "code",
   "execution_count": 24,
   "id": "a0b39853-4587-462b-b9c3-60d1b5bf8a53",
   "metadata": {},
   "outputs": [],
   "source": [
    "toks = first(spacy([txt]))"
   ]
  },
  {
   "cell_type": "code",
   "execution_count": 26,
   "id": "de39084c-d167-4064-99c1-eb9f79eaef59",
   "metadata": {},
   "outputs": [
    {
     "data": {
      "text/plain": [
       "(#121) ['Alan','Rickman','&','Emma','Thompson','give','good','performances','with','southern'...]"
      ]
     },
     "execution_count": 26,
     "metadata": {},
     "output_type": "execute_result"
    }
   ],
   "source": [
    "toks"
   ]
  },
  {
   "cell_type": "code",
   "execution_count": 28,
   "id": "4c579fe3-0d77-44c4-be96-17c6c756f3f9",
   "metadata": {},
   "outputs": [
    {
     "name": "stdout",
     "output_type": "stream",
     "text": [
      "(#121) ['Alan','Rickman','&','Emma','Thompson','give','good','performances','with','southern','/','New','Orleans','accents','in','this','detective','flick','.','It',\"'s\",'worth','seeing','for','their','scenes-','and','Rickman',\"'s\",'scene'...]\n"
     ]
    }
   ],
   "source": [
    "print(coll_repr(toks,30))"
   ]
  },
  {
   "cell_type": "code",
   "execution_count": null,
   "id": "ab1b363e-d96e-43ff-a65c-b1a3a5e4c79a",
   "metadata": {},
   "outputs": [],
   "source": []
  },
  {
   "cell_type": "code",
   "execution_count": null,
   "id": "200077cd-96ee-4a2a-9c5a-0ea74b70ea5d",
   "metadata": {},
   "outputs": [],
   "source": []
  },
  {
   "cell_type": "code",
   "execution_count": null,
   "id": "fa0ee89b-e409-4861-b551-d1a8f745ed47",
   "metadata": {},
   "outputs": [],
   "source": []
  }
 ],
 "metadata": {
  "kernelspec": {
   "display_name": "Python 3 (ipykernel)",
   "language": "python",
   "name": "python3"
  },
  "language_info": {
   "codemirror_mode": {
    "name": "ipython",
    "version": 3
   },
   "file_extension": ".py",
   "mimetype": "text/x-python",
   "name": "python",
   "nbconvert_exporter": "python",
   "pygments_lexer": "ipython3",
   "version": "3.11.7"
  }
 },
 "nbformat": 4,
 "nbformat_minor": 5
}
