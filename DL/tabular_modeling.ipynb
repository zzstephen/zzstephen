{
 "cells": [
  {
   "cell_type": "code",
   "execution_count": 1,
   "id": "305db74d-75d5-47a5-a07b-42d2b4083d62",
   "metadata": {},
   "outputs": [],
   "source": [
    "from fastai.data.all import *\n",
    "from fastai.vision.all import *\n",
    "from fastbook import *"
   ]
  },
  {
   "cell_type": "code",
   "execution_count": 2,
   "id": "431cfee1-db99-4aea-aaf8-72a8b1823f29",
   "metadata": {},
   "outputs": [],
   "source": [
    "# !pip install kaggle"
   ]
  },
  {
   "cell_type": "code",
   "execution_count": 3,
   "id": "040bac38-5da1-424a-8e41-b65b4122626a",
   "metadata": {},
   "outputs": [],
   "source": [
    "import torch\n",
    "import torchvision.models as models\n",
    "from torch.profiler import profile, record_function, ProfilerActivity"
   ]
  },
  {
   "cell_type": "code",
   "execution_count": 4,
   "id": "49886a4f-1094-4d9b-ac34-b58c0d553409",
   "metadata": {},
   "outputs": [],
   "source": [
    "cred_path = Path('~/PycharmProjects/zzstephen/DL/kaggle.json').expanduser()"
   ]
  },
  {
   "cell_type": "code",
   "execution_count": 5,
   "id": "120d1139-366c-4c53-81a6-4ab05f640958",
   "metadata": {},
   "outputs": [
    {
     "data": {
      "text/plain": [
       "Path('/Users/stephenzhou/PycharmProjects/zzstephen/DL/kaggle.json')"
      ]
     },
     "execution_count": 5,
     "metadata": {},
     "output_type": "execute_result"
    }
   ],
   "source": [
    "cred_path"
   ]
  },
  {
   "cell_type": "code",
   "execution_count": 6,
   "id": "42d4ff82-338a-4e72-af61-7af2cc8ae3b9",
   "metadata": {},
   "outputs": [],
   "source": [
    "if not cred_path.exists():\n",
    "    cred_path.parent.mkdir(exist_ok=True)\n",
    "    cred_path.write(creds)\n",
    "    cred_path.chmod(0o600)"
   ]
  },
  {
   "cell_type": "code",
   "execution_count": 7,
   "id": "24ffcb4d-5021-48f5-962f-9d23ac157fac",
   "metadata": {},
   "outputs": [],
   "source": [
    "path = URLs.path('bluebook')"
   ]
  },
  {
   "cell_type": "code",
   "execution_count": 19,
   "id": "7c2be418-1ea6-4526-add7-e787478074e6",
   "metadata": {},
   "outputs": [
    {
     "ename": "NameError",
     "evalue": "name 'api' is not defined",
     "output_type": "error",
     "traceback": [
      "\u001b[0;31m---------------------------------------------------------------------------\u001b[0m",
      "\u001b[0;31mNameError\u001b[0m                                 Traceback (most recent call last)",
      "Cell \u001b[0;32mIn[19], line 3\u001b[0m\n\u001b[1;32m      1\u001b[0m \u001b[38;5;28;01mif\u001b[39;00m \u001b[38;5;129;01mnot\u001b[39;00m path\u001b[38;5;241m.\u001b[39mexists():\n\u001b[1;32m      2\u001b[0m     path\u001b[38;5;241m.\u001b[39mmkdir()\n\u001b[0;32m----> 3\u001b[0m     api\u001b[38;5;241m.\u001b[39mcompetition_download_cli(\u001b[38;5;124m'\u001b[39m\u001b[38;5;124mbluebook-for-bulldozers\u001b[39m\u001b[38;5;124m'\u001b[39m, path\u001b[38;5;241m=\u001b[39mpath)\n\u001b[1;32m      4\u001b[0m     file_extract(path\u001b[38;5;241m/\u001b[39m\u001b[38;5;124m'\u001b[39m\u001b[38;5;124mbluebook-for-bulldozers.zip\u001b[39m\u001b[38;5;124m'\u001b[39m)\n",
      "\u001b[0;31mNameError\u001b[0m: name 'api' is not defined"
     ]
    }
   ],
   "source": [
    "if not path.exists():\n",
    "    path.mkdir()\n",
    "    api.competition_download_cli('bluebook-for-bulldozers', path=path)\n",
    "    file_extract(path/'bluebook-for-bulldozers.zip')"
   ]
  },
  {
   "cell_type": "code",
   "execution_count": null,
   "id": "0a63fdb7-5a34-4f2b-b857-765c937d6c16",
   "metadata": {},
   "outputs": [],
   "source": []
  },
  {
   "cell_type": "code",
   "execution_count": null,
   "id": "7a504ace-3c2a-46fb-b0d4-236aa2d4fe31",
   "metadata": {},
   "outputs": [],
   "source": []
  },
  {
   "cell_type": "code",
   "execution_count": null,
   "id": "384d3165-1399-4372-9e56-623fe87080ae",
   "metadata": {},
   "outputs": [],
   "source": []
  }
 ],
 "metadata": {
  "kernelspec": {
   "display_name": "Python 3 (ipykernel)",
   "language": "python",
   "name": "python3"
  },
  "language_info": {
   "codemirror_mode": {
    "name": "ipython",
    "version": 3
   },
   "file_extension": ".py",
   "mimetype": "text/x-python",
   "name": "python",
   "nbconvert_exporter": "python",
   "pygments_lexer": "ipython3",
   "version": "3.11.7"
  }
 },
 "nbformat": 4,
 "nbformat_minor": 5
}
