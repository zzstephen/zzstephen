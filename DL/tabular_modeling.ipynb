{
 "cells": [
  {
   "cell_type": "code",
   "execution_count": 1,
   "id": "305db74d-75d5-47a5-a07b-42d2b4083d62",
   "metadata": {},
   "outputs": [],
   "source": [
    "from fastai.data.all import *\n",
    "from fastai.vision.all import *\n",
    "from fastbook import *\n",
    "import pandas as pd\n",
    "import matplotlib as plt"
   ]
  },
  {
   "cell_type": "code",
   "execution_count": 2,
   "id": "0da30a06-bf06-45ec-b0d2-419851f5d6b1",
   "metadata": {},
   "outputs": [],
   "source": [
    "import numpy as np"
   ]
  },
  {
   "cell_type": "code",
   "execution_count": 3,
   "id": "431cfee1-db99-4aea-aaf8-72a8b1823f29",
   "metadata": {},
   "outputs": [],
   "source": [
    "# !pip install kaggle"
   ]
  },
  {
   "cell_type": "code",
   "execution_count": 4,
   "id": "040bac38-5da1-424a-8e41-b65b4122626a",
   "metadata": {},
   "outputs": [],
   "source": [
    "import torch\n",
    "import torchvision.models as models\n",
    "from torch.profiler import profile, record_function, ProfilerActivity"
   ]
  },
  {
   "cell_type": "code",
   "execution_count": 5,
   "id": "49886a4f-1094-4d9b-ac34-b58c0d553409",
   "metadata": {},
   "outputs": [],
   "source": [
    "cred_path = Path('~/PycharmProjects/zzstephen/DL/kaggle.json').expanduser()"
   ]
  },
  {
   "cell_type": "code",
   "execution_count": 6,
   "id": "120d1139-366c-4c53-81a6-4ab05f640958",
   "metadata": {},
   "outputs": [
    {
     "data": {
      "text/plain": [
       "Path('/Users/stephenzhou/PycharmProjects/zzstephen/DL/kaggle.json')"
      ]
     },
     "execution_count": 6,
     "metadata": {},
     "output_type": "execute_result"
    }
   ],
   "source": [
    "cred_path"
   ]
  },
  {
   "cell_type": "code",
   "execution_count": 7,
   "id": "42d4ff82-338a-4e72-af61-7af2cc8ae3b9",
   "metadata": {},
   "outputs": [],
   "source": [
    "if not cred_path.exists():\n",
    "    cred_path.parent.mkdir(exist_ok=True)\n",
    "    cred_path.write(creds)\n",
    "    cred_path.chmod(0o600)"
   ]
  },
  {
   "cell_type": "code",
   "execution_count": 8,
   "id": "24ffcb4d-5021-48f5-962f-9d23ac157fac",
   "metadata": {},
   "outputs": [],
   "source": [
    "path = Path('~/download_data/bluebook-for-bulldozers').expanduser()"
   ]
  },
  {
   "cell_type": "code",
   "execution_count": 9,
   "id": "1d124007-3aeb-406c-b909-a17043e36d69",
   "metadata": {},
   "outputs": [
    {
     "data": {
      "text/plain": [
       "Path('/Users/stephenzhou/download_data/bluebook-for-bulldozers')"
      ]
     },
     "execution_count": 9,
     "metadata": {},
     "output_type": "execute_result"
    }
   ],
   "source": [
    "path"
   ]
  },
  {
   "cell_type": "code",
   "execution_count": 10,
   "id": "7c2be418-1ea6-4526-add7-e787478074e6",
   "metadata": {},
   "outputs": [],
   "source": [
    "# if not path.exists():\n",
    "#     path.mkdir()\n",
    "#     api.competition_download_cli('bluebook-for-bulldozers', path=path)\n",
    "#     file_extract(path/'bluebook-for-bulldozers.zip')"
   ]
  },
  {
   "cell_type": "code",
   "execution_count": 11,
   "id": "9a34e91b-d05f-4e52-adca-deeba29bdee2",
   "metadata": {},
   "outputs": [
    {
     "data": {
      "text/plain": [
       "(#7) [Path('/Users/stephenzhou/download_data/bluebook-for-bulldozers/random_forest_benchmark_test.csv'),Path('/Users/stephenzhou/download_data/bluebook-for-bulldozers/Valid.csv'),Path('/Users/stephenzhou/download_data/bluebook-for-bulldozers/median_benchmark.csv'),Path('/Users/stephenzhou/download_data/bluebook-for-bulldozers/Test.csv'),Path('/Users/stephenzhou/download_data/bluebook-for-bulldozers/ValidSolution.csv'),Path('/Users/stephenzhou/download_data/bluebook-for-bulldozers/Machine_Appendix.csv'),Path('/Users/stephenzhou/download_data/bluebook-for-bulldozers/TrainAndValid.csv')]"
      ]
     },
     "execution_count": 11,
     "metadata": {},
     "output_type": "execute_result"
    }
   ],
   "source": [
    "path.ls(file_type='text')"
   ]
  },
  {
   "cell_type": "code",
   "execution_count": 12,
   "id": "cda4774a-83cb-47b8-9c50-65cc448792f7",
   "metadata": {},
   "outputs": [],
   "source": [
    "df = pd.read_csv(path/'TrainAndValid.csv', low_memory=False)"
   ]
  },
  {
   "cell_type": "code",
   "execution_count": 13,
   "id": "2f80a0ef-74da-4d45-b369-aedbec739f5a",
   "metadata": {},
   "outputs": [
    {
     "name": "stdout",
     "output_type": "stream",
     "text": [
      "<class 'pandas.core.frame.DataFrame'>\n",
      "RangeIndex: 412698 entries, 0 to 412697\n",
      "Data columns (total 53 columns):\n",
      " #   Column                    Non-Null Count   Dtype  \n",
      "---  ------                    --------------   -----  \n",
      " 0   SalesID                   412698 non-null  int64  \n",
      " 1   SalePrice                 412698 non-null  float64\n",
      " 2   MachineID                 412698 non-null  int64  \n",
      " 3   ModelID                   412698 non-null  int64  \n",
      " 4   datasource                412698 non-null  int64  \n",
      " 5   auctioneerID              392562 non-null  float64\n",
      " 6   YearMade                  412698 non-null  int64  \n",
      " 7   MachineHoursCurrentMeter  147504 non-null  float64\n",
      " 8   UsageBand                 73670 non-null   object \n",
      " 9   saledate                  412698 non-null  object \n",
      " 10  fiModelDesc               412698 non-null  object \n",
      " 11  fiBaseModel               412698 non-null  object \n",
      " 12  fiSecondaryDesc           271971 non-null  object \n",
      " 13  fiModelSeries             58667 non-null   object \n",
      " 14  fiModelDescriptor         74816 non-null   object \n",
      " 15  ProductSize               196093 non-null  object \n",
      " 16  fiProductClassDesc        412698 non-null  object \n",
      " 17  state                     412698 non-null  object \n",
      " 18  ProductGroup              412698 non-null  object \n",
      " 19  ProductGroupDesc          412698 non-null  object \n",
      " 20  Drive_System              107087 non-null  object \n",
      " 21  Enclosure                 412364 non-null  object \n",
      " 22  Forks                     197715 non-null  object \n",
      " 23  Pad_Type                  81096 non-null   object \n",
      " 24  Ride_Control              152728 non-null  object \n",
      " 25  Stick                     81096 non-null   object \n",
      " 26  Transmission              188007 non-null  object \n",
      " 27  Turbocharged              81096 non-null   object \n",
      " 28  Blade_Extension           25983 non-null   object \n",
      " 29  Blade_Width               25983 non-null   object \n",
      " 30  Enclosure_Type            25983 non-null   object \n",
      " 31  Engine_Horsepower         25983 non-null   object \n",
      " 32  Hydraulics                330133 non-null  object \n",
      " 33  Pushblock                 25983 non-null   object \n",
      " 34  Ripper                    106945 non-null  object \n",
      " 35  Scarifier                 25994 non-null   object \n",
      " 36  Tip_Control               25983 non-null   object \n",
      " 37  Tire_Size                 97638 non-null   object \n",
      " 38  Coupler                   220679 non-null  object \n",
      " 39  Coupler_System            44974 non-null   object \n",
      " 40  Grouser_Tracks            44875 non-null   object \n",
      " 41  Hydraulics_Flow           44875 non-null   object \n",
      " 42  Track_Type                102193 non-null  object \n",
      " 43  Undercarriage_Pad_Width   102916 non-null  object \n",
      " 44  Stick_Length              102261 non-null  object \n",
      " 45  Thumb                     102332 non-null  object \n",
      " 46  Pattern_Changer           102261 non-null  object \n",
      " 47  Grouser_Type              102193 non-null  object \n",
      " 48  Backhoe_Mounting          80712 non-null   object \n",
      " 49  Blade_Type                81875 non-null   object \n",
      " 50  Travel_Controls           81877 non-null   object \n",
      " 51  Differential_Type         71564 non-null   object \n",
      " 52  Steering_Controls         71522 non-null   object \n",
      "dtypes: float64(3), int64(5), object(45)\n",
      "memory usage: 166.9+ MB\n"
     ]
    }
   ],
   "source": [
    "df.info()"
   ]
  },
  {
   "cell_type": "code",
   "execution_count": 14,
   "id": "a7979d58-5248-4ebb-b836-bbff86921afd",
   "metadata": {},
   "outputs": [
    {
     "data": {
      "text/plain": [
       "[1000,\n",
       " 1919,\n",
       " 1920,\n",
       " 1937,\n",
       " 1942,\n",
       " 1947,\n",
       " 1948,\n",
       " 1949,\n",
       " 1950,\n",
       " 1951,\n",
       " 1952,\n",
       " 1953,\n",
       " 1954,\n",
       " 1955,\n",
       " 1956,\n",
       " 1957,\n",
       " 1958,\n",
       " 1959,\n",
       " 1960,\n",
       " 1961,\n",
       " 1962,\n",
       " 1963,\n",
       " 1964,\n",
       " 1965,\n",
       " 1966,\n",
       " 1967,\n",
       " 1968,\n",
       " 1969,\n",
       " 1970,\n",
       " 1971,\n",
       " 1972,\n",
       " 1973,\n",
       " 1974,\n",
       " 1975,\n",
       " 1976,\n",
       " 1977,\n",
       " 1978,\n",
       " 1979,\n",
       " 1980,\n",
       " 1981,\n",
       " 1982,\n",
       " 1983,\n",
       " 1984,\n",
       " 1985,\n",
       " 1986,\n",
       " 1987,\n",
       " 1988,\n",
       " 1989,\n",
       " 1990,\n",
       " 1991,\n",
       " 1992,\n",
       " 1993,\n",
       " 1994,\n",
       " 1995,\n",
       " 1996,\n",
       " 1997,\n",
       " 1998,\n",
       " 1999,\n",
       " 2000,\n",
       " 2001,\n",
       " 2002,\n",
       " 2003,\n",
       " 2004,\n",
       " 2005,\n",
       " 2006,\n",
       " 2007,\n",
       " 2008,\n",
       " 2009,\n",
       " 2010,\n",
       " 2011,\n",
       " 2012,\n",
       " 2013,\n",
       " 2014]"
      ]
     },
     "execution_count": 14,
     "metadata": {},
     "output_type": "execute_result"
    }
   ],
   "source": [
    "sorted(df['YearMade'].unique())"
   ]
  },
  {
   "cell_type": "code",
   "execution_count": 15,
   "id": "1ee7cdd8-dba2-4f94-86fd-7d51adc44e24",
   "metadata": {},
   "outputs": [],
   "source": [
    "df['log_price'] = np.log(df['SalePrice'])"
   ]
  },
  {
   "cell_type": "code",
   "execution_count": 16,
   "id": "73e9821c-cdc8-4aae-b3f7-29aef78673ff",
   "metadata": {},
   "outputs": [
    {
     "data": {
      "text/plain": [
       "0         11.097410\n",
       "1         10.950807\n",
       "2          9.210340\n",
       "3         10.558414\n",
       "4          9.305651\n",
       "            ...    \n",
       "412693     9.210340\n",
       "412694     9.259131\n",
       "412695     9.433484\n",
       "412696     9.210340\n",
       "412697     9.472705\n",
       "Name: log_price, Length: 412698, dtype: float64"
      ]
     },
     "execution_count": 16,
     "metadata": {},
     "output_type": "execute_result"
    }
   ],
   "source": [
    "df['log_price']"
   ]
  },
  {
   "cell_type": "code",
   "execution_count": 17,
   "id": "996b92cf-cf9e-4585-86d7-51fc496614da",
   "metadata": {},
   "outputs": [
    {
     "data": {
      "text/plain": [
       "<Axes: >"
      ]
     },
     "execution_count": 17,
     "metadata": {},
     "output_type": "execute_result"
    },
    {
     "data": {
      "image/png": "[encoded data removed]",
      "text/plain": [
       "<Figure size 640x480 with 1 Axes>"
      ]
     },
     "metadata": {},
     "output_type": "display_data"
    }
   ],
   "source": [
    "df[['log_price']].boxplot()"
   ]
  },
  {
   "cell_type": "code",
   "execution_count": 18,
   "id": "428368fa-6a92-4c7d-ad90-9702beedaefc",
   "metadata": {},
   "outputs": [
    {
     "data": {
      "text/plain": [
       "['Alabama',\n",
       " 'Alaska',\n",
       " 'Arizona',\n",
       " 'Arkansas',\n",
       " 'California',\n",
       " 'Colorado',\n",
       " 'Connecticut',\n",
       " 'Delaware',\n",
       " 'Florida',\n",
       " 'Georgia',\n",
       " 'Hawaii',\n",
       " 'Idaho',\n",
       " 'Illinois',\n",
       " 'Indiana',\n",
       " 'Iowa',\n",
       " 'Kansas',\n",
       " 'Kentucky',\n",
       " 'Louisiana',\n",
       " 'Maine',\n",
       " 'Maryland',\n",
       " 'Massachusetts',\n",
       " 'Michigan',\n",
       " 'Minnesota',\n",
       " 'Mississippi',\n",
       " 'Missouri',\n",
       " 'Montana',\n",
       " 'Nebraska',\n",
       " 'Nevada',\n",
       " 'New Hampshire',\n",
       " 'New Jersey',\n",
       " 'New Mexico',\n",
       " 'New York',\n",
       " 'North Carolina',\n",
       " 'North Dakota',\n",
       " 'Ohio',\n",
       " 'Oklahoma',\n",
       " 'Oregon',\n",
       " 'Pennsylvania',\n",
       " 'Puerto Rico',\n",
       " 'Rhode Island',\n",
       " 'South Carolina',\n",
       " 'South Dakota',\n",
       " 'Tennessee',\n",
       " 'Texas',\n",
       " 'Unspecified',\n",
       " 'Utah',\n",
       " 'Vermont',\n",
       " 'Virginia',\n",
       " 'Washington',\n",
       " 'Washington DC',\n",
       " 'West Virginia',\n",
       " 'Wisconsin',\n",
       " 'Wyoming']"
      ]
     },
     "execution_count": 18,
     "metadata": {},
     "output_type": "execute_result"
    }
   ],
   "source": [
    "sorted(df['state'].unique())"
   ]
  },
  {
   "cell_type": "code",
   "execution_count": 19,
   "id": "a321c13e-3888-414c-9f54-4339902f7046",
   "metadata": {},
   "outputs": [
    {
     "data": {
      "text/plain": [
       "<Axes: xlabel='YearMade', ylabel='log_price'>"
      ]
     },
     "execution_count": 19,
     "metadata": {},
     "output_type": "execute_result"
    }
   ],
   "source": [
    "df.plot.scatter(x='YearMade', y='log_price')"
   ]
  },
  {
   "cell_type": "code",
   "execution_count": 20,
   "id": "c40f39be-f642-45f6-ac0e-94d70ebd5a16",
   "metadata": {},
   "outputs": [
    {
     "data": {
      "text/plain": [
       "UsageBand\n",
       "Medium    35832\n",
       "Low       25311\n",
       "High      12527\n",
       "Name: count, dtype: int64"
      ]
     },
     "execution_count": 20,
     "metadata": {},
     "output_type": "execute_result"
    }
   ],
   "source": [
    "df['UsageBand'].value_counts()"
   ]
  },
  {
   "cell_type": "code",
   "execution_count": 21,
   "id": "353a5bda-9cf9-4dd6-ab10-436c8b39fdaa",
   "metadata": {},
   "outputs": [
    {
     "data": {
      "text/plain": [
       "count               412698\n",
       "unique                   6\n",
       "top       Track Excavators\n",
       "freq                104230\n",
       "Name: ProductGroupDesc, dtype: object"
      ]
     },
     "execution_count": 21,
     "metadata": {},
     "output_type": "execute_result"
    }
   ],
   "source": [
    "df['ProductGroupDesc'].describe()"
   ]
  },
  {
   "cell_type": "code",
   "execution_count": 22,
   "id": "9f2aff97-e2c7-4c37-a12e-8447189a1f38",
   "metadata": {},
   "outputs": [
    {
     "data": {
      "text/plain": [
       "array(['WL', 'SSL', 'TEX', 'BL', 'TTT', 'MG'], dtype=object)"
      ]
     },
     "execution_count": 22,
     "metadata": {},
     "output_type": "execute_result"
    }
   ],
   "source": [
    "df['ProductGroup'].unique()"
   ]
  },
  {
   "cell_type": "code",
   "execution_count": 28,
   "id": "e8c0c2d5-f3ae-4e59-84cc-ab66f5c2aa8f",
   "metadata": {},
   "outputs": [
    {
     "data": {
      "text/plain": [
       "Tire_Size\n",
       "None or Unspecified    47823\n",
       "20.5                   15773\n",
       "14\"                     9111\n",
       "23.5                    8760\n",
       "26.5                    4635\n",
       "17.5                    3971\n",
       "29.5                    2767\n",
       "17.5\"                   1815\n",
       "13\"                      776\n",
       "20.5\"                    737\n",
       "15.5                     610\n",
       "15.5\"                    463\n",
       "23.5\"                    309\n",
       "7.0\"                      56\n",
       "23.1\"                     20\n",
       "10\"                        9\n",
       "10 inch                    3\n",
       "Name: count, dtype: int64"
      ]
     },
     "execution_count": 28,
     "metadata": {},
     "output_type": "execute_result"
    }
   ],
   "source": [
    "df['Tire_Size'].value_counts()"
   ]
  },
  {
   "cell_type": "code",
   "execution_count": 26,
   "id": "7a43c066-2d47-4fbc-8b74-a93c2e37585c",
   "metadata": {},
   "outputs": [],
   "source": [
    "df_tire = df[['Tire_Size','log_price']].loc[(df['Tire_Size']!='10 inch') & (df['Tire_Size']!='None or Unspecified')].copy()"
   ]
  },
  {
   "cell_type": "code",
   "execution_count": 38,
   "id": "764a9b20-c7a3-4a5a-a344-56484e2045ad",
   "metadata": {},
   "outputs": [
    {
     "data": {
      "text/plain": [
       "1         23.5\n",
       "2          NaN\n",
       "3          NaN\n",
       "4          NaN\n",
       "5          NaN\n",
       "          ... \n",
       "412693     NaN\n",
       "412694     NaN\n",
       "412695     NaN\n",
       "412696     NaN\n",
       "412697     NaN\n",
       "Name: Tire_Size, Length: 364872, dtype: object"
      ]
     },
     "execution_count": 38,
     "metadata": {},
     "output_type": "execute_result"
    }
   ],
   "source": [
    "df_tire['Tire_Size'].replace(\"\\'\\'\",'')"
   ]
  },
  {
   "cell_type": "code",
   "execution_count": 40,
   "id": "d7a995e3-801d-492f-b770-cffbc84e6f7a",
   "metadata": {},
   "outputs": [
    {
     "data": {
      "text/plain": [
       "Tire_Size\n",
       "20.5     15773\n",
       "14\"       9111\n",
       "23.5      8760\n",
       "26.5      4635\n",
       "17.5      3971\n",
       "29.5      2767\n",
       "17.5\"     1815\n",
       "13\"        776\n",
       "20.5\"      737\n",
       "15.5       610\n",
       "15.5\"      463\n",
       "23.5\"      309\n",
       "7.0\"        56\n",
       "23.1\"       20\n",
       "10\"          9\n",
       "Name: count, dtype: int64"
      ]
     },
     "execution_count": 40,
     "metadata": {},
     "output_type": "execute_result"
    }
   ],
   "source": [
    "df_tire['Tire_Size'].value_counts()"
   ]
  },
  {
   "cell_type": "code",
   "execution_count": null,
   "id": "d2748e7f-ced5-49fe-8853-98a8feb37fa2",
   "metadata": {},
   "outputs": [],
   "source": [
    "df_tire.plot.scatter(x='Tire_Size', y='log_price')"
   ]
  },
  {
   "cell_type": "code",
   "execution_count": null,
   "id": "2a77bd85-a300-4078-8e43-62b55354aa20",
   "metadata": {},
   "outputs": [],
   "source": []
  },
  {
   "cell_type": "code",
   "execution_count": null,
   "id": "254089a6-64e4-426e-b8ba-2ca1af9488ad",
   "metadata": {},
   "outputs": [],
   "source": []
  },
  {
   "cell_type": "code",
   "execution_count": null,
   "id": "ca2b0246-cdf2-4aa2-a24c-0c5f6682cc4e",
   "metadata": {},
   "outputs": [],
   "source": []
  },
  {
   "cell_type": "code",
   "execution_count": null,
   "id": "c321c611-5b30-4eea-9fbf-642071c1f46f",
   "metadata": {},
   "outputs": [],
   "source": []
  },
  {
   "cell_type": "code",
   "execution_count": null,
   "id": "7a504ace-3c2a-46fb-b0d4-236aa2d4fe31",
   "metadata": {},
   "outputs": [],
   "source": []
  },
  {
   "cell_type": "code",
   "execution_count": null,
   "id": "384d3165-1399-4372-9e56-623fe87080ae",
   "metadata": {},
   "outputs": [],
   "source": []
  }
 ],
 "metadata": {
  "kernelspec": {
   "display_name": "Python 3 (ipykernel)",
   "language": "python",
   "name": "python3"
  },
  "language_info": {
   "codemirror_mode": {
    "name": "ipython",
    "version": 3
   },
   "file_extension": ".py",
   "mimetype": "text/x-python",
   "name": "python",
   "nbconvert_exporter": "python",
   "pygments_lexer": "ipython3",
   "version": "3.11.7"
  }
 },
 "nbformat": 4,
 "nbformat_minor": 5
}
