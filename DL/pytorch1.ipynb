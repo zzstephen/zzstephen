{
 "cells": [
  {
   "cell_type": "code",
   "execution_count": 1,
   "id": "8a8bf284-bc65-4e1b-80b2-b0f56311a8ac",
   "metadata": {},
   "outputs": [],
   "source": [
    "import torch.nn as nn\n",
    "import numpy as np\n",
    "import torch"
   ]
  },
  {
   "cell_type": "code",
   "execution_count": 2,
   "id": "5b9c47ff-0e34-4ff4-a8d4-8e0799c7e7e9",
   "metadata": {},
   "outputs": [],
   "source": [
    "import matplotlib.pyplot as plt"
   ]
  },
  {
   "cell_type": "code",
   "execution_count": 3,
   "id": "9ebbea91-2f1b-40c9-8284-9b99d28c4782",
   "metadata": {},
   "outputs": [],
   "source": [
    "from sklearn.datasets import load_iris\n",
    "from sklearn.model_selection import train_test_split"
   ]
  },
  {
   "cell_type": "code",
   "execution_count": 4,
   "id": "0281e4d7-b10e-4804-8e74-d22a088cdb94",
   "metadata": {},
   "outputs": [],
   "source": [
    "from torch.utils.data import DataLoader, TensorDataset\n",
    "from torch import from_numpy"
   ]
  },
  {
   "cell_type": "code",
   "execution_count": 83,
   "id": "b4a8b625-544c-4c00-9dc4-386c3342709e",
   "metadata": {},
   "outputs": [],
   "source": [
    "%matplotlib inline"
   ]
  },
  {
   "cell_type": "code",
   "execution_count": 6,
   "id": "6881f89d-9d38-484d-bf08-b1d4acb83763",
   "metadata": {},
   "outputs": [],
   "source": [
    "iris = load_iris()"
   ]
  },
  {
   "cell_type": "code",
   "execution_count": 7,
   "id": "2f15dd0d-46d3-4def-8184-3de4e9beabb7",
   "metadata": {},
   "outputs": [],
   "source": [
    "X = iris['data']"
   ]
  },
  {
   "cell_type": "code",
   "execution_count": 8,
   "id": "c4bde2da-d42e-479d-aee3-9b3f0e92bca1",
   "metadata": {},
   "outputs": [],
   "source": [
    "y = iris['target']"
   ]
  },
  {
   "cell_type": "code",
   "execution_count": 9,
   "id": "7b5bad36-48c1-4134-8ed0-fd2fe16f757c",
   "metadata": {},
   "outputs": [],
   "source": [
    "X_train, X_test, y_train, y_test = train_test_split(X, y,test_size = 0.35, random_state = 1)"
   ]
  },
  {
   "cell_type": "code",
   "execution_count": 10,
   "id": "8500839f-5b84-4207-a468-0b8d8c01aa5a",
   "metadata": {},
   "outputs": [],
   "source": [
    "X_train_norm = (X_train - np.mean(X_train)) / np.std(X_train)"
   ]
  },
  {
   "cell_type": "code",
   "execution_count": 11,
   "id": "8bf497ed-8663-48c9-a321-ef3229b20f31",
   "metadata": {},
   "outputs": [],
   "source": [
    "X_train_norm = torch.from_numpy(X_train_norm).float()"
   ]
  },
  {
   "cell_type": "code",
   "execution_count": 12,
   "id": "fcb2ff85-37fa-49ce-b51c-5e4704cd76a8",
   "metadata": {},
   "outputs": [],
   "source": [
    "y_train = torch.from_numpy(y_train)"
   ]
  },
  {
   "cell_type": "code",
   "execution_count": 13,
   "id": "ab4033ce-36af-45e3-a84f-7a874fd33aa3",
   "metadata": {},
   "outputs": [],
   "source": [
    "train_ds = TensorDataset(X_train_norm, y_train)"
   ]
  },
  {
   "cell_type": "code",
   "execution_count": 14,
   "id": "c3cf18b6-25b8-4138-a559-cfedeec27ecd",
   "metadata": {},
   "outputs": [],
   "source": [
    "batch_size = 1"
   ]
  },
  {
   "cell_type": "code",
   "execution_count": 15,
   "id": "909e4afb-f9fa-4e0e-8d52-44acadf3990c",
   "metadata": {},
   "outputs": [],
   "source": [
    "train_dl = DataLoader(train_ds, batch_size, shuffle=True)"
   ]
  },
  {
   "cell_type": "code",
   "execution_count": 16,
   "id": "fa431912-a9a5-4187-a415-1c537c5922f8",
   "metadata": {},
   "outputs": [
    {
     "data": {
      "text/plain": [
       "<torch._C.Generator at 0x106f8bef0>"
      ]
     },
     "execution_count": 16,
     "metadata": {},
     "output_type": "execute_result"
    }
   ],
   "source": [
    "torch.manual_seed(1)"
   ]
  },
  {
   "cell_type": "code",
   "execution_count": 17,
   "id": "ec0a186d-7d30-44cb-83bb-3cad093184cc",
   "metadata": {},
   "outputs": [],
   "source": [
    "batch_size = 2"
   ]
  },
  {
   "cell_type": "code",
   "execution_count": 18,
   "id": "8eb889ad-6a68-447f-92a6-7006804dc1c9",
   "metadata": {},
   "outputs": [],
   "source": [
    "train_dl = DataLoader(train_ds, batch_size, shuffle=True)"
   ]
  },
  {
   "cell_type": "code",
   "execution_count": 19,
   "id": "3757ad32-49be-4a7a-80e7-b2599929e340",
   "metadata": {},
   "outputs": [],
   "source": [
    "class Model(nn.Module):\n",
    "    def __init__(self, input_size, hidden_size, output_size):\n",
    "        super().__init__()\n",
    "        self.layer1 = nn.Linear(input_size, hidden_size)\n",
    "        self.layer2 = nn.Linear(hidden_size, output_size)\n",
    "\n",
    "    def forward(self, x):\n",
    "        x = self.layer1(x)\n",
    "        x = nn.Sigmoid()(x)\n",
    "        x = self.layer2(x)\n",
    "        return x"
   ]
  },
  {
   "cell_type": "code",
   "execution_count": 20,
   "id": "5bb917ae-e10d-4028-8ada-243a1134de20",
   "metadata": {},
   "outputs": [],
   "source": [
    "input_size = X_train_norm.shape[1]\n",
    "hidden_size = 16\n",
    "output_size = 3\n",
    "model = Model(input_size, hidden_size, output_size)"
   ]
  },
  {
   "cell_type": "code",
   "execution_count": 21,
   "id": "e3727288-3264-46f6-b9ad-c15581e77780",
   "metadata": {},
   "outputs": [],
   "source": [
    "learning_rate = 0.001\n",
    "loss_fn = nn.CrossEntropyLoss()\n",
    "optimizer = torch.optim.Adam(model.parameters(), lr = learning_rate)"
   ]
  },
  {
   "cell_type": "code",
   "execution_count": 22,
   "id": "8d40ee31-fa90-4275-9a72-fed2a382a2c6",
   "metadata": {},
   "outputs": [],
   "source": [
    "x_batch, y_batch = train_dl.dataset[0]"
   ]
  },
  {
   "cell_type": "code",
   "execution_count": 23,
   "id": "38ad67ce-9af1-4987-83a6-8adb48307a62",
   "metadata": {},
   "outputs": [
    {
     "data": {
      "text/plain": [
       "(torch.Size([4]), torch.Size([]))"
      ]
     },
     "execution_count": 23,
     "metadata": {},
     "output_type": "execute_result"
    }
   ],
   "source": [
    "x_batch.shape, y_batch.shape"
   ]
  },
  {
   "cell_type": "code",
   "execution_count": 24,
   "id": "e0495dbb-952e-4cbd-b011-1788e5ce8c5b",
   "metadata": {},
   "outputs": [
    {
     "data": {
      "text/plain": [
       "tensor([-0.0204,  0.5273, -0.0238], grad_fn=<ViewBackward0>)"
      ]
     },
     "execution_count": 24,
     "metadata": {},
     "output_type": "execute_result"
    }
   ],
   "source": [
    "model(x_batch)"
   ]
  },
  {
   "cell_type": "code",
   "execution_count": 25,
   "id": "d00cc3fa-d683-4c4d-ae15-669bdfb80e84",
   "metadata": {},
   "outputs": [
    {
     "data": {
      "text/plain": [
       "tensor(1)"
      ]
     },
     "execution_count": 25,
     "metadata": {},
     "output_type": "execute_result"
    }
   ],
   "source": [
    "torch.argmax(model(x_batch), dim=0)"
   ]
  },
  {
   "cell_type": "code",
   "execution_count": 26,
   "id": "454b7d9a-6d7f-4bbc-ac53-45ec6aeed0a4",
   "metadata": {},
   "outputs": [
    {
     "data": {
      "text/plain": [
       "2"
      ]
     },
     "execution_count": 26,
     "metadata": {},
     "output_type": "execute_result"
    }
   ],
   "source": [
    "y_batch.item()"
   ]
  },
  {
   "cell_type": "code",
   "execution_count": 27,
   "id": "2f138cae-5cff-48c6-a30f-bf2a3a25e8a7",
   "metadata": {},
   "outputs": [],
   "source": [
    "num_epoch = 100\n",
    "loss_hist = [0] * num_epoch\n",
    "accuracy_hist = [0] * num_epoch\n",
    "for epoch in range(num_epoch):\n",
    "    for x_batch, y_batch in train_dl:\n",
    "        pred = model(x_batch)\n",
    "        loss = loss_fn(pred, y_batch)\n",
    "        loss.backward()\n",
    "        optimizer.step()\n",
    "        optimizer.zero_grad()\n",
    "        loss_hist[epoch] += loss.item() * y_batch.size(0)\n",
    "        is_correct = (torch.argmax(pred, dim=1) == y_batch).float()\n",
    "        accuracy_hist[epoch] += is_correct.sum()\n",
    "    loss_hist[epoch] /= len(train_dl.dataset)\n",
    "    accuracy_hist[epoch] /= len(train_dl.dataset)\n",
    "        "
   ]
  },
  {
   "cell_type": "code",
   "execution_count": 87,
   "id": "c566c92e-70e9-4f12-a69e-eb1cc0c4aa6f",
   "metadata": {},
   "outputs": [
    {
     "data": {
      "text/plain": [
       "[<matplotlib.lines.Line2D at 0x16e058c10>]"
      ]
     },
     "execution_count": 87,
     "metadata": {},
     "output_type": "execute_result"
    },
    {
     "data": {
      "image/png": "[encoded data removed]",
      "text/plain": [
       "<Figure size 640x480 with 1 Axes>"
      ]
     },
     "metadata": {},
     "output_type": "display_data"
    }
   ],
   "source": [
    "plt.plot(loss_hist)"
   ]
  },
  {
   "cell_type": "code",
   "execution_count": 124,
   "id": "93b9ba31-111c-4f68-ab75-0a3eef25a236",
   "metadata": {},
   "outputs": [
    {
     "data": {
      "text/plain": [
       "[<matplotlib.lines.Line2D at 0x305eee550>]"
      ]
     },
     "execution_count": 124,
     "metadata": {},
     "output_type": "execute_result"
    },
    {
     "data": {
      "image/png": "[encoded data removed]",
      "text/plain": [
       "<Figure size 640x480 with 1 Axes>"
      ]
     },
     "metadata": {},
     "output_type": "display_data"
    }
   ],
   "source": [
    "plt.plot(accuracy_hist)"
   ]
  },
  {
   "cell_type": "code",
   "execution_count": 126,
   "id": "dfcc026e-f9ec-4030-90be-25e30ef734bb",
   "metadata": {},
   "outputs": [],
   "source": [
    "X_test_norm = (X_test - np.mean(X_train)) / np.std(X_train)"
   ]
  },
  {
   "cell_type": "code",
   "execution_count": 128,
   "id": "9151325b-e35b-408d-afac-3ad1d8c4b196",
   "metadata": {},
   "outputs": [],
   "source": [
    "X_test_norm = torch.from_numpy(X_test_norm).float()"
   ]
  },
  {
   "cell_type": "code",
   "execution_count": 130,
   "id": "ba618506-f239-4b8b-a5cd-d0f5e6862ee5",
   "metadata": {},
   "outputs": [],
   "source": [
    "y_test = torch.from_numpy(y_test)"
   ]
  },
  {
   "cell_type": "code",
   "execution_count": 132,
   "id": "d8913dc2-8c8d-43b2-86c6-4cf0ffecb30c",
   "metadata": {},
   "outputs": [],
   "source": [
    "pred_test = model(X_test_norm)"
   ]
  },
  {
   "cell_type": "code",
   "execution_count": 134,
   "id": "0c7a5ab2-b589-4d0e-b4b7-5d1ca78a7374",
   "metadata": {},
   "outputs": [],
   "source": [
    "correct = (torch.argmax(pred_test, dim=1) == y_test).float()"
   ]
  },
  {
   "cell_type": "code",
   "execution_count": 136,
   "id": "1bc4a1ad-be70-423b-96ff-a6b6431ca534",
   "metadata": {},
   "outputs": [],
   "source": [
    "accuracy = correct.mean()"
   ]
  },
  {
   "cell_type": "code",
   "execution_count": 140,
   "id": "61eb5d8d-77a8-4165-bba0-47bbf55c3da0",
   "metadata": {},
   "outputs": [
    {
     "data": {
      "text/plain": [
       "0.9811320900917053"
      ]
     },
     "execution_count": 140,
     "metadata": {},
     "output_type": "execute_result"
    }
   ],
   "source": [
    "accuracy.item()"
   ]
  },
  {
   "cell_type": "code",
   "execution_count": null,
   "id": "eaa0d927-31aa-49be-9590-a6faf00356c3",
   "metadata": {},
   "outputs": [],
   "source": []
  },
  {
   "cell_type": "code",
   "execution_count": null,
   "id": "94ed2825-ce26-4e77-9bc2-ee3542570403",
   "metadata": {},
   "outputs": [],
   "source": []
  },
  {
   "cell_type": "code",
   "execution_count": null,
   "id": "929f4062-11d2-48f3-9af4-3d841e656145",
   "metadata": {},
   "outputs": [],
   "source": []
  }
 ],
 "metadata": {
  "kernelspec": {
   "display_name": "Python 3 (ipykernel)",
   "language": "python",
   "name": "python3"
  },
  "language_info": {
   "codemirror_mode": {
    "name": "ipython",
    "version": 3
   },
   "file_extension": ".py",
   "mimetype": "text/x-python",
   "name": "python",
   "nbconvert_exporter": "python",
   "pygments_lexer": "ipython3",
   "version": "3.11.7"
  }
 },
 "nbformat": 4,
 "nbformat_minor": 5
}
