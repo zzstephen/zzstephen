{
 "cells": [
  {
   "cell_type": "code",
   "execution_count": 1,
   "id": "bbc6b78c-6529-4a6c-abbf-2d70870cae92",
   "metadata": {},
   "outputs": [],
   "source": [
    "import numpy as np\n",
    "import pandas as pd\n",
    "import seaborn as sns\n",
    "import matplotlib.pyplot as plt\n",
    "%matplotlib inline"
   ]
  },
  {
   "cell_type": "code",
   "execution_count": 2,
   "id": "59b49787-f03b-4842-af71-3f5167842e8d",
   "metadata": {},
   "outputs": [
    {
     "name": "stdout",
     "output_type": "stream",
     "text": [
      "--2024-07-14 17:04:09--  https://raw.githubusercontent.com/amm-ik/ml-datasets/main/module-1/placementData.csv\n",
      "Resolving raw.githubusercontent.com (raw.githubusercontent.com)... 185.199.110.133, 185.199.111.133, 185.199.108.133, ...\n",
      "Connecting to raw.githubusercontent.com (raw.githubusercontent.com)|185.199.110.133|:443... connected.\n",
      "HTTP request sent, awaiting response... 200 OK\n",
      "Length: 19712 (19K) [text/plain]\n",
      "Saving to: ‘placementData.csv.1’\n",
      "\n",
      "placementData.csv.1 100%[===================>]  19.25K  --.-KB/s    in 0s      \n",
      "\n",
      "2024-07-14 17:04:09 (42.1 MB/s) - ‘placementData.csv.1’ saved [19712/19712]\n",
      "\n"
     ]
    }
   ],
   "source": [
    "!wget https://raw.githubusercontent.com/amm-ik/ml-datasets/main/module-1/placementData.csv"
   ]
  },
  {
   "cell_type": "code",
   "execution_count": 3,
   "id": "0c2ce76f-cc68-4041-af70-2c19fa6464ac",
   "metadata": {},
   "outputs": [
    {
     "data": {
      "text/html": [
       "<div>\n",
       "<style scoped>\n",
       "    .dataframe tbody tr th:only-of-type {\n",
       "        vertical-align: middle;\n",
       "    }\n",
       "\n",
       "    .dataframe tbody tr th {\n",
       "        vertical-align: top;\n",
       "    }\n",
       "\n",
       "    .dataframe thead th {\n",
       "        text-align: right;\n",
       "    }\n",
       "</style>\n",
       "<table border=\"1\" class=\"dataframe\">\n",
       "  <thead>\n",
       "    <tr style=\"text-align: right;\">\n",
       "      <th></th>\n",
       "      <th>sl_no</th>\n",
       "      <th>gender</th>\n",
       "      <th>ssc_p</th>\n",
       "      <th>ssc_b</th>\n",
       "      <th>hsc_p</th>\n",
       "      <th>hsc_b</th>\n",
       "      <th>hsc_s</th>\n",
       "      <th>degree_p</th>\n",
       "      <th>degree_t</th>\n",
       "      <th>workex</th>\n",
       "      <th>etest_p</th>\n",
       "      <th>specialisation</th>\n",
       "      <th>mba_p</th>\n",
       "      <th>status</th>\n",
       "      <th>salary</th>\n",
       "    </tr>\n",
       "  </thead>\n",
       "  <tbody>\n",
       "    <tr>\n",
       "      <th>0</th>\n",
       "      <td>1</td>\n",
       "      <td>M</td>\n",
       "      <td>67.00</td>\n",
       "      <td>Others</td>\n",
       "      <td>91.00</td>\n",
       "      <td>Others</td>\n",
       "      <td>Commerce</td>\n",
       "      <td>58.00</td>\n",
       "      <td>Sci&amp;Tech</td>\n",
       "      <td>No</td>\n",
       "      <td>55.00</td>\n",
       "      <td>Mkt&amp;HR</td>\n",
       "      <td>58.80</td>\n",
       "      <td>Placed</td>\n",
       "      <td>270000.0</td>\n",
       "    </tr>\n",
       "    <tr>\n",
       "      <th>1</th>\n",
       "      <td>2</td>\n",
       "      <td>M</td>\n",
       "      <td>79.33</td>\n",
       "      <td>Central</td>\n",
       "      <td>78.33</td>\n",
       "      <td>Others</td>\n",
       "      <td>Science</td>\n",
       "      <td>77.48</td>\n",
       "      <td>Sci&amp;Tech</td>\n",
       "      <td>Yes</td>\n",
       "      <td>86.50</td>\n",
       "      <td>Mkt&amp;Fin</td>\n",
       "      <td>66.28</td>\n",
       "      <td>Placed</td>\n",
       "      <td>200000.0</td>\n",
       "    </tr>\n",
       "    <tr>\n",
       "      <th>2</th>\n",
       "      <td>3</td>\n",
       "      <td>M</td>\n",
       "      <td>65.00</td>\n",
       "      <td>Central</td>\n",
       "      <td>68.00</td>\n",
       "      <td>Central</td>\n",
       "      <td>Arts</td>\n",
       "      <td>64.00</td>\n",
       "      <td>Comm&amp;Mgmt</td>\n",
       "      <td>No</td>\n",
       "      <td>75.00</td>\n",
       "      <td>Mkt&amp;Fin</td>\n",
       "      <td>57.80</td>\n",
       "      <td>Placed</td>\n",
       "      <td>250000.0</td>\n",
       "    </tr>\n",
       "    <tr>\n",
       "      <th>3</th>\n",
       "      <td>4</td>\n",
       "      <td>M</td>\n",
       "      <td>56.00</td>\n",
       "      <td>Central</td>\n",
       "      <td>52.00</td>\n",
       "      <td>Central</td>\n",
       "      <td>Science</td>\n",
       "      <td>52.00</td>\n",
       "      <td>Sci&amp;Tech</td>\n",
       "      <td>No</td>\n",
       "      <td>66.00</td>\n",
       "      <td>Mkt&amp;HR</td>\n",
       "      <td>59.43</td>\n",
       "      <td>Not Placed</td>\n",
       "      <td>NaN</td>\n",
       "    </tr>\n",
       "    <tr>\n",
       "      <th>4</th>\n",
       "      <td>5</td>\n",
       "      <td>M</td>\n",
       "      <td>85.80</td>\n",
       "      <td>Central</td>\n",
       "      <td>73.60</td>\n",
       "      <td>Central</td>\n",
       "      <td>Commerce</td>\n",
       "      <td>73.30</td>\n",
       "      <td>Comm&amp;Mgmt</td>\n",
       "      <td>No</td>\n",
       "      <td>96.80</td>\n",
       "      <td>Mkt&amp;Fin</td>\n",
       "      <td>55.50</td>\n",
       "      <td>Placed</td>\n",
       "      <td>425000.0</td>\n",
       "    </tr>\n",
       "    <tr>\n",
       "      <th>5</th>\n",
       "      <td>6</td>\n",
       "      <td>M</td>\n",
       "      <td>55.00</td>\n",
       "      <td>Others</td>\n",
       "      <td>49.80</td>\n",
       "      <td>Others</td>\n",
       "      <td>Science</td>\n",
       "      <td>67.25</td>\n",
       "      <td>Sci&amp;Tech</td>\n",
       "      <td>Yes</td>\n",
       "      <td>55.00</td>\n",
       "      <td>Mkt&amp;Fin</td>\n",
       "      <td>51.58</td>\n",
       "      <td>Not Placed</td>\n",
       "      <td>NaN</td>\n",
       "    </tr>\n",
       "    <tr>\n",
       "      <th>6</th>\n",
       "      <td>7</td>\n",
       "      <td>F</td>\n",
       "      <td>46.00</td>\n",
       "      <td>Others</td>\n",
       "      <td>49.20</td>\n",
       "      <td>Others</td>\n",
       "      <td>Commerce</td>\n",
       "      <td>79.00</td>\n",
       "      <td>Comm&amp;Mgmt</td>\n",
       "      <td>No</td>\n",
       "      <td>74.28</td>\n",
       "      <td>Mkt&amp;Fin</td>\n",
       "      <td>53.29</td>\n",
       "      <td>Not Placed</td>\n",
       "      <td>NaN</td>\n",
       "    </tr>\n",
       "    <tr>\n",
       "      <th>7</th>\n",
       "      <td>8</td>\n",
       "      <td>M</td>\n",
       "      <td>82.00</td>\n",
       "      <td>Central</td>\n",
       "      <td>64.00</td>\n",
       "      <td>Central</td>\n",
       "      <td>Science</td>\n",
       "      <td>66.00</td>\n",
       "      <td>Sci&amp;Tech</td>\n",
       "      <td>Yes</td>\n",
       "      <td>67.00</td>\n",
       "      <td>Mkt&amp;Fin</td>\n",
       "      <td>62.14</td>\n",
       "      <td>Placed</td>\n",
       "      <td>252000.0</td>\n",
       "    </tr>\n",
       "    <tr>\n",
       "      <th>8</th>\n",
       "      <td>9</td>\n",
       "      <td>M</td>\n",
       "      <td>73.00</td>\n",
       "      <td>Central</td>\n",
       "      <td>79.00</td>\n",
       "      <td>Central</td>\n",
       "      <td>Commerce</td>\n",
       "      <td>72.00</td>\n",
       "      <td>Comm&amp;Mgmt</td>\n",
       "      <td>No</td>\n",
       "      <td>91.34</td>\n",
       "      <td>Mkt&amp;Fin</td>\n",
       "      <td>61.29</td>\n",
       "      <td>Placed</td>\n",
       "      <td>231000.0</td>\n",
       "    </tr>\n",
       "    <tr>\n",
       "      <th>9</th>\n",
       "      <td>10</td>\n",
       "      <td>M</td>\n",
       "      <td>58.00</td>\n",
       "      <td>Central</td>\n",
       "      <td>70.00</td>\n",
       "      <td>Central</td>\n",
       "      <td>Commerce</td>\n",
       "      <td>61.00</td>\n",
       "      <td>Comm&amp;Mgmt</td>\n",
       "      <td>No</td>\n",
       "      <td>54.00</td>\n",
       "      <td>Mkt&amp;Fin</td>\n",
       "      <td>52.21</td>\n",
       "      <td>Not Placed</td>\n",
       "      <td>NaN</td>\n",
       "    </tr>\n",
       "    <tr>\n",
       "      <th>10</th>\n",
       "      <td>11</td>\n",
       "      <td>M</td>\n",
       "      <td>58.00</td>\n",
       "      <td>Central</td>\n",
       "      <td>61.00</td>\n",
       "      <td>Central</td>\n",
       "      <td>Commerce</td>\n",
       "      <td>60.00</td>\n",
       "      <td>Comm&amp;Mgmt</td>\n",
       "      <td>Yes</td>\n",
       "      <td>62.00</td>\n",
       "      <td>Mkt&amp;HR</td>\n",
       "      <td>60.85</td>\n",
       "      <td>Placed</td>\n",
       "      <td>260000.0</td>\n",
       "    </tr>\n",
       "    <tr>\n",
       "      <th>11</th>\n",
       "      <td>12</td>\n",
       "      <td>M</td>\n",
       "      <td>69.60</td>\n",
       "      <td>Central</td>\n",
       "      <td>68.40</td>\n",
       "      <td>Central</td>\n",
       "      <td>Commerce</td>\n",
       "      <td>78.30</td>\n",
       "      <td>Comm&amp;Mgmt</td>\n",
       "      <td>Yes</td>\n",
       "      <td>60.00</td>\n",
       "      <td>Mkt&amp;Fin</td>\n",
       "      <td>63.70</td>\n",
       "      <td>Placed</td>\n",
       "      <td>250000.0</td>\n",
       "    </tr>\n",
       "    <tr>\n",
       "      <th>12</th>\n",
       "      <td>13</td>\n",
       "      <td>F</td>\n",
       "      <td>47.00</td>\n",
       "      <td>Central</td>\n",
       "      <td>55.00</td>\n",
       "      <td>Others</td>\n",
       "      <td>Science</td>\n",
       "      <td>65.00</td>\n",
       "      <td>Comm&amp;Mgmt</td>\n",
       "      <td>No</td>\n",
       "      <td>62.00</td>\n",
       "      <td>Mkt&amp;HR</td>\n",
       "      <td>65.04</td>\n",
       "      <td>Not Placed</td>\n",
       "      <td>NaN</td>\n",
       "    </tr>\n",
       "    <tr>\n",
       "      <th>13</th>\n",
       "      <td>14</td>\n",
       "      <td>F</td>\n",
       "      <td>77.00</td>\n",
       "      <td>Central</td>\n",
       "      <td>87.00</td>\n",
       "      <td>Central</td>\n",
       "      <td>Commerce</td>\n",
       "      <td>59.00</td>\n",
       "      <td>Comm&amp;Mgmt</td>\n",
       "      <td>No</td>\n",
       "      <td>68.00</td>\n",
       "      <td>Mkt&amp;Fin</td>\n",
       "      <td>68.63</td>\n",
       "      <td>Placed</td>\n",
       "      <td>218000.0</td>\n",
       "    </tr>\n",
       "    <tr>\n",
       "      <th>14</th>\n",
       "      <td>15</td>\n",
       "      <td>M</td>\n",
       "      <td>62.00</td>\n",
       "      <td>Central</td>\n",
       "      <td>47.00</td>\n",
       "      <td>Central</td>\n",
       "      <td>Commerce</td>\n",
       "      <td>50.00</td>\n",
       "      <td>Comm&amp;Mgmt</td>\n",
       "      <td>No</td>\n",
       "      <td>76.00</td>\n",
       "      <td>Mkt&amp;HR</td>\n",
       "      <td>54.96</td>\n",
       "      <td>Not Placed</td>\n",
       "      <td>NaN</td>\n",
       "    </tr>\n",
       "    <tr>\n",
       "      <th>15</th>\n",
       "      <td>16</td>\n",
       "      <td>F</td>\n",
       "      <td>65.00</td>\n",
       "      <td>Central</td>\n",
       "      <td>75.00</td>\n",
       "      <td>Central</td>\n",
       "      <td>Commerce</td>\n",
       "      <td>69.00</td>\n",
       "      <td>Comm&amp;Mgmt</td>\n",
       "      <td>Yes</td>\n",
       "      <td>72.00</td>\n",
       "      <td>Mkt&amp;Fin</td>\n",
       "      <td>64.66</td>\n",
       "      <td>Placed</td>\n",
       "      <td>200000.0</td>\n",
       "    </tr>\n",
       "    <tr>\n",
       "      <th>16</th>\n",
       "      <td>17</td>\n",
       "      <td>M</td>\n",
       "      <td>63.00</td>\n",
       "      <td>Central</td>\n",
       "      <td>66.20</td>\n",
       "      <td>Central</td>\n",
       "      <td>Commerce</td>\n",
       "      <td>65.60</td>\n",
       "      <td>Comm&amp;Mgmt</td>\n",
       "      <td>Yes</td>\n",
       "      <td>60.00</td>\n",
       "      <td>Mkt&amp;Fin</td>\n",
       "      <td>62.54</td>\n",
       "      <td>Placed</td>\n",
       "      <td>300000.0</td>\n",
       "    </tr>\n",
       "    <tr>\n",
       "      <th>17</th>\n",
       "      <td>18</td>\n",
       "      <td>F</td>\n",
       "      <td>55.00</td>\n",
       "      <td>Central</td>\n",
       "      <td>67.00</td>\n",
       "      <td>Central</td>\n",
       "      <td>Commerce</td>\n",
       "      <td>64.00</td>\n",
       "      <td>Comm&amp;Mgmt</td>\n",
       "      <td>No</td>\n",
       "      <td>60.00</td>\n",
       "      <td>Mkt&amp;Fin</td>\n",
       "      <td>67.28</td>\n",
       "      <td>Not Placed</td>\n",
       "      <td>NaN</td>\n",
       "    </tr>\n",
       "    <tr>\n",
       "      <th>18</th>\n",
       "      <td>19</td>\n",
       "      <td>F</td>\n",
       "      <td>63.00</td>\n",
       "      <td>Central</td>\n",
       "      <td>66.00</td>\n",
       "      <td>Central</td>\n",
       "      <td>Commerce</td>\n",
       "      <td>64.00</td>\n",
       "      <td>Comm&amp;Mgmt</td>\n",
       "      <td>No</td>\n",
       "      <td>68.00</td>\n",
       "      <td>Mkt&amp;HR</td>\n",
       "      <td>64.08</td>\n",
       "      <td>Not Placed</td>\n",
       "      <td>NaN</td>\n",
       "    </tr>\n",
       "    <tr>\n",
       "      <th>19</th>\n",
       "      <td>20</td>\n",
       "      <td>M</td>\n",
       "      <td>60.00</td>\n",
       "      <td>Others</td>\n",
       "      <td>67.00</td>\n",
       "      <td>Others</td>\n",
       "      <td>Arts</td>\n",
       "      <td>70.00</td>\n",
       "      <td>Comm&amp;Mgmt</td>\n",
       "      <td>Yes</td>\n",
       "      <td>50.48</td>\n",
       "      <td>Mkt&amp;Fin</td>\n",
       "      <td>77.89</td>\n",
       "      <td>Placed</td>\n",
       "      <td>236000.0</td>\n",
       "    </tr>\n",
       "  </tbody>\n",
       "</table>\n",
       "</div>"
      ],
      "text/plain": [
       "    sl_no gender  ssc_p    ssc_b  hsc_p    hsc_b     hsc_s  degree_p  \\\n",
       "0       1      M  67.00   Others  91.00   Others  Commerce     58.00   \n",
       "1       2      M  79.33  Central  78.33   Others   Science     77.48   \n",
       "2       3      M  65.00  Central  68.00  Central      Arts     64.00   \n",
       "3       4      M  56.00  Central  52.00  Central   Science     52.00   \n",
       "4       5      M  85.80  Central  73.60  Central  Commerce     73.30   \n",
       "5       6      M  55.00   Others  49.80   Others   Science     67.25   \n",
       "6       7      F  46.00   Others  49.20   Others  Commerce     79.00   \n",
       "7       8      M  82.00  Central  64.00  Central   Science     66.00   \n",
       "8       9      M  73.00  Central  79.00  Central  Commerce     72.00   \n",
       "9      10      M  58.00  Central  70.00  Central  Commerce     61.00   \n",
       "10     11      M  58.00  Central  61.00  Central  Commerce     60.00   \n",
       "11     12      M  69.60  Central  68.40  Central  Commerce     78.30   \n",
       "12     13      F  47.00  Central  55.00   Others   Science     65.00   \n",
       "13     14      F  77.00  Central  87.00  Central  Commerce     59.00   \n",
       "14     15      M  62.00  Central  47.00  Central  Commerce     50.00   \n",
       "15     16      F  65.00  Central  75.00  Central  Commerce     69.00   \n",
       "16     17      M  63.00  Central  66.20  Central  Commerce     65.60   \n",
       "17     18      F  55.00  Central  67.00  Central  Commerce     64.00   \n",
       "18     19      F  63.00  Central  66.00  Central  Commerce     64.00   \n",
       "19     20      M  60.00   Others  67.00   Others      Arts     70.00   \n",
       "\n",
       "     degree_t workex  etest_p specialisation  mba_p      status    salary  \n",
       "0    Sci&Tech     No    55.00         Mkt&HR  58.80      Placed  270000.0  \n",
       "1    Sci&Tech    Yes    86.50        Mkt&Fin  66.28      Placed  200000.0  \n",
       "2   Comm&Mgmt     No    75.00        Mkt&Fin  57.80      Placed  250000.0  \n",
       "3    Sci&Tech     No    66.00         Mkt&HR  59.43  Not Placed       NaN  \n",
       "4   Comm&Mgmt     No    96.80        Mkt&Fin  55.50      Placed  425000.0  \n",
       "5    Sci&Tech    Yes    55.00        Mkt&Fin  51.58  Not Placed       NaN  \n",
       "6   Comm&Mgmt     No    74.28        Mkt&Fin  53.29  Not Placed       NaN  \n",
       "7    Sci&Tech    Yes    67.00        Mkt&Fin  62.14      Placed  252000.0  \n",
       "8   Comm&Mgmt     No    91.34        Mkt&Fin  61.29      Placed  231000.0  \n",
       "9   Comm&Mgmt     No    54.00        Mkt&Fin  52.21  Not Placed       NaN  \n",
       "10  Comm&Mgmt    Yes    62.00         Mkt&HR  60.85      Placed  260000.0  \n",
       "11  Comm&Mgmt    Yes    60.00        Mkt&Fin  63.70      Placed  250000.0  \n",
       "12  Comm&Mgmt     No    62.00         Mkt&HR  65.04  Not Placed       NaN  \n",
       "13  Comm&Mgmt     No    68.00        Mkt&Fin  68.63      Placed  218000.0  \n",
       "14  Comm&Mgmt     No    76.00         Mkt&HR  54.96  Not Placed       NaN  \n",
       "15  Comm&Mgmt    Yes    72.00        Mkt&Fin  64.66      Placed  200000.0  \n",
       "16  Comm&Mgmt    Yes    60.00        Mkt&Fin  62.54      Placed  300000.0  \n",
       "17  Comm&Mgmt     No    60.00        Mkt&Fin  67.28  Not Placed       NaN  \n",
       "18  Comm&Mgmt     No    68.00         Mkt&HR  64.08  Not Placed       NaN  \n",
       "19  Comm&Mgmt    Yes    50.48        Mkt&Fin  77.89      Placed  236000.0  "
      ]
     },
     "execution_count": 3,
     "metadata": {},
     "output_type": "execute_result"
    }
   ],
   "source": [
    "df = pd.read_csv(\"placementData.csv\")\n",
    "df.head(20)"
   ]
  },
  {
   "cell_type": "code",
   "execution_count": 4,
   "id": "66fd4412-fde1-42ca-8a51-ec64f193cbf4",
   "metadata": {},
   "outputs": [
    {
     "name": "stdout",
     "output_type": "stream",
     "text": [
      "<class 'pandas.core.frame.DataFrame'>\n",
      "RangeIndex: 215 entries, 0 to 214\n",
      "Data columns (total 15 columns):\n",
      " #   Column          Non-Null Count  Dtype  \n",
      "---  ------          --------------  -----  \n",
      " 0   sl_no           215 non-null    int64  \n",
      " 1   gender          215 non-null    object \n",
      " 2   ssc_p           215 non-null    float64\n",
      " 3   ssc_b           215 non-null    object \n",
      " 4   hsc_p           215 non-null    float64\n",
      " 5   hsc_b           215 non-null    object \n",
      " 6   hsc_s           215 non-null    object \n",
      " 7   degree_p        215 non-null    float64\n",
      " 8   degree_t        215 non-null    object \n",
      " 9   workex          215 non-null    object \n",
      " 10  etest_p         215 non-null    float64\n",
      " 11  specialisation  215 non-null    object \n",
      " 12  mba_p           215 non-null    float64\n",
      " 13  status          215 non-null    object \n",
      " 14  salary          148 non-null    float64\n",
      "dtypes: float64(6), int64(1), object(8)\n",
      "memory usage: 25.3+ KB\n"
     ]
    }
   ],
   "source": [
    "df.info()"
   ]
  },
  {
   "cell_type": "markdown",
   "id": "1f71cec8-4819-4cbc-ba07-49f1775da10a",
   "metadata": {},
   "source": [
    "## EDA"
   ]
  },
  {
   "cell_type": "code",
   "execution_count": 6,
   "id": "e4a016b4-7b03-4f74-8a21-8b4c8cd83a86",
   "metadata": {},
   "outputs": [
    {
     "data": {
      "text/plain": [
       "status\n",
       "Placed        148\n",
       "Not Placed     67\n",
       "Name: count, dtype: int64"
      ]
     },
     "execution_count": 6,
     "metadata": {},
     "output_type": "execute_result"
    }
   ],
   "source": [
    "df.status.value_counts()"
   ]
  },
  {
   "cell_type": "code",
   "execution_count": 7,
   "id": "c08afaf4-aa56-4c4c-905e-2fd9ef64c3dd",
   "metadata": {},
   "outputs": [],
   "source": [
    "df['target'] = df['status'].apply(lambda x: 1 if x=='Placed' else 0)"
   ]
  },
  {
   "cell_type": "code",
   "execution_count": 8,
   "id": "d6094e18-b73c-4b0d-b263-9ebb0b83f375",
   "metadata": {},
   "outputs": [],
   "source": [
    "categorical = ['gender', 'ssc_b','hsc_b', 'hsc_s', 'degree_t', 'workex','specialisation']"
   ]
  },
  {
   "cell_type": "code",
   "execution_count": 9,
   "id": "dd7fe90f-bd38-4df7-a04b-6bbe5fab829c",
   "metadata": {},
   "outputs": [
    {
     "name": "stdout",
     "output_type": "stream",
     "text": [
      "gender\n",
      "M    139\n",
      "F     76\n",
      "Name: count, dtype: int64\n",
      "\n",
      "\n",
      "ssc_b\n",
      "Central    116\n",
      "Others      99\n",
      "Name: count, dtype: int64\n",
      "\n",
      "\n",
      "hsc_b\n",
      "Others     131\n",
      "Central     84\n",
      "Name: count, dtype: int64\n",
      "\n",
      "\n",
      "hsc_s\n",
      "Commerce    113\n",
      "Science      91\n",
      "Arts         11\n",
      "Name: count, dtype: int64\n",
      "\n",
      "\n",
      "degree_t\n",
      "Comm&Mgmt    145\n",
      "Sci&Tech      59\n",
      "Others        11\n",
      "Name: count, dtype: int64\n",
      "\n",
      "\n",
      "workex\n",
      "No     141\n",
      "Yes     74\n",
      "Name: count, dtype: int64\n",
      "\n",
      "\n",
      "specialisation\n",
      "Mkt&Fin    120\n",
      "Mkt&HR      95\n",
      "Name: count, dtype: int64\n",
      "\n",
      "\n"
     ]
    }
   ],
   "source": [
    "for cat in categorical:\n",
    "    print(df[cat].value_counts())\n",
    "    print('\\n')"
   ]
  },
  {
   "cell_type": "code",
   "execution_count": 10,
   "id": "2c2d12dd-715c-44a2-ac32-282283680404",
   "metadata": {},
   "outputs": [
    {
     "name": "stdout",
     "output_type": "stream",
     "text": [
      "gender   F    M\n",
      "target         \n",
      "0       28   39\n",
      "1       48  100\n",
      "\n",
      "\n",
      "ssc_b   Central  Others\n",
      "target                 \n",
      "0            38      29\n",
      "1            78      70\n",
      "\n",
      "\n",
      "hsc_b   Central  Others\n",
      "target                 \n",
      "0            27      40\n",
      "1            57      91\n",
      "\n",
      "\n",
      "hsc_s   Arts  Commerce  Science\n",
      "target                         \n",
      "0          5        34       28\n",
      "1          6        79       63\n",
      "\n",
      "\n",
      "degree_t  Comm&Mgmt  Others  Sci&Tech\n",
      "target                               \n",
      "0                43       6        18\n",
      "1               102       5        41\n",
      "\n",
      "\n",
      "workex  No  Yes\n",
      "target         \n",
      "0       57   10\n",
      "1       84   64\n",
      "\n",
      "\n",
      "specialisation  Mkt&Fin  Mkt&HR\n",
      "target                         \n",
      "0                    25      42\n",
      "1                    95      53\n",
      "\n",
      "\n"
     ]
    }
   ],
   "source": [
    "for var in categorical:\n",
    "    print(pd.crosstab(df['target'], df[var], margins=False))\n",
    "    print('\\n')"
   ]
  },
  {
   "cell_type": "code",
   "execution_count": 11,
   "id": "69c6fe67-4c96-4fe2-bd8d-18a0bfe8bbbb",
   "metadata": {},
   "outputs": [],
   "source": [
    "continuous = ['ssc_p','hsc_p','degree_p','etest_p','mba_p']"
   ]
  },
  {
   "cell_type": "code",
   "execution_count": 12,
   "id": "389d83b2-c808-46fb-aa5e-971e684d3afa",
   "metadata": {},
   "outputs": [],
   "source": [
    "summary_cols = ['count','mean','std','min','1%', '10%', '20%','30%','40%','50%','60%','70%','80%','90%','99%','max']\n",
    "summary = pd.DataFrame()\n",
    "for column in continuous:\n",
    "    row = pd.DataFrame(data = df[column].describe([.01,.1,.2,.3,.4,.5,.6,.7,.8,.9,.99])).transpose()\n",
    "    summary = pd.concat([summary, row], axis=0)"
   ]
  },
  {
   "cell_type": "code",
   "execution_count": 13,
   "id": "4195a7c6-6505-4221-a114-a5ce05074527",
   "metadata": {},
   "outputs": [
    {
     "data": {
      "text/html": [
       "<div>\n",
       "<style scoped>\n",
       "    .dataframe tbody tr th:only-of-type {\n",
       "        vertical-align: middle;\n",
       "    }\n",
       "\n",
       "    .dataframe tbody tr th {\n",
       "        vertical-align: top;\n",
       "    }\n",
       "\n",
       "    .dataframe thead th {\n",
       "        text-align: right;\n",
       "    }\n",
       "</style>\n",
       "<table border=\"1\" class=\"dataframe\">\n",
       "  <thead>\n",
       "    <tr style=\"text-align: right;\">\n",
       "      <th></th>\n",
       "      <th>count</th>\n",
       "      <th>mean</th>\n",
       "      <th>std</th>\n",
       "      <th>min</th>\n",
       "      <th>1%</th>\n",
       "      <th>10%</th>\n",
       "      <th>20%</th>\n",
       "      <th>30%</th>\n",
       "      <th>40%</th>\n",
       "      <th>50%</th>\n",
       "      <th>60%</th>\n",
       "      <th>70%</th>\n",
       "      <th>80%</th>\n",
       "      <th>90%</th>\n",
       "      <th>99%</th>\n",
       "      <th>max</th>\n",
       "    </tr>\n",
       "  </thead>\n",
       "  <tbody>\n",
       "    <tr>\n",
       "      <th>ssc_p</th>\n",
       "      <td>215.0</td>\n",
       "      <td>67.303395</td>\n",
       "      <td>10.827205</td>\n",
       "      <td>40.89</td>\n",
       "      <td>43.1400</td>\n",
       "      <td>52.000</td>\n",
       "      <td>58.000</td>\n",
       "      <td>62.000</td>\n",
       "      <td>64.000</td>\n",
       "      <td>67.0</td>\n",
       "      <td>70.00</td>\n",
       "      <td>74.000</td>\n",
       "      <td>77.000</td>\n",
       "      <td>82.000</td>\n",
       "      <td>87.0000</td>\n",
       "      <td>89.40</td>\n",
       "    </tr>\n",
       "    <tr>\n",
       "      <th>hsc_p</th>\n",
       "      <td>215.0</td>\n",
       "      <td>66.333163</td>\n",
       "      <td>10.897509</td>\n",
       "      <td>37.00</td>\n",
       "      <td>40.2800</td>\n",
       "      <td>52.000</td>\n",
       "      <td>60.000</td>\n",
       "      <td>62.000</td>\n",
       "      <td>63.000</td>\n",
       "      <td>65.0</td>\n",
       "      <td>67.52</td>\n",
       "      <td>71.480</td>\n",
       "      <td>74.728</td>\n",
       "      <td>79.000</td>\n",
       "      <td>91.8600</td>\n",
       "      <td>97.70</td>\n",
       "    </tr>\n",
       "    <tr>\n",
       "      <th>degree_p</th>\n",
       "      <td>215.0</td>\n",
       "      <td>66.370186</td>\n",
       "      <td>7.358743</td>\n",
       "      <td>50.00</td>\n",
       "      <td>50.9680</td>\n",
       "      <td>57.000</td>\n",
       "      <td>60.000</td>\n",
       "      <td>64.000</td>\n",
       "      <td>65.000</td>\n",
       "      <td>66.0</td>\n",
       "      <td>67.44</td>\n",
       "      <td>69.580</td>\n",
       "      <td>72.134</td>\n",
       "      <td>77.120</td>\n",
       "      <td>83.8600</td>\n",
       "      <td>91.00</td>\n",
       "    </tr>\n",
       "    <tr>\n",
       "      <th>etest_p</th>\n",
       "      <td>215.0</td>\n",
       "      <td>72.100558</td>\n",
       "      <td>13.275956</td>\n",
       "      <td>50.00</td>\n",
       "      <td>50.0672</td>\n",
       "      <td>55.802</td>\n",
       "      <td>59.000</td>\n",
       "      <td>62.000</td>\n",
       "      <td>67.000</td>\n",
       "      <td>71.0</td>\n",
       "      <td>75.00</td>\n",
       "      <td>80.000</td>\n",
       "      <td>86.000</td>\n",
       "      <td>92.000</td>\n",
       "      <td>97.0000</td>\n",
       "      <td>98.00</td>\n",
       "    </tr>\n",
       "    <tr>\n",
       "      <th>mba_p</th>\n",
       "      <td>215.0</td>\n",
       "      <td>62.278186</td>\n",
       "      <td>5.833385</td>\n",
       "      <td>51.21</td>\n",
       "      <td>51.4682</td>\n",
       "      <td>54.986</td>\n",
       "      <td>57.012</td>\n",
       "      <td>58.782</td>\n",
       "      <td>60.402</td>\n",
       "      <td>62.0</td>\n",
       "      <td>63.02</td>\n",
       "      <td>65.474</td>\n",
       "      <td>67.144</td>\n",
       "      <td>70.678</td>\n",
       "      <td>76.1142</td>\n",
       "      <td>77.89</td>\n",
       "    </tr>\n",
       "  </tbody>\n",
       "</table>\n",
       "</div>"
      ],
      "text/plain": [
       "          count       mean        std    min       1%     10%     20%     30%  \\\n",
       "ssc_p     215.0  67.303395  10.827205  40.89  43.1400  52.000  58.000  62.000   \n",
       "hsc_p     215.0  66.333163  10.897509  37.00  40.2800  52.000  60.000  62.000   \n",
       "degree_p  215.0  66.370186   7.358743  50.00  50.9680  57.000  60.000  64.000   \n",
       "etest_p   215.0  72.100558  13.275956  50.00  50.0672  55.802  59.000  62.000   \n",
       "mba_p     215.0  62.278186   5.833385  51.21  51.4682  54.986  57.012  58.782   \n",
       "\n",
       "             40%   50%    60%     70%     80%     90%      99%    max  \n",
       "ssc_p     64.000  67.0  70.00  74.000  77.000  82.000  87.0000  89.40  \n",
       "hsc_p     63.000  65.0  67.52  71.480  74.728  79.000  91.8600  97.70  \n",
       "degree_p  65.000  66.0  67.44  69.580  72.134  77.120  83.8600  91.00  \n",
       "etest_p   67.000  71.0  75.00  80.000  86.000  92.000  97.0000  98.00  \n",
       "mba_p     60.402  62.0  63.02  65.474  67.144  70.678  76.1142  77.89  "
      ]
     },
     "execution_count": 13,
     "metadata": {},
     "output_type": "execute_result"
    }
   ],
   "source": [
    "summary"
   ]
  },
  {
   "cell_type": "code",
   "execution_count": 14,
   "id": "8ff7e3a3-9f93-45ab-830d-30d75a26e537",
   "metadata": {},
   "outputs": [
    {
     "data": {
      "text/plain": [
       "Text(0.5, 1.0, 'ssc_p by target')"
      ]
     },
     "execution_count": 14,
     "metadata": {},
     "output_type": "execute_result"
    },
    {
     "data": {
      "image/png": "[encoded data removed]",
      "text/plain": [
       "<Figure size 640x480 with 2 Axes>"
      ]
     },
     "metadata": {},
     "output_type": "display_data"
    }
   ],
   "source": [
    "df.hist('ssc_p', by='target')\n",
    "plt.title(f'ssc_p by target')"
   ]
  },
  {
   "cell_type": "code",
   "execution_count": 15,
   "id": "8bd0b56c-9dcd-4063-8404-9decd0736afc",
   "metadata": {},
   "outputs": [
    {
     "data": {
      "text/plain": [
       "Text(0.5, 1.0, 'hsc_p by target')"
      ]
     },
     "execution_count": 15,
     "metadata": {},
     "output_type": "execute_result"
    },
    {
     "data": {
      "image/png": "[encoded data removed]",
      "text/plain": [
       "<Figure size 640x480 with 2 Axes>"
      ]
     },
     "metadata": {},
     "output_type": "display_data"
    }
   ],
   "source": [
    "df.hist('hsc_p', by='target')\n",
    "plt.title(f'hsc_p by target')"
   ]
  },
  {
   "cell_type": "code",
   "execution_count": 16,
   "id": "79fc2219-6af2-42a6-9c13-e2fdad621385",
   "metadata": {},
   "outputs": [
    {
     "data": {
      "text/plain": [
       "Text(0.5, 1.0, 'degree_p by target')"
      ]
     },
     "execution_count": 16,
     "metadata": {},
     "output_type": "execute_result"
    },
    {
     "data": {
      "image/png": "[encoded data removed]",
      "text/plain": [
       "<Figure size 640x480 with 2 Axes>"
      ]
     },
     "metadata": {},
     "output_type": "display_data"
    }
   ],
   "source": [
    "df.hist('degree_p', by='target')\n",
    "plt.title(f'degree_p by target')"
   ]
  },
  {
   "cell_type": "code",
   "execution_count": 17,
   "id": "a019e1eb-ce23-4e55-bcb3-7ba51f5b9308",
   "metadata": {},
   "outputs": [
    {
     "data": {
      "text/plain": [
       "Text(0.5, 1.0, 'etest_p by target')"
      ]
     },
     "execution_count": 17,
     "metadata": {},
     "output_type": "execute_result"
    },
    {
     "data": {
      "image/png": "[encoded data removed]",
      "text/plain": [
       "<Figure size 640x480 with 2 Axes>"
      ]
     },
     "metadata": {},
     "output_type": "display_data"
    }
   ],
   "source": [
    "df.hist('etest_p', by='target')\n",
    "plt.title(f'etest_p by target')"
   ]
  },
  {
   "cell_type": "code",
   "execution_count": 18,
   "id": "f1f795a5-5db5-4c53-9c51-09b65b3805be",
   "metadata": {},
   "outputs": [
    {
     "data": {
      "text/plain": [
       "Text(0.5, 1.0, 'mba_p by target')"
      ]
     },
     "execution_count": 18,
     "metadata": {},
     "output_type": "execute_result"
    },
    {
     "data": {
      "image/png": "[encoded data removed]",
      "text/plain": [
       "<Figure size 640x480 with 2 Axes>"
      ]
     },
     "metadata": {},
     "output_type": "display_data"
    }
   ],
   "source": [
    "df.hist('mba_p', by='target')\n",
    "plt.title(f'mba_p by target')"
   ]
  },
  {
   "cell_type": "code",
   "execution_count": 19,
   "id": "d7ccf347-4636-4246-a4ac-f16d7aca9675",
   "metadata": {},
   "outputs": [
    {
     "data": {
      "text/plain": [
       "Text(0.5, 1.0, 'salary by target')"
      ]
     },
     "execution_count": 19,
     "metadata": {},
     "output_type": "execute_result"
    },
    {
     "data": {
      "image/png": "[encoded data removed]",
      "text/plain": [
       "<Figure size 640x480 with 2 Axes>"
      ]
     },
     "metadata": {},
     "output_type": "display_data"
    }
   ],
   "source": [
    "df.hist('salary', by='target')\n",
    "plt.title(f'salary by target')"
   ]
  },
  {
   "cell_type": "markdown",
   "id": "5c7cc886-a49a-4932-a96a-b715e435d1da",
   "metadata": {},
   "source": [
    "## Importance"
   ]
  },
  {
   "cell_type": "code",
   "execution_count": 21,
   "id": "d90da169-0fc7-4777-86dc-06174c53a70e",
   "metadata": {},
   "outputs": [
    {
     "data": {
      "text/html": [
       "<div>\n",
       "<style scoped>\n",
       "    .dataframe tbody tr th:only-of-type {\n",
       "        vertical-align: middle;\n",
       "    }\n",
       "\n",
       "    .dataframe tbody tr th {\n",
       "        vertical-align: top;\n",
       "    }\n",
       "\n",
       "    .dataframe thead th {\n",
       "        text-align: right;\n",
       "    }\n",
       "</style>\n",
       "<table border=\"1\" class=\"dataframe\">\n",
       "  <thead>\n",
       "    <tr style=\"text-align: right;\">\n",
       "      <th></th>\n",
       "      <th>ssc_p</th>\n",
       "      <th>hsc_p</th>\n",
       "      <th>degree_p</th>\n",
       "      <th>etest_p</th>\n",
       "      <th>mba_p</th>\n",
       "      <th>target</th>\n",
       "    </tr>\n",
       "  </thead>\n",
       "  <tbody>\n",
       "    <tr>\n",
       "      <th>ssc_p</th>\n",
       "      <td>1.000000</td>\n",
       "      <td>0.511472</td>\n",
       "      <td>0.538404</td>\n",
       "      <td>0.261993</td>\n",
       "      <td>0.388478</td>\n",
       "      <td>0.607889</td>\n",
       "    </tr>\n",
       "    <tr>\n",
       "      <th>hsc_p</th>\n",
       "      <td>0.511472</td>\n",
       "      <td>1.000000</td>\n",
       "      <td>0.434206</td>\n",
       "      <td>0.245113</td>\n",
       "      <td>0.354823</td>\n",
       "      <td>0.491228</td>\n",
       "    </tr>\n",
       "    <tr>\n",
       "      <th>degree_p</th>\n",
       "      <td>0.538404</td>\n",
       "      <td>0.434206</td>\n",
       "      <td>1.000000</td>\n",
       "      <td>0.224470</td>\n",
       "      <td>0.402364</td>\n",
       "      <td>0.479861</td>\n",
       "    </tr>\n",
       "    <tr>\n",
       "      <th>etest_p</th>\n",
       "      <td>0.261993</td>\n",
       "      <td>0.245113</td>\n",
       "      <td>0.224470</td>\n",
       "      <td>1.000000</td>\n",
       "      <td>0.218055</td>\n",
       "      <td>0.127639</td>\n",
       "    </tr>\n",
       "    <tr>\n",
       "      <th>mba_p</th>\n",
       "      <td>0.388478</td>\n",
       "      <td>0.354823</td>\n",
       "      <td>0.402364</td>\n",
       "      <td>0.218055</td>\n",
       "      <td>1.000000</td>\n",
       "      <td>0.076922</td>\n",
       "    </tr>\n",
       "    <tr>\n",
       "      <th>target</th>\n",
       "      <td>0.607889</td>\n",
       "      <td>0.491228</td>\n",
       "      <td>0.479861</td>\n",
       "      <td>0.127639</td>\n",
       "      <td>0.076922</td>\n",
       "      <td>1.000000</td>\n",
       "    </tr>\n",
       "  </tbody>\n",
       "</table>\n",
       "</div>"
      ],
      "text/plain": [
       "             ssc_p     hsc_p  degree_p   etest_p     mba_p    target\n",
       "ssc_p     1.000000  0.511472  0.538404  0.261993  0.388478  0.607889\n",
       "hsc_p     0.511472  1.000000  0.434206  0.245113  0.354823  0.491228\n",
       "degree_p  0.538404  0.434206  1.000000  0.224470  0.402364  0.479861\n",
       "etest_p   0.261993  0.245113  0.224470  1.000000  0.218055  0.127639\n",
       "mba_p     0.388478  0.354823  0.402364  0.218055  1.000000  0.076922\n",
       "target    0.607889  0.491228  0.479861  0.127639  0.076922  1.000000"
      ]
     },
     "execution_count": 21,
     "metadata": {},
     "output_type": "execute_result"
    }
   ],
   "source": [
    "df[continuous+['target']].corr()"
   ]
  },
  {
   "cell_type": "code",
   "execution_count": 22,
   "id": "4aa4098f-b76e-4a4b-99a9-d37d8fe3c3b9",
   "metadata": {},
   "outputs": [],
   "source": [
    "df_cat = pd.get_dummies(df[categorical], prefix=categorical)"
   ]
  },
  {
   "cell_type": "code",
   "execution_count": 23,
   "id": "9cf55f46-5655-47cd-94cf-79ed274f2c10",
   "metadata": {},
   "outputs": [
    {
     "name": "stdout",
     "output_type": "stream",
     "text": [
      "<class 'pandas.core.frame.DataFrame'>\n",
      "RangeIndex: 215 entries, 0 to 214\n",
      "Data columns (total 16 columns):\n",
      " #   Column                  Non-Null Count  Dtype\n",
      "---  ------                  --------------  -----\n",
      " 0   gender_F                215 non-null    bool \n",
      " 1   gender_M                215 non-null    bool \n",
      " 2   ssc_b_Central           215 non-null    bool \n",
      " 3   ssc_b_Others            215 non-null    bool \n",
      " 4   hsc_b_Central           215 non-null    bool \n",
      " 5   hsc_b_Others            215 non-null    bool \n",
      " 6   hsc_s_Arts              215 non-null    bool \n",
      " 7   hsc_s_Commerce          215 non-null    bool \n",
      " 8   hsc_s_Science           215 non-null    bool \n",
      " 9   degree_t_Comm&Mgmt      215 non-null    bool \n",
      " 10  degree_t_Others         215 non-null    bool \n",
      " 11  degree_t_Sci&Tech       215 non-null    bool \n",
      " 12  workex_No               215 non-null    bool \n",
      " 13  workex_Yes              215 non-null    bool \n",
      " 14  specialisation_Mkt&Fin  215 non-null    bool \n",
      " 15  specialisation_Mkt&HR   215 non-null    bool \n",
      "dtypes: bool(16)\n",
      "memory usage: 3.5 KB\n"
     ]
    }
   ],
   "source": [
    "df_cat.info()"
   ]
  },
  {
   "cell_type": "code",
   "execution_count": 24,
   "id": "ebdd20ce-5aed-4200-af58-c66f793053f4",
   "metadata": {},
   "outputs": [],
   "source": [
    "df_converted = pd.concat([df[['target']+continuous], df_cat], axis=1)"
   ]
  },
  {
   "cell_type": "code",
   "execution_count": 55,
   "id": "f4487439-bc28-4c86-9930-5fbe1bc1feb7",
   "metadata": {},
   "outputs": [
    {
     "name": "stdout",
     "output_type": "stream",
     "text": [
      "<class 'pandas.core.frame.DataFrame'>\n",
      "RangeIndex: 215 entries, 0 to 214\n",
      "Data columns (total 22 columns):\n",
      " #   Column                  Non-Null Count  Dtype  \n",
      "---  ------                  --------------  -----  \n",
      " 0   target                  215 non-null    int64  \n",
      " 1   ssc_p                   215 non-null    float64\n",
      " 2   hsc_p                   215 non-null    float64\n",
      " 3   degree_p                215 non-null    float64\n",
      " 4   etest_p                 215 non-null    float64\n",
      " 5   mba_p                   215 non-null    float64\n",
      " 6   gender_F                215 non-null    bool   \n",
      " 7   gender_M                215 non-null    bool   \n",
      " 8   ssc_b_Central           215 non-null    bool   \n",
      " 9   ssc_b_Others            215 non-null    bool   \n",
      " 10  hsc_b_Central           215 non-null    bool   \n",
      " 11  hsc_b_Others            215 non-null    bool   \n",
      " 12  hsc_s_Arts              215 non-null    bool   \n",
      " 13  hsc_s_Commerce          215 non-null    bool   \n",
      " 14  hsc_s_Science           215 non-null    bool   \n",
      " 15  degree_t_Comm&Mgmt      215 non-null    bool   \n",
      " 16  degree_t_Others         215 non-null    bool   \n",
      " 17  degree_t_Sci&Tech       215 non-null    bool   \n",
      " 18  workex_No               215 non-null    bool   \n",
      " 19  workex_Yes              215 non-null    bool   \n",
      " 20  specialisation_Mkt&Fin  215 non-null    bool   \n",
      " 21  specialisation_Mkt&HR   215 non-null    bool   \n",
      "dtypes: bool(16), float64(5), int64(1)\n",
      "memory usage: 13.6 KB\n"
     ]
    }
   ],
   "source": [
    "df_converted.info()"
   ]
  },
  {
   "cell_type": "code",
   "execution_count": null,
   "id": "4841aadf-0a82-49c7-8e3f-2fc7ee5a2072",
   "metadata": {},
   "outputs": [],
   "source": []
  },
  {
   "cell_type": "code",
   "execution_count": null,
   "id": "43ce972c-f401-4357-8869-9d9b00cc6cd8",
   "metadata": {},
   "outputs": [],
   "source": []
  },
  {
   "cell_type": "code",
   "execution_count": null,
   "id": "a6edb04b-1bb6-49a1-8d6b-38e74c2634be",
   "metadata": {},
   "outputs": [],
   "source": []
  },
  {
   "cell_type": "code",
   "execution_count": null,
   "id": "999b790a-6258-408f-9a9a-5bb5d0c264aa",
   "metadata": {},
   "outputs": [],
   "source": []
  },
  {
   "cell_type": "code",
   "execution_count": null,
   "id": "32d1a0bd-ebc5-4b50-bf9a-c38edc15e2bd",
   "metadata": {},
   "outputs": [],
   "source": []
  },
  {
   "cell_type": "code",
   "execution_count": null,
   "id": "ae8944aa-b8c5-4f55-a979-6e6a131797c4",
   "metadata": {},
   "outputs": [],
   "source": []
  },
  {
   "cell_type": "code",
   "execution_count": null,
   "id": "fd6bb1e8-c22b-4a55-bab5-04d912e31d87",
   "metadata": {},
   "outputs": [],
   "source": []
  },
  {
   "cell_type": "code",
   "execution_count": null,
   "id": "cf0db655-0df6-4d1b-8875-f0e32afb3912",
   "metadata": {},
   "outputs": [],
   "source": []
  },
  {
   "cell_type": "code",
   "execution_count": null,
   "id": "2f444e22-f1f5-4857-83b7-3b70194f7d9e",
   "metadata": {},
   "outputs": [],
   "source": []
  },
  {
   "cell_type": "code",
   "execution_count": null,
   "id": "b48b0452-9b70-4e0d-8612-c475d23ab285",
   "metadata": {},
   "outputs": [],
   "source": []
  }
 ],
 "metadata": {
  "kernelspec": {
   "display_name": "Python 3 (ipykernel)",
   "language": "python",
   "name": "python3"
  },
  "language_info": {
   "codemirror_mode": {
    "name": "ipython",
    "version": 3
   },
   "file_extension": ".py",
   "mimetype": "text/x-python",
   "name": "python",
   "nbconvert_exporter": "python",
   "pygments_lexer": "ipython3",
   "version": "3.11.7"
  }
 },
 "nbformat": 4,
 "nbformat_minor": 5
}
